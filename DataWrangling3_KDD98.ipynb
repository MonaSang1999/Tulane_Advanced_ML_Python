{
 "cells": [
  {
   "cell_type": "markdown",
   "metadata": {
    "id": "mKahxHU4tY1I"
   },
   "source": [
    "# Data Wrangling and EDA with pandas\n",
    "# Part 3: Working on the KDD98 Dataset"
   ]
  },
  {
   "cell_type": "markdown",
   "metadata": {
    "id": "E6OFW1fZtbZ8"
   },
   "source": [
    "We just familiarized us with data wrangling using the Titanic dataset in Part 2 of this lecture. Part 3 is mainly an in-class exercise, where you will perform a limited number of data wrangling operations over the KDD98 dataset as instructed below. In Homework 1, you will conduct more data wrangling and EDA over this dataset."
   ]
  },
  {
   "cell_type": "markdown",
   "metadata": {},
   "source": [
    "## Load the necessary Python packages, and load the KDD98 dataset\n",
    "\n",
    "More coding cells are intentionally left empty in Part 3, as compared to Parts 1 and 2, so that you will graduately do more coding rather than reading the instructor's code.\n",
    "+ Feel free to use earlier code as template"
   ]
  },
  {
   "cell_type": "code",
   "execution_count": 12,
   "metadata": {
    "id": "i1SotC7otY1J"
   },
   "outputs": [],
   "source": [
    "import pandas as pd\n",
    "kdd98=pd.read_csv('KDD98.csv')"
   ]
  },
  {
   "cell_type": "markdown",
   "metadata": {},
   "source": [
    "## Drop column `ID`"
   ]
  },
  {
   "cell_type": "code",
   "execution_count": 13,
   "metadata": {},
   "outputs": [],
   "source": [
    "kdd98.drop(columns=['ID'], inplace=True)"
   ]
  },
  {
   "cell_type": "code",
   "execution_count": 14,
   "metadata": {},
   "outputs": [
    {
     "data": {
      "text/html": [
       "<div>\n",
       "<style scoped>\n",
       "    .dataframe tbody tr th:only-of-type {\n",
       "        vertical-align: middle;\n",
       "    }\n",
       "\n",
       "    .dataframe tbody tr th {\n",
       "        vertical-align: top;\n",
       "    }\n",
       "\n",
       "    .dataframe thead th {\n",
       "        text-align: right;\n",
       "    }\n",
       "</style>\n",
       "<table border=\"1\" class=\"dataframe\">\n",
       "  <thead>\n",
       "    <tr style=\"text-align: right;\">\n",
       "      <th></th>\n",
       "      <th>TargetB</th>\n",
       "      <th>TargetD</th>\n",
       "      <th>DemCluster</th>\n",
       "      <th>DemAge</th>\n",
       "      <th>DemGender</th>\n",
       "      <th>DemHomeOwner</th>\n",
       "      <th>DemMedHomeValue</th>\n",
       "      <th>DemMedIncome</th>\n",
       "      <th>DemPctVeterans</th>\n",
       "      <th>GiftCnt36</th>\n",
       "      <th>...</th>\n",
       "      <th>GiftTimeFirst</th>\n",
       "      <th>GiftTimeLast</th>\n",
       "      <th>PromCnt12</th>\n",
       "      <th>PromCnt36</th>\n",
       "      <th>PromCntAll</th>\n",
       "      <th>PromCntCard12</th>\n",
       "      <th>PromCntCard36</th>\n",
       "      <th>PromCntCardAll</th>\n",
       "      <th>StatusCat96NK</th>\n",
       "      <th>StatusCatStarAll</th>\n",
       "    </tr>\n",
       "  </thead>\n",
       "  <tbody>\n",
       "    <tr>\n",
       "      <th>0</th>\n",
       "      <td>0</td>\n",
       "      <td>NaN</td>\n",
       "      <td>0</td>\n",
       "      <td>NaN</td>\n",
       "      <td>F</td>\n",
       "      <td>U</td>\n",
       "      <td>0</td>\n",
       "      <td>0</td>\n",
       "      <td>0</td>\n",
       "      <td>2</td>\n",
       "      <td>...</td>\n",
       "      <td>66</td>\n",
       "      <td>21</td>\n",
       "      <td>8</td>\n",
       "      <td>17</td>\n",
       "      <td>26</td>\n",
       "      <td>3</td>\n",
       "      <td>8</td>\n",
       "      <td>13</td>\n",
       "      <td>A</td>\n",
       "      <td>0</td>\n",
       "    </tr>\n",
       "    <tr>\n",
       "      <th>1</th>\n",
       "      <td>0</td>\n",
       "      <td>NaN</td>\n",
       "      <td>23</td>\n",
       "      <td>67.0</td>\n",
       "      <td>F</td>\n",
       "      <td>U</td>\n",
       "      <td>186800</td>\n",
       "      <td>0</td>\n",
       "      <td>85</td>\n",
       "      <td>1</td>\n",
       "      <td>...</td>\n",
       "      <td>92</td>\n",
       "      <td>26</td>\n",
       "      <td>14</td>\n",
       "      <td>35</td>\n",
       "      <td>79</td>\n",
       "      <td>5</td>\n",
       "      <td>5</td>\n",
       "      <td>24</td>\n",
       "      <td>A</td>\n",
       "      <td>0</td>\n",
       "    </tr>\n",
       "    <tr>\n",
       "      <th>2</th>\n",
       "      <td>1</td>\n",
       "      <td>4.0</td>\n",
       "      <td>0</td>\n",
       "      <td>NaN</td>\n",
       "      <td>M</td>\n",
       "      <td>U</td>\n",
       "      <td>87600</td>\n",
       "      <td>38750</td>\n",
       "      <td>36</td>\n",
       "      <td>6</td>\n",
       "      <td>...</td>\n",
       "      <td>111</td>\n",
       "      <td>18</td>\n",
       "      <td>12</td>\n",
       "      <td>23</td>\n",
       "      <td>51</td>\n",
       "      <td>5</td>\n",
       "      <td>11</td>\n",
       "      <td>22</td>\n",
       "      <td>S</td>\n",
       "      <td>1</td>\n",
       "    </tr>\n",
       "    <tr>\n",
       "      <th>3</th>\n",
       "      <td>1</td>\n",
       "      <td>10.0</td>\n",
       "      <td>0</td>\n",
       "      <td>NaN</td>\n",
       "      <td>M</td>\n",
       "      <td>U</td>\n",
       "      <td>139200</td>\n",
       "      <td>38942</td>\n",
       "      <td>27</td>\n",
       "      <td>3</td>\n",
       "      <td>...</td>\n",
       "      <td>93</td>\n",
       "      <td>9</td>\n",
       "      <td>14</td>\n",
       "      <td>22</td>\n",
       "      <td>44</td>\n",
       "      <td>2</td>\n",
       "      <td>6</td>\n",
       "      <td>16</td>\n",
       "      <td>E</td>\n",
       "      <td>1</td>\n",
       "    </tr>\n",
       "    <tr>\n",
       "      <th>4</th>\n",
       "      <td>0</td>\n",
       "      <td>NaN</td>\n",
       "      <td>35</td>\n",
       "      <td>53.0</td>\n",
       "      <td>M</td>\n",
       "      <td>U</td>\n",
       "      <td>168100</td>\n",
       "      <td>71509</td>\n",
       "      <td>37</td>\n",
       "      <td>1</td>\n",
       "      <td>...</td>\n",
       "      <td>21</td>\n",
       "      <td>21</td>\n",
       "      <td>10</td>\n",
       "      <td>15</td>\n",
       "      <td>13</td>\n",
       "      <td>4</td>\n",
       "      <td>7</td>\n",
       "      <td>6</td>\n",
       "      <td>F</td>\n",
       "      <td>0</td>\n",
       "    </tr>\n",
       "  </tbody>\n",
       "</table>\n",
       "<p>5 rows × 27 columns</p>\n",
       "</div>"
      ],
      "text/plain": [
       "   TargetB  TargetD  DemCluster  DemAge DemGender DemHomeOwner  \\\n",
       "0        0      NaN           0     NaN         F            U   \n",
       "1        0      NaN          23    67.0         F            U   \n",
       "2        1      4.0           0     NaN         M            U   \n",
       "3        1     10.0           0     NaN         M            U   \n",
       "4        0      NaN          35    53.0         M            U   \n",
       "\n",
       "   DemMedHomeValue  DemMedIncome  DemPctVeterans  GiftCnt36  ...  \\\n",
       "0                0             0               0          2  ...   \n",
       "1           186800             0              85          1  ...   \n",
       "2            87600         38750              36          6  ...   \n",
       "3           139200         38942              27          3  ...   \n",
       "4           168100         71509              37          1  ...   \n",
       "\n",
       "   GiftTimeFirst  GiftTimeLast  PromCnt12  PromCnt36  PromCntAll  \\\n",
       "0             66            21          8         17          26   \n",
       "1             92            26         14         35          79   \n",
       "2            111            18         12         23          51   \n",
       "3             93             9         14         22          44   \n",
       "4             21            21         10         15          13   \n",
       "\n",
       "   PromCntCard12  PromCntCard36  PromCntCardAll  StatusCat96NK  \\\n",
       "0              3              8              13              A   \n",
       "1              5              5              24              A   \n",
       "2              5             11              22              S   \n",
       "3              2              6              16              E   \n",
       "4              4              7               6              F   \n",
       "\n",
       "   StatusCatStarAll  \n",
       "0                 0  \n",
       "1                 0  \n",
       "2                 1  \n",
       "3                 1  \n",
       "4                 0  \n",
       "\n",
       "[5 rows x 27 columns]"
      ]
     },
     "execution_count": 14,
     "metadata": {},
     "output_type": "execute_result"
    }
   ],
   "source": [
    "kdd98.head()"
   ]
  },
  {
   "cell_type": "markdown",
   "metadata": {
    "id": "8lht7odYtY1N"
   },
   "source": [
    "## Transform column `DemGender` as follows:\n",
    "\n",
    "+ 'F' --> 0\n",
    "+ 'M' --> 1\n",
    "+ \"U' --> np.nan"
   ]
  },
  {
   "cell_type": "code",
   "execution_count": 15,
   "metadata": {},
   "outputs": [
    {
     "data": {
      "text/html": [
       "<div>\n",
       "<style scoped>\n",
       "    .dataframe tbody tr th:only-of-type {\n",
       "        vertical-align: middle;\n",
       "    }\n",
       "\n",
       "    .dataframe tbody tr th {\n",
       "        vertical-align: top;\n",
       "    }\n",
       "\n",
       "    .dataframe thead th {\n",
       "        text-align: right;\n",
       "    }\n",
       "</style>\n",
       "<table border=\"1\" class=\"dataframe\">\n",
       "  <thead>\n",
       "    <tr style=\"text-align: right;\">\n",
       "      <th></th>\n",
       "      <th>TargetB</th>\n",
       "      <th>TargetD</th>\n",
       "      <th>DemCluster</th>\n",
       "      <th>DemAge</th>\n",
       "      <th>DemGender</th>\n",
       "      <th>DemHomeOwner</th>\n",
       "      <th>DemMedHomeValue</th>\n",
       "      <th>DemMedIncome</th>\n",
       "      <th>DemPctVeterans</th>\n",
       "      <th>GiftCnt36</th>\n",
       "      <th>...</th>\n",
       "      <th>GiftTimeFirst</th>\n",
       "      <th>GiftTimeLast</th>\n",
       "      <th>PromCnt12</th>\n",
       "      <th>PromCnt36</th>\n",
       "      <th>PromCntAll</th>\n",
       "      <th>PromCntCard12</th>\n",
       "      <th>PromCntCard36</th>\n",
       "      <th>PromCntCardAll</th>\n",
       "      <th>StatusCat96NK</th>\n",
       "      <th>StatusCatStarAll</th>\n",
       "    </tr>\n",
       "  </thead>\n",
       "  <tbody>\n",
       "    <tr>\n",
       "      <th>0</th>\n",
       "      <td>0</td>\n",
       "      <td>NaN</td>\n",
       "      <td>0</td>\n",
       "      <td>NaN</td>\n",
       "      <td>0.0</td>\n",
       "      <td>U</td>\n",
       "      <td>0</td>\n",
       "      <td>0</td>\n",
       "      <td>0</td>\n",
       "      <td>2</td>\n",
       "      <td>...</td>\n",
       "      <td>66</td>\n",
       "      <td>21</td>\n",
       "      <td>8</td>\n",
       "      <td>17</td>\n",
       "      <td>26</td>\n",
       "      <td>3</td>\n",
       "      <td>8</td>\n",
       "      <td>13</td>\n",
       "      <td>A</td>\n",
       "      <td>0</td>\n",
       "    </tr>\n",
       "    <tr>\n",
       "      <th>1</th>\n",
       "      <td>0</td>\n",
       "      <td>NaN</td>\n",
       "      <td>23</td>\n",
       "      <td>67.0</td>\n",
       "      <td>0.0</td>\n",
       "      <td>U</td>\n",
       "      <td>186800</td>\n",
       "      <td>0</td>\n",
       "      <td>85</td>\n",
       "      <td>1</td>\n",
       "      <td>...</td>\n",
       "      <td>92</td>\n",
       "      <td>26</td>\n",
       "      <td>14</td>\n",
       "      <td>35</td>\n",
       "      <td>79</td>\n",
       "      <td>5</td>\n",
       "      <td>5</td>\n",
       "      <td>24</td>\n",
       "      <td>A</td>\n",
       "      <td>0</td>\n",
       "    </tr>\n",
       "    <tr>\n",
       "      <th>2</th>\n",
       "      <td>1</td>\n",
       "      <td>4.0</td>\n",
       "      <td>0</td>\n",
       "      <td>NaN</td>\n",
       "      <td>1.0</td>\n",
       "      <td>U</td>\n",
       "      <td>87600</td>\n",
       "      <td>38750</td>\n",
       "      <td>36</td>\n",
       "      <td>6</td>\n",
       "      <td>...</td>\n",
       "      <td>111</td>\n",
       "      <td>18</td>\n",
       "      <td>12</td>\n",
       "      <td>23</td>\n",
       "      <td>51</td>\n",
       "      <td>5</td>\n",
       "      <td>11</td>\n",
       "      <td>22</td>\n",
       "      <td>S</td>\n",
       "      <td>1</td>\n",
       "    </tr>\n",
       "    <tr>\n",
       "      <th>3</th>\n",
       "      <td>1</td>\n",
       "      <td>10.0</td>\n",
       "      <td>0</td>\n",
       "      <td>NaN</td>\n",
       "      <td>1.0</td>\n",
       "      <td>U</td>\n",
       "      <td>139200</td>\n",
       "      <td>38942</td>\n",
       "      <td>27</td>\n",
       "      <td>3</td>\n",
       "      <td>...</td>\n",
       "      <td>93</td>\n",
       "      <td>9</td>\n",
       "      <td>14</td>\n",
       "      <td>22</td>\n",
       "      <td>44</td>\n",
       "      <td>2</td>\n",
       "      <td>6</td>\n",
       "      <td>16</td>\n",
       "      <td>E</td>\n",
       "      <td>1</td>\n",
       "    </tr>\n",
       "    <tr>\n",
       "      <th>4</th>\n",
       "      <td>0</td>\n",
       "      <td>NaN</td>\n",
       "      <td>35</td>\n",
       "      <td>53.0</td>\n",
       "      <td>1.0</td>\n",
       "      <td>U</td>\n",
       "      <td>168100</td>\n",
       "      <td>71509</td>\n",
       "      <td>37</td>\n",
       "      <td>1</td>\n",
       "      <td>...</td>\n",
       "      <td>21</td>\n",
       "      <td>21</td>\n",
       "      <td>10</td>\n",
       "      <td>15</td>\n",
       "      <td>13</td>\n",
       "      <td>4</td>\n",
       "      <td>7</td>\n",
       "      <td>6</td>\n",
       "      <td>F</td>\n",
       "      <td>0</td>\n",
       "    </tr>\n",
       "  </tbody>\n",
       "</table>\n",
       "<p>5 rows × 27 columns</p>\n",
       "</div>"
      ],
      "text/plain": [
       "   TargetB  TargetD  DemCluster  DemAge  DemGender DemHomeOwner  \\\n",
       "0        0      NaN           0     NaN        0.0            U   \n",
       "1        0      NaN          23    67.0        0.0            U   \n",
       "2        1      4.0           0     NaN        1.0            U   \n",
       "3        1     10.0           0     NaN        1.0            U   \n",
       "4        0      NaN          35    53.0        1.0            U   \n",
       "\n",
       "   DemMedHomeValue  DemMedIncome  DemPctVeterans  GiftCnt36  ...  \\\n",
       "0                0             0               0          2  ...   \n",
       "1           186800             0              85          1  ...   \n",
       "2            87600         38750              36          6  ...   \n",
       "3           139200         38942              27          3  ...   \n",
       "4           168100         71509              37          1  ...   \n",
       "\n",
       "   GiftTimeFirst  GiftTimeLast  PromCnt12  PromCnt36  PromCntAll  \\\n",
       "0             66            21          8         17          26   \n",
       "1             92            26         14         35          79   \n",
       "2            111            18         12         23          51   \n",
       "3             93             9         14         22          44   \n",
       "4             21            21         10         15          13   \n",
       "\n",
       "   PromCntCard12  PromCntCard36  PromCntCardAll  StatusCat96NK  \\\n",
       "0              3              8              13              A   \n",
       "1              5              5              24              A   \n",
       "2              5             11              22              S   \n",
       "3              2              6              16              E   \n",
       "4              4              7               6              F   \n",
       "\n",
       "   StatusCatStarAll  \n",
       "0                 0  \n",
       "1                 0  \n",
       "2                 1  \n",
       "3                 1  \n",
       "4                 0  \n",
       "\n",
       "[5 rows x 27 columns]"
      ]
     },
     "execution_count": 15,
     "metadata": {},
     "output_type": "execute_result"
    }
   ],
   "source": [
    "import numpy as np\n",
    "kdd98['DemGender'] = kdd98['DemGender'].apply(lambda x: 0 if x=='F' else 1 if x=='M' else np.nan)\n",
    "kdd98.head()"
   ]
  },
  {
   "cell_type": "markdown",
   "metadata": {},
   "source": [
    "## Which columns have missing values?"
   ]
  },
  {
   "cell_type": "code",
   "execution_count": 7,
   "metadata": {},
   "outputs": [
    {
     "data": {
      "text/plain": [
       "TargetB                0\n",
       "TargetD             4843\n",
       "DemCluster             0\n",
       "DemAge              2407\n",
       "DemGender              0\n",
       "DemHomeOwner           0\n",
       "DemMedHomeValue        0\n",
       "DemMedIncome           0\n",
       "DemPctVeterans         0\n",
       "GiftCnt36              0\n",
       "GiftCntAll             0\n",
       "GiftCntCard36          0\n",
       "GiftCntCardAll         0\n",
       "GiftAvg36              0\n",
       "GiftAvgAll             0\n",
       "GiftAvgCard36       1780\n",
       "GiftAvgLast            0\n",
       "GiftTimeFirst          0\n",
       "GiftTimeLast           0\n",
       "PromCnt12              0\n",
       "PromCnt36              0\n",
       "PromCntAll             0\n",
       "PromCntCard12          0\n",
       "PromCntCard36          0\n",
       "PromCntCardAll         0\n",
       "StatusCat96NK          0\n",
       "StatusCatStarAll       0\n",
       "dtype: int64"
      ]
     },
     "execution_count": 7,
     "metadata": {},
     "output_type": "execute_result"
    }
   ],
   "source": [
    "kdd98.isna().sum()"
   ]
  },
  {
   "cell_type": "markdown",
   "metadata": {},
   "source": [
    "## Which column is most skewed?"
   ]
  },
  {
   "cell_type": "code",
   "execution_count": 8,
   "metadata": {},
   "outputs": [
    {
     "name": "stderr",
     "output_type": "stream",
     "text": [
      "C:\\Users\\monas\\AppData\\Local\\Temp/ipykernel_9308/1490626884.py:1: FutureWarning: Dropping of nuisance columns in DataFrame reductions (with 'numeric_only=None') is deprecated; in a future version this will raise TypeError.  Select only valid columns before calling the reduction.\n",
      "  kdd98.skew()\n"
     ]
    },
    {
     "data": {
      "text/plain": [
       "TargetB              0.000000\n",
       "TargetD              5.169490\n",
       "DemCluster          -0.086715\n",
       "DemAge              -0.387912\n",
       "DemMedHomeValue      2.378211\n",
       "DemMedIncome         0.310025\n",
       "DemPctVeterans      -0.207059\n",
       "GiftCnt36            1.288353\n",
       "GiftCntAll           1.863109\n",
       "GiftCntCard36        1.172452\n",
       "GiftCntCardAll       1.331353\n",
       "GiftAvg36            5.627792\n",
       "GiftAvgAll          14.486489\n",
       "GiftAvgCard36        6.051455\n",
       "GiftAvgLast          9.918893\n",
       "GiftTimeFirst        0.195399\n",
       "GiftTimeLast        -0.778047\n",
       "PromCnt12            2.873723\n",
       "PromCnt36            0.261958\n",
       "PromCntAll           0.460765\n",
       "PromCntCard12        0.684994\n",
       "PromCntCard36       -0.426600\n",
       "PromCntCardAll       0.142856\n",
       "StatusCatStarAll    -0.162858\n",
       "dtype: float64"
      ]
     },
     "execution_count": 8,
     "metadata": {},
     "output_type": "execute_result"
    }
   ],
   "source": [
    "kdd98.skew()"
   ]
  },
  {
   "cell_type": "markdown",
   "metadata": {},
   "source": [
    "## Create a new column that is the log transformation of the found most-skewed column. Then, check the skewness value of this new column."
   ]
  },
  {
   "cell_type": "code",
   "execution_count": 18,
   "metadata": {},
   "outputs": [
    {
     "ename": "NameError",
     "evalue": "name 'GiftAvgAll' is not defined",
     "output_type": "error",
     "traceback": [
      "\u001b[1;31m---------------------------------------------------------------------------\u001b[0m",
      "\u001b[1;31mNameError\u001b[0m                                 Traceback (most recent call last)",
      "\u001b[1;32m~\\AppData\\Local\\Temp/ipykernel_9308/2483020664.py\u001b[0m in \u001b[0;36m<module>\u001b[1;34m\u001b[0m\n\u001b[1;32m----> 1\u001b[1;33m \u001b[0mkdd98\u001b[0m\u001b[1;33m[\u001b[0m\u001b[1;34m'log_GiftAvgAll'\u001b[0m\u001b[1;33m]\u001b[0m\u001b[1;33m=\u001b[0m\u001b[0mnp\u001b[0m\u001b[1;33m.\u001b[0m\u001b[0mlog\u001b[0m\u001b[1;33m(\u001b[0m\u001b[0mkdd98\u001b[0m\u001b[1;33m[\u001b[0m\u001b[0mGiftAvgAll\u001b[0m\u001b[1;33m]\u001b[0m\u001b[1;33m)\u001b[0m\u001b[1;33m\u001b[0m\u001b[1;33m\u001b[0m\u001b[0m\n\u001b[0m\u001b[0;32m      2\u001b[0m \u001b[0mkdd98\u001b[0m\u001b[1;33m[\u001b[0m\u001b[1;34m'log_GiftAvgAll'\u001b[0m\u001b[1;33m]\u001b[0m\u001b[1;33m\u001b[0m\u001b[1;33m\u001b[0m\u001b[0m\n",
      "\u001b[1;31mNameError\u001b[0m: name 'GiftAvgAll' is not defined"
     ]
    }
   ],
   "source": [
    "kdd98['log_GiftAvgAll']=np.log(kdd98[GiftAvgAll])\n",
    "kdd98['log_GiftAvgAll']"
   ]
  },
  {
   "cell_type": "code",
   "execution_count": null,
   "metadata": {},
   "outputs": [],
   "source": []
  },
  {
   "cell_type": "markdown",
   "metadata": {},
   "source": [
    "## Create a new column GiftTotalAll, that is the multiplication of column GiftCntAll and GiftAvgAll."
   ]
  },
  {
   "cell_type": "code",
   "execution_count": null,
   "metadata": {},
   "outputs": [],
   "source": []
  },
  {
   "cell_type": "markdown",
   "metadata": {
    "id": "bRdtm-gctY1S"
   },
   "source": [
    "## How many unique values in column `StatusCat96NK`? And which value is most frequent?"
   ]
  },
  {
   "cell_type": "code",
   "execution_count": null,
   "metadata": {},
   "outputs": [],
   "source": []
  },
  {
   "cell_type": "markdown",
   "metadata": {
    "id": "bRdtm-gctY1S"
   },
   "source": [
    "## Create dummy columns from `StatusCat96NK`, then drop the most frequent one"
   ]
  },
  {
   "cell_type": "code",
   "execution_count": null,
   "metadata": {},
   "outputs": [],
   "source": []
  },
  {
   "cell_type": "markdown",
   "metadata": {
    "id": "ltXSUpOntY1W"
   },
   "source": [
    "### Save the processed data into a new file \"in_class_practice.csv\""
   ]
  },
  {
   "cell_type": "code",
   "execution_count": null,
   "metadata": {
    "id": "XuIRVypvtY1W"
   },
   "outputs": [],
   "source": []
  }
 ],
 "metadata": {
  "colab": {
   "collapsed_sections": [
    "k7WYCSGOtY1N",
    "_0hgfqOktY1O",
    "vc8X8v44tY1O",
    "ntw32aWUtY1P",
    "f_9ZE9UmtY1Q",
    "cQ1BQddqtY1Q",
    "4uJY0iq4tY1Q",
    "4Y6oaE23tY1R",
    "qqtAzBRztY1S",
    "CcFvXyZGtY1S",
    "bRdtm-gctY1S",
    "BBAhv7vQtY1T",
    "PZs4YHLjtY1T",
    "-VjKTcVXtY1U",
    "5werdE_wtY1V",
    "ltXSUpOntY1W"
   ],
   "name": "DataWrangling1_Basics_filled.ipynb",
   "provenance": [],
   "toc_visible": true
  },
  "kernelspec": {
   "display_name": "Python 3 (ipykernel)",
   "language": "python",
   "name": "python3"
  },
  "language_info": {
   "codemirror_mode": {
    "name": "ipython",
    "version": 3
   },
   "file_extension": ".py",
   "mimetype": "text/x-python",
   "name": "python",
   "nbconvert_exporter": "python",
   "pygments_lexer": "ipython3",
   "version": "3.8.13"
  }
 },
 "nbformat": 4,
 "nbformat_minor": 4
}
