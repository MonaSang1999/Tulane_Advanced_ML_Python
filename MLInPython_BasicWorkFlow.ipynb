{
 "cells": [
  {
   "cell_type": "markdown",
   "metadata": {
    "id": "vQc-yqOSALtF"
   },
   "source": [
    "# A Basic Work Flow of Machine Learning in Python\n",
    "\n",
    "*Xianjun Geng, Fall 2021*\n",
    "\n",
    "We will together walk through a very basic supervised learning process using the Python programming language. \n",
    "\n",
    "Important: This lecture is prepared for students who are *already* experienced with predictive analytics using R. "
   ]
  },
  {
   "cell_type": "markdown",
   "metadata": {},
   "source": [
    "## Background: what is machine learning?\n",
    "\n",
    "Simply put, machine learning (ML) attempts to learn **patterns** -- a.k.a. things that repeat themselves -- from past data. *The repetition nature of a found pattern gives us hope that the pattern will again repeat itself in the future*, thus we can use machine learning to *predict*.\n",
    "\n",
    "We discover patterns using a wide range of mathematical models, a.k.a. **learning algorithms**, that researchers from many domains such as mathematics, computer science, statistics and the business world invented. \n",
    "+ This also explains why we have many names for (largely) the same thing, e.g., data science, KDD (Knowledge Discovery in Databases), machine learning, predictive inference, business intelligence, business analytics. \n",
    "\n",
    "There are three main caterories of machine learning: \n",
    "+ **supervised learning** (this is what we'll mainly focus on in this course)\n",
    "+ **unsupervised learning** (when data has inputs but no output, examples include clustering, anomaly/outlier detection, association rules ...)\n",
    "+ **reenforcement learning** (Not required for this course. See [this excellent short article](https://www.kdnuggets.com/2018/03/5-things-reinforcement-learning.html) if interested. Famous for beating human pros in board/poker games, e.g. [AlphaGo](https://deepmind.com/research/case-studies/alphago-the-story-so-far) and [ReBel](https://ai.facebook.com/blog/rebel-a-general-game-playing-ai-bot-that-excels-at-poker-and-more/).)  "
   ]
  },
  {
   "cell_type": "markdown",
   "metadata": {},
   "source": [
    "### Supervised learning\n",
    "\n",
    "Also called **predictive analytics**, supervised learning tries to build a **function** (a.k.a. an **algorithm**) that *maps a set of inputs to an output using past data of inputs-output pairs*. We assume that this found algorithm/function holds for both past and future data, and thus we can apply this function to future inputs to *predict* the corresponding future output.\n",
    " \n",
    "![Spam filter](image_spam_filter.png)\n",
    "\n",
    "Many names for inputs and output:\n",
    "+ inputs are also called: predictors, independent variables, **features**, input columns, (in Scikit-Learn) X\n",
    "+ output is also called: prediction, dependent variable, label, **target**, output column, (in Scikit-Learn) y\n",
    "  + guess what \"labeled data\" means?\n",
    "\n",
    "Supervised learning algorithms include **classification** for categorical output and **regression** for continuous output. \n",
    "\n",
    "Note the difference between \"learning algorithm\" and \"algorithm\":\n",
    "+ \"algorithm\" is the function we discover that maps inputs to output\n",
    "+ \"learning algorithm\" is what we use, along with the data input, to build an algorithm\n",
    "+ For example, \"logistic regression\" is a learning algorithm. After training it with data, the specific formula with all coefficient values determined is an algorithm"
   ]
  },
  {
   "cell_type": "markdown",
   "metadata": {},
   "source": [
    "The general work flow of supervised learning, as you've already experienced in your Modeling and Analytics course, and as we discussed in the first lecture of this course, involves five steps as follows:\n",
    "\n",
    "![Work Flow of Supervised Learning](image_BALifeCycle.png)\n"
   ]
  },
  {
   "cell_type": "markdown",
   "metadata": {},
   "source": [
    "We next walk through these five steps of supervised learning using the Python programming language.\n",
    "\n"
   ]
  },
  {
   "cell_type": "markdown",
   "metadata": {
    "id": "kRFG14lxALtK"
   },
   "source": [
    "## Step 1\\. Data gathering ~~and wrangling~~\n",
    "\n",
    "The dataset we use is the **Lending Club** dataset. Refer to file \"LendingClub_description.pdf\" for details.\n",
    "\n",
    "As a very basic code, we won't get into data wrangling yet today. (We don't even know what to wrangle with rive\"."
   ]
  },
  {
   "cell_type": "markdown",
   "metadata": {
    "id": "gyaYUjfIALtL"
   },
   "source": [
    "### Load the LendingClub dataset"
   ]
  },
  {
   "cell_type": "code",
   "execution_count": 4,
   "metadata": {
    "id": "H8f5MpncALtL",
    "tags": []
   },
   "outputs": [],
   "source": [
    "# Import Python packages as follows. This is analogous to library() in R.\n",
    "import numpy as np\n",
    "import pandas as pd\n",
    "# These two packages, NumPy and pandas, together allow us to manipulate data efficiently.\n",
    "# We'll study and use these two must-have data-science packages in the next few weeks. \n"
   ]
  },
  {
   "cell_type": "code",
   "execution_count": null,
   "metadata": {},
   "outputs": [],
   "source": [
    "#df2 = pd.read_csv()  #click \"tab\" after pd."
   ]
  },
  {
   "cell_type": "code",
   "execution_count": 5,
   "metadata": {
    "id": "Ku3ADolKALtM"
   },
   "outputs": [],
   "source": [
    "# Load the Lending Club dataset. Analogous to read.csv() in R.\n",
    "# In pandas, a data table is called a DataFrame. Thus we often use \"df\" to denote a data table.\n",
    "df = pd.read_csv('LendingClub.csv')"
   ]
  },
  {
   "cell_type": "code",
   "execution_count": 6,
   "metadata": {
    "id": "Ku3ADolKALtM"
   },
   "outputs": [
    {
     "data": {
      "text/html": [
       "<div>\n",
       "<style scoped>\n",
       "    .dataframe tbody tr th:only-of-type {\n",
       "        vertical-align: middle;\n",
       "    }\n",
       "\n",
       "    .dataframe tbody tr th {\n",
       "        vertical-align: top;\n",
       "    }\n",
       "\n",
       "    .dataframe thead th {\n",
       "        text-align: right;\n",
       "    }\n",
       "</style>\n",
       "<table border=\"1\" class=\"dataframe\">\n",
       "  <thead>\n",
       "    <tr style=\"text-align: right;\">\n",
       "      <th></th>\n",
       "      <th>credit_policy</th>\n",
       "      <th>purpose</th>\n",
       "      <th>int_rate</th>\n",
       "      <th>installment</th>\n",
       "      <th>log_annual_inc</th>\n",
       "      <th>dti</th>\n",
       "      <th>fico</th>\n",
       "      <th>days_with_cr_line</th>\n",
       "      <th>revol_bal</th>\n",
       "      <th>revol_util</th>\n",
       "      <th>inq_last_6mths</th>\n",
       "      <th>delinq_2yrs</th>\n",
       "      <th>pub_rec</th>\n",
       "      <th>not_fully_paid</th>\n",
       "    </tr>\n",
       "  </thead>\n",
       "  <tbody>\n",
       "    <tr>\n",
       "      <th>0</th>\n",
       "      <td>1</td>\n",
       "      <td>debt_consolidation</td>\n",
       "      <td>0.1189</td>\n",
       "      <td>829.10</td>\n",
       "      <td>11.350407</td>\n",
       "      <td>19.48</td>\n",
       "      <td>737</td>\n",
       "      <td>5639.958333</td>\n",
       "      <td>28854</td>\n",
       "      <td>52.1</td>\n",
       "      <td>0</td>\n",
       "      <td>0</td>\n",
       "      <td>0</td>\n",
       "      <td>0</td>\n",
       "    </tr>\n",
       "    <tr>\n",
       "      <th>1</th>\n",
       "      <td>1</td>\n",
       "      <td>credit_card</td>\n",
       "      <td>0.1071</td>\n",
       "      <td>228.22</td>\n",
       "      <td>11.082143</td>\n",
       "      <td>14.29</td>\n",
       "      <td>707</td>\n",
       "      <td>2760.000000</td>\n",
       "      <td>33623</td>\n",
       "      <td>76.7</td>\n",
       "      <td>0</td>\n",
       "      <td>0</td>\n",
       "      <td>0</td>\n",
       "      <td>0</td>\n",
       "    </tr>\n",
       "    <tr>\n",
       "      <th>2</th>\n",
       "      <td>1</td>\n",
       "      <td>debt_consolidation</td>\n",
       "      <td>0.1357</td>\n",
       "      <td>366.86</td>\n",
       "      <td>10.373491</td>\n",
       "      <td>11.63</td>\n",
       "      <td>682</td>\n",
       "      <td>4710.000000</td>\n",
       "      <td>3511</td>\n",
       "      <td>25.6</td>\n",
       "      <td>1</td>\n",
       "      <td>0</td>\n",
       "      <td>0</td>\n",
       "      <td>0</td>\n",
       "    </tr>\n",
       "    <tr>\n",
       "      <th>3</th>\n",
       "      <td>1</td>\n",
       "      <td>debt_consolidation</td>\n",
       "      <td>0.1008</td>\n",
       "      <td>162.34</td>\n",
       "      <td>11.350407</td>\n",
       "      <td>8.10</td>\n",
       "      <td>712</td>\n",
       "      <td>2699.958333</td>\n",
       "      <td>33667</td>\n",
       "      <td>73.2</td>\n",
       "      <td>1</td>\n",
       "      <td>0</td>\n",
       "      <td>0</td>\n",
       "      <td>0</td>\n",
       "    </tr>\n",
       "    <tr>\n",
       "      <th>4</th>\n",
       "      <td>1</td>\n",
       "      <td>credit_card</td>\n",
       "      <td>0.1426</td>\n",
       "      <td>102.92</td>\n",
       "      <td>11.299732</td>\n",
       "      <td>14.97</td>\n",
       "      <td>667</td>\n",
       "      <td>4066.000000</td>\n",
       "      <td>4740</td>\n",
       "      <td>39.5</td>\n",
       "      <td>0</td>\n",
       "      <td>1</td>\n",
       "      <td>0</td>\n",
       "      <td>0</td>\n",
       "    </tr>\n",
       "    <tr>\n",
       "      <th>5</th>\n",
       "      <td>1</td>\n",
       "      <td>credit_card</td>\n",
       "      <td>0.0788</td>\n",
       "      <td>125.13</td>\n",
       "      <td>11.904968</td>\n",
       "      <td>16.98</td>\n",
       "      <td>727</td>\n",
       "      <td>6120.041667</td>\n",
       "      <td>50807</td>\n",
       "      <td>51.0</td>\n",
       "      <td>0</td>\n",
       "      <td>0</td>\n",
       "      <td>0</td>\n",
       "      <td>0</td>\n",
       "    </tr>\n",
       "    <tr>\n",
       "      <th>6</th>\n",
       "      <td>1</td>\n",
       "      <td>debt_consolidation</td>\n",
       "      <td>0.1496</td>\n",
       "      <td>194.02</td>\n",
       "      <td>10.714418</td>\n",
       "      <td>4.00</td>\n",
       "      <td>667</td>\n",
       "      <td>3180.041667</td>\n",
       "      <td>3839</td>\n",
       "      <td>76.8</td>\n",
       "      <td>0</td>\n",
       "      <td>0</td>\n",
       "      <td>1</td>\n",
       "      <td>1</td>\n",
       "    </tr>\n",
       "    <tr>\n",
       "      <th>7</th>\n",
       "      <td>1</td>\n",
       "      <td>all_other</td>\n",
       "      <td>0.1114</td>\n",
       "      <td>131.22</td>\n",
       "      <td>11.002100</td>\n",
       "      <td>11.08</td>\n",
       "      <td>722</td>\n",
       "      <td>5116.000000</td>\n",
       "      <td>24220</td>\n",
       "      <td>68.6</td>\n",
       "      <td>0</td>\n",
       "      <td>0</td>\n",
       "      <td>0</td>\n",
       "      <td>1</td>\n",
       "    </tr>\n",
       "    <tr>\n",
       "      <th>8</th>\n",
       "      <td>1</td>\n",
       "      <td>home_improvement</td>\n",
       "      <td>0.1134</td>\n",
       "      <td>87.19</td>\n",
       "      <td>11.407565</td>\n",
       "      <td>17.25</td>\n",
       "      <td>682</td>\n",
       "      <td>3989.000000</td>\n",
       "      <td>69909</td>\n",
       "      <td>51.1</td>\n",
       "      <td>1</td>\n",
       "      <td>0</td>\n",
       "      <td>0</td>\n",
       "      <td>0</td>\n",
       "    </tr>\n",
       "    <tr>\n",
       "      <th>9</th>\n",
       "      <td>1</td>\n",
       "      <td>debt_consolidation</td>\n",
       "      <td>0.1221</td>\n",
       "      <td>84.12</td>\n",
       "      <td>10.203592</td>\n",
       "      <td>10.00</td>\n",
       "      <td>707</td>\n",
       "      <td>2730.041667</td>\n",
       "      <td>5630</td>\n",
       "      <td>23.0</td>\n",
       "      <td>1</td>\n",
       "      <td>0</td>\n",
       "      <td>0</td>\n",
       "      <td>0</td>\n",
       "    </tr>\n",
       "  </tbody>\n",
       "</table>\n",
       "</div>"
      ],
      "text/plain": [
       "   credit_policy             purpose  int_rate  installment  log_annual_inc  \\\n",
       "0              1  debt_consolidation    0.1189       829.10       11.350407   \n",
       "1              1         credit_card    0.1071       228.22       11.082143   \n",
       "2              1  debt_consolidation    0.1357       366.86       10.373491   \n",
       "3              1  debt_consolidation    0.1008       162.34       11.350407   \n",
       "4              1         credit_card    0.1426       102.92       11.299732   \n",
       "5              1         credit_card    0.0788       125.13       11.904968   \n",
       "6              1  debt_consolidation    0.1496       194.02       10.714418   \n",
       "7              1           all_other    0.1114       131.22       11.002100   \n",
       "8              1    home_improvement    0.1134        87.19       11.407565   \n",
       "9              1  debt_consolidation    0.1221        84.12       10.203592   \n",
       "\n",
       "     dti  fico  days_with_cr_line  revol_bal  revol_util  inq_last_6mths  \\\n",
       "0  19.48   737        5639.958333      28854        52.1               0   \n",
       "1  14.29   707        2760.000000      33623        76.7               0   \n",
       "2  11.63   682        4710.000000       3511        25.6               1   \n",
       "3   8.10   712        2699.958333      33667        73.2               1   \n",
       "4  14.97   667        4066.000000       4740        39.5               0   \n",
       "5  16.98   727        6120.041667      50807        51.0               0   \n",
       "6   4.00   667        3180.041667       3839        76.8               0   \n",
       "7  11.08   722        5116.000000      24220        68.6               0   \n",
       "8  17.25   682        3989.000000      69909        51.1               1   \n",
       "9  10.00   707        2730.041667       5630        23.0               1   \n",
       "\n",
       "   delinq_2yrs  pub_rec  not_fully_paid  \n",
       "0            0        0               0  \n",
       "1            0        0               0  \n",
       "2            0        0               0  \n",
       "3            0        0               0  \n",
       "4            1        0               0  \n",
       "5            0        0               0  \n",
       "6            0        1               1  \n",
       "7            0        0               1  \n",
       "8            0        0               0  \n",
       "9            0        0               0  "
      ]
     },
     "execution_count": 6,
     "metadata": {},
     "output_type": "execute_result"
    }
   ],
   "source": [
    "# Show on screen the first few records in this dataset. \n",
    "# Analogous to head() in R, yet now as a method of object \"df\".\n",
    "df.head(10)"
   ]
  },
  {
   "cell_type": "markdown",
   "metadata": {
    "id": "91gbrrTUALtK"
   },
   "source": [
    "### Data structure for supervised learning in Python\n",
    "\n",
    "Similar to R, in Python we usually expect data in a **table format** for predictive analytics, as shown above.\n",
    "+ each row is a **sample**/record, e.g. a customer\n",
    "+ each column is an input \"independent variable\"/attribute/**feature**/predictor, e.g., FICO score of a customer\n",
    "  + with the exception of one column being the output **target**/label /prediction/\"dependent variable\", e.g., \"not_fully_paid\" in the above dataset"
   ]
  },
  {
   "cell_type": "markdown",
   "metadata": {
    "id": "VQ0EtSJ0od1l"
   },
   "source": [
    "Different from R, in Python we usually expect the inputs and output to be stored *separately* as follows.\n",
    "\n"
   ]
  },
  {
   "cell_type": "code",
   "execution_count": 16,
   "metadata": {
    "id": "679W8vTwALtM"
   },
   "outputs": [],
   "source": [
    "# Separate the dataset into a features matrix X and a target array y\n",
    "X = df.drop(columns=['not_fully_paid'])\n",
    "y = df['not_fully_paid']"
   ]
  },
  {
   "cell_type": "markdown",
   "metadata": {
    "id": "aHk1vGmoiq1T"
   },
   "source": [
    "**Features matrix** (a.k.a. the inputs)\n",
    "\n",
    "The features matrix is often stored in a variable named `X`. The features matrix is assumed to be two-dimensional, with shape `[n_samples, n_features]`, and is most often contained in a NumPy `array` or a Pandas `DataFrame`. \n",
    "\n",
    "**Target array** (a.k.a. the output)\n",
    "\n",
    "In addition to the feature matrix `X`, we also work with a *target array* (or called *label array*) for supervised learning. By convention we call this array `y`. The target array is usually one dimensional, with length `n_samples`, and is generally contained in a NumPy `array` or Pandas `Series`. Values in the target array can be either continuous or discrete. The target array is what we want to *predict from the data*, such as whether a customer will default on a loan."
   ]
  },
  {
   "cell_type": "markdown",
   "metadata": {
    "id": "NZ0yWe9tALtO"
   },
   "source": [
    "### Data wrangling\n",
    "\n",
    "Is data wrangling important in real life? ***Absolutely yes.***\n",
    "\n",
    "Are we doing data wrangling today? Bravely no :) ."
   ]
  },
  {
   "cell_type": "markdown",
   "metadata": {
    "id": "wwI5qL4XALtO"
   },
   "source": [
    "## Step 2\\. Exploratory data analysis (EDA)\n",
    "\n",
    "*In the real world, EDA and related data wrangling will likely take most of your time.* For today only, let's keep EDA to a bare minimum."
   ]
  },
  {
   "cell_type": "code",
   "execution_count": 7,
   "metadata": {
    "id": "wbs6f2rqqW_0"
   },
   "outputs": [
    {
     "data": {
      "text/plain": [
       "(9578, 14)"
      ]
     },
     "execution_count": 7,
     "metadata": {},
     "output_type": "execute_result"
    }
   ],
   "source": [
    "# How large is the dataset?\n",
    "df.shape\n",
    "# Analogous to dim() in R."
   ]
  },
  {
   "cell_type": "code",
   "execution_count": 8,
   "metadata": {
    "tags": []
   },
   "outputs": [
    {
     "data": {
      "text/html": [
       "<div>\n",
       "<style scoped>\n",
       "    .dataframe tbody tr th:only-of-type {\n",
       "        vertical-align: middle;\n",
       "    }\n",
       "\n",
       "    .dataframe tbody tr th {\n",
       "        vertical-align: top;\n",
       "    }\n",
       "\n",
       "    .dataframe thead th {\n",
       "        text-align: right;\n",
       "    }\n",
       "</style>\n",
       "<table border=\"1\" class=\"dataframe\">\n",
       "  <thead>\n",
       "    <tr style=\"text-align: right;\">\n",
       "      <th></th>\n",
       "      <th>credit_policy</th>\n",
       "      <th>int_rate</th>\n",
       "      <th>installment</th>\n",
       "      <th>log_annual_inc</th>\n",
       "      <th>dti</th>\n",
       "      <th>fico</th>\n",
       "      <th>days_with_cr_line</th>\n",
       "      <th>revol_bal</th>\n",
       "      <th>revol_util</th>\n",
       "      <th>inq_last_6mths</th>\n",
       "      <th>delinq_2yrs</th>\n",
       "      <th>pub_rec</th>\n",
       "      <th>not_fully_paid</th>\n",
       "    </tr>\n",
       "  </thead>\n",
       "  <tbody>\n",
       "    <tr>\n",
       "      <th>count</th>\n",
       "      <td>9578.000000</td>\n",
       "      <td>9578.000000</td>\n",
       "      <td>9578.000000</td>\n",
       "      <td>9578.000000</td>\n",
       "      <td>9578.000000</td>\n",
       "      <td>9578.000000</td>\n",
       "      <td>9578.000000</td>\n",
       "      <td>9.578000e+03</td>\n",
       "      <td>9578.000000</td>\n",
       "      <td>9578.000000</td>\n",
       "      <td>9578.000000</td>\n",
       "      <td>9578.000000</td>\n",
       "      <td>9578.000000</td>\n",
       "    </tr>\n",
       "    <tr>\n",
       "      <th>mean</th>\n",
       "      <td>0.804970</td>\n",
       "      <td>0.122640</td>\n",
       "      <td>319.089413</td>\n",
       "      <td>10.932117</td>\n",
       "      <td>12.606679</td>\n",
       "      <td>710.846314</td>\n",
       "      <td>4560.767197</td>\n",
       "      <td>1.691396e+04</td>\n",
       "      <td>46.799236</td>\n",
       "      <td>1.577469</td>\n",
       "      <td>0.163708</td>\n",
       "      <td>0.062122</td>\n",
       "      <td>0.160054</td>\n",
       "    </tr>\n",
       "    <tr>\n",
       "      <th>std</th>\n",
       "      <td>0.396245</td>\n",
       "      <td>0.026847</td>\n",
       "      <td>207.071301</td>\n",
       "      <td>0.614813</td>\n",
       "      <td>6.883970</td>\n",
       "      <td>37.970537</td>\n",
       "      <td>2496.930377</td>\n",
       "      <td>3.375619e+04</td>\n",
       "      <td>29.014417</td>\n",
       "      <td>2.200245</td>\n",
       "      <td>0.546215</td>\n",
       "      <td>0.262126</td>\n",
       "      <td>0.366676</td>\n",
       "    </tr>\n",
       "    <tr>\n",
       "      <th>min</th>\n",
       "      <td>0.000000</td>\n",
       "      <td>0.060000</td>\n",
       "      <td>15.670000</td>\n",
       "      <td>7.547502</td>\n",
       "      <td>0.000000</td>\n",
       "      <td>612.000000</td>\n",
       "      <td>178.958333</td>\n",
       "      <td>0.000000e+00</td>\n",
       "      <td>0.000000</td>\n",
       "      <td>0.000000</td>\n",
       "      <td>0.000000</td>\n",
       "      <td>0.000000</td>\n",
       "      <td>0.000000</td>\n",
       "    </tr>\n",
       "    <tr>\n",
       "      <th>25%</th>\n",
       "      <td>1.000000</td>\n",
       "      <td>0.103900</td>\n",
       "      <td>163.770000</td>\n",
       "      <td>10.558414</td>\n",
       "      <td>7.212500</td>\n",
       "      <td>682.000000</td>\n",
       "      <td>2820.000000</td>\n",
       "      <td>3.187000e+03</td>\n",
       "      <td>22.600000</td>\n",
       "      <td>0.000000</td>\n",
       "      <td>0.000000</td>\n",
       "      <td>0.000000</td>\n",
       "      <td>0.000000</td>\n",
       "    </tr>\n",
       "    <tr>\n",
       "      <th>50%</th>\n",
       "      <td>1.000000</td>\n",
       "      <td>0.122100</td>\n",
       "      <td>268.950000</td>\n",
       "      <td>10.928884</td>\n",
       "      <td>12.665000</td>\n",
       "      <td>707.000000</td>\n",
       "      <td>4139.958333</td>\n",
       "      <td>8.596000e+03</td>\n",
       "      <td>46.300000</td>\n",
       "      <td>1.000000</td>\n",
       "      <td>0.000000</td>\n",
       "      <td>0.000000</td>\n",
       "      <td>0.000000</td>\n",
       "    </tr>\n",
       "    <tr>\n",
       "      <th>75%</th>\n",
       "      <td>1.000000</td>\n",
       "      <td>0.140700</td>\n",
       "      <td>432.762500</td>\n",
       "      <td>11.291293</td>\n",
       "      <td>17.950000</td>\n",
       "      <td>737.000000</td>\n",
       "      <td>5730.000000</td>\n",
       "      <td>1.824950e+04</td>\n",
       "      <td>70.900000</td>\n",
       "      <td>2.000000</td>\n",
       "      <td>0.000000</td>\n",
       "      <td>0.000000</td>\n",
       "      <td>0.000000</td>\n",
       "    </tr>\n",
       "    <tr>\n",
       "      <th>max</th>\n",
       "      <td>1.000000</td>\n",
       "      <td>0.216400</td>\n",
       "      <td>940.140000</td>\n",
       "      <td>14.528354</td>\n",
       "      <td>29.960000</td>\n",
       "      <td>827.000000</td>\n",
       "      <td>17639.958330</td>\n",
       "      <td>1.207359e+06</td>\n",
       "      <td>119.000000</td>\n",
       "      <td>33.000000</td>\n",
       "      <td>13.000000</td>\n",
       "      <td>5.000000</td>\n",
       "      <td>1.000000</td>\n",
       "    </tr>\n",
       "  </tbody>\n",
       "</table>\n",
       "</div>"
      ],
      "text/plain": [
       "       credit_policy     int_rate  installment  log_annual_inc          dti  \\\n",
       "count    9578.000000  9578.000000  9578.000000     9578.000000  9578.000000   \n",
       "mean        0.804970     0.122640   319.089413       10.932117    12.606679   \n",
       "std         0.396245     0.026847   207.071301        0.614813     6.883970   \n",
       "min         0.000000     0.060000    15.670000        7.547502     0.000000   \n",
       "25%         1.000000     0.103900   163.770000       10.558414     7.212500   \n",
       "50%         1.000000     0.122100   268.950000       10.928884    12.665000   \n",
       "75%         1.000000     0.140700   432.762500       11.291293    17.950000   \n",
       "max         1.000000     0.216400   940.140000       14.528354    29.960000   \n",
       "\n",
       "              fico  days_with_cr_line     revol_bal   revol_util  \\\n",
       "count  9578.000000        9578.000000  9.578000e+03  9578.000000   \n",
       "mean    710.846314        4560.767197  1.691396e+04    46.799236   \n",
       "std      37.970537        2496.930377  3.375619e+04    29.014417   \n",
       "min     612.000000         178.958333  0.000000e+00     0.000000   \n",
       "25%     682.000000        2820.000000  3.187000e+03    22.600000   \n",
       "50%     707.000000        4139.958333  8.596000e+03    46.300000   \n",
       "75%     737.000000        5730.000000  1.824950e+04    70.900000   \n",
       "max     827.000000       17639.958330  1.207359e+06   119.000000   \n",
       "\n",
       "       inq_last_6mths  delinq_2yrs      pub_rec  not_fully_paid  \n",
       "count     9578.000000  9578.000000  9578.000000     9578.000000  \n",
       "mean         1.577469     0.163708     0.062122        0.160054  \n",
       "std          2.200245     0.546215     0.262126        0.366676  \n",
       "min          0.000000     0.000000     0.000000        0.000000  \n",
       "25%          0.000000     0.000000     0.000000        0.000000  \n",
       "50%          1.000000     0.000000     0.000000        0.000000  \n",
       "75%          2.000000     0.000000     0.000000        0.000000  \n",
       "max         33.000000    13.000000     5.000000        1.000000  "
      ]
     },
     "execution_count": 8,
     "metadata": {},
     "output_type": "execute_result"
    }
   ],
   "source": [
    "df.describe()  #similar with summarize() in R"
   ]
  },
  {
   "cell_type": "code",
   "execution_count": 9,
   "metadata": {
    "id": "Xta-InSpALtO"
   },
   "outputs": [
    {
     "data": {
      "text/plain": [
       "credit_policy        0\n",
       "purpose              0\n",
       "int_rate             0\n",
       "installment          0\n",
       "log_annual_inc       0\n",
       "dti                  0\n",
       "fico                 0\n",
       "days_with_cr_line    0\n",
       "revol_bal            0\n",
       "revol_util           0\n",
       "inq_last_6mths       0\n",
       "delinq_2yrs          0\n",
       "pub_rec              0\n",
       "not_fully_paid       0\n",
       "dtype: int64"
      ]
     },
     "execution_count": 9,
     "metadata": {},
     "output_type": "execute_result"
    }
   ],
   "source": [
    "# Any missing data?\n",
    "df.isnull().sum()"
   ]
  },
  {
   "cell_type": "code",
   "execution_count": 10,
   "metadata": {
    "id": "B5afE1JdALtO"
   },
   "outputs": [
    {
     "data": {
      "text/html": [
       "<div>\n",
       "<style scoped>\n",
       "    .dataframe tbody tr th:only-of-type {\n",
       "        vertical-align: middle;\n",
       "    }\n",
       "\n",
       "    .dataframe tbody tr th {\n",
       "        vertical-align: top;\n",
       "    }\n",
       "\n",
       "    .dataframe thead th {\n",
       "        text-align: right;\n",
       "    }\n",
       "</style>\n",
       "<table border=\"1\" class=\"dataframe\">\n",
       "  <thead>\n",
       "    <tr style=\"text-align: right;\">\n",
       "      <th></th>\n",
       "      <th>credit_policy</th>\n",
       "      <th>int_rate</th>\n",
       "      <th>installment</th>\n",
       "      <th>log_annual_inc</th>\n",
       "      <th>dti</th>\n",
       "      <th>fico</th>\n",
       "      <th>days_with_cr_line</th>\n",
       "      <th>revol_bal</th>\n",
       "      <th>revol_util</th>\n",
       "      <th>inq_last_6mths</th>\n",
       "      <th>delinq_2yrs</th>\n",
       "      <th>pub_rec</th>\n",
       "      <th>not_fully_paid</th>\n",
       "    </tr>\n",
       "  </thead>\n",
       "  <tbody>\n",
       "    <tr>\n",
       "      <th>mean</th>\n",
       "      <td>0.804970</td>\n",
       "      <td>0.122640</td>\n",
       "      <td>319.089413</td>\n",
       "      <td>10.932117</td>\n",
       "      <td>12.606679</td>\n",
       "      <td>710.846314</td>\n",
       "      <td>4560.767197</td>\n",
       "      <td>16913.963876</td>\n",
       "      <td>46.799236</td>\n",
       "      <td>1.577469</td>\n",
       "      <td>0.163708</td>\n",
       "      <td>0.062122</td>\n",
       "      <td>0.160054</td>\n",
       "    </tr>\n",
       "    <tr>\n",
       "      <th>std</th>\n",
       "      <td>0.396245</td>\n",
       "      <td>0.026847</td>\n",
       "      <td>207.071301</td>\n",
       "      <td>0.614813</td>\n",
       "      <td>6.883970</td>\n",
       "      <td>37.970537</td>\n",
       "      <td>2496.930377</td>\n",
       "      <td>33756.189557</td>\n",
       "      <td>29.014417</td>\n",
       "      <td>2.200245</td>\n",
       "      <td>0.546215</td>\n",
       "      <td>0.262126</td>\n",
       "      <td>0.366676</td>\n",
       "    </tr>\n",
       "  </tbody>\n",
       "</table>\n",
       "</div>"
      ],
      "text/plain": [
       "      credit_policy  int_rate  installment  log_annual_inc        dti  \\\n",
       "mean       0.804970  0.122640   319.089413       10.932117  12.606679   \n",
       "std        0.396245  0.026847   207.071301        0.614813   6.883970   \n",
       "\n",
       "            fico  days_with_cr_line     revol_bal  revol_util  inq_last_6mths  \\\n",
       "mean  710.846314        4560.767197  16913.963876   46.799236        1.577469   \n",
       "std    37.970537        2496.930377  33756.189557   29.014417        2.200245   \n",
       "\n",
       "      delinq_2yrs   pub_rec  not_fully_paid  \n",
       "mean     0.163708  0.062122        0.160054  \n",
       "std      0.546215  0.262126        0.366676  "
      ]
     },
     "execution_count": 10,
     "metadata": {},
     "output_type": "execute_result"
    }
   ],
   "source": [
    "# Summary statistics of each numerical column. Analogous to summary() in R.\n",
    "df.describe().loc[['mean','std']]"
   ]
  },
  {
   "cell_type": "code",
   "execution_count": 11,
   "metadata": {},
   "outputs": [
    {
     "data": {
      "text/plain": [
       "<AxesSubplot:>"
      ]
     },
     "execution_count": 11,
     "metadata": {},
     "output_type": "execute_result"
    },
    {
     "data": {
      "image/png": "[encoded data removed]",
      "text/plain": [
       "<Figure size 432x288 with 1 Axes>"
      ]
     },
     "metadata": {
      "needs_background": "light"
     },
     "output_type": "display_data"
    }
   ],
   "source": [
    "# Let's plot a histogram of annual income:\n",
    "np.exp(df.log_annual_inc).hist(bins=100)"
   ]
  },
  {
   "cell_type": "markdown",
   "metadata": {
    "id": "tnvSlWczALtP"
   },
   "source": [
    "Professor Geng thinks, *bravely*, that this dataset looks ready for predictive modeling. Geng thinks that no more EDA or data wrangling is needed. Let's assume Geng is right, and move on."
   ]
  },
  {
   "cell_type": "markdown",
   "metadata": {
    "id": "0w-o7tjXALtP"
   },
   "source": [
    "## Step 3\\. Modeling\n",
    "\n",
    "Most traditional machine learning algorithms (as compared to deep learning) in Python are nicely bundled into the awesome **scikit-learn** package (we'll study this package more later in the semester). \n",
    "+ If anyone asks me why Python over R, scikit-learn is my top reason\n",
    "+ In Python coding this package is named `sklearn`"
   ]
  },
  {
   "cell_type": "markdown",
   "metadata": {
    "id": "ULXr5Nj8ALtP",
    "tags": []
   },
   "source": [
    "### Partition the data\n",
    "\n",
    "This is done using the `train_test_split()` function in the `sklearn` package:"
   ]
  },
  {
   "cell_type": "code",
   "execution_count": 13,
   "metadata": {
    "id": "ohyQ4csDALtP"
   },
   "outputs": [],
   "source": [
    "from sklearn.model_selection import train_test_split"
   ]
  },
  {
   "cell_type": "code",
   "execution_count": 22,
   "metadata": {
    "id": "eIkY7DyCALtP"
   },
   "outputs": [],
   "source": [
    "# reserve 20% dataset as testing\n",
    "X_train, X_test, y_train, y_test = train_test_split(X, y, test_size=0.2, random_state=1)"
   ]
  },
  {
   "cell_type": "markdown",
   "metadata": {
    "id": "HalFebjVALtQ"
   },
   "source": [
    "### Choose the learning algorithm\n",
    "\n",
    "The scikit-learn package offers numerous classification and regression learning algorithms, many of which are state-of-the-art choices. You can find them at (https://scikit-learn.org/stable/supervised_learning.html) -- this will be a topic of later weeks.\n",
    "\n",
    "As the target `not_fully_paid` is discrete: 1 for not fully paid, and 0 for fully paid, the Lending Club problem is a ***classification*** problem.\n",
    "+ Unlike R, there's no \"factor\" data type in Python. \n",
    "+ If the target is integer, it is assumed to be a classification problem. If the target is float, a regression problem.\n",
    "\n",
    "Let's try the ***logistic regression*** that we've learned last semester.\n",
    "+ Analogous to glm(..., family=\"binomial\") or train(..., method=\"glm\", family=\"binomial\") in R.\n",
    "\n",
    "(NOT required for today) scikit-learn is famous for providing high-quality documentations. For example, for logistic regression:\n",
    "+ You can find detailed explanation of the underlying statistical concepts at (https://scikit-learn.org/stable/modules/linear_model.html#logistic-regression) \n",
    "+ You can find detailed coding definitions and examples at (https://scikit-learn.org/stable/modules/generated/sklearn.linear_model.LogisticRegression.html)\n"
   ]
  },
  {
   "cell_type": "code",
   "execution_count": 23,
   "metadata": {
    "id": "gnKu4Z_zALtQ"
   },
   "outputs": [],
   "source": [
    "from sklearn.linear_model import LogisticRegression"
   ]
  },
  {
   "cell_type": "markdown",
   "metadata": {
    "id": "sZmL8XXgALtR"
   },
   "source": [
    "Since logistic regression cannot handle string data, let us drop column 'purpose' (but is this the proper way to handle?):"
   ]
  },
  {
   "cell_type": "code",
   "execution_count": 24,
   "metadata": {
    "id": "ls5hoM7vALtR"
   },
   "outputs": [],
   "source": [
    "X_train = X_train.drop(columns=['purpose'])\n",
    "X_test = X_test.drop(columns=['purpose'])"
   ]
  },
  {
   "cell_type": "markdown",
   "metadata": {
    "id": "CDcrm20dALtR"
   },
   "source": [
    "### Choose model hyperparameters\n",
    "\n",
    "Most learning algorithms, including `LogisticRegression` implemented in `sklearn`, have many parameters that need to be explicitly set before we can run them. They are referred to as **hyperparameters**. Often, how we choose the values of these hyperparameters -- called **hyperparameter tuning** -- will affect the performance of the eventual trained model.\n",
    "\n",
    "Example: The first hyperparameter of `LogisticRegression` is `penalty`. Our choice of its value will affect how complicated the trained algorithm is -- for example, how many features are eventually selected.\n",
    "\n",
    "For today, we'll ignore hyperparameter tuning, and blindly follow Geng's choice below: "
   ]
  },
  {
   "cell_type": "code",
   "execution_count": 25,
   "metadata": {
    "id": "T945eoEeALtR"
   },
   "outputs": [],
   "source": [
    "model = LogisticRegression(random_state=0)"
   ]
  },
  {
   "cell_type": "markdown",
   "metadata": {
    "id": "epX_NhLwALtR"
   },
   "source": [
    "### Fit your model (a.k.a. train your model)\n",
    "\n",
    "Now let's fit/train our model. That is, plugging our Lending Club dataset into the chosen learning algorithm in order to generate a trained model (and pray it's good)."
   ]
  },
  {
   "cell_type": "code",
   "execution_count": 26,
   "metadata": {
    "id": "E2rxtVTnALtR",
    "scrolled": true
   },
   "outputs": [
    {
     "data": {
      "text/plain": [
       "LogisticRegression(random_state=0)"
      ]
     },
     "execution_count": 26,
     "metadata": {},
     "output_type": "execute_result"
    }
   ],
   "source": [
    "model.fit(X_train,y_train)"
   ]
  },
  {
   "cell_type": "code",
   "execution_count": 28,
   "metadata": {
    "id": "Ax4ml1GmALtS"
   },
   "outputs": [
    {
     "data": {
      "text/html": [
       "<div>\n",
       "<style scoped>\n",
       "    .dataframe tbody tr th:only-of-type {\n",
       "        vertical-align: middle;\n",
       "    }\n",
       "\n",
       "    .dataframe tbody tr th {\n",
       "        vertical-align: top;\n",
       "    }\n",
       "\n",
       "    .dataframe thead th {\n",
       "        text-align: right;\n",
       "    }\n",
       "</style>\n",
       "<table border=\"1\" class=\"dataframe\">\n",
       "  <thead>\n",
       "    <tr style=\"text-align: right;\">\n",
       "      <th></th>\n",
       "      <th>credit_policy</th>\n",
       "      <th>int_rate</th>\n",
       "      <th>installment</th>\n",
       "      <th>log_annual_inc</th>\n",
       "      <th>dti</th>\n",
       "      <th>fico</th>\n",
       "      <th>days_with_cr_line</th>\n",
       "      <th>revol_bal</th>\n",
       "      <th>revol_util</th>\n",
       "      <th>inq_last_6mths</th>\n",
       "      <th>delinq_2yrs</th>\n",
       "      <th>pub_rec</th>\n",
       "    </tr>\n",
       "  </thead>\n",
       "  <tbody>\n",
       "    <tr>\n",
       "      <th>coefficient</th>\n",
       "      <td>-0.000172</td>\n",
       "      <td>0.000012</td>\n",
       "      <td>0.000728</td>\n",
       "      <td>0.000062</td>\n",
       "      <td>0.000559</td>\n",
       "      <td>-0.002984</td>\n",
       "      <td>-0.000031</td>\n",
       "      <td>0.000002</td>\n",
       "      <td>0.005599</td>\n",
       "      <td>0.001004</td>\n",
       "      <td>0.00002</td>\n",
       "      <td>0.000036</td>\n",
       "    </tr>\n",
       "  </tbody>\n",
       "</table>\n",
       "</div>"
      ],
      "text/plain": [
       "             credit_policy  int_rate  installment  log_annual_inc       dti  \\\n",
       "coefficient      -0.000172  0.000012     0.000728        0.000062  0.000559   \n",
       "\n",
       "                 fico  days_with_cr_line  revol_bal  revol_util  \\\n",
       "coefficient -0.002984          -0.000031   0.000002    0.005599   \n",
       "\n",
       "             inq_last_6mths  delinq_2yrs   pub_rec  \n",
       "coefficient        0.001004      0.00002  0.000036  "
      ]
     },
     "execution_count": 28,
     "metadata": {},
     "output_type": "execute_result"
    }
   ],
   "source": [
    "# Run this code cell to see the coefficients of the trained model:\n",
    "logit_reg_coef = pd.DataFrame(model.coef_[0],index=X_train.columns,columns=['coefficient'])\n",
    "logit_reg_coef.transpose()"
   ]
  },
  {
   "cell_type": "markdown",
   "metadata": {
    "id": "5_DmAoDm_Eoa"
   },
   "source": [
    "Comment: In glm() in R, specifying the learning algorithm, specifying the hyperparameters, and training are all done in a single line of code. In scikit-learn, however, these are three separate steps."
   ]
  },
  {
   "cell_type": "markdown",
   "metadata": {
    "id": "kQZITIELALtS"
   },
   "source": [
    "One weakness of the scikit-learn package, as compared to R packages, is that it is more into prediction and less into the completeness of stats reporting. For example, `LogisticRegression` does not report the p-value. If you need it, try another package `statsmodels` as follows:\n",
    "```\n",
    "import statsmodels.api as sm\n",
    "logit_model=sm.Logit(y_train,X_train)\n",
    "result=logit_model.fit()\n",
    "print(result.summary())\n",
    "```"
   ]
  },
  {
   "cell_type": "code",
   "execution_count": 37,
   "metadata": {},
   "outputs": [
    {
     "name": "stdout",
     "output_type": "stream",
     "text": [
      "Optimization terminated successfully.\n",
      "         Current function value: 0.413661\n",
      "         Iterations 6\n",
      "                           Logit Regression Results                           \n",
      "==============================================================================\n",
      "Dep. Variable:         not_fully_paid   No. Observations:                 7662\n",
      "Model:                          Logit   Df Residuals:                     7650\n",
      "Method:                           MLE   Df Model:                           11\n",
      "Date:                Wed, 02 Feb 2022   Pseudo R-squ.:                 0.05169\n",
      "Time:                        16:16:58   Log-Likelihood:                -3169.5\n",
      "converged:                       True   LL-Null:                       -3342.2\n",
      "Covariance Type:            nonrobust   LLR p-value:                 2.149e-67\n",
      "=====================================================================================\n",
      "                        coef    std err          z      P>|z|      [0.025      0.975]\n",
      "-------------------------------------------------------------------------------------\n",
      "credit_policy        -0.4240      0.093     -4.573      0.000      -0.606      -0.242\n",
      "int_rate             10.1288      1.464      6.918      0.000       7.259      12.998\n",
      "installment           0.0007      0.000      3.869      0.000       0.000       0.001\n",
      "log_annual_inc       -0.2171      0.057     -3.797      0.000      -0.329      -0.105\n",
      "dti                  -0.0064      0.005     -1.278      0.201      -0.016       0.003\n",
      "fico                 -0.0010      0.001     -1.323      0.186      -0.003       0.000\n",
      "days_with_cr_line -2.189e-06   1.44e-05     -0.152      0.879   -3.05e-05    2.61e-05\n",
      "revol_bal          2.235e-06   9.58e-07      2.333      0.020    3.57e-07    4.11e-06\n",
      "revol_util            0.0027      0.001      1.999      0.046    5.34e-05       0.005\n",
      "inq_last_6mths        0.0804      0.015      5.196      0.000       0.050       0.111\n",
      "delinq_2yrs          -0.0256      0.058     -0.438      0.662      -0.140       0.089\n",
      "pub_rec               0.1810      0.108      1.672      0.095      -0.031       0.393\n",
      "=====================================================================================\n"
     ]
    }
   ],
   "source": [
    "import statsmodels.api as sm\n",
    "logit_model=sm.Logit(y_train,X_train)\n",
    "result=logit_model.fit()\n",
    "print(result.summary())"
   ]
  },
  {
   "cell_type": "markdown",
   "metadata": {
    "id": "GWJEnjl0ALtS"
   },
   "source": [
    "## Step 4\\. Evaluation\n",
    "\n",
    "Now it's time to see how well our trained algorithm performs. First, we apply the trained model to the testing data `X_test` to get predictions. This is done using the `predict()` method."
   ]
  },
  {
   "cell_type": "code",
   "execution_count": 29,
   "metadata": {
    "id": "Ik_2A4O_ALtS"
   },
   "outputs": [],
   "source": [
    "y_predict = model.predict(X_test)"
   ]
  },
  {
   "cell_type": "code",
   "execution_count": 38,
   "metadata": {},
   "outputs": [
    {
     "data": {
      "text/plain": [
       "array([0, 0, 0, ..., 0, 0, 0], dtype=int64)"
      ]
     },
     "execution_count": 38,
     "metadata": {},
     "output_type": "execute_result"
    }
   ],
   "source": [
    "y_predict"
   ]
  },
  {
   "cell_type": "markdown",
   "metadata": {
    "id": "B0QbRowIALtT"
   },
   "source": [
    "Second, we compare the predicted values in `y_predict` with the true values we already have in `y_test` using the `accuracy_score()` function:"
   ]
  },
  {
   "cell_type": "code",
   "execution_count": 31,
   "metadata": {
    "id": "RH6rUuRzALtT",
    "scrolled": true
   },
   "outputs": [
    {
     "data": {
      "text/plain": [
       "0.8314"
      ]
     },
     "execution_count": 31,
     "metadata": {},
     "output_type": "execute_result"
    }
   ],
   "source": [
    "from sklearn.metrics import accuracy_score\n",
    "accuracy_score(y_test, y_predict).round(4)"
   ]
  },
  {
   "cell_type": "markdown",
   "metadata": {
    "id": "GHF9hyhbALtT"
   },
   "source": [
    "Does the accuracy of our trained model, as shown above, appear okay to you?\n",
    "\n",
    "Hint: try `1-y_test.mean()`, and think."
   ]
  },
  {
   "cell_type": "code",
   "execution_count": 32,
   "metadata": {
    "id": "fJWBqXLSALtT"
   },
   "outputs": [
    {
     "data": {
      "text/plain": [
       "0.831419624217119"
      ]
     },
     "execution_count": 32,
     "metadata": {},
     "output_type": "execute_result"
    }
   ],
   "source": [
    "1-y_test.mean()"
   ]
  },
  {
   "cell_type": "markdown",
   "metadata": {},
   "source": [
    "Now let's take a look at the confusion matrix:"
   ]
  },
  {
   "cell_type": "code",
   "execution_count": 33,
   "metadata": {
    "id": "ov7eSgMCALtT"
   },
   "outputs": [
    {
     "name": "stdout",
     "output_type": "stream",
     "text": [
      "The confusion matrix is:\n",
      "[[1593    0]\n",
      " [ 323    0]]\n"
     ]
    }
   ],
   "source": [
    "from sklearn.metrics import confusion_matrix\n",
    "print(\"The confusion matrix is:\")\n",
    "cm = confusion_matrix(y_test, y_predict)\n",
    "print(cm)"
   ]
  },
  {
   "cell_type": "markdown",
   "metadata": {
    "id": "ylark9-6ALtT"
   },
   "source": [
    "***Chances are, we will not stumble upon an ideal trained model in our first try! Or the first many tries!*** Machine learning is almost always a repetitive process of observing the results, asking why, and forming our ideas on what next we should try, accordingly going back to data wrangling and EDA and model adjustment, and see if our ideas help or not. And repeat again if needed. This will occupy a big chunk of our time in the next few weeks."
   ]
  },
  {
   "cell_type": "markdown",
   "metadata": {
    "id": "fwkz2kfmNBPT"
   },
   "source": [
    "**So, what should we do next regarding this Lending Club analytics problem?**"
   ]
  },
  {
   "cell_type": "markdown",
   "metadata": {
    "id": "UJ45ZMWEALtU"
   },
   "source": [
    "## Step 5\\. Deployment\n",
    "\n",
    "Once we have a champion model that we are happy with, we move it to deployment: using this trained model to automatically predict new data coming in, a.k.a. **scoring new data**, and to dispatch these predictions to decision makers. \n",
    "\n",
    "This typically involves converting markdown files to code files (i.e., from .ipynb file to .py file), setting up proper input/output pipelines, and task automation (e.g., running it at 8am everyday automatically). (Not required) You can start from this nice [guide](https://medium.com/@thabo_65610/three-ways-to-automate-python-via-jupyter-notebook-d14aaa78de9).\n",
    "\n",
    "Below we'll just do a simple prediction. As we don't have any new data. Let's use the first 5 records in the test dataset and pretend they are new loan applicants."
   ]
  },
  {
   "cell_type": "code",
   "execution_count": 34,
   "metadata": {},
   "outputs": [
    {
     "data": {
      "text/html": [
       "<div>\n",
       "<style scoped>\n",
       "    .dataframe tbody tr th:only-of-type {\n",
       "        vertical-align: middle;\n",
       "    }\n",
       "\n",
       "    .dataframe tbody tr th {\n",
       "        vertical-align: top;\n",
       "    }\n",
       "\n",
       "    .dataframe thead th {\n",
       "        text-align: right;\n",
       "    }\n",
       "</style>\n",
       "<table border=\"1\" class=\"dataframe\">\n",
       "  <thead>\n",
       "    <tr style=\"text-align: right;\">\n",
       "      <th></th>\n",
       "      <th>credit_policy</th>\n",
       "      <th>int_rate</th>\n",
       "      <th>installment</th>\n",
       "      <th>log_annual_inc</th>\n",
       "      <th>dti</th>\n",
       "      <th>fico</th>\n",
       "      <th>days_with_cr_line</th>\n",
       "      <th>revol_bal</th>\n",
       "      <th>revol_util</th>\n",
       "      <th>inq_last_6mths</th>\n",
       "      <th>delinq_2yrs</th>\n",
       "      <th>pub_rec</th>\n",
       "    </tr>\n",
       "  </thead>\n",
       "  <tbody>\n",
       "    <tr>\n",
       "      <th>8261</th>\n",
       "      <td>0</td>\n",
       "      <td>0.1513</td>\n",
       "      <td>451.48</td>\n",
       "      <td>11.264464</td>\n",
       "      <td>29.28</td>\n",
       "      <td>717</td>\n",
       "      <td>3330.000000</td>\n",
       "      <td>61057</td>\n",
       "      <td>80.7</td>\n",
       "      <td>3</td>\n",
       "      <td>0</td>\n",
       "      <td>0</td>\n",
       "    </tr>\n",
       "    <tr>\n",
       "      <th>3431</th>\n",
       "      <td>1</td>\n",
       "      <td>0.1537</td>\n",
       "      <td>871.16</td>\n",
       "      <td>11.925142</td>\n",
       "      <td>23.85</td>\n",
       "      <td>677</td>\n",
       "      <td>6419.958333</td>\n",
       "      <td>40741</td>\n",
       "      <td>50.3</td>\n",
       "      <td>3</td>\n",
       "      <td>0</td>\n",
       "      <td>0</td>\n",
       "    </tr>\n",
       "    <tr>\n",
       "      <th>5482</th>\n",
       "      <td>1</td>\n",
       "      <td>0.1357</td>\n",
       "      <td>509.53</td>\n",
       "      <td>11.302204</td>\n",
       "      <td>0.81</td>\n",
       "      <td>752</td>\n",
       "      <td>4770.000000</td>\n",
       "      <td>981</td>\n",
       "      <td>1.1</td>\n",
       "      <td>7</td>\n",
       "      <td>1</td>\n",
       "      <td>0</td>\n",
       "    </tr>\n",
       "    <tr>\n",
       "      <th>3272</th>\n",
       "      <td>1</td>\n",
       "      <td>0.1284</td>\n",
       "      <td>188.27</td>\n",
       "      <td>10.308953</td>\n",
       "      <td>2.08</td>\n",
       "      <td>687</td>\n",
       "      <td>4139.958333</td>\n",
       "      <td>3859</td>\n",
       "      <td>38.6</td>\n",
       "      <td>3</td>\n",
       "      <td>0</td>\n",
       "      <td>0</td>\n",
       "    </tr>\n",
       "    <tr>\n",
       "      <th>4687</th>\n",
       "      <td>1</td>\n",
       "      <td>0.1496</td>\n",
       "      <td>519.68</td>\n",
       "      <td>11.407565</td>\n",
       "      <td>24.99</td>\n",
       "      <td>687</td>\n",
       "      <td>3509.958333</td>\n",
       "      <td>53896</td>\n",
       "      <td>96.8</td>\n",
       "      <td>0</td>\n",
       "      <td>0</td>\n",
       "      <td>0</td>\n",
       "    </tr>\n",
       "  </tbody>\n",
       "</table>\n",
       "</div>"
      ],
      "text/plain": [
       "      credit_policy  int_rate  installment  log_annual_inc    dti  fico  \\\n",
       "8261              0    0.1513       451.48       11.264464  29.28   717   \n",
       "3431              1    0.1537       871.16       11.925142  23.85   677   \n",
       "5482              1    0.1357       509.53       11.302204   0.81   752   \n",
       "3272              1    0.1284       188.27       10.308953   2.08   687   \n",
       "4687              1    0.1496       519.68       11.407565  24.99   687   \n",
       "\n",
       "      days_with_cr_line  revol_bal  revol_util  inq_last_6mths  delinq_2yrs  \\\n",
       "8261        3330.000000      61057        80.7               3            0   \n",
       "3431        6419.958333      40741        50.3               3            0   \n",
       "5482        4770.000000        981         1.1               7            1   \n",
       "3272        4139.958333       3859        38.6               3            0   \n",
       "4687        3509.958333      53896        96.8               0            0   \n",
       "\n",
       "      pub_rec  \n",
       "8261        0  \n",
       "3431        0  \n",
       "5482        0  \n",
       "3272        0  \n",
       "4687        0  "
      ]
     },
     "execution_count": 34,
     "metadata": {},
     "output_type": "execute_result"
    }
   ],
   "source": [
    "new_loan_applicants = X_test.iloc[0:5]\n",
    "# Let's take a look at these \"new\" loan applicants:\n",
    "new_loan_applicants"
   ]
  },
  {
   "cell_type": "code",
   "execution_count": 35,
   "metadata": {},
   "outputs": [
    {
     "data": {
      "text/plain": [
       "array([0, 0, 0, 0, 0], dtype=int64)"
      ]
     },
     "execution_count": 35,
     "metadata": {},
     "output_type": "execute_result"
    }
   ],
   "source": [
    "# For each of these 5 new applicants, what is our prediction?\n",
    "model.predict(new_loan_applicants)"
   ]
  },
  {
   "cell_type": "code",
   "execution_count": 36,
   "metadata": {},
   "outputs": [
    {
     "data": {
      "text/plain": [
       "array([[0.78630279, 0.21369721],\n",
       "       [0.7670418 , 0.2329582 ],\n",
       "       [0.88108278, 0.11891722],\n",
       "       [0.85940257, 0.14059743],\n",
       "       [0.75039664, 0.24960336]])"
      ]
     },
     "execution_count": 36,
     "metadata": {},
     "output_type": "execute_result"
    }
   ],
   "source": [
    "# For each of these 5 new applicants, how confident are we regarding these predictions?\n",
    "model.predict_proba(new_loan_applicants)"
   ]
  },
  {
   "cell_type": "markdown",
   "metadata": {},
   "source": [
    "## In-Class Exercise: Adapt the code for the Titanic dataset\n",
    "\n",
    "Now that you know the basic flow of supervised learning in Python, please try to modify the code so that it works on the Titanic dataset.\n",
    "+ Make a copy first. Name the copy \"titanic.ipynb\", and work on this copy.\n",
    "+ After each step, let's pause and discuss."
   ]
  },
  {
   "cell_type": "markdown",
   "metadata": {},
   "source": [
    "## Question: What are we missing, before we can claim to be pros in Python-based analytics?"
   ]
  },
  {
   "cell_type": "markdown",
   "metadata": {},
   "source": [
    "### The ability to manipulate data freely using NumPy and pandas\n",
    "\n",
    "Recall that we wanted to: convert \"purpose\" to dummies, take a log of all dollar values, (in the Titanic dataset) convert Sex from male/female to 1/0, fill in missing values for Age, ...  \n",
    "\n",
    "**NumPy**: fast **array**-based computing\n",
    "+ You've already learned the basics of NumPy in our datacamp.com assignment 1 \"Introduction to Python\". \n",
    "+ See file \"NumPy.ipynb\" in Canvas -- a quick review/reference of key capabilities in NumPy relevant to data science.\n",
    "\n",
    "**pandas**: two data structures (**Series** and **DataFrame**), and a powerful set of tools for manipulating data (selecting, modifying, creating, grouping, merging, summarizing ...)\n",
    "+ <font color=red>***datacamp.com assignment 2 \"Data Manipulation with pandas\" due by 6:30pm on 9/28/2021***</font>\n",
    "  + You'll learn the basics of pandas in this assignment. It'll take you about 4 hours.\n",
    "  + ***Important***: make sure to use the link I provided in Lecture 1, i.e. (https://www.datacamp.com/groups/shared_links/433df063012aaaf37a15e5f97103d8f330dd684394630caa9c9c9051557c502c), to get to this assignment. Otherwise, you may not have free assess to it, or I won't see your completion within datacamp."
   ]
  },
  {
   "cell_type": "markdown",
   "metadata": {},
   "source": [
    "### Be able to implement most traditional supervised learning algorithms using scikit-learn\n",
    "\n",
    "Logistic regression? Check (sort of). What about decision tree? Random forest? SVM? Nearest Neighbors? ...\n",
    "\n",
    "**scikit-learn** (https://scikit-learn.org/) is THE best-known Python library for traditional (a.k.a. non-deep) machine learning. Advantages of scikit-learn include:\n",
    "\n",
    "- A [large selection](https://scikit-learn.org/stable/supervised_learning.html#supervised-learning) of machine learning algorithms\n",
    "  - and efficient implementation (a.k.a. fast) via NumPy and SciPy\n",
    "- A selection of metrics for measuring model performance\n",
    "- Excellent online documentation with awesome examples\n",
    "- A clean, uniform, and streamlined API. Once you learn how to code with one algorithm, switching to other algorithms is usually straightforward\n",
    "\n",
    "We will use two week (or more) to play with scikit-learn, including both the learning algorithms and the metrics, and to think how to drive better results."
   ]
  },
  {
   "cell_type": "markdown",
   "metadata": {},
   "source": [
    "### Not just to get results. To get MEANINGFUL and BETTER results.\n",
    "\n",
    "Are we happy with the logistic regression model we just built for the Lending Club dataset?\n",
    "\n",
    "Thoughts on the **metrics**: the metrics need to be meaningful for the business problems we try to help with. \n",
    "+ In a loan business, what are the reasonable metrics?\n",
    "\n",
    "Thoughts on the **learning algorithms** and related **data wrangling**: which learning algorithm to eventually choose? What hyperparameter values to set? What coresponding data wrangling should we try? \n",
    "+ Nowadays, these are largely empirical questions that we let computers try various alternatives, and then select the champion model.\n",
    "\n",
    "Thoughts on the **state-of-the-art techniques**\n",
    "+ Right now and for traditional learning, **boosting algorithms** are the king in terms of performance\n",
    "    + but ...\n",
    "+ **Deep learning**"
   ]
  }
 ],
 "metadata": {
  "colab": {
   "authorship_tag": "ABX9TyPsLzAFjTtvdxK0bejJI4Db",
   "collapsed_sections": [],
   "mount_file_id": "1W35wFc9wPi-ica25OymjN_GHnzex_fPw",
   "name": "ML_2_BasicWorkFlow.ipynb",
   "provenance": []
  },
  "kernelspec": {
   "display_name": "Python 3 (ipykernel)",
   "language": "python",
   "name": "python3"
  },
  "language_info": {
   "codemirror_mode": {
    "name": "ipython",
    "version": 3
   },
   "file_extension": ".py",
   "mimetype": "text/x-python",
   "name": "python",
   "nbconvert_exporter": "python",
   "pygments_lexer": "ipython3",
   "version": "3.9.7"
  }
 },
 "nbformat": 4,
 "nbformat_minor": 4
}
