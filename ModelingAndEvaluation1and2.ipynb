{
 "cells": [
  {
   "cell_type": "markdown",
   "metadata": {
    "id": "vqX-wah5phgH",
    "jp-MarkdownHeadingCollapsed": true,
    "tags": []
   },
   "source": [
    "# Modeling and Evaluation with scikit-learn\n",
    "\n",
    "This lecture is a fast-pace study of the supervised learning algorithms and associated performance evaluation metrics available in the `scikit-learn` package, the go-to package for traditional machine learning in Python. \n",
    "+ ***I assume that you are already experienced with supervised learning with other tools***, e.g., R. Otherwise, this lecture will be difficult as I won't cover the underlying theory of supervised learning.\n",
    "\n",
    "On top of studying Python/scikit-learn-based predictive analytics, we put an emphasize on the following advanced topics:\n",
    "+ understanding when and how to choose between all the available algorithms,  \n",
    "+ understanding when and how to choose between all the available performance metrics,\n",
    "+ and some in-depth discussion on the relationship between data wrangling and model performance.\n",
    "\n",
    "This lecture is divided into four parts:\n",
    "+ (Part 1) How to conduct supervised learning using the `scikit-learn` package. \n",
    "+ (Part 2) A walk-through of several popular supervised learning algorithms.\n",
    "+ (Part 3) Various performance metrics: why many, and when to use each\n",
    "+ (Part 4) Several focused discussions on data wrangling and model performance\n",
    "    + Imputation\n",
    "    + Unbalanced data\n",
    "    + Data standardization/normalization   "
   ]
  },
  {
   "cell_type": "markdown",
   "metadata": {
    "id": "B-Zz_NbBpmdG"
   },
   "source": [
    "# Part 1: Supervised learning using scikit-learn -- the basic flow"
   ]
  },
  {
   "cell_type": "markdown",
   "metadata": {},
   "source": [
    "Let's go through the basic flow of modeling and evaluation in scikit-learn (which we briefly tried earlier in Lecture 2). Let's use the pre-processed Titanic dataset \"titanic_train_preprocessed.csv\", and the familiar logistic regression model.  "
   ]
  },
  {
   "cell_type": "code",
   "execution_count": 1,
   "metadata": {
    "id": "b8AiVuH_phgT"
   },
   "outputs": [],
   "source": [
    "# Load necessary packages\n",
    "import numpy as np\n",
    "import pandas as pd\n",
    "pd.set_option('max_columns', 50)\n",
    "\n",
    "from sklearn.model_selection import train_test_split\n",
    "from sklearn.metrics import accuracy_score\n",
    "from sklearn.metrics import confusion_matrix"
   ]
  },
  {
   "cell_type": "code",
   "execution_count": 2,
   "metadata": {
    "id": "jsAPeTuHphgT"
   },
   "outputs": [
    {
     "data": {
      "text/html": [
       "<div>\n",
       "<style scoped>\n",
       "    .dataframe tbody tr th:only-of-type {\n",
       "        vertical-align: middle;\n",
       "    }\n",
       "\n",
       "    .dataframe tbody tr th {\n",
       "        vertical-align: top;\n",
       "    }\n",
       "\n",
       "    .dataframe thead th {\n",
       "        text-align: right;\n",
       "    }\n",
       "</style>\n",
       "<table border=\"1\" class=\"dataframe\">\n",
       "  <thead>\n",
       "    <tr style=\"text-align: right;\">\n",
       "      <th></th>\n",
       "      <th>Survived</th>\n",
       "      <th>Pclass</th>\n",
       "      <th>Sex</th>\n",
       "      <th>Age</th>\n",
       "      <th>SibSp</th>\n",
       "      <th>Parch</th>\n",
       "      <th>Fare</th>\n",
       "      <th>Embarked_C</th>\n",
       "      <th>Embarked_Q</th>\n",
       "    </tr>\n",
       "  </thead>\n",
       "  <tbody>\n",
       "    <tr>\n",
       "      <th>0</th>\n",
       "      <td>0</td>\n",
       "      <td>3</td>\n",
       "      <td>1</td>\n",
       "      <td>22.0</td>\n",
       "      <td>1</td>\n",
       "      <td>0</td>\n",
       "      <td>7.2500</td>\n",
       "      <td>0</td>\n",
       "      <td>0</td>\n",
       "    </tr>\n",
       "    <tr>\n",
       "      <th>1</th>\n",
       "      <td>1</td>\n",
       "      <td>1</td>\n",
       "      <td>0</td>\n",
       "      <td>38.0</td>\n",
       "      <td>1</td>\n",
       "      <td>0</td>\n",
       "      <td>71.2833</td>\n",
       "      <td>1</td>\n",
       "      <td>0</td>\n",
       "    </tr>\n",
       "    <tr>\n",
       "      <th>2</th>\n",
       "      <td>1</td>\n",
       "      <td>3</td>\n",
       "      <td>0</td>\n",
       "      <td>26.0</td>\n",
       "      <td>0</td>\n",
       "      <td>0</td>\n",
       "      <td>7.9250</td>\n",
       "      <td>0</td>\n",
       "      <td>0</td>\n",
       "    </tr>\n",
       "    <tr>\n",
       "      <th>3</th>\n",
       "      <td>1</td>\n",
       "      <td>1</td>\n",
       "      <td>0</td>\n",
       "      <td>35.0</td>\n",
       "      <td>1</td>\n",
       "      <td>0</td>\n",
       "      <td>53.1000</td>\n",
       "      <td>0</td>\n",
       "      <td>0</td>\n",
       "    </tr>\n",
       "    <tr>\n",
       "      <th>4</th>\n",
       "      <td>0</td>\n",
       "      <td>3</td>\n",
       "      <td>1</td>\n",
       "      <td>35.0</td>\n",
       "      <td>0</td>\n",
       "      <td>0</td>\n",
       "      <td>8.0500</td>\n",
       "      <td>0</td>\n",
       "      <td>0</td>\n",
       "    </tr>\n",
       "  </tbody>\n",
       "</table>\n",
       "</div>"
      ],
      "text/plain": [
       "   Survived  Pclass  Sex   Age  SibSp  Parch     Fare  Embarked_C  Embarked_Q\n",
       "0         0       3    1  22.0      1      0   7.2500           0           0\n",
       "1         1       1    0  38.0      1      0  71.2833           1           0\n",
       "2         1       3    0  26.0      0      0   7.9250           0           0\n",
       "3         1       1    0  35.0      1      0  53.1000           0           0\n",
       "4         0       3    1  35.0      0      0   8.0500           0           0"
      ]
     },
     "execution_count": 2,
     "metadata": {},
     "output_type": "execute_result"
    }
   ],
   "source": [
    "# Load the pre-processed Titanic dataset. Note that we've already addressed \n",
    "# some (but not all) data problems in this dataset via data wrangling. We will\n",
    "# do more data wrangling later to see how it affects model performance.\n",
    "df = pd.read_csv('titanic_train_preprocessed.csv')\n",
    "df.head()"
   ]
  },
  {
   "cell_type": "code",
   "execution_count": 3,
   "metadata": {
    "id": "h8QUWYF-AcXl"
   },
   "outputs": [
    {
     "name": "stdout",
     "output_type": "stream",
     "text": [
      "(712, 8)\n",
      "(179, 8)\n"
     ]
    }
   ],
   "source": [
    "# Separate the data into the feature matrix and the target array\n",
    "X = df.drop(columns=['Survived'])\n",
    "y = df['Survived']\n",
    "\n",
    "# Next, split train and test\n",
    "X_train, X_test, y_train, y_test = train_test_split(X, y, \n",
    "                               test_size=0.2, # reserve 20% data for testing\n",
    "                               random_state=365) #random_state: 1-100 one of it may give best result---data leakage\n",
    "\n",
    "# (Not required in our class) The following is to avoid the well-known SettingWithCopyWarning\n",
    "# associated with the problematic implementation of train_test_split()\n",
    "X_train = X_train.copy()\n",
    "X_test = X_test.copy()\n",
    "\n",
    "print(X_train.shape)\n",
    "print(X_test.shape)"
   ]
  },
  {
   "cell_type": "code",
   "execution_count": 4,
   "metadata": {},
   "outputs": [
    {
     "data": {
      "text/plain": [
       "0"
      ]
     },
     "execution_count": 4,
     "metadata": {},
     "output_type": "execute_result"
    }
   ],
   "source": [
    "# This dataset has missing values in column Age, which we need to impute first\n",
    "X_train_Age_mean = X_train['Age'].mean() #age have 177 missing values--find out average value to temporary variable\n",
    "X_train['Age'] = X_train['Age'].fillna(X_train_Age_mean)\n",
    "\n",
    "# Verify that there's no more missing values:\n",
    "X_train.Age.isna().sum()"
   ]
  },
  {
   "cell_type": "code",
   "execution_count": 5,
   "metadata": {},
   "outputs": [],
   "source": [
    "# Important: make sure to do exactly the same data wrangling over the test dataset!\n",
    "X_test['Age'] = X_test['Age'].fillna(X_train_Age_mean)\n",
    "#training/test mean both are fine, but do not take average value for the whole dataset--test data have to be separated from training data\n",
    "#data leakage: randomly cut data, the way of cutting data give better results--pure luck"
   ]
  },
  {
   "cell_type": "code",
   "execution_count": 6,
   "metadata": {},
   "outputs": [],
   "source": [
    "# Let's again try logistic regression as the learning algorithm\n",
    "# First, load the package\n",
    "from sklearn.linear_model import LogisticRegression"
   ]
  },
  {
   "cell_type": "code",
   "execution_count": 7,
   "metadata": {},
   "outputs": [],
   "source": [
    "# Next, set the hyperparameters of this classifier\n",
    "clf_lr = LogisticRegression(\n",
    "    penalty='none', # Otherwise regularization will happen (to study later)\n",
    "    max_iter=1000) # The model didn't converge with default 100 iterations"
   ]
  },
  {
   "cell_type": "code",
   "execution_count": 8,
   "metadata": {},
   "outputs": [
    {
     "data": {
      "text/plain": [
       "LogisticRegression(max_iter=1000, penalty='none')"
      ]
     },
     "execution_count": 8,
     "metadata": {},
     "output_type": "execute_result"
    }
   ],
   "source": [
    "# Next, fit (a.k.a. train) this model over the train dataset\n",
    "clf_lr.fit(X_train,y_train)"
   ]
  },
  {
   "cell_type": "code",
   "execution_count": 9,
   "metadata": {},
   "outputs": [
    {
     "data": {
      "text/html": [
       "<div>\n",
       "<style scoped>\n",
       "    .dataframe tbody tr th:only-of-type {\n",
       "        vertical-align: middle;\n",
       "    }\n",
       "\n",
       "    .dataframe tbody tr th {\n",
       "        vertical-align: top;\n",
       "    }\n",
       "\n",
       "    .dataframe thead th {\n",
       "        text-align: right;\n",
       "    }\n",
       "</style>\n",
       "<table border=\"1\" class=\"dataframe\">\n",
       "  <thead>\n",
       "    <tr style=\"text-align: right;\">\n",
       "      <th></th>\n",
       "      <th>Pclass</th>\n",
       "      <th>Sex</th>\n",
       "      <th>Age</th>\n",
       "      <th>SibSp</th>\n",
       "      <th>Parch</th>\n",
       "      <th>Fare</th>\n",
       "      <th>Embarked_C</th>\n",
       "      <th>Embarked_Q</th>\n",
       "    </tr>\n",
       "  </thead>\n",
       "  <tbody>\n",
       "    <tr>\n",
       "      <th>coefficient</th>\n",
       "      <td>-0.994477</td>\n",
       "      <td>-2.602856</td>\n",
       "      <td>-0.031945</td>\n",
       "      <td>-0.345805</td>\n",
       "      <td>-0.05967</td>\n",
       "      <td>0.003384</td>\n",
       "      <td>0.247209</td>\n",
       "      <td>0.343902</td>\n",
       "    </tr>\n",
       "  </tbody>\n",
       "</table>\n",
       "</div>"
      ],
      "text/plain": [
       "               Pclass       Sex       Age     SibSp    Parch      Fare  \\\n",
       "coefficient -0.994477 -2.602856 -0.031945 -0.345805 -0.05967  0.003384   \n",
       "\n",
       "             Embarked_C  Embarked_Q  \n",
       "coefficient    0.247209    0.343902  "
      ]
     },
     "execution_count": 9,
     "metadata": {},
     "output_type": "execute_result"
    }
   ],
   "source": [
    "# Run this code cell to observe the coefficients of the trained model:\n",
    "coef_lr = pd.DataFrame(clf_lr.coef_[0],index=X_train.columns,columns=['coefficient'])\n",
    "coef_lr.transpose()"
   ]
  },
  {
   "cell_type": "code",
   "execution_count": 10,
   "metadata": {},
   "outputs": [
    {
     "data": {
      "text/html": [
       "<div>\n",
       "<style scoped>\n",
       "    .dataframe tbody tr th:only-of-type {\n",
       "        vertical-align: middle;\n",
       "    }\n",
       "\n",
       "    .dataframe tbody tr th {\n",
       "        vertical-align: top;\n",
       "    }\n",
       "\n",
       "    .dataframe thead th {\n",
       "        text-align: right;\n",
       "    }\n",
       "</style>\n",
       "<table border=\"1\" class=\"dataframe\">\n",
       "  <thead>\n",
       "    <tr style=\"text-align: right;\">\n",
       "      <th></th>\n",
       "      <th>coefficient</th>\n",
       "    </tr>\n",
       "  </thead>\n",
       "  <tbody>\n",
       "    <tr>\n",
       "      <th>Pclass</th>\n",
       "      <td>0.369917</td>\n",
       "    </tr>\n",
       "    <tr>\n",
       "      <th>Sex</th>\n",
       "      <td>0.074062</td>\n",
       "    </tr>\n",
       "    <tr>\n",
       "      <th>Age</th>\n",
       "      <td>0.968560</td>\n",
       "    </tr>\n",
       "    <tr>\n",
       "      <th>SibSp</th>\n",
       "      <td>0.707650</td>\n",
       "    </tr>\n",
       "    <tr>\n",
       "      <th>Parch</th>\n",
       "      <td>0.942075</td>\n",
       "    </tr>\n",
       "    <tr>\n",
       "      <th>Fare</th>\n",
       "      <td>1.003389</td>\n",
       "    </tr>\n",
       "    <tr>\n",
       "      <th>Embarked_C</th>\n",
       "      <td>1.280446</td>\n",
       "    </tr>\n",
       "    <tr>\n",
       "      <th>Embarked_Q</th>\n",
       "      <td>1.410440</td>\n",
       "    </tr>\n",
       "  </tbody>\n",
       "</table>\n",
       "</div>"
      ],
      "text/plain": [
       "            coefficient\n",
       "Pclass         0.369917\n",
       "Sex            0.074062\n",
       "Age            0.968560\n",
       "SibSp          0.707650\n",
       "Parch          0.942075\n",
       "Fare           1.003389\n",
       "Embarked_C     1.280446\n",
       "Embarked_Q     1.410440"
      ]
     },
     "execution_count": 10,
     "metadata": {},
     "output_type": "execute_result"
    }
   ],
   "source": [
    "np.exp(coef_lr)"
   ]
  },
  {
   "cell_type": "markdown",
   "metadata": {
    "id": "kQZITIELALtS"
   },
   "source": [
    "One weakness of the scikit-learn package, as compared to R packages, is that it is more into prediction and less into the completeness of statistics reporting. For example, `LogisticRegression` does not report the p-value. If you need it, try another package `statsmodels` as follows:"
   ]
  },
  {
   "cell_type": "code",
   "execution_count": 11,
   "metadata": {},
   "outputs": [
    {
     "name": "stdout",
     "output_type": "stream",
     "text": [
      "Optimization terminated successfully.\n",
      "         Current function value: 0.452236\n",
      "         Iterations 6\n",
      "                           Logit Regression Results                           \n",
      "==============================================================================\n",
      "Dep. Variable:               Survived   No. Observations:                  712\n",
      "Model:                          Logit   Df Residuals:                      703\n",
      "Method:                           MLE   Df Model:                            8\n",
      "Date:                Wed, 02 Mar 2022   Pseudo R-squ.:                  0.3193\n",
      "Time:                        14:50:20   Log-Likelihood:                -321.99\n",
      "converged:                       True   LL-Null:                       -473.03\n",
      "Covariance Type:            nonrobust   LLR p-value:                 1.491e-60\n",
      "==============================================================================\n",
      "                 coef    std err          z      P>|z|      [0.025      0.975]\n",
      "------------------------------------------------------------------------------\n",
      "const          4.2980      0.577      7.446      0.000       3.167       5.429\n",
      "Pclass        -0.9946      0.157     -6.337      0.000      -1.302      -0.687\n",
      "Sex           -2.6030      0.219    -11.902      0.000      -3.032      -2.174\n",
      "Age           -0.0320      0.008     -3.761      0.000      -0.049      -0.015\n",
      "SibSp         -0.3462      0.123     -2.818      0.005      -0.587      -0.105\n",
      "Parch         -0.0598      0.139     -0.431      0.666      -0.331       0.212\n",
      "Fare           0.0034      0.003      1.247      0.213      -0.002       0.009\n",
      "Embarked_C     0.2466      0.260      0.947      0.344      -0.264       0.757\n",
      "Embarked_Q     0.3443      0.376      0.915      0.360      -0.393       1.082\n",
      "==============================================================================\n"
     ]
    },
    {
     "name": "stderr",
     "output_type": "stream",
     "text": [
      "C:\\Users\\monas\\anaconda3\\lib\\site-packages\\statsmodels\\tsa\\tsatools.py:142: FutureWarning: In a future version of pandas all arguments of concat except for the argument 'objs' will be keyword-only\n",
      "  x = pd.concat(x[::order], 1)\n"
     ]
    }
   ],
   "source": [
    "import statsmodels.api as sm\n",
    "logit_model=sm.Logit(y_train,sm.add_constant(X_train))\n",
    "result=logit_model.fit()\n",
    "print(result.summary())"
   ]
  },
  {
   "cell_type": "code",
   "execution_count": 12,
   "metadata": {},
   "outputs": [],
   "source": [
    "# Now back to LogisticRegression in scikit-learn. Let's evaluate the performance of the \n",
    "# trained model. To do so, we first use the trained model to predict the test dataset.\n",
    "y_predict = clf_lr.predict(X_test)"
   ]
  },
  {
   "cell_type": "code",
   "execution_count": 16,
   "metadata": {},
   "outputs": [
    {
     "data": {
      "text/plain": [
       "array([[0.12107166, 0.87892834],\n",
       "       [0.76697034, 0.23302966],\n",
       "       [0.90407959, 0.09592041],\n",
       "       [0.74773211, 0.25226789],\n",
       "       [0.93510124, 0.06489876]])"
      ]
     },
     "execution_count": 16,
     "metadata": {},
     "output_type": "execute_result"
    }
   ],
   "source": [
    "clf_lr.predict_proba(X_test)[0:5] #the second column is the probability of survive, row is each person"
   ]
  },
  {
   "cell_type": "code",
   "execution_count": 13,
   "metadata": {},
   "outputs": [
    {
     "data": {
      "text/plain": [
       "0.8156"
      ]
     },
     "execution_count": 13,
     "metadata": {},
     "output_type": "execute_result"
    }
   ],
   "source": [
    "# Then, compare the predicted values with the truth to get accuracy\n",
    "from sklearn.metrics import accuracy_score\n",
    "accuracy_score(y_test, y_predict).round(4)"
   ]
  },
  {
   "cell_type": "code",
   "execution_count": 14,
   "metadata": {},
   "outputs": [
    {
     "name": "stdout",
     "output_type": "stream",
     "text": [
      "[[96 12]\n",
      " [21 50]]\n"
     ]
    }
   ],
   "source": [
    "# Observe the confusion matrix\n",
    "from sklearn.metrics import confusion_matrix\n",
    "print(confusion_matrix(y_test, y_predict))"
   ]
  },
  {
   "cell_type": "markdown",
   "metadata": {
    "id": "7cV0WqSg3pX8"
   },
   "source": [
    "# Part 2: A walk-through of several popular supervised learning algorithms in scikit-learn"
   ]
  },
  {
   "cell_type": "markdown",
   "metadata": {
    "id": "U6ZJ4fQZphgS"
   },
   "source": [
    "When it comes to creating a trained algorithm (a.k.a., a trained model, or model), we know ***there are many possible choices:*** \n",
    "+ ***There are many learning algorithms to choose from.*** \n",
    "    + E.g., regression, trees, kNN, SVM, neural network, emsemble, ...\n",
    "+ Also importantly, ***most learning algorithms have hyperparameters that need to be set before training.*** The choices of these **hyperparameters** may result in different trained models.\n",
    "    + E.g., for decision tree learning, how deep to allow a tree to grow? For regression, should we consider regularization? For kNN, what value of k to set? ...\n",
    "\n",
    "***There is no free lunch*** -- there is no sure choice that dominates all other choices. Otherwise, we wouldn't see all these choices in today's analytics practices. \n",
    "\n",
    "In this lecture, we will try and discuss the pros/cons of a few popular learning algorithms. We leave the topic of hyperparameter tuning, as well as the discussion of the state-of-the-art boosting-based algorithms (that always require hyperparameter tuning), to the next lecture."
   ]
  },
  {
   "cell_type": "markdown",
   "metadata": {
    "id": "7cV0WqSg3pX8"
   },
   "source": [
    "***One huge advantage of the `scikit-learn` package is its consistency in coding:*** once you know how to code one supervised learning algorithm, you basically know how to code all others as they share the same coding structure -- you just need to swap in the new learning algorithm.\n",
    "\n",
    "Let's implement a few popular learning algorithms."
   ]
  },
  {
   "cell_type": "markdown",
   "metadata": {},
   "source": [
    "## Logistic Regression\n",
    "\n",
    "For each model, scikit-learn provides documentation on both the ***underlying theory*** and the ***code implementation***. For example, for the logistic regression model:\n",
    "+ See (https://scikit-learn.org/stable/modules/linear_model.html#logistic-regression) for the theory (which is a part of the [scikit-learn User Guide](https://scikit-learn.org/stable/user_guide.html))\n",
    "    + Recall that supervised learning is divided into **classification** when the target variable is discrete, and **regression** when the targer variable is continuous. For this lecture, we stay with classification.\n",
    "+ And see (https://scikit-learn.org/stable/modules/generated/sklearn.linear_model.LogisticRegression.html) for the code implementation (which is a part of the [scikit-learn API Reference](https://scikit-learn.org/stable/modules/classes.html))\n",
    "\n",
    "Earlier in this lecture we have already implemented the logistic regression model. Below I re-organize the above code (only the model related parts) into a template for ease of adaption (to other algorithms)."
   ]
  },
  {
   "cell_type": "code",
   "execution_count": 17,
   "metadata": {
    "id": "T1PhqiVJphgX",
    "scrolled": true
   },
   "outputs": [
    {
     "name": "stdout",
     "output_type": "stream",
     "text": [
      "The accuracy is: 81.56%\n",
      "The confusion matrix is:\n",
      "[[96 12]\n",
      " [21 50]]\n"
     ]
    }
   ],
   "source": [
    "# A template for implementing various supervised learning algorithms \n",
    "# I assume that, prior to runnign this code, we have already pre-processed the data\n",
    "\n",
    "# Load the learning algorithm\n",
    "from sklearn.linear_model import LogisticRegression\n",
    "\n",
    "# Set the hyperparameters of this algorithm\n",
    "clf = LogisticRegression(penalty='none', max_iter=1000)\n",
    "\n",
    "# Fit the model over the train data\n",
    "clf.fit(X_train,y_train)\n",
    "\n",
    "# Use the fitted model to predict the test data\n",
    "y_predict = clf.predict(X_test)\n",
    "\n",
    "# Obtain performance metrics\n",
    "accuracy = accuracy_score(y_test, y_predict).round(4)\n",
    "print(f\"The accuracy is: {accuracy:.2%}\")\n",
    "print(\"The confusion matrix is:\")\n",
    "cm = confusion_matrix(y_test, y_predict)\n",
    "print(cm)\n",
    "\n",
    "# Save the model and the performance metrics for later comparison.\n",
    "# Here I use suffix \"lr\" because we just tried logistic regression.\n",
    "# Change the suffix when you switch to a new learning algorithm!\n",
    "clf_lr = clf\n",
    "accuracy_lr = accuracy\n",
    "cm_lr = cm"
   ]
  },
  {
   "cell_type": "markdown",
   "metadata": {},
   "source": [
    "Now let's modify the above template to implement a few other popular learning algorithms. "
   ]
  },
  {
   "cell_type": "markdown",
   "metadata": {
    "id": "NSKzpjqcon58"
   },
   "source": [
    "## k-Nearest Neighbors (kNN)\n",
    "\n",
    "We will build a kNN model by, sequentially:\n",
    "+ Read the [scikit-learn user guide on kNN](https://scikit-learn.org/stable/modules/neighbors.html#nearest-neighbors-classification)\n",
    "+ Decide on the particular [classifier to use](https://scikit-learn.org/stable/modules/generated/sklearn.neighbors.KNeighborsClassifier.html)\n",
    "    + And carefully read the sample code for this classifier\n",
    "+ Make a copy of the above code template into the empty code cell below\n",
    "+ Then make proper modifications to the template to accomplish this exercise\n",
    "    + Edit/remove the comments along the way"
   ]
  },
  {
   "cell_type": "code",
   "execution_count": 18,
   "metadata": {
    "id": "ohN2y8385Ai_"
   },
   "outputs": [
    {
     "name": "stdout",
     "output_type": "stream",
     "text": [
      "The accuracy is: 70.95%\n",
      "The confusion matrix is:\n",
      "[[92 16]\n",
      " [36 35]]\n"
     ]
    }
   ],
   "source": [
    "# Let's try to build a kNN model, name it \"clf_knn\". \n",
    "\n",
    "# Load the learning algorithm\n",
    "from sklearn.neighbors import KNeighborsClassifier\n",
    "\n",
    "# Set the hyperparameters of this algorithm\n",
    "clf = KNeighborsClassifier(n_neighbors=3)\n",
    "\n",
    "# Fit the model over the train data\n",
    "clf.fit(X_train,y_train)\n",
    "\n",
    "# Use the fitted model to predict the test data\n",
    "y_predict = clf.predict(X_test)\n",
    "\n",
    "# Obtain performance metrics\n",
    "accuracy = accuracy_score(y_test, y_predict).round(4)\n",
    "print(f\"The accuracy is: {accuracy:.2%}\")\n",
    "print(\"The confusion matrix is:\")\n",
    "cm = confusion_matrix(y_test, y_predict)\n",
    "print(cm)\n",
    "\n",
    "# Save the model and the performance metrics for later comparison.\n",
    "# Here I use suffix \"lr\" because we just tried logistic regression.\n",
    "# Change the suffix when you switch to a new learning algorithm!\n",
    "clf_knn = clf\n",
    "accuracy_knn = accuracy\n",
    "cm_knn = cm\n",
    "\n",
    "\n",
    "\n",
    "\n",
    "\n",
    "\n",
    "\n",
    "\n",
    "\n"
   ]
  },
  {
   "cell_type": "code",
   "execution_count": null,
   "metadata": {
    "id": "P96_fivduLtT"
   },
   "outputs": [],
   "source": [
    "\n",
    "\n",
    "\n",
    "\n",
    "# Finished version by Geng -- please DON'T read this until you've already tried building the code by yourself\n",
    "\n",
    "from sklearn.neighbors import KNeighborsClassifier\n",
    "\n",
    "clf = KNeighborsClassifier(n_neighbors=3)\n",
    "\n",
    "clf.fit(X_train,y_train)\n",
    "\n",
    "y_predict = clf.predict(X_test)\n",
    "\n",
    "accuracy = accuracy_score(y_test, y_predict).round(4)\n",
    "print(f\"The accuracy is: {accuracy:.2%}\")\n",
    "print(\"The confusion matrix is:\")\n",
    "cm = confusion_matrix(y_test, y_predict)\n",
    "print(cm)\n",
    "\n",
    "# save the results for later comparison\n",
    "clf_knn = clf\n",
    "accuracy_knn = accuracy\n",
    "cm_knn = cm"
   ]
  },
  {
   "cell_type": "markdown",
   "metadata": {
    "id": "NSKzpjqcon58"
   },
   "source": [
    "## Decision Trees\n",
    "\n",
    "We are getting better at supervised learning in scikit-learn. Next, try to build a decision tree model. Try to find needed information at (https://scikit-learn.org) by yourself. \n",
    "+ (But if you get lost, here they are: [scikit-learn user guide on decision trees](https://scikit-learn.org/stable/modules/tree.html), and [classifier to use](https://scikit-learn.org/stable/modules/generated/sklearn.tree.DecisionTreeClassifier.html).)"
   ]
  },
  {
   "cell_type": "code",
   "execution_count": 23,
   "metadata": {
    "id": "ohN2y8385Ai_"
   },
   "outputs": [
    {
     "name": "stdout",
     "output_type": "stream",
     "text": [
      "The accuracy is: 77.65%\n",
      "The confusion matrix is:\n",
      "[[104   4]\n",
      " [ 36  35]]\n"
     ]
    }
   ],
   "source": [
    "# Let's try to build a decision tree model, name it \"clf_dt\". \n",
    "\n",
    "from sklearn.tree import DecisionTreeClassifier\n",
    "\n",
    "\n",
    "clf = DecisionTreeClassifier(max_depth=2) #max_depth: cut the tree\n",
    "clf.fit(X_train,y_train)\n",
    "\n",
    "y_predict = clf.predict(X_test)\n",
    "\n",
    "accuracy = accuracy_score(y_test, y_predict).round(4)\n",
    "print(f\"The accuracy is: {accuracy:.2%}\")\n",
    "print(\"The confusion matrix is:\")\n",
    "cm = confusion_matrix(y_test, y_predict)\n",
    "print(cm)\n",
    "\n",
    "# save the results for later comparison\n",
    "clf_dt = clf\n",
    "accuracy_dt = accuracy\n",
    "cm_dt = cm\n",
    "\n",
    "\n"
   ]
  },
  {
   "cell_type": "code",
   "execution_count": null,
   "metadata": {
    "id": "P96_fivduLtT"
   },
   "outputs": [],
   "source": [
    "\n",
    "\n",
    "\n",
    "\n",
    "# Finished version by Geng -- please DON'T read this until you've already tried by yourself\n",
    "\n",
    "from sklearn.tree import DecisionTreeClassifier\n",
    "\n",
    "clf = DecisionTreeClassifier(max_depth=2)\n",
    "clf.fit(X_train,y_train)\n",
    "\n",
    "y_predict = clf.predict(X_test)\n",
    "\n",
    "accuracy = accuracy_score(y_test, y_predict).round(4)\n",
    "print(f\"The accuracy is: {accuracy:.2%}\")\n",
    "print(\"The confusion matrix is:\")\n",
    "cm = confusion_matrix(y_test, y_predict)\n",
    "print(cm)\n",
    "\n",
    "# save the results for later comparison\n",
    "clf_dt = clf\n",
    "accuracy_dt = accuracy\n",
    "cm_dt = cm"
   ]
  },
  {
   "cell_type": "markdown",
   "metadata": {},
   "source": [
    "### Plotting the trained tree\n",
    "\n",
    "***One advantage of decision tree learning is that the trained model is often intuitive to human beings.*** Therefore, despite its often inferior performance especially for large and complicated datasets, analysts use it a lot in practice for understanding the data and for communication with others. Let's plot the trained tree I just got."
   ]
  },
  {
   "cell_type": "code",
   "execution_count": 21,
   "metadata": {
    "id": "hqTJFAon0DTT",
    "tags": []
   },
   "outputs": [
    {
     "data": {
      "image/png": "[encoded data removed]",
      "text/plain": [
       "<Figure size 1080x720 with 1 Axes>"
      ]
     },
     "metadata": {
      "needs_background": "light"
     },
     "output_type": "display_data"
    }
   ],
   "source": [
    "# warning: if the tree is too big to read, limit the max_depth of the tree during training\n",
    "\n",
    "from sklearn import tree\n",
    "import matplotlib.pyplot as plt\n",
    "\n",
    "plt.figure(figsize=(15,10))  # set plot size (denoted in inches)\n",
    "tree.plot_tree(clf_dt,\n",
    "               feature_names=X_train.columns,\n",
    "               filled = True,\n",
    "               proportion=True,\n",
    "               fontsize=12)\n",
    "plt.show()"
   ]
  },
  {
   "cell_type": "markdown",
   "metadata": {
    "id": "NSKzpjqcon58"
   },
   "source": [
    "## Random Forests\n",
    "\n",
    "In terms of predictive performance, ensemble methods, especially boosting-based algorithms, are the frequent champions when big and complex datasets are concerned.\n",
    "+ Except for deep learning where deep neural networks are the king.\n",
    "\n",
    "We will study boosting-based algorithms in more details in the next lecture. Here, let's implement one of the most popular and easy-to-use emsemble method, the **Random Forests**. Again, read the user guide including API guide of Random Forests at (https://scikit-learn.org) before you proceed."
   ]
  },
  {
   "cell_type": "markdown",
   "metadata": {
    "id": "I2EUlYNjq6fj"
   },
   "source": [
    "Next, let's build a random forest model.\n",
    "\n",
    "Hint: start by reading the according [scikit-learn user guide on random forest](https://scikit-learn.org/stable/modules/ensemble.html#forests-of-randomized-trees)"
   ]
  },
  {
   "cell_type": "code",
   "execution_count": 25,
   "metadata": {
    "id": "QB0RpG9p5ehW"
   },
   "outputs": [
    {
     "name": "stdout",
     "output_type": "stream",
     "text": [
      "The accuracy is: 83.24%\n",
      "The confusion matrix is:\n",
      "[[100   8]\n",
      " [ 22  49]]\n"
     ]
    }
   ],
   "source": [
    "# train a random forest model by yourself, name it \"clf_rf\"\n",
    "\n",
    "from sklearn.ensemble import RandomForestClassifier\n",
    "\n",
    "clf = RandomForestClassifier(n_estimators=10, random_state=0)\n",
    "clf.fit(X_train,y_train)\n",
    "\n",
    "y_predict = clf.predict(X_test)\n",
    "\n",
    "accuracy = accuracy_score(y_test, y_predict).round(4)\n",
    "print(f\"The accuracy is: {accuracy:.2%}\")\n",
    "print(\"The confusion matrix is:\")\n",
    "cm = confusion_matrix(y_test, y_predict)\n",
    "print(cm)\n",
    "\n",
    "# save the results for later comparison\n",
    "clf_rf = clf\n",
    "accuracy_rf = accuracy\n",
    "cm_rf = cm\n",
    "\n",
    "\n"
   ]
  },
  {
   "cell_type": "code",
   "execution_count": 27,
   "metadata": {
    "id": "sAX9PV3O-m_B"
   },
   "outputs": [
    {
     "name": "stdout",
     "output_type": "stream",
     "text": [
      "The accuracy is: 79.33%\n",
      "The confusion matrix is:\n",
      "[[107   1]\n",
      " [ 36  35]]\n"
     ]
    }
   ],
   "source": [
    "\n",
    "\n",
    "\n",
    "\n",
    "# Finished version by Geng -- please DON'T read this until you've already tried by yourself\n",
    "\n",
    "from sklearn.ensemble import RandomForestClassifier\n",
    "\n",
    "clf = RandomForestClassifier(max_depth=2, random_state=0)\n",
    "clf.fit(X_train,y_train)\n",
    "\n",
    "y_predict = clf.predict(X_test)\n",
    "\n",
    "accuracy = accuracy_score(y_test, y_predict).round(4)\n",
    "print(f\"The accuracy is: {accuracy:.2%}\")\n",
    "print(\"The confusion matrix is:\")\n",
    "cm = confusion_matrix(y_test, y_predict)\n",
    "print(cm)\n",
    "\n",
    "# save the results for later comparison\n",
    "clf_rf = clf\n",
    "accuracy_rf = accuracy\n",
    "cm_rf = cm"
   ]
  },
  {
   "cell_type": "markdown",
   "metadata": {},
   "source": [
    "### Using random forest for ranking the importance of features\n",
    "\n",
    "A handy feature of RandomForestClassifier is that ***it provides a robust ranking of the relative importance of all input variables.***\n",
    "+ Often subsequently used for manual feature selection.\n",
    "+ Note that this ranking gets around the (messy) choice among correlated variables problem."
   ]
  },
  {
   "cell_type": "code",
   "execution_count": 28,
   "metadata": {
    "id": "Zt8THmuy94WQ"
   },
   "outputs": [
    {
     "data": {
      "text/plain": [
       "Sex           0.322660\n",
       "Fare          0.215141\n",
       "Pclass        0.201329\n",
       "Age           0.122027\n",
       "SibSp         0.070367\n",
       "Parch         0.031325\n",
       "Embarked_C    0.028627\n",
       "Embarked_Q    0.008524\n",
       "dtype: float64"
      ]
     },
     "execution_count": 28,
     "metadata": {},
     "output_type": "execute_result"
    }
   ],
   "source": [
    "#Q: which variable most important?\n",
    "#regression: which variable significant (Forward selection/backward selection)\n",
    "#tree: which is top-level cut(unstable)\n",
    "\n",
    "importances = clf_rf.feature_importances_\n",
    "pd.Series(importances, index=X_train.columns).sort_values(ascending=False)\n",
    "#large dataset---this sequence should be consistent"
   ]
  },
  {
   "cell_type": "markdown",
   "metadata": {
    "id": "qJMv4T03mbgF"
   },
   "source": [
    "## A recap of the learning algorithms in `scikit-learn` package"
   ]
  },
  {
   "cell_type": "markdown",
   "metadata": {
    "id": "Yv33akkumow0"
   },
   "source": [
    "The `scikit-learn` package contains a large selection of [*traditional* supervised learning algorithms](https://scikit-learn.org/stable/supervised_learning.html), with excellent documentation and coding examples. \n",
    "+ \"traditional\" means not using the deep learning approach\n",
    "\n",
    "I expect you to be able to use the following learning algorithms:\n",
    "+ **Linear Models** including both linear regression and logistic regression\n",
    "  + For better predictive power, use Python\n",
    "  + For better explanatory power, use R\n",
    "+ **Decision Trees**\n",
    "+ **Nearest Neighbors**\n",
    "  + simple, only one hyperparameter, and can be used for imputation  \n",
    "+ Ensemble methods including **random forest** and **XGBoost** (next lecture)\n",
    "+ **Neural Networks** (to study in the second-half of the semester)\n",
    "\n",
    "**(Models NOT required for this course)** It is a good idea for you to at least read a bit about the following learning algorithms:\n",
    "+ Support Vector Machines -- the idea is to use a hyperplane to separate data in a high-dimensional space; was very popular before ensemble methods took off\n",
    "+ Naive Bayes -- based on the Bayes' Theorem\n",
    "+ Stochastic Gradient Descent (SGD) -- It provides an efficient computational approach to fitting supervised learning models, especially when the data is big. This is a core fitting method used in deep learning (where the data is almost always big).  \n",
    "\n",
    "You should also be familiar with the concept of **regularization** that is commonly used in machine learning (see Part 4 of this lecture)\n",
    "+ purpose is to control overfitting\n",
    "+ two variations\n",
    "  + L1 (a.k.a. Lasso) regularization \n",
    "  + L2 (a.k.a. Ridge) regularization\n",
    "  + (if you use both L1 and L2, it's called Elstic-Net)"
   ]
  }
 ],
 "metadata": {
  "colab": {
   "collapsed_sections": [],
   "name": "ML_4_ModelAnalytics_filled.ipynb",
   "provenance": []
  },
  "kernelspec": {
   "display_name": "Python 3 (ipykernel)",
   "language": "python",
   "name": "python3"
  },
  "language_info": {
   "codemirror_mode": {
    "name": "ipython",
    "version": 3
   },
   "file_extension": ".py",
   "mimetype": "text/x-python",
   "name": "python",
   "nbconvert_exporter": "python",
   "pygments_lexer": "ipython3",
   "version": "3.9.7"
  }
 },
 "nbformat": 4,
 "nbformat_minor": 4
}
