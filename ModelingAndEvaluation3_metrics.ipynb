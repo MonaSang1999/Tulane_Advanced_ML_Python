{
 "cells": [
  {
   "cell_type": "markdown",
   "id": "103b0687-8fdb-4701-a6ed-2ca4e3a1b464",
   "metadata": {
    "id": "vqX-wah5phgH"
   },
   "source": [
    "# Modeling and Evaluation with scikit-learn"
   ]
  },
  {
   "cell_type": "markdown",
   "id": "62d14d16-4c23-4c85-82a0-8734f6458dea",
   "metadata": {
    "id": "Mp7rXXdFtFHB"
   },
   "source": [
    "# Part 3: Metrics for evaluating the trained models"
   ]
  },
  {
   "cell_type": "markdown",
   "id": "62025832-8355-4e30-b9d3-ca5c83da2910",
   "metadata": {
    "id": "Mp7rXXdFtFHB"
   },
   "source": [
    "In Parts 1 and 2, we tried several supervised learning models and measured their performance using **accuracy** of the predictions over the test dataset. Accuracy is a frequently used performance metric in practice, yet not the only one. In fact, sometimes it is better to use other alternative metrics. In this part of the lecture, we discuss several other metrics.\n",
    "\n",
    "We'll switch to the KDD98 dataset for this part as it is about a business story, where it's easier for us to associate the predictions/decisions to financial consequences."
   ]
  },
  {
   "cell_type": "markdown",
   "id": "107cbe21-b3e3-48a6-811e-1b3368cc5e21",
   "metadata": {},
   "source": [
    "## Prepare the KDD98 dataset"
   ]
  },
  {
   "cell_type": "code",
   "execution_count": 1,
   "id": "eecb729f-850b-495e-a484-b1bd095f4cbd",
   "metadata": {
    "id": "b8AiVuH_phgT"
   },
   "outputs": [],
   "source": [
    "import numpy as np\n",
    "import pandas as pd\n",
    "pd.set_option('max_columns', 50)\n",
    "\n",
    "from sklearn.model_selection import train_test_split\n",
    "from sklearn.metrics import accuracy_score\n",
    "from sklearn.metrics import confusion_matrix"
   ]
  },
  {
   "cell_type": "code",
   "execution_count": 2,
   "id": "289bbe8e-b1f5-43d6-9888-886e1146458f",
   "metadata": {
    "id": "jsAPeTuHphgT"
   },
   "outputs": [
    {
     "data": {
      "text/html": [
       "<div>\n",
       "<style scoped>\n",
       "    .dataframe tbody tr th:only-of-type {\n",
       "        vertical-align: middle;\n",
       "    }\n",
       "\n",
       "    .dataframe tbody tr th {\n",
       "        vertical-align: top;\n",
       "    }\n",
       "\n",
       "    .dataframe thead th {\n",
       "        text-align: right;\n",
       "    }\n",
       "</style>\n",
       "<table border=\"1\" class=\"dataframe\">\n",
       "  <thead>\n",
       "    <tr style=\"text-align: right;\">\n",
       "      <th></th>\n",
       "      <th>TargetB</th>\n",
       "      <th>DemCluster</th>\n",
       "      <th>DemAge</th>\n",
       "      <th>DemGender</th>\n",
       "      <th>DemHomeOwner</th>\n",
       "      <th>DemMedHomeValue</th>\n",
       "      <th>DemMedIncome</th>\n",
       "      <th>DemPctVeterans</th>\n",
       "      <th>GiftCnt36</th>\n",
       "      <th>GiftCntAll</th>\n",
       "      <th>GiftCntCard36</th>\n",
       "      <th>GiftCntCardAll</th>\n",
       "      <th>GiftAvg36</th>\n",
       "      <th>GiftAvgAll</th>\n",
       "      <th>GiftAvgCard36</th>\n",
       "      <th>GiftAvgLast</th>\n",
       "      <th>GiftTimeFirst</th>\n",
       "      <th>GiftTimeLast</th>\n",
       "      <th>PromCnt12</th>\n",
       "      <th>PromCnt36</th>\n",
       "      <th>PromCntAll</th>\n",
       "      <th>PromCntCard12</th>\n",
       "      <th>PromCntCard36</th>\n",
       "      <th>PromCntCardAll</th>\n",
       "      <th>StatusCatStarAll</th>\n",
       "      <th>StatusCat96NK_E</th>\n",
       "      <th>StatusCat96NK_F</th>\n",
       "      <th>StatusCat96NK_L</th>\n",
       "      <th>StatusCat96NK_N</th>\n",
       "      <th>StatusCat96NK_S</th>\n",
       "    </tr>\n",
       "  </thead>\n",
       "  <tbody>\n",
       "    <tr>\n",
       "      <th>0</th>\n",
       "      <td>0</td>\n",
       "      <td>0</td>\n",
       "      <td>NaN</td>\n",
       "      <td>0.0</td>\n",
       "      <td>0</td>\n",
       "      <td>0</td>\n",
       "      <td>NaN</td>\n",
       "      <td>0</td>\n",
       "      <td>2</td>\n",
       "      <td>4</td>\n",
       "      <td>1</td>\n",
       "      <td>3</td>\n",
       "      <td>13.50</td>\n",
       "      <td>9.25</td>\n",
       "      <td>17.00</td>\n",
       "      <td>17.0</td>\n",
       "      <td>66</td>\n",
       "      <td>21</td>\n",
       "      <td>8</td>\n",
       "      <td>17</td>\n",
       "      <td>26</td>\n",
       "      <td>3</td>\n",
       "      <td>8</td>\n",
       "      <td>13</td>\n",
       "      <td>0</td>\n",
       "      <td>0</td>\n",
       "      <td>0</td>\n",
       "      <td>0</td>\n",
       "      <td>0</td>\n",
       "      <td>0</td>\n",
       "    </tr>\n",
       "    <tr>\n",
       "      <th>1</th>\n",
       "      <td>0</td>\n",
       "      <td>23</td>\n",
       "      <td>67.0</td>\n",
       "      <td>0.0</td>\n",
       "      <td>0</td>\n",
       "      <td>186800</td>\n",
       "      <td>NaN</td>\n",
       "      <td>85</td>\n",
       "      <td>1</td>\n",
       "      <td>8</td>\n",
       "      <td>0</td>\n",
       "      <td>3</td>\n",
       "      <td>20.00</td>\n",
       "      <td>15.88</td>\n",
       "      <td>NaN</td>\n",
       "      <td>20.0</td>\n",
       "      <td>92</td>\n",
       "      <td>26</td>\n",
       "      <td>14</td>\n",
       "      <td>35</td>\n",
       "      <td>79</td>\n",
       "      <td>5</td>\n",
       "      <td>5</td>\n",
       "      <td>24</td>\n",
       "      <td>0</td>\n",
       "      <td>0</td>\n",
       "      <td>0</td>\n",
       "      <td>0</td>\n",
       "      <td>0</td>\n",
       "      <td>0</td>\n",
       "    </tr>\n",
       "    <tr>\n",
       "      <th>2</th>\n",
       "      <td>1</td>\n",
       "      <td>0</td>\n",
       "      <td>NaN</td>\n",
       "      <td>1.0</td>\n",
       "      <td>0</td>\n",
       "      <td>87600</td>\n",
       "      <td>38750.0</td>\n",
       "      <td>36</td>\n",
       "      <td>6</td>\n",
       "      <td>41</td>\n",
       "      <td>3</td>\n",
       "      <td>20</td>\n",
       "      <td>5.17</td>\n",
       "      <td>3.73</td>\n",
       "      <td>5.00</td>\n",
       "      <td>6.0</td>\n",
       "      <td>111</td>\n",
       "      <td>18</td>\n",
       "      <td>12</td>\n",
       "      <td>23</td>\n",
       "      <td>51</td>\n",
       "      <td>5</td>\n",
       "      <td>11</td>\n",
       "      <td>22</td>\n",
       "      <td>1</td>\n",
       "      <td>0</td>\n",
       "      <td>0</td>\n",
       "      <td>0</td>\n",
       "      <td>0</td>\n",
       "      <td>1</td>\n",
       "    </tr>\n",
       "    <tr>\n",
       "      <th>3</th>\n",
       "      <td>1</td>\n",
       "      <td>0</td>\n",
       "      <td>NaN</td>\n",
       "      <td>1.0</td>\n",
       "      <td>0</td>\n",
       "      <td>139200</td>\n",
       "      <td>38942.0</td>\n",
       "      <td>27</td>\n",
       "      <td>3</td>\n",
       "      <td>12</td>\n",
       "      <td>3</td>\n",
       "      <td>8</td>\n",
       "      <td>8.67</td>\n",
       "      <td>8.50</td>\n",
       "      <td>8.67</td>\n",
       "      <td>10.0</td>\n",
       "      <td>93</td>\n",
       "      <td>9</td>\n",
       "      <td>14</td>\n",
       "      <td>22</td>\n",
       "      <td>44</td>\n",
       "      <td>2</td>\n",
       "      <td>6</td>\n",
       "      <td>16</td>\n",
       "      <td>1</td>\n",
       "      <td>1</td>\n",
       "      <td>0</td>\n",
       "      <td>0</td>\n",
       "      <td>0</td>\n",
       "      <td>0</td>\n",
       "    </tr>\n",
       "    <tr>\n",
       "      <th>4</th>\n",
       "      <td>0</td>\n",
       "      <td>35</td>\n",
       "      <td>53.0</td>\n",
       "      <td>1.0</td>\n",
       "      <td>0</td>\n",
       "      <td>168100</td>\n",
       "      <td>71509.0</td>\n",
       "      <td>37</td>\n",
       "      <td>1</td>\n",
       "      <td>1</td>\n",
       "      <td>1</td>\n",
       "      <td>1</td>\n",
       "      <td>20.00</td>\n",
       "      <td>20.00</td>\n",
       "      <td>20.00</td>\n",
       "      <td>20.0</td>\n",
       "      <td>21</td>\n",
       "      <td>21</td>\n",
       "      <td>10</td>\n",
       "      <td>15</td>\n",
       "      <td>13</td>\n",
       "      <td>4</td>\n",
       "      <td>7</td>\n",
       "      <td>6</td>\n",
       "      <td>0</td>\n",
       "      <td>0</td>\n",
       "      <td>1</td>\n",
       "      <td>0</td>\n",
       "      <td>0</td>\n",
       "      <td>0</td>\n",
       "    </tr>\n",
       "  </tbody>\n",
       "</table>\n",
       "</div>"
      ],
      "text/plain": [
       "   TargetB  DemCluster  DemAge  DemGender  DemHomeOwner  DemMedHomeValue  \\\n",
       "0        0           0     NaN        0.0             0                0   \n",
       "1        0          23    67.0        0.0             0           186800   \n",
       "2        1           0     NaN        1.0             0            87600   \n",
       "3        1           0     NaN        1.0             0           139200   \n",
       "4        0          35    53.0        1.0             0           168100   \n",
       "\n",
       "   DemMedIncome  DemPctVeterans  GiftCnt36  GiftCntAll  GiftCntCard36  \\\n",
       "0           NaN               0          2           4              1   \n",
       "1           NaN              85          1           8              0   \n",
       "2       38750.0              36          6          41              3   \n",
       "3       38942.0              27          3          12              3   \n",
       "4       71509.0              37          1           1              1   \n",
       "\n",
       "   GiftCntCardAll  GiftAvg36  GiftAvgAll  GiftAvgCard36  GiftAvgLast  \\\n",
       "0               3      13.50        9.25          17.00         17.0   \n",
       "1               3      20.00       15.88            NaN         20.0   \n",
       "2              20       5.17        3.73           5.00          6.0   \n",
       "3               8       8.67        8.50           8.67         10.0   \n",
       "4               1      20.00       20.00          20.00         20.0   \n",
       "\n",
       "   GiftTimeFirst  GiftTimeLast  PromCnt12  PromCnt36  PromCntAll  \\\n",
       "0             66            21          8         17          26   \n",
       "1             92            26         14         35          79   \n",
       "2            111            18         12         23          51   \n",
       "3             93             9         14         22          44   \n",
       "4             21            21         10         15          13   \n",
       "\n",
       "   PromCntCard12  PromCntCard36  PromCntCardAll  StatusCatStarAll  \\\n",
       "0              3              8              13                 0   \n",
       "1              5              5              24                 0   \n",
       "2              5             11              22                 1   \n",
       "3              2              6              16                 1   \n",
       "4              4              7               6                 0   \n",
       "\n",
       "   StatusCat96NK_E  StatusCat96NK_F  StatusCat96NK_L  StatusCat96NK_N  \\\n",
       "0                0                0                0                0   \n",
       "1                0                0                0                0   \n",
       "2                0                0                0                0   \n",
       "3                1                0                0                0   \n",
       "4                0                1                0                0   \n",
       "\n",
       "   StatusCat96NK_S  \n",
       "0                0  \n",
       "1                0  \n",
       "2                1  \n",
       "3                0  \n",
       "4                0  "
      ]
     },
     "execution_count": 2,
     "metadata": {},
     "output_type": "execute_result"
    }
   ],
   "source": [
    "df = pd.read_csv('KDD98_preprocessed.csv')\n",
    "df.head()"
   ]
  },
  {
   "cell_type": "code",
   "execution_count": 3,
   "id": "d605f594-69fd-46bb-ba74-8e7c7582f5c7",
   "metadata": {},
   "outputs": [
    {
     "name": "stdout",
     "output_type": "stream",
     "text": [
      "(7748, 29)\n",
      "(1938, 29)\n"
     ]
    }
   ],
   "source": [
    "X = df.drop(columns=['TargetB'])\n",
    "y = df['TargetB']\n",
    "X_train, X_test, y_train, y_test = train_test_split(X, y, test_size=0.2,random_state=365)\n",
    "X_train = X_train.copy()\n",
    "X_test = X_test.copy()\n",
    "print(X_train.shape)\n",
    "print(X_test.shape)"
   ]
  },
  {
   "cell_type": "markdown",
   "id": "e66839f4-28f5-480e-9698-40c0f173d5fc",
   "metadata": {},
   "source": [
    "This dataset has missing values in:\n",
    "+ categorical column DemGender\n",
    "+ numerical columns DemAge, DemMedIncome, GiftAvgCard36\n",
    "\n",
    "We next impute the missing values."
   ]
  },
  {
   "cell_type": "code",
   "execution_count": 4,
   "id": "2d732ce8-b8a7-4ede-b2e4-b6da8c9d2f6c",
   "metadata": {},
   "outputs": [],
   "source": [
    "# Calculate the values we plan to use\n",
    "\n",
    "cat_columns = ['DemGender']\n",
    "cat_columns_modes = X_train.mode().iloc[0][cat_columns]\n",
    "# Need \".loc[0]\" above because a column may have multiple modes\n",
    "\n",
    "num_columns = ['DemAge', 'DemMedIncome', 'GiftAvgCard36']\n",
    "num_columns_means = X_train.mean()[num_columns]"
   ]
  },
  {
   "cell_type": "code",
   "execution_count": 5,
   "id": "2eb47907-53d0-4ff8-bd46-3150d4c92d35",
   "metadata": {},
   "outputs": [],
   "source": [
    "# Impute\n",
    "X_train[cat_columns] = X_train[cat_columns].fillna(cat_columns_modes)\n",
    "X_train[num_columns] = X_train[num_columns].fillna(num_columns_means)"
   ]
  },
  {
   "cell_type": "code",
   "execution_count": 6,
   "id": "c86fefa2-2c7b-4466-abaf-ab3eb811fcb6",
   "metadata": {},
   "outputs": [],
   "source": [
    "# And never forget to do the same to the test dataset\n",
    "X_test[cat_columns] = X_test[cat_columns].fillna(cat_columns_modes)\n",
    "X_test[num_columns] = X_test[num_columns].fillna(num_columns_means)"
   ]
  },
  {
   "cell_type": "markdown",
   "id": "d3a78a74-6b8a-4ba1-8439-463f2a75dfe6",
   "metadata": {},
   "source": [
    "## Prepare a few trained models"
   ]
  },
  {
   "cell_type": "code",
   "execution_count": 7,
   "id": "f2a2d14c-b831-46d3-935c-afeb2174dc3d",
   "metadata": {},
   "outputs": [
    {
     "name": "stdout",
     "output_type": "stream",
     "text": [
      "The accuracy is: 56.55%\n",
      "The confusion matrix is:\n",
      "[[530 439]\n",
      " [403 566]]\n"
     ]
    }
   ],
   "source": [
    "# Logistic regression\n",
    "from sklearn.linear_model import LogisticRegression\n",
    "clf = LogisticRegression(penalty='none', max_iter=1000)\n",
    "clf.fit(X_train,y_train)\n",
    "\n",
    "y_predict = clf.predict(X_test)\n",
    "\n",
    "accuracy = accuracy_score(y_test, y_predict).round(4)\n",
    "print(f\"The accuracy is: {accuracy:.2%}\")\n",
    "print(\"The confusion matrix is:\")\n",
    "cm = confusion_matrix(y_test, y_predict)\n",
    "print(cm)\n",
    "\n",
    "# save the results for later comparison\n",
    "clf_lr = clf\n",
    "accuracy_lr = accuracy\n",
    "cm_lr = cm"
   ]
  },
  {
   "cell_type": "code",
   "execution_count": 8,
   "id": "60c379ee-950e-4bf4-8706-f8024fc2ac29",
   "metadata": {},
   "outputs": [
    {
     "name": "stdout",
     "output_type": "stream",
     "text": [
      "The accuracy is: 55.99%\n",
      "The confusion matrix is:\n",
      "[[526 443]\n",
      " [410 559]]\n"
     ]
    }
   ],
   "source": [
    "# Decision tree\n",
    "from sklearn.tree import DecisionTreeClassifier\n",
    "clf = DecisionTreeClassifier(max_depth=5)\n",
    "clf.fit(X_train,y_train)\n",
    "\n",
    "y_predict = clf.predict(X_test)\n",
    "\n",
    "accuracy = accuracy_score(y_test, y_predict).round(4)\n",
    "print(f\"The accuracy is: {accuracy:.2%}\")\n",
    "print(\"The confusion matrix is:\")\n",
    "cm = confusion_matrix(y_test, y_predict)\n",
    "print(cm)\n",
    "\n",
    "# save the results for later comparison\n",
    "clf_dt = clf\n",
    "accuracy_dt = accuracy\n",
    "cm_dt = cm"
   ]
  },
  {
   "cell_type": "code",
   "execution_count": 9,
   "id": "8175a27b-0af9-40c3-8992-0bd718dbbf7c",
   "metadata": {
    "id": "sAX9PV3O-m_B"
   },
   "outputs": [
    {
     "name": "stdout",
     "output_type": "stream",
     "text": [
      "The accuracy is: 58.88%\n",
      "The confusion matrix is:\n",
      "[[607 362]\n",
      " [435 534]]\n"
     ]
    }
   ],
   "source": [
    "# Random forest\n",
    "from sklearn.ensemble import RandomForestClassifier\n",
    "clf = RandomForestClassifier(max_depth=5, random_state=0)\n",
    "# clf = RandomForestClassifier(max_depth=5, random_state=0, class_weight={0:1, 1:1.05})\n",
    "clf.fit(X_train,y_train)\n",
    "\n",
    "y_predict = clf.predict(X_test)\n",
    "\n",
    "accuracy = accuracy_score(y_test, y_predict).round(4)\n",
    "print(f\"The accuracy is: {accuracy:.2%}\")\n",
    "print(\"The confusion matrix is:\")\n",
    "cm = confusion_matrix(y_test, y_predict)\n",
    "print(cm)\n",
    "\n",
    "# save the results for later comparison\n",
    "clf_rf = clf\n",
    "accuracy_rf = accuracy\n",
    "cm_rf = cm"
   ]
  },
  {
   "cell_type": "code",
   "execution_count": null,
   "id": "fb9d715a-0a7d-499e-8805-5fcdc48c2759",
   "metadata": {},
   "outputs": [],
   "source": [
    "#first column: predicted not donate, second column: predicted donate\n",
    "#first row: actually not donate, second row: actually donate"
   ]
  },
  {
   "cell_type": "markdown",
   "id": "cf2a286c-f795-43aa-be7c-1f9b91583c5a",
   "metadata": {},
   "source": [
    "Now we are ready to discuss the various metrics for evaluating the trained models. We start with the familiar **accuracy** metric.\n",
    "\n",
    "## Metric: accuracy"
   ]
  },
  {
   "cell_type": "markdown",
   "id": "12234775-ea6f-42af-8d66-1f3fe70c2513",
   "metadata": {},
   "source": [
    "$$accuracy = \\frac{\\textrm{number of correct predictions}}{\\textrm{total number of records}}$$\n",
    "\n",
    "~In above, the logistic regression model results in an accuracy of 84.39%, while the decision tree model results in an accuracy of 73.75%.~ So, if we use accuracy as the metric, the logistic regression model is the champion. Two caveats:\n",
    "+ You might get slightly different accuracy numbers than the above due to randomness\n",
    "+ The above discussion totally (and wrongfully) ignored hyperparameter tuning\n",
    "\n",
    "However, a close look at the confusion matrices as shown next, reveals that accuracy as metric is problematic here."
   ]
  },
  {
   "cell_type": "markdown",
   "id": "514fa3e3-0fc6-48b8-85bc-7e124fdaab13",
   "metadata": {
    "id": "D3APTy6we--C"
   },
   "source": [
    "## Confusion matrix"
   ]
  },
  {
   "cell_type": "markdown",
   "id": "07cb0d59-ca12-4203-895d-eb9818f11dd4",
   "metadata": {
    "id": "D3APTy6we--C"
   },
   "source": [
    "y_predict==0We get the **confusion matrix** by comparing the ground truth, \"y_test\", with the predicted value, \"y_predict\":\n",
    "<table>\n",
    "  <tr>\n",
    "    <th></th>\n",
    "    <th>y_predict==0</th>\n",
    "    <th>y_predict==1</th>\n",
    "  </tr>\n",
    "  <tr>\n",
    "    <th>y_test==0</th>\n",
    "    <th>number of TN (true negatives)</th>\n",
    "    <th>number of FP (false positives)</th>\n",
    "  </tr>\n",
    "  <tr>\n",
    "    <th>y_test==1</th>\n",
    "    <th>number of FN (false negatives)</th>\n",
    "    <th>number of TP (true positives)</th>\n",
    "  </tr>\n",
    "</table>"
   ]
  },
  {
   "cell_type": "markdown",
   "id": "8a10189b-a394-4f64-acdd-a78a769fa121",
   "metadata": {},
   "source": [
    "Under this binary prediction context, our trained model can make two types of prediction mistakes:\n",
    "+ False positives. In this KDD98 case, the number of people the model predicted to donate but actually did not donate.\n",
    "+ False negatives. In this KDD98 case, the number of people the model predicted not to donate but actually donated."
   ]
  },
  {
   "cell_type": "markdown",
   "id": "e25730e9-df4d-4582-b77f-c508aec79104",
   "metadata": {},
   "source": [
    "*Question: Which of these two types of mistakes is more costly for the non-profit behind this solicitation campaign?*\n",
    "\n",
    "..."
   ]
  },
  {
   "cell_type": "markdown",
   "id": "8254c1c8-96fa-4273-8f65-ee6551ae3355",
   "metadata": {
    "id": "D3APTy6we--C"
   },
   "source": [
    "## Metrics: precision and recall"
   ]
  },
  {
   "cell_type": "markdown",
   "id": "e251a3db-0299-4663-bbe2-3a23606b8a11",
   "metadata": {
    "id": "D3APTy6we--C"
   },
   "source": [
    "To tell apart the two types of mistakes, we have these two metrics:\n",
    "\n",
    "$$precision = \\frac{\\textrm{true positives}}{\\textrm{true positives + false positives}}$$\n",
    "\n",
    "In this KDD98 case, precision means: how precise are your predicted donations? In other words, among all the people whom you predicted would donate, how many actually donated?"
   ]
  },
  {
   "cell_type": "markdown",
   "id": "5c8a8270-a92b-482a-8571-6bfd5baf7992",
   "metadata": {
    "id": "D3APTy6we--C"
   },
   "source": [
    "$$recall = \\frac{\\textrm{true positives}}{\\textrm{true positives + false negatives}}$$\n",
    "\n",
    "In this KDD98 case, recall means: among all the people who actually donated, how many did your model catch/recall?"
   ]
  },
  {
   "cell_type": "markdown",
   "id": "f546b80a-df1d-4227-b236-d25597689f9c",
   "metadata": {
    "id": "D3APTy6we--C"
   },
   "source": [
    "*Question: Which of these two metrics is more important for a the nonprofit?*\n",
    "\n",
    "..."
   ]
  },
  {
   "cell_type": "markdown",
   "id": "368540a3-d328-4f7f-b8fe-5776f2fbb291",
   "metadata": {},
   "source": [
    " "
   ]
  },
  {
   "cell_type": "code",
   "execution_count": 10,
   "id": "1a0b0a9d-05ff-410c-9045-227beaca622e",
   "metadata": {},
   "outputs": [
    {
     "name": "stdout",
     "output_type": "stream",
     "text": [
      "For the logistic regression with 56.55% accuracy:\n",
      "The precision is 56.32%.\n",
      "The recall is 58.41%.\n",
      "\n",
      "For the decision tree with 55.99% accuracy:\n",
      "The precision is 55.79%.\n",
      "The recall is 57.69%.\n",
      "\n",
      "For the random forest with 58.88% accuracy:\n",
      "The precision is 59.60%.\n",
      "The recall is 55.11%.\n"
     ]
    }
   ],
   "source": [
    "# Let's calculate these metrics for the two trained models.\n",
    "\n",
    "print(f\"For the logistic regression with {accuracy_lr:.2%} accuracy:\")\n",
    "print(f\"The precision is {cm_lr[1,1]/sum(cm_lr[:,1]):.2%}.\")\n",
    "print(f\"The recall is {cm_lr[1,1]/sum(cm_lr[1,:]):.2%}.\")\n",
    "\n",
    "print(f\"\\nFor the decision tree with {accuracy_dt:.2%} accuracy:\")\n",
    "print(f\"The precision is {cm_dt[1,1]/sum(cm_dt[:,1]):.2%}.\")\n",
    "print(f\"The recall is {cm_dt[1,1]/sum(cm_dt[1,:]):.2%}.\")\n",
    "\n",
    "print(f\"\\nFor the random forest with {accuracy_rf:.2%} accuracy:\")\n",
    "print(f\"The precision is {cm_rf[1,1]/sum(cm_rf[:,1]):.2%}.\")\n",
    "print(f\"The recall is {cm_rf[1,1]/sum(cm_rf[1,:]):.2%}.\")\n",
    "\n",
    "# Alternatively, we can also use sklearn.metrics.precision_score() and sklearn.metrics.recall_score"
   ]
  },
  {
   "cell_type": "markdown",
   "id": "b457ee19-52f2-4f23-99c1-f8c44a868884",
   "metadata": {},
   "source": [
    "***In practice, precision and recall can often be conflicting objectives.*** In the KDD98 case, for example, one way to improve recall is to flag more people as predicted donors. Think about the extreme: if we predict all people are donors, we would be able to catch all true donors and thus achieve perfect recall! However, this strategy also means that we are mistakenly labeling more people as donors who actually would not donate, a.k.a., the precision is going down.\n",
    "\n",
    "How a trained model should balance between precision and recall is a core issue in the study of performance metrics. The metric below is one example that tries to balance these two."
   ]
  },
  {
   "cell_type": "markdown",
   "id": "0d133eac-fa6d-4a6b-954a-b9c6d00ac7b5",
   "metadata": {},
   "source": [
    "## Metric: F1 score -- trying to balance between precision and recall"
   ]
  },
  {
   "cell_type": "markdown",
   "id": "33a037a3-e58d-4ce6-aa9a-67bedbaedbba",
   "metadata": {
    "id": "D3APTy6we--C"
   },
   "source": [
    "**F1 score** is a weighted average of the precision and recall. The idea is to punish predictions that do not balance between precision and recall.\n",
    "\n",
    "$$f1 = \\frac{2 * precision * recall}{precision + recall}$$"
   ]
  },
  {
   "cell_type": "code",
   "execution_count": 11,
   "id": "330c9ecb-858e-4a3e-82c0-678dbfc445b8",
   "metadata": {},
   "outputs": [
    {
     "name": "stdout",
     "output_type": "stream",
     "text": [
      "The F1 score of the logistic regression model is 0.5734549138804458\n",
      "The F1 score of the decisioin tree model is 0.5672247590055809\n",
      "The F1 score of the random forest model is 0.5726541554959786\n"
     ]
    }
   ],
   "source": [
    "from sklearn.metrics import f1_score\n",
    "\n",
    "y_predict_lr = clf_lr.predict(X_test)\n",
    "print(f\"The F1 score of the logistic regression model is {f1_score(y_test, y_predict_lr)}\")\n",
    "\n",
    "y_predict_dt = clf_dt.predict(X_test)\n",
    "print(f\"The F1 score of the decisioin tree model is {f1_score(y_test, y_predict_dt)}\")\n",
    "\n",
    "y_predict_rf = clf_rf.predict(X_test)\n",
    "print(f\"The F1 score of the random forest model is {f1_score(y_test, y_predict_rf)}\")"
   ]
  },
  {
   "cell_type": "markdown",
   "id": "02557c04-81a3-431e-ba24-d959bca63867",
   "metadata": {},
   "source": [
    "The logistic regression model got a slightly larger F1 score than the random forest model. This is because the former got roughly balanced precision and recall values for this dataset.\n",
    "\n",
    "So, if we care not only about how many mistakes our model is making, ***but also whether these mistakes are balanced across the two types (false positives and false negatives)***, F1 score can be a better performance metric than accuracy."
   ]
  },
  {
   "cell_type": "markdown",
   "id": "fdefaebb-206f-4e48-bb55-3863671034eb",
   "metadata": {},
   "source": [
    "## Value prediction versus probability prediction"
   ]
  },
  {
   "cell_type": "markdown",
   "id": "f9cddb47-3298-4358-a393-5f8d2e13f92f",
   "metadata": {
    "id": "Mp7rXXdFtFHB"
   },
   "source": [
    "All metrics we discussed so far are built on the ***target value/label predictions from `clf.predict()`***. In the LendingClub case, for example, the output of `clf.predict()` for each record in X_test is one of two possible values: 0 (predicted not to default) and 1 (predicted to default).\n",
    "\n",
    "In addition to the value predictions, a trained model in scikit-learn also produces ***probability estimates via `clf.predict_proba()`***. Let's use the random forest as an example. "
   ]
  },
  {
   "cell_type": "code",
   "execution_count": 12,
   "id": "52ae30d0-9375-47f7-9ad4-c2cf7e9b591a",
   "metadata": {
    "id": "6pz16GTbTPhX"
   },
   "outputs": [
    {
     "data": {
      "text/html": [
       "<div>\n",
       "<style scoped>\n",
       "    .dataframe tbody tr th:only-of-type {\n",
       "        vertical-align: middle;\n",
       "    }\n",
       "\n",
       "    .dataframe tbody tr th {\n",
       "        vertical-align: top;\n",
       "    }\n",
       "\n",
       "    .dataframe thead th {\n",
       "        text-align: right;\n",
       "    }\n",
       "</style>\n",
       "<table border=\"1\" class=\"dataframe\">\n",
       "  <thead>\n",
       "    <tr style=\"text-align: right;\">\n",
       "      <th></th>\n",
       "      <th>y_test</th>\n",
       "      <th>y_predict</th>\n",
       "      <th>y_predict_proba_1</th>\n",
       "    </tr>\n",
       "  </thead>\n",
       "  <tbody>\n",
       "    <tr>\n",
       "      <th>0</th>\n",
       "      <td>1</td>\n",
       "      <td>1</td>\n",
       "      <td>0.548155</td>\n",
       "    </tr>\n",
       "    <tr>\n",
       "      <th>1</th>\n",
       "      <td>0</td>\n",
       "      <td>0</td>\n",
       "      <td>0.352036</td>\n",
       "    </tr>\n",
       "    <tr>\n",
       "      <th>2</th>\n",
       "      <td>0</td>\n",
       "      <td>1</td>\n",
       "      <td>0.586016</td>\n",
       "    </tr>\n",
       "    <tr>\n",
       "      <th>3</th>\n",
       "      <td>0</td>\n",
       "      <td>0</td>\n",
       "      <td>0.474773</td>\n",
       "    </tr>\n",
       "    <tr>\n",
       "      <th>4</th>\n",
       "      <td>0</td>\n",
       "      <td>1</td>\n",
       "      <td>0.660895</td>\n",
       "    </tr>\n",
       "    <tr>\n",
       "      <th>...</th>\n",
       "      <td>...</td>\n",
       "      <td>...</td>\n",
       "      <td>...</td>\n",
       "    </tr>\n",
       "    <tr>\n",
       "      <th>1933</th>\n",
       "      <td>0</td>\n",
       "      <td>0</td>\n",
       "      <td>0.494971</td>\n",
       "    </tr>\n",
       "    <tr>\n",
       "      <th>1934</th>\n",
       "      <td>1</td>\n",
       "      <td>0</td>\n",
       "      <td>0.464156</td>\n",
       "    </tr>\n",
       "    <tr>\n",
       "      <th>1935</th>\n",
       "      <td>0</td>\n",
       "      <td>0</td>\n",
       "      <td>0.417309</td>\n",
       "    </tr>\n",
       "    <tr>\n",
       "      <th>1936</th>\n",
       "      <td>0</td>\n",
       "      <td>1</td>\n",
       "      <td>0.610241</td>\n",
       "    </tr>\n",
       "    <tr>\n",
       "      <th>1937</th>\n",
       "      <td>0</td>\n",
       "      <td>0</td>\n",
       "      <td>0.421434</td>\n",
       "    </tr>\n",
       "  </tbody>\n",
       "</table>\n",
       "<p>1938 rows × 3 columns</p>\n",
       "</div>"
      ],
      "text/plain": [
       "      y_test  y_predict  y_predict_proba_1\n",
       "0          1          1           0.548155\n",
       "1          0          0           0.352036\n",
       "2          0          1           0.586016\n",
       "3          0          0           0.474773\n",
       "4          0          1           0.660895\n",
       "...      ...        ...                ...\n",
       "1933       0          0           0.494971\n",
       "1934       1          0           0.464156\n",
       "1935       0          0           0.417309\n",
       "1936       0          1           0.610241\n",
       "1937       0          0           0.421434\n",
       "\n",
       "[1938 rows x 3 columns]"
      ]
     },
     "execution_count": 12,
     "metadata": {},
     "output_type": "execute_result"
    }
   ],
   "source": [
    "# Value/label prediction\n",
    "y_predict = clf_rf.predict(X_test)\n",
    "\n",
    "# Probability estimation\n",
    "y_predict_proba = clf_rf.predict_proba(X_test)\n",
    "\n",
    "# Put them into a DataFrame for ease of comparison\n",
    "record_level_predictions = pd.DataFrame({'y_test':y_test.to_numpy(),\n",
    "                                         'y_predict':y_predict,\n",
    "                                         'y_predict_proba_1':y_predict_proba[:,1]})\n",
    "record_level_predictions"
   ]
  },
  {
   "cell_type": "markdown",
   "id": "924974bd-340f-4efa-9731-5de1cdf73e55",
   "metadata": {
    "id": "N4RJocDRTGXh"
   },
   "source": [
    "As shown above, RandomForestClassifier produces record-by-record binary predictions via its `predict()` method, as shown in the \"y_predict\" column above. It also produces record-by-record probability estimates via its `predict_proba()` method, as shown in the \"y_predict_proba\" column above.\n",
    "+ For example, for the first record, clf_rf predicts that the target value should be 1, and it estimates that the probability of the target being 1 is 0.548155\n",
    "    + By default, if y_predict_proba_1<0.5, y_predict is set to 0; if y_predict_proba_1>0.5, y_predict is set to 1\n",
    "        + Do you agree with this default threshold value of 0.5?\n",
    "    \n",
    "The probability estimates are useful in ranking the predictions:"
   ]
  },
  {
   "cell_type": "code",
   "execution_count": 13,
   "id": "4bc824ed-7d5e-4f13-8056-a89153d94c64",
   "metadata": {},
   "outputs": [
    {
     "data": {
      "text/html": [
       "<div>\n",
       "<style scoped>\n",
       "    .dataframe tbody tr th:only-of-type {\n",
       "        vertical-align: middle;\n",
       "    }\n",
       "\n",
       "    .dataframe tbody tr th {\n",
       "        vertical-align: top;\n",
       "    }\n",
       "\n",
       "    .dataframe thead th {\n",
       "        text-align: right;\n",
       "    }\n",
       "</style>\n",
       "<table border=\"1\" class=\"dataframe\">\n",
       "  <thead>\n",
       "    <tr style=\"text-align: right;\">\n",
       "      <th></th>\n",
       "      <th>y_test</th>\n",
       "      <th>y_predict</th>\n",
       "      <th>y_predict_proba_1</th>\n",
       "    </tr>\n",
       "  </thead>\n",
       "  <tbody>\n",
       "    <tr>\n",
       "      <th>1889</th>\n",
       "      <td>1</td>\n",
       "      <td>1</td>\n",
       "      <td>0.768516</td>\n",
       "    </tr>\n",
       "    <tr>\n",
       "      <th>1520</th>\n",
       "      <td>1</td>\n",
       "      <td>1</td>\n",
       "      <td>0.754665</td>\n",
       "    </tr>\n",
       "    <tr>\n",
       "      <th>1555</th>\n",
       "      <td>1</td>\n",
       "      <td>1</td>\n",
       "      <td>0.751297</td>\n",
       "    </tr>\n",
       "    <tr>\n",
       "      <th>1624</th>\n",
       "      <td>1</td>\n",
       "      <td>1</td>\n",
       "      <td>0.739171</td>\n",
       "    </tr>\n",
       "    <tr>\n",
       "      <th>1124</th>\n",
       "      <td>0</td>\n",
       "      <td>1</td>\n",
       "      <td>0.738744</td>\n",
       "    </tr>\n",
       "    <tr>\n",
       "      <th>...</th>\n",
       "      <td>...</td>\n",
       "      <td>...</td>\n",
       "      <td>...</td>\n",
       "    </tr>\n",
       "    <tr>\n",
       "      <th>676</th>\n",
       "      <td>1</td>\n",
       "      <td>0</td>\n",
       "      <td>0.328067</td>\n",
       "    </tr>\n",
       "    <tr>\n",
       "      <th>776</th>\n",
       "      <td>0</td>\n",
       "      <td>0</td>\n",
       "      <td>0.327360</td>\n",
       "    </tr>\n",
       "    <tr>\n",
       "      <th>1712</th>\n",
       "      <td>1</td>\n",
       "      <td>0</td>\n",
       "      <td>0.324378</td>\n",
       "    </tr>\n",
       "    <tr>\n",
       "      <th>1853</th>\n",
       "      <td>1</td>\n",
       "      <td>0</td>\n",
       "      <td>0.321463</td>\n",
       "    </tr>\n",
       "    <tr>\n",
       "      <th>1225</th>\n",
       "      <td>0</td>\n",
       "      <td>0</td>\n",
       "      <td>0.293495</td>\n",
       "    </tr>\n",
       "  </tbody>\n",
       "</table>\n",
       "<p>1938 rows × 3 columns</p>\n",
       "</div>"
      ],
      "text/plain": [
       "      y_test  y_predict  y_predict_proba_1\n",
       "1889       1          1           0.768516\n",
       "1520       1          1           0.754665\n",
       "1555       1          1           0.751297\n",
       "1624       1          1           0.739171\n",
       "1124       0          1           0.738744\n",
       "...      ...        ...                ...\n",
       "676        1          0           0.328067\n",
       "776        0          0           0.327360\n",
       "1712       1          0           0.324378\n",
       "1853       1          0           0.321463\n",
       "1225       0          0           0.293495\n",
       "\n",
       "[1938 rows x 3 columns]"
      ]
     },
     "execution_count": 13,
     "metadata": {},
     "output_type": "execute_result"
    }
   ],
   "source": [
    "record_level_predictions.sort_values(by='y_predict_proba_1', ascending=False)"
   ]
  },
  {
   "cell_type": "markdown",
   "id": "9803cc72-0d5c-413f-95e2-b1569a1ce425",
   "metadata": {},
   "source": [
    "*Question: If you are in charge of the solicitation campaign? Which potential donor would you reach out first? Second? ...*\n",
    "\n",
    "..."
   ]
  },
  {
   "cell_type": "markdown",
   "id": "f8419114-a953-4836-87a2-9de27b851b72",
   "metadata": {
    "id": "h8iS8oTaab2c"
   },
   "source": [
    "## The ROC curve\n",
    "\n",
    "When reaching out to potential donors, the logical sequence is to reach out to the one with the highest probability of donation first. Then, the one with the 2nd highest probability of donation second. And so on. \n",
    "Suppose that we ask the following two questions after adding *each* new potential donor:\n",
    "+ What is the **true positive rate** now?\n",
    "+ What is the **false positive rate** now?\n",
    "\n",
    "The result is the receiver operating characteristic curve, or [**ROC curve**](https://en.wikipedia.org/wiki/Receiver_operating_characteristic). Below we plot the ROC curves for the three trained models."
   ]
  },
  {
   "cell_type": "code",
   "execution_count": 14,
   "id": "e71bf523-6314-4ed5-a4c8-ff019e319169",
   "metadata": {},
   "outputs": [],
   "source": [
    "import matplotlib.pyplot as plt\n",
    "from sklearn.metrics import plot_roc_curve"
   ]
  },
  {
   "cell_type": "code",
   "execution_count": null,
   "id": "4001e8c1-6ac9-46a6-bc93-d28876460003",
   "metadata": {},
   "outputs": [],
   "source": []
  },
  {
   "cell_type": "code",
   "execution_count": 15,
   "id": "880d1be9-0327-459d-b088-4c69807f125d",
   "metadata": {},
   "outputs": [
    {
     "data": {
      "image/png": "[encoded data removed]",
      "text/plain": [
       "<Figure size 1080x720 with 1 Axes>"
      ]
     },
     "metadata": {
      "needs_background": "light"
     },
     "output_type": "display_data"
    }
   ],
   "source": [
    "fig, ax = plt.subplots(figsize=(15, 10))\n",
    "plot_roc_curve(clf_rf, X_test, y_test, ax=ax)\n",
    "plot_roc_curve(clf_dt, X_test, y_test, ax=ax)\n",
    "plot_roc_curve(clf_lr, X_test, y_test, ax=ax)\n",
    "ax.plot([0,1],[0,1], 'k:')\n",
    "plt.title('ROC curves')\n",
    "plt.show()"
   ]
  },
  {
   "cell_type": "markdown",
   "id": "22ef5c3a-12ad-4d04-9331-2eb36def53ee",
   "metadata": {
    "id": "h8iS8oTaab2c"
   },
   "source": [
    "## Metric: AUC"
   ]
  },
  {
   "cell_type": "markdown",
   "id": "cf6acc21-3793-458b-8ba0-56413ecb3801",
   "metadata": {
    "id": "h8iS8oTaab2c"
   },
   "source": [
    "\"AUC\" refers to the size of the \"area under the ROC curve.\" \n",
    "\n",
    "It can be derived using `roc_auc_score(y_test, y_predict_proba[:,1])`. This value is always between 0.5 and 1. A larger number means a better model performance. Let's calculate AUC for the trained random forest:"
   ]
  },
  {
   "cell_type": "code",
   "execution_count": 16,
   "id": "1b712a4e-964d-47af-a3fd-5ba1ae6bd831",
   "metadata": {
    "id": "bgeiuPzSObhr"
   },
   "outputs": [
    {
     "data": {
      "text/plain": [
       "0.6194676882213425"
      ]
     },
     "execution_count": 16,
     "metadata": {},
     "output_type": "execute_result"
    }
   ],
   "source": [
    "from sklearn.metrics import roc_auc_score\n",
    "roc_auc_score(y_test, clf_rf.predict_proba(X_test)[:,1])"
   ]
  },
  {
   "cell_type": "markdown",
   "id": "17ce8a04-8372-41a6-bbb2-b1f8ef20971c",
   "metadata": {},
   "source": [
    "Unlike the metrics before, AUC explicitly takes into consideration ***the strength of every prediction*** in terms of the probability estimates. "
   ]
  }
 ],
 "metadata": {
  "kernelspec": {
   "display_name": "Python 3 (ipykernel)",
   "language": "python",
   "name": "python3"
  },
  "language_info": {
   "codemirror_mode": {
    "name": "ipython",
    "version": 3
   },
   "file_extension": ".py",
   "mimetype": "text/x-python",
   "name": "python",
   "nbconvert_exporter": "python",
   "pygments_lexer": "ipython3",
   "version": "3.9.7"
  }
 },
 "nbformat": 4,
 "nbformat_minor": 5
}
