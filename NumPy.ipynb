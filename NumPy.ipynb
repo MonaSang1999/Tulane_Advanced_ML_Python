{
 "cells": [
  {
   "cell_type": "markdown",
   "id": "4109c78c-6468-40ca-8b1c-4c5443b93945",
   "metadata": {
    "id": "Psst0YbIDOlT"
   },
   "source": [
    "# NumPy\n",
    "\n",
    "Numpy is a powerful package for fast array/matrix computing. It is the fundation for other scientific computing and data analytics packages in Python. \n",
    "\n",
    "- a powerful N-dimensional array object\n",
    "- sophisticated (broadcasting) functions\n",
    "- tools for integrating C/C++ and Fortran code\n",
    "- useful linear algebra, Fourier transformation, and random number capabilities\n",
    "\n",
    "We only cover NumPy topics frequently used in analytics. See <a href=\"https://www.numpy.org/devdocs/user/quickstart.html\">the official NumPy tutorial at numpy.org</a> for a complete guide."
   ]
  },
  {
   "cell_type": "markdown",
   "id": "0eea3adc-2eb9-4cf1-893a-a0dd8cdd1fb1",
   "metadata": {
    "id": "I_pCmDeUDOlY"
   },
   "source": [
    "## Basics"
   ]
  },
  {
   "cell_type": "markdown",
   "id": "19b7bd83-9236-4908-b5f7-db5929dec3f9",
   "metadata": {
    "id": "G5L1MnMuDOlY"
   },
   "source": [
    "### Import the NumPy package\n",
    "To use NumPy, you need to first import the NumPy package. It is a well-accepted convention to use \"np\" as an alias for this package:"
   ]
  },
  {
   "cell_type": "code",
   "execution_count": 1,
   "id": "1f18d387-71cb-4c5c-bc98-8f60b15730f5",
   "metadata": {
    "id": "7Y2vDuPnDOlY"
   },
   "outputs": [],
   "source": [
    "import numpy as np"
   ]
  },
  {
   "cell_type": "markdown",
   "id": "1ac0e7a4-3555-47d7-b4f0-a47a7bd9de41",
   "metadata": {
    "id": "GqK0snK3DOlZ"
   },
   "source": [
    "### Create ndarray object\n",
    "At the core of NumPy is the `ndarray` object, an N-dimensional array object of homogeneous data types. `ndarray` is also called `array` as the latter is an alias of the former in NumPy."
   ]
  },
  {
   "cell_type": "markdown",
   "id": "d8c5eb49-6c84-4b3a-adaa-d2cb38f92668",
   "metadata": {
    "id": "pqBE3_WIDOlZ"
   },
   "source": [
    "We can convert Python Lists to ndarray object using `numpy.array()`:"
   ]
  },
  {
   "cell_type": "code",
   "execution_count": 2,
   "id": "729a1a38-00b8-47a3-9860-484af7666be3",
   "metadata": {
    "id": "9y3L25cSDOlZ"
   },
   "outputs": [],
   "source": [
    "# create ndarray from list\n",
    "x = [1, 2, 3, 4]\n",
    "arr1 = np.array(x)"
   ]
  },
  {
   "cell_type": "code",
   "execution_count": 3,
   "id": "f1002c5f-2cad-44a7-b3ff-f72ea67e2b04",
   "metadata": {
    "id": "b9NIyE_sDOla"
   },
   "outputs": [
    {
     "data": {
      "text/plain": [
       "numpy.ndarray"
      ]
     },
     "execution_count": 3,
     "metadata": {},
     "output_type": "execute_result"
    }
   ],
   "source": [
    "type(arr1)"
   ]
  },
  {
   "cell_type": "code",
   "execution_count": 4,
   "id": "c6563d19-0d3f-4e72-a759-0b1297e50ecb",
   "metadata": {
    "id": "3ja1wErqDOla"
   },
   "outputs": [
    {
     "data": {
      "text/plain": [
       "list"
      ]
     },
     "execution_count": 4,
     "metadata": {},
     "output_type": "execute_result"
    }
   ],
   "source": [
    "type(x)"
   ]
  },
  {
   "cell_type": "markdown",
   "id": "b41dfe7f-975e-4683-b884-30f399d6d380",
   "metadata": {
    "id": "6duVhLH2DOla"
   },
   "source": [
    "Exercise: Create ndarray from list [[1,2,3,4], [5, 6, 7, 8]], and print it."
   ]
  },
  {
   "cell_type": "code",
   "execution_count": 6,
   "id": "0f6fc223-1267-4a2d-b9e4-e4ba89699a35",
   "metadata": {
    "id": "XZUIaQBVDOla"
   },
   "outputs": [
    {
     "name": "stdout",
     "output_type": "stream",
     "text": [
      "[[1, 2, 3, 4], [5, 6, 7, 8]]\n"
     ]
    }
   ],
   "source": [
    "ndarray=[[1,2,3,4], [5, 6, 7, 8]]\n",
    "print(ndarray)"
   ]
  },
  {
   "cell_type": "markdown",
   "id": "0653cf1e-8a49-4f27-8037-4740690449b9",
   "metadata": {
    "id": "_GAY-7V4DOla"
   },
   "source": [
    "We can also create ndarray objects using built-in NumPy functions: `arange`, `ones`, `zeros`, `empty`, `eye`"
   ]
  },
  {
   "cell_type": "code",
   "execution_count": 7,
   "id": "348716ec-278a-4e12-829b-4d57abe7cbd5",
   "metadata": {
    "id": "TWGSpqKiDOlb",
    "scrolled": true
   },
   "outputs": [
    {
     "data": {
      "text/plain": [
       "array([2, 4, 6, 8])"
      ]
     },
     "execution_count": 7,
     "metadata": {},
     "output_type": "execute_result"
    }
   ],
   "source": [
    "# arange() for ndarray is similar to range() for list\n",
    "np.arange(2, 10, 2)"
   ]
  },
  {
   "cell_type": "code",
   "execution_count": 8,
   "id": "18f9668f-a00c-4e07-bef1-3d8b2ee17f1d",
   "metadata": {
    "id": "7KWuBpKVGHxx"
   },
   "outputs": [
    {
     "data": {
      "text/plain": [
       "array([1., 1., 1., 1.])"
      ]
     },
     "execution_count": 8,
     "metadata": {},
     "output_type": "execute_result"
    }
   ],
   "source": [
    "np.ones(4)"
   ]
  },
  {
   "cell_type": "code",
   "execution_count": 9,
   "id": "55b89ea8-1925-4d3c-972e-c6ebee213275",
   "metadata": {
    "id": "InmMmBGZDOlb"
   },
   "outputs": [
    {
     "data": {
      "text/plain": [
       "array([[1., 1., 1.],\n",
       "       [1., 1., 1.]])"
      ]
     },
     "execution_count": 9,
     "metadata": {},
     "output_type": "execute_result"
    }
   ],
   "source": [
    "np.ones([2, 3])\n",
    "# This can also be written as np.ones((2, 3))"
   ]
  },
  {
   "cell_type": "markdown",
   "id": "b5029fd8-0489-489d-8ee2-e3e9839cc95e",
   "metadata": {
    "id": "aRzgfcZhDOlb"
   },
   "source": [
    "### Exercises"
   ]
  },
  {
   "cell_type": "markdown",
   "id": "a221bda5-fc27-49d4-8d12-890fb51ab5c8",
   "metadata": {
    "id": "BLEwe1l1DOlb"
   },
   "source": [
    "Create 3x4 array with all ones"
   ]
  },
  {
   "cell_type": "code",
   "execution_count": 10,
   "id": "e9b740d6-7c1b-437e-a3ff-475e003ccfc4",
   "metadata": {
    "id": "zKMO6BgADOlb"
   },
   "outputs": [
    {
     "data": {
      "text/plain": [
       "array([[1., 1., 1., 1.],\n",
       "       [1., 1., 1., 1.],\n",
       "       [1., 1., 1., 1.]])"
      ]
     },
     "execution_count": 10,
     "metadata": {},
     "output_type": "execute_result"
    }
   ],
   "source": [
    "np.ones([3,4])"
   ]
  },
  {
   "cell_type": "markdown",
   "id": "ee0921e1-768e-4d5c-a3be-08712e1813cd",
   "metadata": {
    "id": "iLIJzsgZDOlc"
   },
   "source": [
    "Create 4x4 array of all zeros"
   ]
  },
  {
   "cell_type": "code",
   "execution_count": 11,
   "id": "e0aaac92-f4dd-4644-8ddf-e77460e0c075",
   "metadata": {
    "id": "ktiCPiZ2DOlc"
   },
   "outputs": [
    {
     "data": {
      "text/plain": [
       "array([[0., 0., 0., 0.],\n",
       "       [0., 0., 0., 0.],\n",
       "       [0., 0., 0., 0.],\n",
       "       [0., 0., 0., 0.]])"
      ]
     },
     "execution_count": 11,
     "metadata": {},
     "output_type": "execute_result"
    }
   ],
   "source": [
    "np.zeros([4,4])"
   ]
  },
  {
   "cell_type": "markdown",
   "id": "59b0c3de-fde2-4650-94f9-a60ba9451352",
   "metadata": {
    "id": "n4Kiq3cVDOlc"
   },
   "source": [
    "Try `np.empty(5)` and `np.empty(10)`, and observe the outputs. It is a good habit to google any function that is not obvious to you when trying it.\n",
    "+ Or, use the Tab key for quick help."
   ]
  },
  {
   "cell_type": "code",
   "execution_count": 12,
   "id": "ba77af45-577e-41ae-95db-24ab4784643c",
   "metadata": {
    "id": "cgUo5Z52DOlc"
   },
   "outputs": [
    {
     "data": {
      "text/plain": [
       "array([1.15611963e-311, 4.32673299e-307, 1.33360363e+241, 9.39106209e+093,\n",
       "       3.51074257e-312])"
      ]
     },
     "execution_count": 12,
     "metadata": {},
     "output_type": "execute_result"
    }
   ],
   "source": [
    "np.empty(5)"
   ]
  },
  {
   "cell_type": "code",
   "execution_count": 13,
   "id": "b24cff59-9995-4f98-930f-718c9137dbd0",
   "metadata": {
    "id": "E1IKXKqNDOlc"
   },
   "outputs": [
    {
     "data": {
      "text/plain": [
       "array([1.15611820e-311, 1.77863633e-322, 0.00000000e+000, 0.00000000e+000,\n",
       "       1.15436571e-311, 5.10873596e-066, 3.27042117e+179, 4.71081280e-090,\n",
       "       4.76441576e-038, 1.15482334e-311])"
      ]
     },
     "execution_count": 13,
     "metadata": {},
     "output_type": "execute_result"
    }
   ],
   "source": [
    "np.empty(10)"
   ]
  },
  {
   "cell_type": "markdown",
   "id": "5aaf1920-7032-4136-afc9-57572aa26aa6",
   "metadata": {
    "id": "JmpAh_NxDOlc"
   },
   "source": [
    "### The properties of ndarray object\n",
    "check array **properties** `.ndim`, `.shape`, `.dtype`"
   ]
  },
  {
   "cell_type": "code",
   "execution_count": 18,
   "id": "6772b629-a6a8-4742-9b8f-a58bb41b36c9",
   "metadata": {
    "id": "8IFun_QPDOlc"
   },
   "outputs": [
    {
     "name": "stdout",
     "output_type": "stream",
     "text": [
      "[[ 0  1  2  3  4]\n",
      " [ 5  6  7  8  9]\n",
      " [10 11 12 13 14]]\n"
     ]
    }
   ],
   "source": [
    "x = np.array([[ 0,  1,  2,  3,  4],\n",
    "              [ 5,  6,  7,  8,  9],\n",
    "              [10, 11, 12, 13, 14]])\n",
    "print(x)"
   ]
  },
  {
   "cell_type": "markdown",
   "id": "2ec5e434-641c-4f5a-9591-e3dc599b67ef",
   "metadata": {
    "id": "KYkPPaesDOld"
   },
   "source": [
    "Find out dimension of x"
   ]
  },
  {
   "cell_type": "code",
   "execution_count": 15,
   "id": "c120a1ad-27ed-4052-837e-1a9851624aad",
   "metadata": {
    "id": "t_OB-qrvDOld"
   },
   "outputs": [
    {
     "data": {
      "text/plain": [
       "2"
      ]
     },
     "execution_count": 15,
     "metadata": {},
     "output_type": "execute_result"
    }
   ],
   "source": [
    "x.ndim"
   ]
  },
  {
   "cell_type": "markdown",
   "id": "3930aa4e-f798-4219-b7d6-57bb2e388e9f",
   "metadata": {
    "id": "bRcBTXcsDOld"
   },
   "source": [
    "Find out shape of x"
   ]
  },
  {
   "cell_type": "code",
   "execution_count": 16,
   "id": "2cc0197e-b189-44f2-9463-90be76d21caf",
   "metadata": {
    "id": "z-GhDso1DOld"
   },
   "outputs": [
    {
     "data": {
      "text/plain": [
       "(3, 5)"
      ]
     },
     "execution_count": 16,
     "metadata": {},
     "output_type": "execute_result"
    }
   ],
   "source": [
    "x.shape"
   ]
  },
  {
   "cell_type": "markdown",
   "id": "28400e5a-de7b-4a82-acab-38e1a23797f6",
   "metadata": {
    "id": "2BtTcwd0DOld"
   },
   "source": [
    "Find out data type of x"
   ]
  },
  {
   "cell_type": "code",
   "execution_count": 20,
   "id": "7409ac2c-5c88-4dc4-8673-6bb78bc48045",
   "metadata": {
    "id": "nbUDInqUDOld"
   },
   "outputs": [
    {
     "data": {
      "text/plain": [
       "numpy.ndarray"
      ]
     },
     "execution_count": 20,
     "metadata": {},
     "output_type": "execute_result"
    }
   ],
   "source": [
    "type(x)"
   ]
  },
  {
   "cell_type": "markdown",
   "id": "14880ab7-1866-48fa-a34f-80d1c2fef1f4",
   "metadata": {
    "id": "4HHdoNvmDOld"
   },
   "source": [
    "Notice that `type(x)` and `x.dtype` serve different purposes!"
   ]
  },
  {
   "cell_type": "markdown",
   "id": "52ef6038-7c9c-4b88-9103-5ed27f978e50",
   "metadata": {
    "id": "XBh_d5zGDOld"
   },
   "source": [
    "### Change data types for ndarrays"
   ]
  },
  {
   "cell_type": "code",
   "execution_count": 21,
   "id": "76a2f3f1-d5a7-4d84-a204-93c4773414af",
   "metadata": {
    "id": "MvFtofr6DOle"
   },
   "outputs": [],
   "source": [
    "x = np.array([1.3, 2.4, 3.5])"
   ]
  },
  {
   "cell_type": "code",
   "execution_count": 22,
   "id": "ee02afb1-33ae-4937-b117-318c5f32c485",
   "metadata": {
    "id": "SwKHfaVSDOle"
   },
   "outputs": [
    {
     "data": {
      "text/plain": [
       "dtype('float64')"
      ]
     },
     "execution_count": 22,
     "metadata": {},
     "output_type": "execute_result"
    }
   ],
   "source": [
    "x.dtype"
   ]
  },
  {
   "cell_type": "markdown",
   "id": "9f9475e5-3d57-4b05-999c-b83ace70e2b5",
   "metadata": {
    "id": "PHKueDNcDOle"
   },
   "source": [
    "There are two equivalent ways to change data type of ndarray object:"
   ]
  },
  {
   "cell_type": "code",
   "execution_count": 23,
   "id": "bdd66cf7-7664-4510-9fec-c7bdebd2f2e0",
   "metadata": {
    "id": "SJQpEixtDOle"
   },
   "outputs": [
    {
     "data": {
      "text/plain": [
       "dtype('int32')"
      ]
     },
     "execution_count": 23,
     "metadata": {},
     "output_type": "execute_result"
    }
   ],
   "source": [
    "# option 1\n",
    "y = np.array(x, dtype='int')\n",
    "y.dtype"
   ]
  },
  {
   "cell_type": "code",
   "execution_count": 24,
   "id": "d4aecd72-0adf-4121-8f21-e0ac524d269f",
   "metadata": {
    "id": "4UMeXEl6DOle"
   },
   "outputs": [
    {
     "data": {
      "text/plain": [
       "array([1, 2, 3])"
      ]
     },
     "execution_count": 24,
     "metadata": {},
     "output_type": "execute_result"
    }
   ],
   "source": [
    "# option 2\n",
    "y = x.astype(int)\n",
    "y"
   ]
  },
  {
   "cell_type": "markdown",
   "id": "191369e7-bf21-423c-b232-54d1fd6b7904",
   "metadata": {
    "id": "5al-QnH0DOle"
   },
   "source": [
    "## Operations between arrays"
   ]
  },
  {
   "cell_type": "markdown",
   "id": "8e07dc33-0d28-47ea-ba50-2f3dd3e6a3a3",
   "metadata": {
    "id": "j2k3-bZFDOle"
   },
   "source": [
    "### Two arrays of the same shape\n",
    "Any arithmetic operations between equal-size arrays applies the operation *element-wise* \n",
    "- (Not required) This is often called **vectorization**. Modern CPUs/GPUs are often designed for fast vectorization operations"
   ]
  },
  {
   "cell_type": "code",
   "execution_count": 25,
   "id": "8d80bc83-f4d8-4edb-ae87-a0466a2b3b6f",
   "metadata": {
    "id": "ifLWZqviDOlf"
   },
   "outputs": [
    {
     "data": {
      "text/plain": [
       "array([[1., 1., 1., 1., 1.],\n",
       "       [1., 1., 1., 1., 1.],\n",
       "       [1., 1., 1., 1., 1.],\n",
       "       [1., 1., 1., 1., 1.]])"
      ]
     },
     "execution_count": 25,
     "metadata": {},
     "output_type": "execute_result"
    }
   ],
   "source": [
    "x = np.ones([4, 5])\n",
    "x"
   ]
  },
  {
   "cell_type": "code",
   "execution_count": 26,
   "id": "1d81df05-e942-48d0-895a-ffa1727fa1b8",
   "metadata": {
    "id": "HC-d9T-hDOlf"
   },
   "outputs": [
    {
     "data": {
      "text/plain": [
       "array([[ 0,  1,  2,  3,  4],\n",
       "       [ 5,  6,  7,  8,  9],\n",
       "       [10, 11, 12, 13, 14],\n",
       "       [15, 16, 17, 18, 19]])"
      ]
     },
     "execution_count": 26,
     "metadata": {},
     "output_type": "execute_result"
    }
   ],
   "source": [
    "# ndarray.reshape() is a popularly used method to change the shape of an array.\n",
    "y = np.arange(20).reshape((4, 5))\n",
    "y"
   ]
  },
  {
   "cell_type": "code",
   "execution_count": 27,
   "id": "20c5c8cc-c05b-46ab-a1ea-8f84d94c55bf",
   "metadata": {
    "id": "FLNEpmgRDOlf"
   },
   "outputs": [
    {
     "data": {
      "text/plain": [
       "array([[ 1.,  2.,  3.,  4.,  5.],\n",
       "       [ 6.,  7.,  8.,  9., 10.],\n",
       "       [11., 12., 13., 14., 15.],\n",
       "       [16., 17., 18., 19., 20.]])"
      ]
     },
     "execution_count": 27,
     "metadata": {},
     "output_type": "execute_result"
    }
   ],
   "source": [
    "x + y"
   ]
  },
  {
   "cell_type": "code",
   "execution_count": 28,
   "id": "d6be4fd1-6c25-409f-814d-ae1be9fb6fd4",
   "metadata": {
    "id": "SQzdCLYqDOlf"
   },
   "outputs": [
    {
     "data": {
      "text/plain": [
       "array([[ 0.,  1.,  2.,  3.,  4.],\n",
       "       [ 5.,  6.,  7.,  8.,  9.],\n",
       "       [10., 11., 12., 13., 14.],\n",
       "       [15., 16., 17., 18., 19.]])"
      ]
     },
     "execution_count": 28,
     "metadata": {},
     "output_type": "execute_result"
    }
   ],
   "source": [
    "x * y"
   ]
  },
  {
   "cell_type": "markdown",
   "id": "9fe61d29-0284-420c-8c22-5072ba82b703",
   "metadata": {
    "id": "FEfz9nIvDOlf"
   },
   "source": [
    "### Array and Scalar\n",
    "Arithmetic operations with scalars propagate the value to each element"
   ]
  },
  {
   "cell_type": "code",
   "execution_count": 29,
   "id": "aaee8bb6-ef13-4195-a1e9-9a86dd5c6521",
   "metadata": {
    "id": "pH-eMBWjDOlf"
   },
   "outputs": [
    {
     "data": {
      "text/plain": [
       "array([[ 0,  1,  2,  3,  4],\n",
       "       [ 5,  6,  7,  8,  9],\n",
       "       [10, 11, 12, 13, 14],\n",
       "       [15, 16, 17, 18, 19]])"
      ]
     },
     "execution_count": 29,
     "metadata": {},
     "output_type": "execute_result"
    }
   ],
   "source": [
    "# recall what y is:\n",
    "y"
   ]
  },
  {
   "cell_type": "markdown",
   "id": "107bc80b-3dfa-4ed2-9f18-06d79937b23c",
   "metadata": {
    "id": "iio3ntWgDOlf"
   },
   "source": [
    "Exercise: What is the result of y + 1?"
   ]
  },
  {
   "cell_type": "code",
   "execution_count": 30,
   "id": "b3641933-662f-4227-9a2a-98079cb9804a",
   "metadata": {
    "id": "4ghFpJVfDOlf"
   },
   "outputs": [
    {
     "data": {
      "text/plain": [
       "array([[ 1,  2,  3,  4,  5],\n",
       "       [ 6,  7,  8,  9, 10],\n",
       "       [11, 12, 13, 14, 15],\n",
       "       [16, 17, 18, 19, 20]])"
      ]
     },
     "execution_count": 30,
     "metadata": {},
     "output_type": "execute_result"
    }
   ],
   "source": [
    "y+1"
   ]
  },
  {
   "cell_type": "markdown",
   "id": "4d04c9fa-9520-4bb4-bece-4ec32af50319",
   "metadata": {
    "id": "royAwKaKDOlg"
   },
   "source": [
    "The above is a simple example of an important concept called **broadcasting** in NumPy. Simply put, broadcasting automatically changes the shape of a smaller array to match that of a larger array, so an arithmetic operation will make sense. \n",
    "- Used with caution, broadcasting can significantly simply our coding.\n",
    "- (Not required) Just in case you are interested in learning more, see (https://numpy.org/devdocs/user/theory.broadcasting.html) for details."
   ]
  },
  {
   "cell_type": "markdown",
   "id": "5c269b97-2d9f-4f96-a786-92f305dfa0d7",
   "metadata": {
    "id": "TcrMbuyeDOlg"
   },
   "source": [
    "## Indexing and Slicing\n",
    "Similar to slicing in Python Lists, and extends intuitively to n-dimension."
   ]
  },
  {
   "cell_type": "code",
   "execution_count": 31,
   "id": "e93ec1af-d57c-4382-b617-8a0f55a078a5",
   "metadata": {
    "id": "tWO4hmnTDOlg"
   },
   "outputs": [
    {
     "data": {
      "text/plain": [
       "array([[ 0,  1,  2,  3,  4],\n",
       "       [ 5,  6,  7,  8,  9],\n",
       "       [10, 11, 12, 13, 14],\n",
       "       [15, 16, 17, 18, 19]])"
      ]
     },
     "execution_count": 31,
     "metadata": {},
     "output_type": "execute_result"
    }
   ],
   "source": [
    "y"
   ]
  },
  {
   "cell_type": "code",
   "execution_count": 32,
   "id": "42bab9f6-d547-4ddf-bac2-37df856719f6",
   "metadata": {
    "id": "gBoD_rSSDOlg"
   },
   "outputs": [
    {
     "data": {
      "text/plain": [
       "0"
      ]
     },
     "execution_count": 32,
     "metadata": {},
     "output_type": "execute_result"
    }
   ],
   "source": [
    "y[0, 0]"
   ]
  },
  {
   "cell_type": "code",
   "execution_count": 33,
   "id": "512eb1d0-6038-47f1-8bec-3cac562c1603",
   "metadata": {
    "id": "C-oYSVaADOlg"
   },
   "outputs": [
    {
     "data": {
      "text/plain": [
       "19"
      ]
     },
     "execution_count": 33,
     "metadata": {},
     "output_type": "execute_result"
    }
   ],
   "source": [
    "y[3, 4]"
   ]
  },
  {
   "cell_type": "code",
   "execution_count": 34,
   "id": "90b3fcf2-eaac-45a2-be0d-503e69f96f29",
   "metadata": {
    "id": "KBsUV5xiDOlg"
   },
   "outputs": [
    {
     "data": {
      "text/plain": [
       "19"
      ]
     },
     "execution_count": 34,
     "metadata": {},
     "output_type": "execute_result"
    }
   ],
   "source": [
    "y[-1, -1]"
   ]
  },
  {
   "cell_type": "code",
   "execution_count": 35,
   "id": "cd6bd6d3-6f37-46d9-b4c4-de112ea3a89e",
   "metadata": {
    "id": "RAaOWHxSDOlg"
   },
   "outputs": [
    {
     "data": {
      "text/plain": [
       "array([0, 1, 2, 3, 4])"
      ]
     },
     "execution_count": 35,
     "metadata": {},
     "output_type": "execute_result"
    }
   ],
   "source": [
    "y[0, :]"
   ]
  },
  {
   "cell_type": "code",
   "execution_count": 36,
   "id": "ec7a0ba7-3d5e-477f-96b9-d4d6b4ba73bb",
   "metadata": {
    "id": "a4l1RJItDOlg"
   },
   "outputs": [
    {
     "data": {
      "text/plain": [
       "array([ 4,  9, 14, 19])"
      ]
     },
     "execution_count": 36,
     "metadata": {},
     "output_type": "execute_result"
    }
   ],
   "source": [
    "y[:, -1]"
   ]
  },
  {
   "cell_type": "code",
   "execution_count": 37,
   "id": "100e5b25-d6ed-4804-b747-4ccff5e456d7",
   "metadata": {
    "id": "t3OyKcEBDOlh"
   },
   "outputs": [
    {
     "data": {
      "text/plain": [
       "array([[0, 1],\n",
       "       [5, 6]])"
      ]
     },
     "execution_count": 37,
     "metadata": {},
     "output_type": "execute_result"
    }
   ],
   "source": [
    "y[0:2, 0:2]"
   ]
  },
  {
   "cell_type": "markdown",
   "id": "0d299baa-e30c-466e-8c46-cff59faab946",
   "metadata": {
    "id": "qGNB5pCTDOlh"
   },
   "source": [
    "Exercise: Select the first three rows of y"
   ]
  },
  {
   "cell_type": "code",
   "execution_count": 40,
   "id": "557a61ef-ed1c-45e0-a0f6-5020d64e8bdf",
   "metadata": {
    "id": "gbq4TzX-DOlh",
    "scrolled": true
   },
   "outputs": [
    {
     "data": {
      "text/plain": [
       "array([[ 0,  1,  2,  3,  4],\n",
       "       [ 5,  6,  7,  8,  9],\n",
       "       [10, 11, 12, 13, 14]])"
      ]
     },
     "execution_count": 40,
     "metadata": {},
     "output_type": "execute_result"
    }
   ],
   "source": [
    "y[0:3, :]"
   ]
  },
  {
   "cell_type": "markdown",
   "id": "cc7d5777-6c80-409b-b053-3856cd02ecf0",
   "metadata": {
    "id": "bWEHYVacDOlh"
   },
   "source": [
    "Exercise: Select the first and third rows of y"
   ]
  },
  {
   "cell_type": "code",
   "execution_count": 43,
   "id": "53ba3211-7d04-49cc-a5c8-0cbddf390ba4",
   "metadata": {
    "id": "7NF1k7GgDOlh"
   },
   "outputs": [
    {
     "data": {
      "text/plain": [
       "array([[ 0,  1,  2,  3,  4],\n",
       "       [15, 16, 17, 18, 19]])"
      ]
     },
     "execution_count": 43,
     "metadata": {},
     "output_type": "execute_result"
    }
   ],
   "source": [
    "y[[0,3],:]"
   ]
  },
  {
   "cell_type": "markdown",
   "id": "c385477c-fa09-4e3a-820a-ddddff7678d2",
   "metadata": {
    "id": "vNbGe5OrDOlh"
   },
   "source": [
    "**An important difference between Numpy `array` and Python `list`**: array slices are views on the original array. Any modification to the view will be reflected in the source array "
   ]
  },
  {
   "cell_type": "code",
   "execution_count": 44,
   "id": "a4702a14-e2b7-4ed4-a834-c0fb24393f00",
   "metadata": {
    "id": "X_K0bYYHDOlh"
   },
   "outputs": [
    {
     "data": {
      "text/plain": [
       "array([[ 0,  1,  2,  3,  4],\n",
       "       [ 5,  6,  7,  8,  9],\n",
       "       [10, 11, 12, 13, 14],\n",
       "       [15, 16, 17, 18, 19]])"
      ]
     },
     "execution_count": 44,
     "metadata": {},
     "output_type": "execute_result"
    }
   ],
   "source": [
    "y"
   ]
  },
  {
   "cell_type": "code",
   "execution_count": 45,
   "id": "a3c3efbb-9646-44fe-b16e-ce2e9646aa46",
   "metadata": {
    "id": "RjYt8jcPDOlh"
   },
   "outputs": [],
   "source": [
    "y[0:2, :] = 0"
   ]
  },
  {
   "cell_type": "code",
   "execution_count": 46,
   "id": "8e97cc13-2301-4b8b-890a-7366ac057703",
   "metadata": {
    "id": "yKsJsTVqDOli"
   },
   "outputs": [
    {
     "data": {
      "text/plain": [
       "array([[ 0,  0,  0,  0,  0],\n",
       "       [ 0,  0,  0,  0,  0],\n",
       "       [10, 11, 12, 13, 14],\n",
       "       [15, 16, 17, 18, 19]])"
      ]
     },
     "execution_count": 46,
     "metadata": {},
     "output_type": "execute_result"
    }
   ],
   "source": [
    "y"
   ]
  },
  {
   "cell_type": "markdown",
   "id": "c911e84a-6cc0-44b0-8fdb-df2f786c4448",
   "metadata": {
    "id": "gAZUefDyDOli"
   },
   "source": [
    "**If you want to avoid change to the original array, make a copy.** Any change to the copy won't affect the original array."
   ]
  },
  {
   "cell_type": "code",
   "execution_count": 47,
   "id": "ffa1b6ad-ac8d-4172-987e-61a26faac8c0",
   "metadata": {
    "id": "hoaEb2P-DOli"
   },
   "outputs": [
    {
     "data": {
      "text/plain": [
       "array([[ 0,  1,  2,  3,  4],\n",
       "       [ 5,  6,  7,  8,  9],\n",
       "       [10, 11, 12, 13, 14],\n",
       "       [15, 16, 17, 18, 19]])"
      ]
     },
     "execution_count": 47,
     "metadata": {},
     "output_type": "execute_result"
    }
   ],
   "source": [
    "y = np.arange(20).reshape((4, 5))\n",
    "x = y.copy()\n",
    "y"
   ]
  },
  {
   "cell_type": "code",
   "execution_count": 48,
   "id": "f2d45d08-94ac-41f7-8bbe-cac03c5deb5a",
   "metadata": {
    "id": "G0EWztTuDOli"
   },
   "outputs": [],
   "source": [
    "x[0:2, :] = 1"
   ]
  },
  {
   "cell_type": "code",
   "execution_count": 49,
   "id": "21c2308e-1f89-4bf6-8dc2-689923fb4a93",
   "metadata": {
    "id": "rZX5PDduDOli"
   },
   "outputs": [
    {
     "data": {
      "text/plain": [
       "array([[ 1,  1,  1,  1,  1],\n",
       "       [ 1,  1,  1,  1,  1],\n",
       "       [10, 11, 12, 13, 14],\n",
       "       [15, 16, 17, 18, 19]])"
      ]
     },
     "execution_count": 49,
     "metadata": {},
     "output_type": "execute_result"
    }
   ],
   "source": [
    "x"
   ]
  },
  {
   "cell_type": "code",
   "execution_count": 50,
   "id": "0ca6b605-1c4b-43d9-b850-3d6008a156f3",
   "metadata": {
    "id": "ZityeYXyDOli"
   },
   "outputs": [
    {
     "data": {
      "text/plain": [
       "array([[ 0,  1,  2,  3,  4],\n",
       "       [ 5,  6,  7,  8,  9],\n",
       "       [10, 11, 12, 13, 14],\n",
       "       [15, 16, 17, 18, 19]])"
      ]
     },
     "execution_count": 50,
     "metadata": {},
     "output_type": "execute_result"
    }
   ],
   "source": [
    "y"
   ]
  },
  {
   "cell_type": "markdown",
   "id": "11caa533-d871-4d1e-82be-e8fba1caee38",
   "metadata": {
    "id": "eLNvBrRADOli"
   },
   "source": [
    "### Boolean Indexing"
   ]
  },
  {
   "cell_type": "code",
   "execution_count": 51,
   "id": "119ae7b3-11c4-4254-8479-32befdb2168f",
   "metadata": {
    "id": "DO-c3aOgDOli"
   },
   "outputs": [
    {
     "data": {
      "text/plain": [
       "array([[-11, -11, -11, -11, -11],\n",
       "       [-11, -11, -11, -11, -11],\n",
       "       [ -2,  -1,   0,   1,   2],\n",
       "       [  3,   4,   5,   6,   7]])"
      ]
     },
     "execution_count": 51,
     "metadata": {},
     "output_type": "execute_result"
    }
   ],
   "source": [
    "z = x - 12\n",
    "z"
   ]
  },
  {
   "cell_type": "markdown",
   "id": "fabb0923-1854-4c5c-9bfd-f019c4d237e0",
   "metadata": {
    "id": "dkJlRhvoDOlj"
   },
   "source": [
    "Sometimes we want to modify an array based on some logic operation. Below are two popular examples."
   ]
  },
  {
   "cell_type": "markdown",
   "id": "9bab450a-96d4-44bc-bc30-cb7edf4c555a",
   "metadata": {
    "id": "0IeTvljPDOlj"
   },
   "source": [
    "First, suppose we want to extract all nonnegative elements from z:"
   ]
  },
  {
   "cell_type": "code",
   "execution_count": 52,
   "id": "64d04f29-ae46-4410-b89f-3f6333874f14",
   "metadata": {
    "id": "n35fpv0hDOlj"
   },
   "outputs": [
    {
     "data": {
      "text/plain": [
       "array([0, 1, 2, 3, 4, 5, 6, 7])"
      ]
     },
     "execution_count": 52,
     "metadata": {},
     "output_type": "execute_result"
    }
   ],
   "source": [
    "nonnegative_elements_of_z = z[z>=0]\n",
    "nonnegative_elements_of_z"
   ]
  },
  {
   "cell_type": "markdown",
   "id": "54723ce0-2e13-44ad-974b-d6c255fb986a",
   "metadata": {
    "id": "ndgiS0DGDOlj"
   },
   "source": [
    "Second, suppose we want to set all negative elements in z to 0. To do so, we first create an array of boolean values:"
   ]
  },
  {
   "cell_type": "code",
   "execution_count": 53,
   "id": "3ed206c9-369d-4425-bd2d-ca8e2f4bc629",
   "metadata": {
    "id": "imqj5KfQDOlj"
   },
   "outputs": [
    {
     "data": {
      "text/plain": [
       "array([[ True,  True,  True,  True,  True],\n",
       "       [ True,  True,  True,  True,  True],\n",
       "       [ True,  True, False, False, False],\n",
       "       [False, False, False, False, False]])"
      ]
     },
     "execution_count": 53,
     "metadata": {},
     "output_type": "execute_result"
    }
   ],
   "source": [
    "check_if_below_0 = z < 0\n",
    "check_if_below_0"
   ]
  },
  {
   "cell_type": "markdown",
   "id": "8439c676-174c-4f29-9d6f-8ae01d3efe08",
   "metadata": {
    "id": "Uh_k1vPMDOlj"
   },
   "source": [
    "Assign all negative elements in x to 0"
   ]
  },
  {
   "cell_type": "code",
   "execution_count": 54,
   "id": "e17cce32-541b-45c6-b8c7-5248e9403654",
   "metadata": {
    "id": "x8G8QnxPDOlj"
   },
   "outputs": [
    {
     "data": {
      "text/plain": [
       "array([[0, 0, 0, 0, 0],\n",
       "       [0, 0, 0, 0, 0],\n",
       "       [0, 0, 0, 1, 2],\n",
       "       [3, 4, 5, 6, 7]])"
      ]
     },
     "execution_count": 54,
     "metadata": {},
     "output_type": "execute_result"
    }
   ],
   "source": [
    "z[check_if_below_0] = 0\n",
    "z"
   ]
  },
  {
   "cell_type": "code",
   "execution_count": 55,
   "id": "436fa276-f2cc-4960-9d44-5d8e770b8989",
   "metadata": {
    "id": "z7mNyHlsDOlj"
   },
   "outputs": [],
   "source": [
    "# the above can also be done with the following simpler code:\n",
    "z[z<0] = 0"
   ]
  },
  {
   "cell_type": "markdown",
   "id": "2a1a2f34-07eb-4ffb-88fe-dcfd2892dc10",
   "metadata": {
    "id": "LHYQW8YdDOlk"
   },
   "source": [
    "## How to represent missing values and infinite?\n",
    "Missing values can be represented using `np.nan` object, while `np.inf` represents infinite."
   ]
  },
  {
   "cell_type": "code",
   "execution_count": 56,
   "id": "d8c0c4a2-6a05-4bf5-bb61-de62327beabf",
   "metadata": {
    "id": "zANvKOLsDOlk"
   },
   "outputs": [
    {
     "data": {
      "text/plain": [
       "array([[1., 1., 1., 1.],\n",
       "       [1., 1., 1., 1.],\n",
       "       [1., 1., 1., 1.]])"
      ]
     },
     "execution_count": 56,
     "metadata": {},
     "output_type": "execute_result"
    }
   ],
   "source": [
    "x = np.ones((3, 4))\n",
    "x"
   ]
  },
  {
   "cell_type": "code",
   "execution_count": 57,
   "id": "5d9005f3-e944-4cd4-ba03-e38f08a47729",
   "metadata": {
    "id": "zZ-FlVt0DOlk"
   },
   "outputs": [
    {
     "data": {
      "text/plain": [
       "array([[nan,  1.,  1.,  1.],\n",
       "       [ 1.,  1.,  1.,  1.],\n",
       "       [ 1.,  1.,  1.,  1.]])"
      ]
     },
     "execution_count": 57,
     "metadata": {},
     "output_type": "execute_result"
    }
   ],
   "source": [
    "x[0, 0] = np.nan\n",
    "x"
   ]
  },
  {
   "cell_type": "code",
   "execution_count": 58,
   "id": "6ca23356-bbc6-44de-b204-d1cfe7613bbf",
   "metadata": {
    "id": "Uwnwy-a6DOlk"
   },
   "outputs": [
    {
     "data": {
      "text/plain": [
       "array([[nan,  2.,  2.,  2.],\n",
       "       [ 2.,  2.,  2.,  2.],\n",
       "       [ 2.,  2.,  2.,  2.]])"
      ]
     },
     "execution_count": 58,
     "metadata": {},
     "output_type": "execute_result"
    }
   ],
   "source": [
    "x + 1"
   ]
  },
  {
   "cell_type": "markdown",
   "id": "73c0afec-b516-4bf3-855f-edf2afdfbbd7",
   "metadata": {
    "id": "H-b1avWRDOlk"
   },
   "source": [
    "## Functions and Statistics"
   ]
  },
  {
   "cell_type": "markdown",
   "id": "cc4fe31e-c6ba-455f-a402-c0d1744abd2f",
   "metadata": {
    "id": "3BuZ4jIkDOlk"
   },
   "source": [
    "### Universal Functions `ufuncs`: Fast Element-wise Array Functions\n",
    "\n",
    "Many commonly used math functions, e.g., sqrt(), max(), are supported by NumPy through universal functions (a.k.a., ufuncs). Basically, NumPy simply apply these functions *element-wise* through broadcasting. Let's look at a few examples. For more details, see (https://docs.scipy.org/doc/numpy/reference/ufuncs.html)."
   ]
  },
  {
   "cell_type": "code",
   "execution_count": 59,
   "id": "5acfcf25-5780-4059-b758-00b2e197f0cb",
   "metadata": {
    "id": "wGYMmC4qDOlk"
   },
   "outputs": [
    {
     "data": {
      "text/plain": [
       "array([[10,  6,  6],\n",
       "       [ 6,  0,  4],\n",
       "       [ 3, 10,  2],\n",
       "       [ 2,  6,  0]])"
      ]
     },
     "execution_count": 59,
     "metadata": {},
     "output_type": "execute_result"
    }
   ],
   "source": [
    "x = np.random.randint(0, 11, (4, 3))\n",
    "x"
   ]
  },
  {
   "cell_type": "markdown",
   "id": "6e18c8e0-8577-4b4f-b029-6613fcb19973",
   "metadata": {
    "id": "7TJJaz0sDOll"
   },
   "source": [
    "Unary unfuncs, e.g. `abs()`, `sqrt()` that take one argument and perform elementwise transformations "
   ]
  },
  {
   "cell_type": "code",
   "execution_count": 60,
   "id": "8557e94d-d1f1-431a-bb9e-8206ca3422db",
   "metadata": {
    "id": "uRwD0UKwDOll"
   },
   "outputs": [
    {
     "data": {
      "text/plain": [
       "array([[3.16227766, 2.44948974, 2.44948974],\n",
       "       [2.44948974, 0.        , 2.        ],\n",
       "       [1.73205081, 3.16227766, 1.41421356],\n",
       "       [1.41421356, 2.44948974, 0.        ]])"
      ]
     },
     "execution_count": 60,
     "metadata": {},
     "output_type": "execute_result"
    }
   ],
   "source": [
    "np.sqrt(x)"
   ]
  },
  {
   "cell_type": "markdown",
   "id": "5e9370f0-d83e-4f77-ab46-a1406fb48819",
   "metadata": {
    "id": "VScflMkcDOll"
   },
   "source": [
    "Binary unfuncs, e.g. 'subtract()' that take two arguments"
   ]
  },
  {
   "cell_type": "code",
   "execution_count": 61,
   "id": "670f5a69-9464-4cd1-9673-fc2a970a9900",
   "metadata": {
    "id": "DUw60ALBDOll"
   },
   "outputs": [
    {
     "data": {
      "text/plain": [
       "array([[ 9.,  5.,  5.],\n",
       "       [ 5., -1.,  3.],\n",
       "       [ 2.,  9.,  1.],\n",
       "       [ 1.,  5., -1.]])"
      ]
     },
     "execution_count": 61,
     "metadata": {},
     "output_type": "execute_result"
    }
   ],
   "source": [
    "np.subtract(x, np.ones((4, 3)))"
   ]
  },
  {
   "cell_type": "code",
   "execution_count": 62,
   "id": "534613e4-cdc5-4ec4-a77a-831897cd45f8",
   "metadata": {
    "id": "wWiYCvduDOll"
   },
   "outputs": [
    {
     "data": {
      "text/plain": [
       "array([[ 9.,  5.,  5.],\n",
       "       [ 5., -1.,  3.],\n",
       "       [ 2.,  9.,  1.],\n",
       "       [ 1.,  5., -1.]])"
      ]
     },
     "execution_count": 62,
     "metadata": {},
     "output_type": "execute_result"
    }
   ],
   "source": [
    "# alternatively, we can write\n",
    "x - np.ones((4, 3))"
   ]
  },
  {
   "cell_type": "code",
   "execution_count": 63,
   "id": "00086230-7db1-409e-9d62-9ae69ad654c6",
   "metadata": {
    "id": "TznLfK2QDOll"
   },
   "outputs": [
    {
     "data": {
      "text/plain": [
       "array([[ 9.,  5.,  5.],\n",
       "       [ 5., -1.,  3.],\n",
       "       [ 2.,  9.,  1.],\n",
       "       [ 1.,  5., -1.]])"
      ]
     },
     "execution_count": 63,
     "metadata": {},
     "output_type": "execute_result"
    }
   ],
   "source": [
    "# alternatively, we can write\n",
    "x-1."
   ]
  },
  {
   "cell_type": "markdown",
   "id": "9345f2b1-3f71-4fa1-89ad-c90111c18a3b",
   "metadata": {
    "id": "csY-fwzYDOll"
   },
   "source": [
    "One more example:"
   ]
  },
  {
   "cell_type": "code",
   "execution_count": 64,
   "id": "c4b2ad41-b797-46e2-8e14-1cbe97a0f598",
   "metadata": {
    "id": "q-dbz5J-DOll"
   },
   "outputs": [
    {
     "data": {
      "text/plain": [
       "array([[10.,  6.,  6.],\n",
       "       [ 6.,  5.,  5.],\n",
       "       [ 5., 10.,  5.],\n",
       "       [ 5.,  6.,  5.]])"
      ]
     },
     "execution_count": 64,
     "metadata": {},
     "output_type": "execute_result"
    }
   ],
   "source": [
    "np.maximum(x, np.ones((4, 3))*5)"
   ]
  },
  {
   "cell_type": "markdown",
   "id": "e1218c7f-0378-4ff3-bbbd-383379f9998b",
   "metadata": {
    "id": "MPT6a5VCDOlm"
   },
   "source": [
    "### User `lambda` function to perform complex element-wise array operations"
   ]
  },
  {
   "cell_type": "code",
   "execution_count": 65,
   "id": "e250ada6-2b1b-4bc2-af94-933f5f940052",
   "metadata": {
    "id": "_JZabVePDOlm"
   },
   "outputs": [],
   "source": [
    "# suppose we want to normalize x and center it around 0\n",
    "f = lambda e: (e-5)/10"
   ]
  },
  {
   "cell_type": "code",
   "execution_count": 66,
   "id": "edbafeb8-b79f-46ee-b130-682a65c0497b",
   "metadata": {
    "id": "MEozymiDDOlm"
   },
   "outputs": [
    {
     "data": {
      "text/plain": [
       "array([[ 0.5,  0.1,  0.1],\n",
       "       [ 0.1, -0.5, -0.1],\n",
       "       [-0.2,  0.5, -0.3],\n",
       "       [-0.3,  0.1, -0.5]])"
      ]
     },
     "execution_count": 66,
     "metadata": {},
     "output_type": "execute_result"
    }
   ],
   "source": [
    "f(x)"
   ]
  },
  {
   "cell_type": "markdown",
   "id": "eebd8112-a4a4-4d36-a350-49e9f5ae2c90",
   "metadata": {
    "id": "wDDFH0L2DOlm"
   },
   "source": [
    "### Statistics\n",
    "NumPy statstics include `median`, `average`, `mean`, `amax`, `amin` and many others\n",
    "\n",
    "<a href=\"https://docs.scipy.org/doc/numpy-1.13.0/reference/routines.statistics.html\"> Reference </a>"
   ]
  },
  {
   "cell_type": "code",
   "execution_count": 67,
   "id": "ea2446bf-19f4-4110-8af9-218a5f66c37a",
   "metadata": {
    "id": "-0aNKCcrDOlm"
   },
   "outputs": [
    {
     "data": {
      "text/plain": [
       "array([[ 9,  4,  0,  2,  9],\n",
       "       [10,  7,  0,  4,  5],\n",
       "       [ 1,  4,  4, 10,  9],\n",
       "       [ 8,  6, 10,  1,  9]])"
      ]
     },
     "execution_count": 67,
     "metadata": {},
     "output_type": "execute_result"
    }
   ],
   "source": [
    "x = np.random.randint(0, 11, (4, 5))\n",
    "x"
   ]
  },
  {
   "cell_type": "code",
   "execution_count": 68,
   "id": "a1352fe9-a8f4-407d-a41a-df7252e71613",
   "metadata": {
    "id": "IeckCsN0DOln"
   },
   "outputs": [
    {
     "data": {
      "text/plain": [
       "array([8.5, 5. , 2. , 3. , 9. ])"
      ]
     },
     "execution_count": 68,
     "metadata": {},
     "output_type": "execute_result"
    }
   ],
   "source": [
    "np.median(x, axis=0)"
   ]
  },
  {
   "cell_type": "code",
   "execution_count": 69,
   "id": "7036d04a-117c-42ba-8b38-48e5351576b7",
   "metadata": {
    "id": "HhpGaNvHDOln"
   },
   "outputs": [
    {
     "data": {
      "text/plain": [
       "array([4., 5., 4., 8.])"
      ]
     },
     "execution_count": 69,
     "metadata": {},
     "output_type": "execute_result"
    }
   ],
   "source": [
    "np.median(x, axis=1)"
   ]
  },
  {
   "cell_type": "code",
   "execution_count": 70,
   "id": "b29c8647-c2e4-4561-b3a8-a58a64ca8145",
   "metadata": {
    "id": "Slt7h6s_DOln"
   },
   "outputs": [
    {
     "data": {
      "text/plain": [
       "array([7.  , 5.25, 3.5 , 4.25, 8.  ])"
      ]
     },
     "execution_count": 70,
     "metadata": {},
     "output_type": "execute_result"
    }
   ],
   "source": [
    "np.mean(x, axis=0)"
   ]
  },
  {
   "cell_type": "code",
   "execution_count": 71,
   "id": "caae3481-c168-4eb8-8dfb-50c272e99a95",
   "metadata": {
    "id": "bTG76RQVDOln"
   },
   "outputs": [
    {
     "data": {
      "text/plain": [
       "array([4.8, 5.2, 5.6, 6.8])"
      ]
     },
     "execution_count": 71,
     "metadata": {},
     "output_type": "execute_result"
    }
   ],
   "source": [
    "np.mean(x, axis=1)"
   ]
  },
  {
   "cell_type": "code",
   "execution_count": 72,
   "id": "232e7b70-de2f-4733-8946-15431b430039",
   "metadata": {
    "id": "d6jBisohDOln"
   },
   "outputs": [
    {
     "data": {
      "text/plain": [
       "array([1, 4, 0, 1, 5])"
      ]
     },
     "execution_count": 72,
     "metadata": {},
     "output_type": "execute_result"
    }
   ],
   "source": [
    "np.min(x, axis=0)"
   ]
  },
  {
   "cell_type": "markdown",
   "id": "d2f2f466-7183-4d96-854a-d89570df9fa0",
   "metadata": {
    "id": "DPse6c0JDOln"
   },
   "source": [
    "### Exercises"
   ]
  },
  {
   "cell_type": "markdown",
   "id": "0e7a210c-e55d-4921-923a-db6a4346ce85",
   "metadata": {
    "id": "x7dwWt5jDOlo"
   },
   "source": [
    "Create a random integer array `x` of shape (4, 3) with values between 0 and 10 (inclusive of both 0 and 10)."
   ]
  },
  {
   "cell_type": "code",
   "execution_count": 73,
   "id": "4c66fdfe-3d53-434c-b653-6c6f12dbb171",
   "metadata": {
    "id": "J-Tf6i-nDOlo"
   },
   "outputs": [
    {
     "data": {
      "text/plain": [
       "array([[1, 9, 9],\n",
       "       [5, 3, 6],\n",
       "       [0, 3, 4],\n",
       "       [1, 8, 1]])"
      ]
     },
     "execution_count": 73,
     "metadata": {},
     "output_type": "execute_result"
    }
   ],
   "source": [
    "x = np.random.randint(0, 10, (4, 3))\n",
    "x"
   ]
  },
  {
   "cell_type": "markdown",
   "id": "cd38396e-f9be-4cf4-b7ca-f7b246f68f2f",
   "metadata": {
    "id": "EdFm8YQEDOlo"
   },
   "source": [
    "calcualte mean for each column"
   ]
  },
  {
   "cell_type": "code",
   "execution_count": 75,
   "id": "e6527d2b-2206-4b11-aebd-672c3015fd9e",
   "metadata": {
    "id": "QOOZXZLcDOlo"
   },
   "outputs": [
    {
     "data": {
      "text/plain": [
       "array([6.33333333, 4.66666667, 2.33333333, 3.33333333])"
      ]
     },
     "execution_count": 75,
     "metadata": {},
     "output_type": "execute_result"
    }
   ],
   "source": [
    "np.mean(x, axis=1)"
   ]
  },
  {
   "cell_type": "markdown",
   "id": "b65ac328-72cb-4d08-af42-5a820a3977e9",
   "metadata": {
    "id": "GJdQoybxDOlo"
   },
   "source": [
    "Subtract the mean of each column of the matrix"
   ]
  },
  {
   "cell_type": "code",
   "execution_count": null,
   "id": "6627e22c-72c0-4d55-b050-aee57e77dfb5",
   "metadata": {},
   "outputs": [],
   "source": []
  },
  {
   "cell_type": "markdown",
   "id": "72b10758-8de5-4a2b-a89a-5facf683f8fa",
   "metadata": {
    "id": "767KGwRtDOlo"
   },
   "source": [
    "Change elements of x that are less than 5, to 0"
   ]
  },
  {
   "cell_type": "code",
   "execution_count": 77,
   "id": "a8c1cc2a-a131-42b5-af7f-97fbc5989d92",
   "metadata": {
    "id": "Q8dqPKMsDOlp"
   },
   "outputs": [],
   "source": [
    "x[x<5]=0"
   ]
  },
  {
   "cell_type": "code",
   "execution_count": 78,
   "id": "49cd8a7b-6cf6-4ef7-a79e-fec8247fd567",
   "metadata": {
    "id": "VD6-BFrBRgmv"
   },
   "outputs": [
    {
     "data": {
      "text/plain": [
       "array([[0, 9, 9],\n",
       "       [5, 0, 6],\n",
       "       [0, 0, 0],\n",
       "       [0, 8, 0]])"
      ]
     },
     "execution_count": 78,
     "metadata": {},
     "output_type": "execute_result"
    }
   ],
   "source": [
    "x"
   ]
  }
 ],
 "metadata": {
  "kernelspec": {
   "display_name": "Python 3 (ipykernel)",
   "language": "python",
   "name": "python3"
  },
  "language_info": {
   "codemirror_mode": {
    "name": "ipython",
    "version": 3
   },
   "file_extension": ".py",
   "mimetype": "text/x-python",
   "name": "python",
   "nbconvert_exporter": "python",
   "pygments_lexer": "ipython3",
   "version": "3.9.7"
  }
 },
 "nbformat": 4,
 "nbformat_minor": 5
}
