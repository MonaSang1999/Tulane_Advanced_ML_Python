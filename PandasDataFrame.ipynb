{
 "cells": [
  {
   "cell_type": "markdown",
   "metadata": {
    "id": "Nvf8xhRY9PxE"
   },
   "source": [
    "# Pandas DataFrame"
   ]
  },
  {
   "cell_type": "markdown",
   "metadata": {
    "id": "2JZaQgAo9PxI"
   },
   "source": [
    "The object `DataFrame` of the package pandas represents a table of data. Each column of the table is a Series object. All columns share a common index."
   ]
  },
  {
   "cell_type": "markdown",
   "metadata": {
    "id": "oVyoxA7-9PxJ"
   },
   "source": [
    "We need to first import the `pandas` package. We usually import the `numpy` package as well."
   ]
  },
  {
   "cell_type": "code",
   "execution_count": 1,
   "metadata": {
    "id": "EtbLHIvm9PxJ"
   },
   "outputs": [],
   "source": [
    "import numpy as np\n",
    "import pandas as pd"
   ]
  },
  {
   "cell_type": "markdown",
   "metadata": {
    "id": "G1xIlWu09PxK"
   },
   "source": [
    "## Creating a DataFrame"
   ]
  },
  {
   "cell_type": "markdown",
   "metadata": {
    "id": "llQ_UZxa9PxK"
   },
   "source": [
    "### From a dict of equal-length lists or arrays: `pandas.DataFrame()`"
   ]
  },
  {
   "cell_type": "code",
   "execution_count": 2,
   "metadata": {
    "id": "NU1aglim9PxK"
   },
   "outputs": [],
   "source": [
    "data = {'state': ['ohio', 'ohio', 'ohio', 'nevada', 'nevada'],\n",
    "        'year': [2000, 2001, 2002, 2001, 2002],\n",
    "        'pop': [1.6, 1.7, 1.4, 2.4, 2.9]   \n",
    "}"
   ]
  },
  {
   "cell_type": "code",
   "execution_count": 3,
   "metadata": {
    "id": "tjRC89Cr9PxK"
   },
   "outputs": [
    {
     "data": {
      "text/html": [
       "<div>\n",
       "<style scoped>\n",
       "    .dataframe tbody tr th:only-of-type {\n",
       "        vertical-align: middle;\n",
       "    }\n",
       "\n",
       "    .dataframe tbody tr th {\n",
       "        vertical-align: top;\n",
       "    }\n",
       "\n",
       "    .dataframe thead th {\n",
       "        text-align: right;\n",
       "    }\n",
       "</style>\n",
       "<table border=\"1\" class=\"dataframe\">\n",
       "  <thead>\n",
       "    <tr style=\"text-align: right;\">\n",
       "      <th></th>\n",
       "      <th>state</th>\n",
       "      <th>year</th>\n",
       "      <th>pop</th>\n",
       "    </tr>\n",
       "  </thead>\n",
       "  <tbody>\n",
       "    <tr>\n",
       "      <th>0</th>\n",
       "      <td>ohio</td>\n",
       "      <td>2000</td>\n",
       "      <td>1.6</td>\n",
       "    </tr>\n",
       "    <tr>\n",
       "      <th>1</th>\n",
       "      <td>ohio</td>\n",
       "      <td>2001</td>\n",
       "      <td>1.7</td>\n",
       "    </tr>\n",
       "    <tr>\n",
       "      <th>2</th>\n",
       "      <td>ohio</td>\n",
       "      <td>2002</td>\n",
       "      <td>1.4</td>\n",
       "    </tr>\n",
       "    <tr>\n",
       "      <th>3</th>\n",
       "      <td>nevada</td>\n",
       "      <td>2001</td>\n",
       "      <td>2.4</td>\n",
       "    </tr>\n",
       "    <tr>\n",
       "      <th>4</th>\n",
       "      <td>nevada</td>\n",
       "      <td>2002</td>\n",
       "      <td>2.9</td>\n",
       "    </tr>\n",
       "  </tbody>\n",
       "</table>\n",
       "</div>"
      ],
      "text/plain": [
       "    state  year  pop\n",
       "0    ohio  2000  1.6\n",
       "1    ohio  2001  1.7\n",
       "2    ohio  2002  1.4\n",
       "3  nevada  2001  2.4\n",
       "4  nevada  2002  2.9"
      ]
     },
     "execution_count": 3,
     "metadata": {},
     "output_type": "execute_result"
    }
   ],
   "source": [
    "df = pd.DataFrame(data)\n",
    "df"
   ]
  },
  {
   "cell_type": "markdown",
   "metadata": {
    "id": "jiC49B_89PxL"
   },
   "source": [
    "### From a csv file: `pandas.read_csv()`"
   ]
  },
  {
   "cell_type": "markdown",
   "metadata": {
    "id": "I3wgfLEF9PxL"
   },
   "source": [
    "Before this, make sure you've downloaded and placed the 'students.csv' data file in the same folder as this ipynb file."
   ]
  },
  {
   "cell_type": "code",
   "execution_count": 4,
   "metadata": {
    "id": "sCtxn36S9PxL"
   },
   "outputs": [
    {
     "data": {
      "text/html": [
       "<div>\n",
       "<style scoped>\n",
       "    .dataframe tbody tr th:only-of-type {\n",
       "        vertical-align: middle;\n",
       "    }\n",
       "\n",
       "    .dataframe tbody tr th {\n",
       "        vertical-align: top;\n",
       "    }\n",
       "\n",
       "    .dataframe thead th {\n",
       "        text-align: right;\n",
       "    }\n",
       "</style>\n",
       "<table border=\"1\" class=\"dataframe\">\n",
       "  <thead>\n",
       "    <tr style=\"text-align: right;\">\n",
       "      <th></th>\n",
       "      <th>Name</th>\n",
       "      <th>hw1</th>\n",
       "      <th>hw2</th>\n",
       "      <th>program</th>\n",
       "    </tr>\n",
       "  </thead>\n",
       "  <tbody>\n",
       "    <tr>\n",
       "      <th>0</th>\n",
       "      <td>Dorian</td>\n",
       "      <td>10.0</td>\n",
       "      <td>10.0</td>\n",
       "      <td>MSIS</td>\n",
       "    </tr>\n",
       "    <tr>\n",
       "      <th>1</th>\n",
       "      <td>Jeannine</td>\n",
       "      <td>6.0</td>\n",
       "      <td>7.0</td>\n",
       "      <td>MSIS</td>\n",
       "    </tr>\n",
       "    <tr>\n",
       "      <th>2</th>\n",
       "      <td>Iluminada</td>\n",
       "      <td>2.0</td>\n",
       "      <td>NaN</td>\n",
       "      <td>MBA</td>\n",
       "    </tr>\n",
       "    <tr>\n",
       "      <th>3</th>\n",
       "      <td>Luci</td>\n",
       "      <td>7.0</td>\n",
       "      <td>7.0</td>\n",
       "      <td>MSIS</td>\n",
       "    </tr>\n",
       "    <tr>\n",
       "      <th>4</th>\n",
       "      <td>Jenny</td>\n",
       "      <td>8.0</td>\n",
       "      <td>NaN</td>\n",
       "      <td>NaN</td>\n",
       "    </tr>\n",
       "    <tr>\n",
       "      <th>5</th>\n",
       "      <td>Demetria</td>\n",
       "      <td>2.0</td>\n",
       "      <td>4.0</td>\n",
       "      <td>MSIS</td>\n",
       "    </tr>\n",
       "    <tr>\n",
       "      <th>6</th>\n",
       "      <td>Michael</td>\n",
       "      <td>6.0</td>\n",
       "      <td>10.0</td>\n",
       "      <td>MBA</td>\n",
       "    </tr>\n",
       "    <tr>\n",
       "      <th>7</th>\n",
       "      <td>Garland</td>\n",
       "      <td>9.0</td>\n",
       "      <td>1.0</td>\n",
       "      <td>MSIS</td>\n",
       "    </tr>\n",
       "    <tr>\n",
       "      <th>8</th>\n",
       "      <td>Shelby</td>\n",
       "      <td>1.0</td>\n",
       "      <td>10.0</td>\n",
       "      <td>MSIS</td>\n",
       "    </tr>\n",
       "    <tr>\n",
       "      <th>9</th>\n",
       "      <td>Mercy</td>\n",
       "      <td>5.0</td>\n",
       "      <td>6.0</td>\n",
       "      <td>MSIS</td>\n",
       "    </tr>\n",
       "    <tr>\n",
       "      <th>10</th>\n",
       "      <td>John</td>\n",
       "      <td>NaN</td>\n",
       "      <td>10.0</td>\n",
       "      <td>MSIS</td>\n",
       "    </tr>\n",
       "  </tbody>\n",
       "</table>\n",
       "</div>"
      ],
      "text/plain": [
       "         Name   hw1   hw2 program\n",
       "0      Dorian  10.0  10.0    MSIS\n",
       "1    Jeannine   6.0   7.0    MSIS\n",
       "2   Iluminada   2.0   NaN     MBA\n",
       "3        Luci   7.0   7.0    MSIS\n",
       "4       Jenny   8.0   NaN     NaN\n",
       "5    Demetria   2.0   4.0    MSIS\n",
       "6     Michael   6.0  10.0     MBA\n",
       "7     Garland   9.0   1.0    MSIS\n",
       "8      Shelby   1.0  10.0    MSIS\n",
       "9       Mercy   5.0   6.0    MSIS\n",
       "10       John   NaN  10.0    MSIS"
      ]
     },
     "execution_count": 4,
     "metadata": {},
     "output_type": "execute_result"
    }
   ],
   "source": [
    "students = pd.read_csv('students.csv')\n",
    "students"
   ]
  },
  {
   "cell_type": "code",
   "execution_count": 11,
   "metadata": {},
   "outputs": [
    {
     "data": {
      "text/html": [
       "<div>\n",
       "<style scoped>\n",
       "    .dataframe tbody tr th:only-of-type {\n",
       "        vertical-align: middle;\n",
       "    }\n",
       "\n",
       "    .dataframe tbody tr th {\n",
       "        vertical-align: top;\n",
       "    }\n",
       "\n",
       "    .dataframe thead th {\n",
       "        text-align: right;\n",
       "    }\n",
       "</style>\n",
       "<table border=\"1\" class=\"dataframe\">\n",
       "  <thead>\n",
       "    <tr style=\"text-align: right;\">\n",
       "      <th></th>\n",
       "      <th>Name</th>\n",
       "      <th>hw1</th>\n",
       "      <th>hw2</th>\n",
       "      <th>program</th>\n",
       "      <th>hw1_high_score</th>\n",
       "    </tr>\n",
       "  </thead>\n",
       "  <tbody>\n",
       "    <tr>\n",
       "      <th>0</th>\n",
       "      <td>Dorian</td>\n",
       "      <td>10.0</td>\n",
       "      <td>10.0</td>\n",
       "      <td>MSIS</td>\n",
       "      <td>high</td>\n",
       "    </tr>\n",
       "    <tr>\n",
       "      <th>1</th>\n",
       "      <td>Jeannine</td>\n",
       "      <td>6.0</td>\n",
       "      <td>7.0</td>\n",
       "      <td>MSIS</td>\n",
       "      <td>low</td>\n",
       "    </tr>\n",
       "    <tr>\n",
       "      <th>2</th>\n",
       "      <td>Iluminada</td>\n",
       "      <td>2.0</td>\n",
       "      <td>NaN</td>\n",
       "      <td>MBA</td>\n",
       "      <td>low</td>\n",
       "    </tr>\n",
       "    <tr>\n",
       "      <th>3</th>\n",
       "      <td>Luci</td>\n",
       "      <td>7.0</td>\n",
       "      <td>7.0</td>\n",
       "      <td>MSIS</td>\n",
       "      <td>high</td>\n",
       "    </tr>\n",
       "    <tr>\n",
       "      <th>4</th>\n",
       "      <td>Jenny</td>\n",
       "      <td>8.0</td>\n",
       "      <td>NaN</td>\n",
       "      <td>NaN</td>\n",
       "      <td>high</td>\n",
       "    </tr>\n",
       "    <tr>\n",
       "      <th>5</th>\n",
       "      <td>Demetria</td>\n",
       "      <td>2.0</td>\n",
       "      <td>4.0</td>\n",
       "      <td>MSIS</td>\n",
       "      <td>low</td>\n",
       "    </tr>\n",
       "    <tr>\n",
       "      <th>6</th>\n",
       "      <td>Michael</td>\n",
       "      <td>6.0</td>\n",
       "      <td>10.0</td>\n",
       "      <td>MBA</td>\n",
       "      <td>low</td>\n",
       "    </tr>\n",
       "    <tr>\n",
       "      <th>7</th>\n",
       "      <td>Garland</td>\n",
       "      <td>9.0</td>\n",
       "      <td>1.0</td>\n",
       "      <td>MSIS</td>\n",
       "      <td>high</td>\n",
       "    </tr>\n",
       "    <tr>\n",
       "      <th>8</th>\n",
       "      <td>Shelby</td>\n",
       "      <td>1.0</td>\n",
       "      <td>10.0</td>\n",
       "      <td>MSIS</td>\n",
       "      <td>low</td>\n",
       "    </tr>\n",
       "    <tr>\n",
       "      <th>9</th>\n",
       "      <td>Mercy</td>\n",
       "      <td>5.0</td>\n",
       "      <td>6.0</td>\n",
       "      <td>MSIS</td>\n",
       "      <td>low</td>\n",
       "    </tr>\n",
       "    <tr>\n",
       "      <th>10</th>\n",
       "      <td>John</td>\n",
       "      <td>NaN</td>\n",
       "      <td>10.0</td>\n",
       "      <td>MSIS</td>\n",
       "      <td>low</td>\n",
       "    </tr>\n",
       "  </tbody>\n",
       "</table>\n",
       "</div>"
      ],
      "text/plain": [
       "         Name   hw1   hw2 program hw1_high_score\n",
       "0      Dorian  10.0  10.0    MSIS           high\n",
       "1    Jeannine   6.0   7.0    MSIS            low\n",
       "2   Iluminada   2.0   NaN     MBA            low\n",
       "3        Luci   7.0   7.0    MSIS           high\n",
       "4       Jenny   8.0   NaN     NaN           high\n",
       "5    Demetria   2.0   4.0    MSIS            low\n",
       "6     Michael   6.0  10.0     MBA            low\n",
       "7     Garland   9.0   1.0    MSIS           high\n",
       "8      Shelby   1.0  10.0    MSIS            low\n",
       "9       Mercy   5.0   6.0    MSIS            low\n",
       "10       John   NaN  10.0    MSIS            low"
      ]
     },
     "execution_count": 11,
     "metadata": {},
     "output_type": "execute_result"
    }
   ],
   "source": [
    "students['hw1_high_score'] = students.hw1.apply(lambda x : 'high' if x>6 else 'low')\n",
    "students"
   ]
  },
  {
   "cell_type": "markdown",
   "metadata": {
    "id": "B569u5FJ9PxL"
   },
   "source": [
    "Recall that pandas Series has two index systems: **positional index** and **index**. The same extends to DataFrame. pandas always automatically creates the **positional index** which is a list of integers 0, 1, ... . The **index**, however, is optional."
   ]
  },
  {
   "cell_type": "markdown",
   "metadata": {
    "id": "XnmNll3y9PxM"
   },
   "source": [
    " In the example above, we didn't specify a column as the index yet (and often don't bother in practice). But we can always do so with method `DataFrame.set_index()`. Let's designate 'Name' as the index: "
   ]
  },
  {
   "cell_type": "code",
   "execution_count": 12,
   "metadata": {
    "id": "QL3CDDG-9PxM",
    "scrolled": true
   },
   "outputs": [
    {
     "data": {
      "text/html": [
       "<div>\n",
       "<style scoped>\n",
       "    .dataframe tbody tr th:only-of-type {\n",
       "        vertical-align: middle;\n",
       "    }\n",
       "\n",
       "    .dataframe tbody tr th {\n",
       "        vertical-align: top;\n",
       "    }\n",
       "\n",
       "    .dataframe thead th {\n",
       "        text-align: right;\n",
       "    }\n",
       "</style>\n",
       "<table border=\"1\" class=\"dataframe\">\n",
       "  <thead>\n",
       "    <tr style=\"text-align: right;\">\n",
       "      <th></th>\n",
       "      <th>hw1</th>\n",
       "      <th>hw2</th>\n",
       "      <th>program</th>\n",
       "    </tr>\n",
       "    <tr>\n",
       "      <th>Name</th>\n",
       "      <th></th>\n",
       "      <th></th>\n",
       "      <th></th>\n",
       "    </tr>\n",
       "  </thead>\n",
       "  <tbody>\n",
       "    <tr>\n",
       "      <th>Dorian</th>\n",
       "      <td>10.0</td>\n",
       "      <td>10.0</td>\n",
       "      <td>MSIS</td>\n",
       "    </tr>\n",
       "    <tr>\n",
       "      <th>Jeannine</th>\n",
       "      <td>6.0</td>\n",
       "      <td>7.0</td>\n",
       "      <td>MSIS</td>\n",
       "    </tr>\n",
       "    <tr>\n",
       "      <th>Iluminada</th>\n",
       "      <td>2.0</td>\n",
       "      <td>NaN</td>\n",
       "      <td>MBA</td>\n",
       "    </tr>\n",
       "    <tr>\n",
       "      <th>Luci</th>\n",
       "      <td>7.0</td>\n",
       "      <td>7.0</td>\n",
       "      <td>MSIS</td>\n",
       "    </tr>\n",
       "    <tr>\n",
       "      <th>Jenny</th>\n",
       "      <td>8.0</td>\n",
       "      <td>NaN</td>\n",
       "      <td>NaN</td>\n",
       "    </tr>\n",
       "    <tr>\n",
       "      <th>Demetria</th>\n",
       "      <td>2.0</td>\n",
       "      <td>4.0</td>\n",
       "      <td>MSIS</td>\n",
       "    </tr>\n",
       "    <tr>\n",
       "      <th>Michael</th>\n",
       "      <td>6.0</td>\n",
       "      <td>10.0</td>\n",
       "      <td>MBA</td>\n",
       "    </tr>\n",
       "    <tr>\n",
       "      <th>Garland</th>\n",
       "      <td>9.0</td>\n",
       "      <td>1.0</td>\n",
       "      <td>MSIS</td>\n",
       "    </tr>\n",
       "    <tr>\n",
       "      <th>Shelby</th>\n",
       "      <td>1.0</td>\n",
       "      <td>10.0</td>\n",
       "      <td>MSIS</td>\n",
       "    </tr>\n",
       "    <tr>\n",
       "      <th>Mercy</th>\n",
       "      <td>5.0</td>\n",
       "      <td>6.0</td>\n",
       "      <td>MSIS</td>\n",
       "    </tr>\n",
       "    <tr>\n",
       "      <th>John</th>\n",
       "      <td>NaN</td>\n",
       "      <td>10.0</td>\n",
       "      <td>MSIS</td>\n",
       "    </tr>\n",
       "  </tbody>\n",
       "</table>\n",
       "</div>"
      ],
      "text/plain": [
       "            hw1   hw2 program\n",
       "Name                         \n",
       "Dorian     10.0  10.0    MSIS\n",
       "Jeannine    6.0   7.0    MSIS\n",
       "Iluminada   2.0   NaN     MBA\n",
       "Luci        7.0   7.0    MSIS\n",
       "Jenny       8.0   NaN     NaN\n",
       "Demetria    2.0   4.0    MSIS\n",
       "Michael     6.0  10.0     MBA\n",
       "Garland     9.0   1.0    MSIS\n",
       "Shelby      1.0  10.0    MSIS\n",
       "Mercy       5.0   6.0    MSIS\n",
       "John        NaN  10.0    MSIS"
      ]
     },
     "execution_count": 12,
     "metadata": {},
     "output_type": "execute_result"
    }
   ],
   "source": [
    "#df.set_index('Name', inplace=True)   #inplace=True： replace the original index\n",
    "df=df.set_index('Name')\n",
    "df"
   ]
  },
  {
   "cell_type": "markdown",
   "metadata": {
    "id": "YR353Etj9PxM"
   },
   "source": [
    "### Using  `DataFrame.to_csv()` to write to a file 'temp.csv'"
   ]
  },
  {
   "cell_type": "code",
   "execution_count": null,
   "metadata": {
    "id": "9lclmuUs9PxM"
   },
   "outputs": [],
   "source": [
    "df.to_csv(\"temp.csv\")"
   ]
  },
  {
   "cell_type": "markdown",
   "metadata": {
    "id": "SVhmFTv_9PxM"
   },
   "source": [
    "### Missing Value\n",
    "`NaN` - not a number"
   ]
  },
  {
   "cell_type": "markdown",
   "metadata": {
    "id": "nV52BnLU9PxM"
   },
   "source": [
    "Example: Change Dorian's hw1 grade as missing value "
   ]
  },
  {
   "cell_type": "code",
   "execution_count": null,
   "metadata": {
    "id": "7PKnP2gt9PxN"
   },
   "outputs": [],
   "source": [
    "df.loc['Dorian', 'hw1'] = np.nan"
   ]
  },
  {
   "cell_type": "code",
   "execution_count": null,
   "metadata": {
    "id": "pdLgmorg9PxN"
   },
   "outputs": [],
   "source": [
    "df"
   ]
  },
  {
   "cell_type": "markdown",
   "metadata": {
    "id": "TkHBF98u9PxN"
   },
   "source": [
    "## index, columns, values"
   ]
  },
  {
   "cell_type": "markdown",
   "metadata": {
    "id": "p1sih1p09PxN"
   },
   "source": [
    "`DataFrame.index` returns the index labels"
   ]
  },
  {
   "cell_type": "code",
   "execution_count": 14,
   "metadata": {
    "id": "2zTn6Yxo9PxN"
   },
   "outputs": [
    {
     "data": {
      "text/plain": [
       "Index(['Dorian', 'Jeannine', 'Iluminada', 'Luci', 'Jenny', 'Demetria',\n",
       "       'Michael', 'Garland', 'Shelby', 'Mercy', 'John'],\n",
       "      dtype='object', name='Name')"
      ]
     },
     "execution_count": 14,
     "metadata": {},
     "output_type": "execute_result"
    }
   ],
   "source": [
    "df.index"
   ]
  },
  {
   "cell_type": "markdown",
   "metadata": {
    "id": "VfLi33A29PxN"
   },
   "source": [
    "`DataFrame.columns` returns the list of column names (as an index object)"
   ]
  },
  {
   "cell_type": "code",
   "execution_count": 15,
   "metadata": {
    "id": "GuNfQ1Af9PxO"
   },
   "outputs": [
    {
     "data": {
      "text/plain": [
       "Index(['hw1', 'hw2', 'program'], dtype='object')"
      ]
     },
     "execution_count": 15,
     "metadata": {},
     "output_type": "execute_result"
    }
   ],
   "source": [
    "df.columns"
   ]
  },
  {
   "cell_type": "markdown",
   "metadata": {
    "id": "x5F0GSHh9PxO"
   },
   "source": [
    "`DataFrame.values` returns a 2-dimensional ndarray of values"
   ]
  },
  {
   "cell_type": "code",
   "execution_count": 16,
   "metadata": {
    "id": "CXNAo_Xc9PxO"
   },
   "outputs": [
    {
     "data": {
      "text/plain": [
       "array([[10.0, 10.0, 'MSIS'],\n",
       "       [6.0, 7.0, 'MSIS'],\n",
       "       [2.0, nan, 'MBA'],\n",
       "       [7.0, 7.0, 'MSIS'],\n",
       "       [8.0, nan, nan],\n",
       "       [2.0, 4.0, 'MSIS'],\n",
       "       [6.0, 10.0, 'MBA'],\n",
       "       [9.0, 1.0, 'MSIS'],\n",
       "       [1.0, 10.0, 'MSIS'],\n",
       "       [5.0, 6.0, 'MSIS'],\n",
       "       [nan, 10.0, 'MSIS']], dtype=object)"
      ]
     },
     "execution_count": 16,
     "metadata": {},
     "output_type": "execute_result"
    }
   ],
   "source": [
    "df.values"
   ]
  },
  {
   "cell_type": "markdown",
   "metadata": {
    "id": "lm8YH0cH9PxO"
   },
   "source": [
    "## Selecting an element or a subset"
   ]
  },
  {
   "cell_type": "markdown",
   "metadata": {
    "id": "H1ywVa8s9PxO"
   },
   "source": [
    "### df.iloc[x, y]"
   ]
  },
  {
   "cell_type": "markdown",
   "metadata": {
    "id": "2NzXrJRN9PxP"
   },
   "source": [
    "Access one specific value, i.e. retrieving the elemnent at the third row and second column"
   ]
  },
  {
   "cell_type": "markdown",
   "metadata": {
    "id": "oMleo8x49PxP"
   },
   "source": [
    "Access using the positional index. \n",
    "<ul>\n",
    "<li><b>x</b> is the information needed to select the rows: positional index or range of integers</li>\n",
    "<li><b>y (optional)</b> is the information needed to select the columns: positional index or range of integers</li>\n",
    "</ul>"
   ]
  },
  {
   "cell_type": "code",
   "execution_count": 17,
   "metadata": {
    "id": "SZYbd4kG9PxP"
   },
   "outputs": [
    {
     "data": {
      "text/plain": [
       "nan"
      ]
     },
     "execution_count": 17,
     "metadata": {},
     "output_type": "execute_result"
    }
   ],
   "source": [
    "df.iloc[2, 1]"
   ]
  },
  {
   "cell_type": "markdown",
   "metadata": {
    "id": "kaboFzEv9PxP"
   },
   "source": [
    "Access one row by specifying a positional index, i.e. retrieving the third row"
   ]
  },
  {
   "cell_type": "code",
   "execution_count": 18,
   "metadata": {
    "id": "nFJaLteM9PxP"
   },
   "outputs": [
    {
     "data": {
      "text/plain": [
       "hw1        2.0\n",
       "hw2        NaN\n",
       "program    MBA\n",
       "Name: Iluminada, dtype: object"
      ]
     },
     "execution_count": 18,
     "metadata": {},
     "output_type": "execute_result"
    }
   ],
   "source": [
    "df.iloc[2,:]"
   ]
  },
  {
   "cell_type": "markdown",
   "metadata": {
    "id": "oNR5Ktx09PxP"
   },
   "source": [
    "Or, more simply:"
   ]
  },
  {
   "cell_type": "code",
   "execution_count": 19,
   "metadata": {
    "id": "LHKSPDdC9PxP"
   },
   "outputs": [
    {
     "data": {
      "text/plain": [
       "hw1        2.0\n",
       "hw2        NaN\n",
       "program    MBA\n",
       "Name: Iluminada, dtype: object"
      ]
     },
     "execution_count": 19,
     "metadata": {},
     "output_type": "execute_result"
    }
   ],
   "source": [
    "df.iloc[2]"
   ]
  },
  {
   "cell_type": "markdown",
   "metadata": {
    "id": "PpO1JHsR9PxQ"
   },
   "source": [
    "Access one column by specifying positional index of the column, i.e. retrieving the second column"
   ]
  },
  {
   "cell_type": "code",
   "execution_count": 20,
   "metadata": {
    "id": "YxdmgwT19PxQ"
   },
   "outputs": [
    {
     "data": {
      "text/plain": [
       "Name\n",
       "Dorian       10.0\n",
       "Jeannine      7.0\n",
       "Iluminada     NaN\n",
       "Luci          7.0\n",
       "Jenny         NaN\n",
       "Demetria      4.0\n",
       "Michael      10.0\n",
       "Garland       1.0\n",
       "Shelby       10.0\n",
       "Mercy         6.0\n",
       "John         10.0\n",
       "Name: hw2, dtype: float64"
      ]
     },
     "execution_count": 20,
     "metadata": {},
     "output_type": "execute_result"
    }
   ],
   "source": [
    "df.iloc[:, 1]"
   ]
  },
  {
   "cell_type": "markdown",
   "metadata": {
    "id": "HpoMJxUh9PxQ"
   },
   "source": [
    "Access a subset of rows and of columns, i.e. retrieving elements from the first row to the six row and the lest second column to the end"
   ]
  },
  {
   "cell_type": "code",
   "execution_count": 21,
   "metadata": {
    "id": "yHI4cSS49PxQ"
   },
   "outputs": [
    {
     "data": {
      "text/html": [
       "<div>\n",
       "<style scoped>\n",
       "    .dataframe tbody tr th:only-of-type {\n",
       "        vertical-align: middle;\n",
       "    }\n",
       "\n",
       "    .dataframe tbody tr th {\n",
       "        vertical-align: top;\n",
       "    }\n",
       "\n",
       "    .dataframe thead th {\n",
       "        text-align: right;\n",
       "    }\n",
       "</style>\n",
       "<table border=\"1\" class=\"dataframe\">\n",
       "  <thead>\n",
       "    <tr style=\"text-align: right;\">\n",
       "      <th></th>\n",
       "      <th>hw2</th>\n",
       "      <th>program</th>\n",
       "    </tr>\n",
       "    <tr>\n",
       "      <th>Name</th>\n",
       "      <th></th>\n",
       "      <th></th>\n",
       "    </tr>\n",
       "  </thead>\n",
       "  <tbody>\n",
       "    <tr>\n",
       "      <th>Dorian</th>\n",
       "      <td>10.0</td>\n",
       "      <td>MSIS</td>\n",
       "    </tr>\n",
       "    <tr>\n",
       "      <th>Jeannine</th>\n",
       "      <td>7.0</td>\n",
       "      <td>MSIS</td>\n",
       "    </tr>\n",
       "    <tr>\n",
       "      <th>Iluminada</th>\n",
       "      <td>NaN</td>\n",
       "      <td>MBA</td>\n",
       "    </tr>\n",
       "    <tr>\n",
       "      <th>Luci</th>\n",
       "      <td>7.0</td>\n",
       "      <td>MSIS</td>\n",
       "    </tr>\n",
       "    <tr>\n",
       "      <th>Jenny</th>\n",
       "      <td>NaN</td>\n",
       "      <td>NaN</td>\n",
       "    </tr>\n",
       "  </tbody>\n",
       "</table>\n",
       "</div>"
      ],
      "text/plain": [
       "            hw2 program\n",
       "Name                   \n",
       "Dorian     10.0    MSIS\n",
       "Jeannine    7.0    MSIS\n",
       "Iluminada   NaN     MBA\n",
       "Luci        7.0    MSIS\n",
       "Jenny       NaN     NaN"
      ]
     },
     "execution_count": 21,
     "metadata": {},
     "output_type": "execute_result"
    }
   ],
   "source": [
    "df.iloc[:5, -2:]"
   ]
  },
  {
   "cell_type": "markdown",
   "metadata": {
    "id": "lbL9ULF59PxQ"
   },
   "source": [
    "### df.loc[x, y]"
   ]
  },
  {
   "cell_type": "markdown",
   "metadata": {
    "id": "iozZnxyR9PxQ"
   },
   "source": [
    "Access using the index labels. \n",
    "<ul>\n",
    "<li><b>x</b> is the information needed to select the rows: label index, range of index labels, or boolean masks</li>\n",
    "<li><b>y (optional)</b> is the information needed to select the columns: label index, range of index labels, or boolean masks</li>\n",
    "</ul>"
   ]
  },
  {
   "cell_type": "markdown",
   "metadata": {
    "id": "2ASTiAAk9PxQ"
   },
   "source": [
    "Acccess one specific value by specifying index label and column name"
   ]
  },
  {
   "cell_type": "code",
   "execution_count": 22,
   "metadata": {
    "id": "_eq5LJle9PxQ"
   },
   "outputs": [
    {
     "data": {
      "text/html": [
       "<div>\n",
       "<style scoped>\n",
       "    .dataframe tbody tr th:only-of-type {\n",
       "        vertical-align: middle;\n",
       "    }\n",
       "\n",
       "    .dataframe tbody tr th {\n",
       "        vertical-align: top;\n",
       "    }\n",
       "\n",
       "    .dataframe thead th {\n",
       "        text-align: right;\n",
       "    }\n",
       "</style>\n",
       "<table border=\"1\" class=\"dataframe\">\n",
       "  <thead>\n",
       "    <tr style=\"text-align: right;\">\n",
       "      <th></th>\n",
       "      <th>hw1</th>\n",
       "      <th>hw2</th>\n",
       "      <th>program</th>\n",
       "    </tr>\n",
       "    <tr>\n",
       "      <th>Name</th>\n",
       "      <th></th>\n",
       "      <th></th>\n",
       "      <th></th>\n",
       "    </tr>\n",
       "  </thead>\n",
       "  <tbody>\n",
       "    <tr>\n",
       "      <th>Dorian</th>\n",
       "      <td>10.0</td>\n",
       "      <td>10.0</td>\n",
       "      <td>MSIS</td>\n",
       "    </tr>\n",
       "    <tr>\n",
       "      <th>Jeannine</th>\n",
       "      <td>6.0</td>\n",
       "      <td>7.0</td>\n",
       "      <td>MSIS</td>\n",
       "    </tr>\n",
       "    <tr>\n",
       "      <th>Iluminada</th>\n",
       "      <td>2.0</td>\n",
       "      <td>NaN</td>\n",
       "      <td>MBA</td>\n",
       "    </tr>\n",
       "    <tr>\n",
       "      <th>Luci</th>\n",
       "      <td>7.0</td>\n",
       "      <td>7.0</td>\n",
       "      <td>MSIS</td>\n",
       "    </tr>\n",
       "    <tr>\n",
       "      <th>Jenny</th>\n",
       "      <td>8.0</td>\n",
       "      <td>NaN</td>\n",
       "      <td>NaN</td>\n",
       "    </tr>\n",
       "    <tr>\n",
       "      <th>Demetria</th>\n",
       "      <td>2.0</td>\n",
       "      <td>4.0</td>\n",
       "      <td>MSIS</td>\n",
       "    </tr>\n",
       "    <tr>\n",
       "      <th>Michael</th>\n",
       "      <td>6.0</td>\n",
       "      <td>10.0</td>\n",
       "      <td>MBA</td>\n",
       "    </tr>\n",
       "    <tr>\n",
       "      <th>Garland</th>\n",
       "      <td>9.0</td>\n",
       "      <td>1.0</td>\n",
       "      <td>MSIS</td>\n",
       "    </tr>\n",
       "    <tr>\n",
       "      <th>Shelby</th>\n",
       "      <td>1.0</td>\n",
       "      <td>10.0</td>\n",
       "      <td>MSIS</td>\n",
       "    </tr>\n",
       "    <tr>\n",
       "      <th>Mercy</th>\n",
       "      <td>5.0</td>\n",
       "      <td>6.0</td>\n",
       "      <td>MSIS</td>\n",
       "    </tr>\n",
       "    <tr>\n",
       "      <th>John</th>\n",
       "      <td>NaN</td>\n",
       "      <td>10.0</td>\n",
       "      <td>MSIS</td>\n",
       "    </tr>\n",
       "  </tbody>\n",
       "</table>\n",
       "</div>"
      ],
      "text/plain": [
       "            hw1   hw2 program\n",
       "Name                         \n",
       "Dorian     10.0  10.0    MSIS\n",
       "Jeannine    6.0   7.0    MSIS\n",
       "Iluminada   2.0   NaN     MBA\n",
       "Luci        7.0   7.0    MSIS\n",
       "Jenny       8.0   NaN     NaN\n",
       "Demetria    2.0   4.0    MSIS\n",
       "Michael     6.0  10.0     MBA\n",
       "Garland     9.0   1.0    MSIS\n",
       "Shelby      1.0  10.0    MSIS\n",
       "Mercy       5.0   6.0    MSIS\n",
       "John        NaN  10.0    MSIS"
      ]
     },
     "execution_count": 22,
     "metadata": {},
     "output_type": "execute_result"
    }
   ],
   "source": [
    "df"
   ]
  },
  {
   "cell_type": "markdown",
   "metadata": {
    "id": "AD6uhOf39PxR"
   },
   "source": [
    "Retrieve Garland's hw2 score"
   ]
  },
  {
   "cell_type": "code",
   "execution_count": 23,
   "metadata": {
    "id": "6KAPanFA9PxR"
   },
   "outputs": [
    {
     "data": {
      "text/plain": [
       "1.0"
      ]
     },
     "execution_count": 23,
     "metadata": {},
     "output_type": "execute_result"
    }
   ],
   "source": [
    "df.loc['Garland', 'hw2']"
   ]
  },
  {
   "cell_type": "markdown",
   "metadata": {
    "id": "mAcsv2Mq9PxR"
   },
   "source": [
    "Access one row by specifying index label, i.e. retrieving Garland's whole information"
   ]
  },
  {
   "cell_type": "code",
   "execution_count": 25,
   "metadata": {
    "id": "lPw4Rt849PxR"
   },
   "outputs": [
    {
     "data": {
      "text/plain": [
       "hw1         9.0\n",
       "hw2         1.0\n",
       "program    MSIS\n",
       "Name: Garland, dtype: object"
      ]
     },
     "execution_count": 25,
     "metadata": {},
     "output_type": "execute_result"
    }
   ],
   "source": [
    "df.loc['Garland',:]"
   ]
  },
  {
   "cell_type": "markdown",
   "metadata": {
    "id": "bDXodVnM9PxR"
   },
   "source": [
    "or, more simply:"
   ]
  },
  {
   "cell_type": "code",
   "execution_count": 26,
   "metadata": {
    "id": "oQaAJg7X9PxR"
   },
   "outputs": [
    {
     "data": {
      "text/plain": [
       "hw1         9.0\n",
       "hw2         1.0\n",
       "program    MSIS\n",
       "Name: Garland, dtype: object"
      ]
     },
     "execution_count": 26,
     "metadata": {},
     "output_type": "execute_result"
    }
   ],
   "source": [
    "df.loc['Garland']"
   ]
  },
  {
   "cell_type": "markdown",
   "metadata": {
    "id": "KsCmhXoQ9PxR"
   },
   "source": [
    "Access one column by specifying index label, i.e. retrieving everyone's hw1 score"
   ]
  },
  {
   "cell_type": "code",
   "execution_count": 27,
   "metadata": {
    "id": "2znmFzpP9PxR"
   },
   "outputs": [
    {
     "data": {
      "text/plain": [
       "Name\n",
       "Dorian       10.0\n",
       "Jeannine      6.0\n",
       "Iluminada     2.0\n",
       "Luci          7.0\n",
       "Jenny         8.0\n",
       "Demetria      2.0\n",
       "Michael       6.0\n",
       "Garland       9.0\n",
       "Shelby        1.0\n",
       "Mercy         5.0\n",
       "John          NaN\n",
       "Name: hw1, dtype: float64"
      ]
     },
     "execution_count": 27,
     "metadata": {},
     "output_type": "execute_result"
    }
   ],
   "source": [
    "df.loc[:, 'hw1']"
   ]
  },
  {
   "cell_type": "markdown",
   "metadata": {
    "id": "DjRWZ4D69PxS"
   },
   "source": [
    "For the above operation of retrieving a single column, pandas provides two simpler codes:"
   ]
  },
  {
   "cell_type": "code",
   "execution_count": 28,
   "metadata": {
    "id": "IxcUAjPI9PxS"
   },
   "outputs": [
    {
     "data": {
      "text/plain": [
       "Name\n",
       "Dorian       10.0\n",
       "Jeannine      6.0\n",
       "Iluminada     2.0\n",
       "Luci          7.0\n",
       "Jenny         8.0\n",
       "Demetria      2.0\n",
       "Michael       6.0\n",
       "Garland       9.0\n",
       "Shelby        1.0\n",
       "Mercy         5.0\n",
       "John          NaN\n",
       "Name: hw1, dtype: float64"
      ]
     },
     "execution_count": 28,
     "metadata": {},
     "output_type": "execute_result"
    }
   ],
   "source": [
    "df['hw1']  #within bracket--select columns"
   ]
  },
  {
   "cell_type": "code",
   "execution_count": 29,
   "metadata": {
    "id": "IoJrynFi9PxS"
   },
   "outputs": [
    {
     "data": {
      "text/plain": [
       "Name\n",
       "Dorian       10.0\n",
       "Jeannine      6.0\n",
       "Iluminada     2.0\n",
       "Luci          7.0\n",
       "Jenny         8.0\n",
       "Demetria      2.0\n",
       "Michael       6.0\n",
       "Garland       9.0\n",
       "Shelby        1.0\n",
       "Mercy         5.0\n",
       "John          NaN\n",
       "Name: hw1, dtype: float64"
      ]
     },
     "execution_count": 29,
     "metadata": {},
     "output_type": "execute_result"
    }
   ],
   "source": [
    "df.hw1"
   ]
  },
  {
   "cell_type": "code",
   "execution_count": 30,
   "metadata": {},
   "outputs": [
    {
     "data": {
      "text/html": [
       "<div>\n",
       "<style scoped>\n",
       "    .dataframe tbody tr th:only-of-type {\n",
       "        vertical-align: middle;\n",
       "    }\n",
       "\n",
       "    .dataframe tbody tr th {\n",
       "        vertical-align: top;\n",
       "    }\n",
       "\n",
       "    .dataframe thead th {\n",
       "        text-align: right;\n",
       "    }\n",
       "</style>\n",
       "<table border=\"1\" class=\"dataframe\">\n",
       "  <thead>\n",
       "    <tr style=\"text-align: right;\">\n",
       "      <th></th>\n",
       "      <th>hw1</th>\n",
       "      <th>hw2</th>\n",
       "    </tr>\n",
       "    <tr>\n",
       "      <th>Name</th>\n",
       "      <th></th>\n",
       "      <th></th>\n",
       "    </tr>\n",
       "  </thead>\n",
       "  <tbody>\n",
       "    <tr>\n",
       "      <th>Dorian</th>\n",
       "      <td>10.0</td>\n",
       "      <td>10.0</td>\n",
       "    </tr>\n",
       "    <tr>\n",
       "      <th>Jeannine</th>\n",
       "      <td>6.0</td>\n",
       "      <td>7.0</td>\n",
       "    </tr>\n",
       "    <tr>\n",
       "      <th>Iluminada</th>\n",
       "      <td>2.0</td>\n",
       "      <td>NaN</td>\n",
       "    </tr>\n",
       "    <tr>\n",
       "      <th>Luci</th>\n",
       "      <td>7.0</td>\n",
       "      <td>7.0</td>\n",
       "    </tr>\n",
       "    <tr>\n",
       "      <th>Jenny</th>\n",
       "      <td>8.0</td>\n",
       "      <td>NaN</td>\n",
       "    </tr>\n",
       "    <tr>\n",
       "      <th>Demetria</th>\n",
       "      <td>2.0</td>\n",
       "      <td>4.0</td>\n",
       "    </tr>\n",
       "    <tr>\n",
       "      <th>Michael</th>\n",
       "      <td>6.0</td>\n",
       "      <td>10.0</td>\n",
       "    </tr>\n",
       "    <tr>\n",
       "      <th>Garland</th>\n",
       "      <td>9.0</td>\n",
       "      <td>1.0</td>\n",
       "    </tr>\n",
       "    <tr>\n",
       "      <th>Shelby</th>\n",
       "      <td>1.0</td>\n",
       "      <td>10.0</td>\n",
       "    </tr>\n",
       "    <tr>\n",
       "      <th>Mercy</th>\n",
       "      <td>5.0</td>\n",
       "      <td>6.0</td>\n",
       "    </tr>\n",
       "    <tr>\n",
       "      <th>John</th>\n",
       "      <td>NaN</td>\n",
       "      <td>10.0</td>\n",
       "    </tr>\n",
       "  </tbody>\n",
       "</table>\n",
       "</div>"
      ],
      "text/plain": [
       "            hw1   hw2\n",
       "Name                 \n",
       "Dorian     10.0  10.0\n",
       "Jeannine    6.0   7.0\n",
       "Iluminada   2.0   NaN\n",
       "Luci        7.0   7.0\n",
       "Jenny       8.0   NaN\n",
       "Demetria    2.0   4.0\n",
       "Michael     6.0  10.0\n",
       "Garland     9.0   1.0\n",
       "Shelby      1.0  10.0\n",
       "Mercy       5.0   6.0\n",
       "John        NaN  10.0"
      ]
     },
     "execution_count": 30,
     "metadata": {},
     "output_type": "execute_result"
    }
   ],
   "source": [
    "df[['hw1','hw2']] #list"
   ]
  },
  {
   "cell_type": "markdown",
   "metadata": {
    "id": "lKlMtsVo9PxS"
   },
   "source": [
    "### Boolean mask\n",
    "Similar code as we tried on Series. Used for retrieving rows that satisfy the conditions we impose."
   ]
  },
  {
   "cell_type": "markdown",
   "metadata": {
    "id": "L_py4WUb9PxS"
   },
   "source": [
    "Determine whether names starts with 'J'"
   ]
  },
  {
   "cell_type": "code",
   "execution_count": 32,
   "metadata": {
    "id": "bWY8mABz9PxS"
   },
   "outputs": [
    {
     "data": {
      "text/plain": [
       "array([False,  True, False, False,  True, False, False, False, False,\n",
       "       False,  True])"
      ]
     },
     "execution_count": 32,
     "metadata": {},
     "output_type": "execute_result"
    }
   ],
   "source": [
    "(df.index >= 'J') & (df.index < 'K')"
   ]
  },
  {
   "cell_type": "markdown",
   "metadata": {
    "id": "L2V2ZIjD9PxS"
   },
   "source": [
    "Retrieve rows with names starting with 'J'"
   ]
  },
  {
   "cell_type": "code",
   "execution_count": 31,
   "metadata": {
    "id": "ftrJbHzZ9PxT"
   },
   "outputs": [
    {
     "data": {
      "text/html": [
       "<div>\n",
       "<style scoped>\n",
       "    .dataframe tbody tr th:only-of-type {\n",
       "        vertical-align: middle;\n",
       "    }\n",
       "\n",
       "    .dataframe tbody tr th {\n",
       "        vertical-align: top;\n",
       "    }\n",
       "\n",
       "    .dataframe thead th {\n",
       "        text-align: right;\n",
       "    }\n",
       "</style>\n",
       "<table border=\"1\" class=\"dataframe\">\n",
       "  <thead>\n",
       "    <tr style=\"text-align: right;\">\n",
       "      <th></th>\n",
       "      <th>hw1</th>\n",
       "      <th>hw2</th>\n",
       "      <th>program</th>\n",
       "    </tr>\n",
       "    <tr>\n",
       "      <th>Name</th>\n",
       "      <th></th>\n",
       "      <th></th>\n",
       "      <th></th>\n",
       "    </tr>\n",
       "  </thead>\n",
       "  <tbody>\n",
       "    <tr>\n",
       "      <th>Jeannine</th>\n",
       "      <td>6.0</td>\n",
       "      <td>7.0</td>\n",
       "      <td>MSIS</td>\n",
       "    </tr>\n",
       "    <tr>\n",
       "      <th>Jenny</th>\n",
       "      <td>8.0</td>\n",
       "      <td>NaN</td>\n",
       "      <td>NaN</td>\n",
       "    </tr>\n",
       "    <tr>\n",
       "      <th>John</th>\n",
       "      <td>NaN</td>\n",
       "      <td>10.0</td>\n",
       "      <td>MSIS</td>\n",
       "    </tr>\n",
       "  </tbody>\n",
       "</table>\n",
       "</div>"
      ],
      "text/plain": [
       "          hw1   hw2 program\n",
       "Name                       \n",
       "Jeannine  6.0   7.0    MSIS\n",
       "Jenny     8.0   NaN     NaN\n",
       "John      NaN  10.0    MSIS"
      ]
     },
     "execution_count": 31,
     "metadata": {},
     "output_type": "execute_result"
    }
   ],
   "source": [
    "df[(df.index >= 'J') & (df.index < 'K')] #within bracket[]--condition"
   ]
  },
  {
   "cell_type": "markdown",
   "metadata": {
    "id": "AO9mhO-p9PxT"
   },
   "source": [
    "### Exercise"
   ]
  },
  {
   "cell_type": "markdown",
   "metadata": {
    "id": "N2fe1lY69PxT"
   },
   "source": [
    "Retrieve Shelby's hw1 grade"
   ]
  },
  {
   "cell_type": "code",
   "execution_count": 33,
   "metadata": {
    "id": "CPsTsvHk9PxT"
   },
   "outputs": [
    {
     "data": {
      "text/plain": [
       "1.0"
      ]
     },
     "execution_count": 33,
     "metadata": {},
     "output_type": "execute_result"
    }
   ],
   "source": [
    "df.loc['Shelby','hw1']"
   ]
  },
  {
   "cell_type": "markdown",
   "metadata": {
    "id": "I_bYiLC09PxT"
   },
   "source": [
    "Retrieve all information about Shelby"
   ]
  },
  {
   "cell_type": "code",
   "execution_count": 34,
   "metadata": {
    "id": "KSQXu7-X9PxT"
   },
   "outputs": [
    {
     "data": {
      "text/plain": [
       "hw1         1.0\n",
       "hw2        10.0\n",
       "program    MSIS\n",
       "Name: Shelby, dtype: object"
      ]
     },
     "execution_count": 34,
     "metadata": {},
     "output_type": "execute_result"
    }
   ],
   "source": [
    "df.loc['Shelby']"
   ]
  },
  {
   "cell_type": "markdown",
   "metadata": {
    "id": "ymks4F3I9PxT"
   },
   "source": [
    "Find all information about those students that obtained the highest grade in hw2. \n",
    "+ Caution: there are possible ties. \n",
    "+ Hint: use .max() and boolean mask"
   ]
  },
  {
   "cell_type": "code",
   "execution_count": 37,
   "metadata": {
    "id": "LrL6fT4U9PxT"
   },
   "outputs": [
    {
     "data": {
      "text/html": [
       "<div>\n",
       "<style scoped>\n",
       "    .dataframe tbody tr th:only-of-type {\n",
       "        vertical-align: middle;\n",
       "    }\n",
       "\n",
       "    .dataframe tbody tr th {\n",
       "        vertical-align: top;\n",
       "    }\n",
       "\n",
       "    .dataframe thead th {\n",
       "        text-align: right;\n",
       "    }\n",
       "</style>\n",
       "<table border=\"1\" class=\"dataframe\">\n",
       "  <thead>\n",
       "    <tr style=\"text-align: right;\">\n",
       "      <th></th>\n",
       "      <th>hw1</th>\n",
       "      <th>hw2</th>\n",
       "      <th>program</th>\n",
       "    </tr>\n",
       "    <tr>\n",
       "      <th>Name</th>\n",
       "      <th></th>\n",
       "      <th></th>\n",
       "      <th></th>\n",
       "    </tr>\n",
       "  </thead>\n",
       "  <tbody>\n",
       "    <tr>\n",
       "      <th>Dorian</th>\n",
       "      <td>10.0</td>\n",
       "      <td>10.0</td>\n",
       "      <td>MSIS</td>\n",
       "    </tr>\n",
       "    <tr>\n",
       "      <th>Michael</th>\n",
       "      <td>6.0</td>\n",
       "      <td>10.0</td>\n",
       "      <td>MBA</td>\n",
       "    </tr>\n",
       "    <tr>\n",
       "      <th>Shelby</th>\n",
       "      <td>1.0</td>\n",
       "      <td>10.0</td>\n",
       "      <td>MSIS</td>\n",
       "    </tr>\n",
       "    <tr>\n",
       "      <th>John</th>\n",
       "      <td>NaN</td>\n",
       "      <td>10.0</td>\n",
       "      <td>MSIS</td>\n",
       "    </tr>\n",
       "  </tbody>\n",
       "</table>\n",
       "</div>"
      ],
      "text/plain": [
       "          hw1   hw2 program\n",
       "Name                       \n",
       "Dorian   10.0  10.0    MSIS\n",
       "Michael   6.0  10.0     MBA\n",
       "Shelby    1.0  10.0    MSIS\n",
       "John      NaN  10.0    MSIS"
      ]
     },
     "execution_count": 37,
     "metadata": {},
     "output_type": "execute_result"
    }
   ],
   "source": [
    "df[df.hw2==df.hw2.max()]\n",
    "#df[condition]"
   ]
  },
  {
   "cell_type": "markdown",
   "metadata": {
    "id": "EeOJGLFX9PxU"
   },
   "source": [
    "Find the average hw1 score of those students who got a hw2 score greater than 5."
   ]
  },
  {
   "cell_type": "code",
   "execution_count": 41,
   "metadata": {
    "id": "d3f7mhJl9PxU"
   },
   "outputs": [
    {
     "data": {
      "text/plain": [
       "5.833333333333333"
      ]
     },
     "execution_count": 41,
     "metadata": {},
     "output_type": "execute_result"
    }
   ],
   "source": [
    "df[df.hw2>5].hw1.mean()\n",
    "#df[df.hw2>5].mean()['hw1']"
   ]
  },
  {
   "cell_type": "markdown",
   "metadata": {
    "id": "QJ46lsgu9PxU"
   },
   "source": [
    "## Sorting\n",
    "Similar to the code on Series, expect now we need to tell which column or columns are used for sorting."
   ]
  },
  {
   "cell_type": "markdown",
   "metadata": {
    "id": "RvGxUpNO9PxU"
   },
   "source": [
    "### `DataFrame.sort_values()`"
   ]
  },
  {
   "cell_type": "markdown",
   "metadata": {
    "id": "9-6K0sU59PxU"
   },
   "source": [
    "Sort the table based on the values of a set of columns (parameter <b>by</b>). "
   ]
  },
  {
   "cell_type": "markdown",
   "metadata": {
    "id": "-9vuy7Is9PxU"
   },
   "source": [
    "Sorting by one column, i.e. sorting data by hw1 score in the descending order"
   ]
  },
  {
   "cell_type": "code",
   "execution_count": 42,
   "metadata": {
    "id": "2rSeRWvc9PxU"
   },
   "outputs": [
    {
     "data": {
      "text/html": [
       "<div>\n",
       "<style scoped>\n",
       "    .dataframe tbody tr th:only-of-type {\n",
       "        vertical-align: middle;\n",
       "    }\n",
       "\n",
       "    .dataframe tbody tr th {\n",
       "        vertical-align: top;\n",
       "    }\n",
       "\n",
       "    .dataframe thead th {\n",
       "        text-align: right;\n",
       "    }\n",
       "</style>\n",
       "<table border=\"1\" class=\"dataframe\">\n",
       "  <thead>\n",
       "    <tr style=\"text-align: right;\">\n",
       "      <th></th>\n",
       "      <th>hw1</th>\n",
       "      <th>hw2</th>\n",
       "      <th>program</th>\n",
       "    </tr>\n",
       "    <tr>\n",
       "      <th>Name</th>\n",
       "      <th></th>\n",
       "      <th></th>\n",
       "      <th></th>\n",
       "    </tr>\n",
       "  </thead>\n",
       "  <tbody>\n",
       "    <tr>\n",
       "      <th>Dorian</th>\n",
       "      <td>10.0</td>\n",
       "      <td>10.0</td>\n",
       "      <td>MSIS</td>\n",
       "    </tr>\n",
       "    <tr>\n",
       "      <th>Garland</th>\n",
       "      <td>9.0</td>\n",
       "      <td>1.0</td>\n",
       "      <td>MSIS</td>\n",
       "    </tr>\n",
       "    <tr>\n",
       "      <th>Jenny</th>\n",
       "      <td>8.0</td>\n",
       "      <td>NaN</td>\n",
       "      <td>NaN</td>\n",
       "    </tr>\n",
       "    <tr>\n",
       "      <th>Luci</th>\n",
       "      <td>7.0</td>\n",
       "      <td>7.0</td>\n",
       "      <td>MSIS</td>\n",
       "    </tr>\n",
       "    <tr>\n",
       "      <th>Jeannine</th>\n",
       "      <td>6.0</td>\n",
       "      <td>7.0</td>\n",
       "      <td>MSIS</td>\n",
       "    </tr>\n",
       "    <tr>\n",
       "      <th>Michael</th>\n",
       "      <td>6.0</td>\n",
       "      <td>10.0</td>\n",
       "      <td>MBA</td>\n",
       "    </tr>\n",
       "    <tr>\n",
       "      <th>Mercy</th>\n",
       "      <td>5.0</td>\n",
       "      <td>6.0</td>\n",
       "      <td>MSIS</td>\n",
       "    </tr>\n",
       "    <tr>\n",
       "      <th>Iluminada</th>\n",
       "      <td>2.0</td>\n",
       "      <td>NaN</td>\n",
       "      <td>MBA</td>\n",
       "    </tr>\n",
       "    <tr>\n",
       "      <th>Demetria</th>\n",
       "      <td>2.0</td>\n",
       "      <td>4.0</td>\n",
       "      <td>MSIS</td>\n",
       "    </tr>\n",
       "    <tr>\n",
       "      <th>Shelby</th>\n",
       "      <td>1.0</td>\n",
       "      <td>10.0</td>\n",
       "      <td>MSIS</td>\n",
       "    </tr>\n",
       "    <tr>\n",
       "      <th>John</th>\n",
       "      <td>NaN</td>\n",
       "      <td>10.0</td>\n",
       "      <td>MSIS</td>\n",
       "    </tr>\n",
       "  </tbody>\n",
       "</table>\n",
       "</div>"
      ],
      "text/plain": [
       "            hw1   hw2 program\n",
       "Name                         \n",
       "Dorian     10.0  10.0    MSIS\n",
       "Garland     9.0   1.0    MSIS\n",
       "Jenny       8.0   NaN     NaN\n",
       "Luci        7.0   7.0    MSIS\n",
       "Jeannine    6.0   7.0    MSIS\n",
       "Michael     6.0  10.0     MBA\n",
       "Mercy       5.0   6.0    MSIS\n",
       "Iluminada   2.0   NaN     MBA\n",
       "Demetria    2.0   4.0    MSIS\n",
       "Shelby      1.0  10.0    MSIS\n",
       "John        NaN  10.0    MSIS"
      ]
     },
     "execution_count": 42,
     "metadata": {},
     "output_type": "execute_result"
    }
   ],
   "source": [
    "df.sort_values(by='hw1', ascending=False)"
   ]
  },
  {
   "cell_type": "markdown",
   "metadata": {
    "id": "GrLGn39l9PxU"
   },
   "source": [
    "Sorting by more columns. For example, by hw1 descending and, in case of ties, by hw2 ascending"
   ]
  },
  {
   "cell_type": "code",
   "execution_count": 43,
   "metadata": {
    "id": "wJVKXLnt9PxV"
   },
   "outputs": [
    {
     "data": {
      "text/html": [
       "<div>\n",
       "<style scoped>\n",
       "    .dataframe tbody tr th:only-of-type {\n",
       "        vertical-align: middle;\n",
       "    }\n",
       "\n",
       "    .dataframe tbody tr th {\n",
       "        vertical-align: top;\n",
       "    }\n",
       "\n",
       "    .dataframe thead th {\n",
       "        text-align: right;\n",
       "    }\n",
       "</style>\n",
       "<table border=\"1\" class=\"dataframe\">\n",
       "  <thead>\n",
       "    <tr style=\"text-align: right;\">\n",
       "      <th></th>\n",
       "      <th>hw1</th>\n",
       "      <th>hw2</th>\n",
       "      <th>program</th>\n",
       "    </tr>\n",
       "    <tr>\n",
       "      <th>Name</th>\n",
       "      <th></th>\n",
       "      <th></th>\n",
       "      <th></th>\n",
       "    </tr>\n",
       "  </thead>\n",
       "  <tbody>\n",
       "    <tr>\n",
       "      <th>Dorian</th>\n",
       "      <td>10.0</td>\n",
       "      <td>10.0</td>\n",
       "      <td>MSIS</td>\n",
       "    </tr>\n",
       "    <tr>\n",
       "      <th>Garland</th>\n",
       "      <td>9.0</td>\n",
       "      <td>1.0</td>\n",
       "      <td>MSIS</td>\n",
       "    </tr>\n",
       "    <tr>\n",
       "      <th>Jenny</th>\n",
       "      <td>8.0</td>\n",
       "      <td>NaN</td>\n",
       "      <td>NaN</td>\n",
       "    </tr>\n",
       "    <tr>\n",
       "      <th>Luci</th>\n",
       "      <td>7.0</td>\n",
       "      <td>7.0</td>\n",
       "      <td>MSIS</td>\n",
       "    </tr>\n",
       "    <tr>\n",
       "      <th>Jeannine</th>\n",
       "      <td>6.0</td>\n",
       "      <td>7.0</td>\n",
       "      <td>MSIS</td>\n",
       "    </tr>\n",
       "    <tr>\n",
       "      <th>Michael</th>\n",
       "      <td>6.0</td>\n",
       "      <td>10.0</td>\n",
       "      <td>MBA</td>\n",
       "    </tr>\n",
       "    <tr>\n",
       "      <th>Mercy</th>\n",
       "      <td>5.0</td>\n",
       "      <td>6.0</td>\n",
       "      <td>MSIS</td>\n",
       "    </tr>\n",
       "    <tr>\n",
       "      <th>Demetria</th>\n",
       "      <td>2.0</td>\n",
       "      <td>4.0</td>\n",
       "      <td>MSIS</td>\n",
       "    </tr>\n",
       "    <tr>\n",
       "      <th>Iluminada</th>\n",
       "      <td>2.0</td>\n",
       "      <td>NaN</td>\n",
       "      <td>MBA</td>\n",
       "    </tr>\n",
       "    <tr>\n",
       "      <th>Shelby</th>\n",
       "      <td>1.0</td>\n",
       "      <td>10.0</td>\n",
       "      <td>MSIS</td>\n",
       "    </tr>\n",
       "    <tr>\n",
       "      <th>John</th>\n",
       "      <td>NaN</td>\n",
       "      <td>10.0</td>\n",
       "      <td>MSIS</td>\n",
       "    </tr>\n",
       "  </tbody>\n",
       "</table>\n",
       "</div>"
      ],
      "text/plain": [
       "            hw1   hw2 program\n",
       "Name                         \n",
       "Dorian     10.0  10.0    MSIS\n",
       "Garland     9.0   1.0    MSIS\n",
       "Jenny       8.0   NaN     NaN\n",
       "Luci        7.0   7.0    MSIS\n",
       "Jeannine    6.0   7.0    MSIS\n",
       "Michael     6.0  10.0     MBA\n",
       "Mercy       5.0   6.0    MSIS\n",
       "Demetria    2.0   4.0    MSIS\n",
       "Iluminada   2.0   NaN     MBA\n",
       "Shelby      1.0  10.0    MSIS\n",
       "John        NaN  10.0    MSIS"
      ]
     },
     "execution_count": 43,
     "metadata": {},
     "output_type": "execute_result"
    }
   ],
   "source": [
    "df.sort_values(by=['hw1', 'hw2'], ascending=[False, True])"
   ]
  },
  {
   "cell_type": "markdown",
   "metadata": {
    "id": "McMatitz9PxV"
   },
   "source": [
    "### Sort objects by label: `DataFrame.sort_index()`"
   ]
  },
  {
   "cell_type": "code",
   "execution_count": null,
   "metadata": {
    "id": "-CDWEDdl9PxV"
   },
   "outputs": [],
   "source": []
  },
  {
   "cell_type": "markdown",
   "metadata": {
    "id": "9fK9CMlF9PxV"
   },
   "source": [
    "### `DataFrame.head()`"
   ]
  },
  {
   "cell_type": "markdown",
   "metadata": {
    "id": "dq2vTb0M9PxV"
   },
   "source": [
    "Returns the first (or last) n rows"
   ]
  },
  {
   "cell_type": "code",
   "execution_count": 45,
   "metadata": {
    "id": "LnPLI_139PxV"
   },
   "outputs": [
    {
     "data": {
      "text/html": [
       "<div>\n",
       "<style scoped>\n",
       "    .dataframe tbody tr th:only-of-type {\n",
       "        vertical-align: middle;\n",
       "    }\n",
       "\n",
       "    .dataframe tbody tr th {\n",
       "        vertical-align: top;\n",
       "    }\n",
       "\n",
       "    .dataframe thead th {\n",
       "        text-align: right;\n",
       "    }\n",
       "</style>\n",
       "<table border=\"1\" class=\"dataframe\">\n",
       "  <thead>\n",
       "    <tr style=\"text-align: right;\">\n",
       "      <th></th>\n",
       "      <th>hw1</th>\n",
       "      <th>hw2</th>\n",
       "      <th>program</th>\n",
       "    </tr>\n",
       "    <tr>\n",
       "      <th>Name</th>\n",
       "      <th></th>\n",
       "      <th></th>\n",
       "      <th></th>\n",
       "    </tr>\n",
       "  </thead>\n",
       "  <tbody>\n",
       "    <tr>\n",
       "      <th>Dorian</th>\n",
       "      <td>10.0</td>\n",
       "      <td>10.0</td>\n",
       "      <td>MSIS</td>\n",
       "    </tr>\n",
       "    <tr>\n",
       "      <th>Jeannine</th>\n",
       "      <td>6.0</td>\n",
       "      <td>7.0</td>\n",
       "      <td>MSIS</td>\n",
       "    </tr>\n",
       "  </tbody>\n",
       "</table>\n",
       "</div>"
      ],
      "text/plain": [
       "           hw1   hw2 program\n",
       "Name                        \n",
       "Dorian    10.0  10.0    MSIS\n",
       "Jeannine   6.0   7.0    MSIS"
      ]
     },
     "execution_count": 45,
     "metadata": {},
     "output_type": "execute_result"
    }
   ],
   "source": [
    "df.head(2)"
   ]
  },
  {
   "cell_type": "markdown",
   "metadata": {
    "id": "L0myBQsb9PxV"
   },
   "source": [
    "### `DataFrame.tail()`"
   ]
  },
  {
   "cell_type": "code",
   "execution_count": 44,
   "metadata": {
    "id": "w30XLPOS9PxV"
   },
   "outputs": [
    {
     "data": {
      "text/html": [
       "<div>\n",
       "<style scoped>\n",
       "    .dataframe tbody tr th:only-of-type {\n",
       "        vertical-align: middle;\n",
       "    }\n",
       "\n",
       "    .dataframe tbody tr th {\n",
       "        vertical-align: top;\n",
       "    }\n",
       "\n",
       "    .dataframe thead th {\n",
       "        text-align: right;\n",
       "    }\n",
       "</style>\n",
       "<table border=\"1\" class=\"dataframe\">\n",
       "  <thead>\n",
       "    <tr style=\"text-align: right;\">\n",
       "      <th></th>\n",
       "      <th>hw1</th>\n",
       "      <th>hw2</th>\n",
       "      <th>program</th>\n",
       "    </tr>\n",
       "    <tr>\n",
       "      <th>Name</th>\n",
       "      <th></th>\n",
       "      <th></th>\n",
       "      <th></th>\n",
       "    </tr>\n",
       "  </thead>\n",
       "  <tbody>\n",
       "    <tr>\n",
       "      <th>Michael</th>\n",
       "      <td>6.0</td>\n",
       "      <td>10.0</td>\n",
       "      <td>MBA</td>\n",
       "    </tr>\n",
       "    <tr>\n",
       "      <th>Garland</th>\n",
       "      <td>9.0</td>\n",
       "      <td>1.0</td>\n",
       "      <td>MSIS</td>\n",
       "    </tr>\n",
       "    <tr>\n",
       "      <th>Shelby</th>\n",
       "      <td>1.0</td>\n",
       "      <td>10.0</td>\n",
       "      <td>MSIS</td>\n",
       "    </tr>\n",
       "    <tr>\n",
       "      <th>Mercy</th>\n",
       "      <td>5.0</td>\n",
       "      <td>6.0</td>\n",
       "      <td>MSIS</td>\n",
       "    </tr>\n",
       "    <tr>\n",
       "      <th>John</th>\n",
       "      <td>NaN</td>\n",
       "      <td>10.0</td>\n",
       "      <td>MSIS</td>\n",
       "    </tr>\n",
       "  </tbody>\n",
       "</table>\n",
       "</div>"
      ],
      "text/plain": [
       "         hw1   hw2 program\n",
       "Name                      \n",
       "Michael  6.0  10.0     MBA\n",
       "Garland  9.0   1.0    MSIS\n",
       "Shelby   1.0  10.0    MSIS\n",
       "Mercy    5.0   6.0    MSIS\n",
       "John     NaN  10.0    MSIS"
      ]
     },
     "execution_count": 44,
     "metadata": {},
     "output_type": "execute_result"
    }
   ],
   "source": [
    "df.tail()"
   ]
  },
  {
   "cell_type": "markdown",
   "metadata": {
    "id": "2ldlOBo-9PxW"
   },
   "source": [
    "### Exercise"
   ]
  },
  {
   "cell_type": "markdown",
   "metadata": {
    "id": "8ygN9TWl9PxW"
   },
   "source": [
    "Sort the MSIS students by hw2 descending."
   ]
  },
  {
   "cell_type": "code",
   "execution_count": 46,
   "metadata": {
    "id": "dsVscPVc9PxW"
   },
   "outputs": [
    {
     "data": {
      "text/html": [
       "<div>\n",
       "<style scoped>\n",
       "    .dataframe tbody tr th:only-of-type {\n",
       "        vertical-align: middle;\n",
       "    }\n",
       "\n",
       "    .dataframe tbody tr th {\n",
       "        vertical-align: top;\n",
       "    }\n",
       "\n",
       "    .dataframe thead th {\n",
       "        text-align: right;\n",
       "    }\n",
       "</style>\n",
       "<table border=\"1\" class=\"dataframe\">\n",
       "  <thead>\n",
       "    <tr style=\"text-align: right;\">\n",
       "      <th></th>\n",
       "      <th>hw1</th>\n",
       "      <th>hw2</th>\n",
       "      <th>program</th>\n",
       "    </tr>\n",
       "    <tr>\n",
       "      <th>Name</th>\n",
       "      <th></th>\n",
       "      <th></th>\n",
       "      <th></th>\n",
       "    </tr>\n",
       "  </thead>\n",
       "  <tbody>\n",
       "    <tr>\n",
       "      <th>Dorian</th>\n",
       "      <td>10.0</td>\n",
       "      <td>10.0</td>\n",
       "      <td>MSIS</td>\n",
       "    </tr>\n",
       "    <tr>\n",
       "      <th>Shelby</th>\n",
       "      <td>1.0</td>\n",
       "      <td>10.0</td>\n",
       "      <td>MSIS</td>\n",
       "    </tr>\n",
       "    <tr>\n",
       "      <th>John</th>\n",
       "      <td>NaN</td>\n",
       "      <td>10.0</td>\n",
       "      <td>MSIS</td>\n",
       "    </tr>\n",
       "    <tr>\n",
       "      <th>Jeannine</th>\n",
       "      <td>6.0</td>\n",
       "      <td>7.0</td>\n",
       "      <td>MSIS</td>\n",
       "    </tr>\n",
       "    <tr>\n",
       "      <th>Luci</th>\n",
       "      <td>7.0</td>\n",
       "      <td>7.0</td>\n",
       "      <td>MSIS</td>\n",
       "    </tr>\n",
       "    <tr>\n",
       "      <th>Mercy</th>\n",
       "      <td>5.0</td>\n",
       "      <td>6.0</td>\n",
       "      <td>MSIS</td>\n",
       "    </tr>\n",
       "    <tr>\n",
       "      <th>Demetria</th>\n",
       "      <td>2.0</td>\n",
       "      <td>4.0</td>\n",
       "      <td>MSIS</td>\n",
       "    </tr>\n",
       "    <tr>\n",
       "      <th>Garland</th>\n",
       "      <td>9.0</td>\n",
       "      <td>1.0</td>\n",
       "      <td>MSIS</td>\n",
       "    </tr>\n",
       "  </tbody>\n",
       "</table>\n",
       "</div>"
      ],
      "text/plain": [
       "           hw1   hw2 program\n",
       "Name                        \n",
       "Dorian    10.0  10.0    MSIS\n",
       "Shelby     1.0  10.0    MSIS\n",
       "John       NaN  10.0    MSIS\n",
       "Jeannine   6.0   7.0    MSIS\n",
       "Luci       7.0   7.0    MSIS\n",
       "Mercy      5.0   6.0    MSIS\n",
       "Demetria   2.0   4.0    MSIS\n",
       "Garland    9.0   1.0    MSIS"
      ]
     },
     "execution_count": 46,
     "metadata": {},
     "output_type": "execute_result"
    }
   ],
   "source": [
    "df[df.program=='MSIS'].sort_values('hw2', ascending=False)"
   ]
  },
  {
   "cell_type": "markdown",
   "metadata": {
    "id": "_K8R2hZu9PxW"
   },
   "source": [
    "Show <b>only</b> the field <i>hw1</i> of the students with the highest hw2 grade"
   ]
  },
  {
   "cell_type": "code",
   "execution_count": 47,
   "metadata": {
    "id": "gRWPahC69PxW"
   },
   "outputs": [
    {
     "data": {
      "text/plain": [
       "Name\n",
       "Dorian     10.0\n",
       "Michael     6.0\n",
       "Shelby      1.0\n",
       "John        NaN\n",
       "Name: hw1, dtype: float64"
      ]
     },
     "execution_count": 47,
     "metadata": {},
     "output_type": "execute_result"
    }
   ],
   "source": [
    "df[df.hw2==df.hw2.max()].hw1"
   ]
  },
  {
   "cell_type": "markdown",
   "metadata": {
    "id": "RtCvbfRa9PxW"
   },
   "source": [
    "## Aggregate functions: `DataFrame.mean()`, `DataFrame.min()`, `DataFrame.max()`, etc"
   ]
  },
  {
   "cell_type": "markdown",
   "metadata": {
    "id": "-pd1KIDS9PxW"
   },
   "source": [
    "Aggregate functions for DataFrame are\n",
    "+ similar to these functions for Series, and\n",
    "+ broadcasted to all columns (axis = 0, which is the default) or rows (axis = 1). Numeric aggregators will be executed only on numeric data."
   ]
  },
  {
   "cell_type": "markdown",
   "metadata": {
    "id": "RIcrmQkZ9PxW"
   },
   "source": [
    "The average for each hw: `DataFrame.mean()`"
   ]
  },
  {
   "cell_type": "code",
   "execution_count": 54,
   "metadata": {},
   "outputs": [
    {
     "data": {
      "text/html": [
       "<div>\n",
       "<style scoped>\n",
       "    .dataframe tbody tr th:only-of-type {\n",
       "        vertical-align: middle;\n",
       "    }\n",
       "\n",
       "    .dataframe tbody tr th {\n",
       "        vertical-align: top;\n",
       "    }\n",
       "\n",
       "    .dataframe thead th {\n",
       "        text-align: right;\n",
       "    }\n",
       "</style>\n",
       "<table border=\"1\" class=\"dataframe\">\n",
       "  <thead>\n",
       "    <tr style=\"text-align: right;\">\n",
       "      <th></th>\n",
       "      <th>hw1</th>\n",
       "      <th>hw2</th>\n",
       "    </tr>\n",
       "    <tr>\n",
       "      <th>Name</th>\n",
       "      <th></th>\n",
       "      <th></th>\n",
       "    </tr>\n",
       "  </thead>\n",
       "  <tbody>\n",
       "    <tr>\n",
       "      <th>Dorian</th>\n",
       "      <td>10.0</td>\n",
       "      <td>10.0</td>\n",
       "    </tr>\n",
       "    <tr>\n",
       "      <th>Jeannine</th>\n",
       "      <td>6.0</td>\n",
       "      <td>7.0</td>\n",
       "    </tr>\n",
       "    <tr>\n",
       "      <th>Iluminada</th>\n",
       "      <td>2.0</td>\n",
       "      <td>NaN</td>\n",
       "    </tr>\n",
       "    <tr>\n",
       "      <th>Luci</th>\n",
       "      <td>7.0</td>\n",
       "      <td>7.0</td>\n",
       "    </tr>\n",
       "    <tr>\n",
       "      <th>Jenny</th>\n",
       "      <td>8.0</td>\n",
       "      <td>NaN</td>\n",
       "    </tr>\n",
       "    <tr>\n",
       "      <th>Demetria</th>\n",
       "      <td>2.0</td>\n",
       "      <td>4.0</td>\n",
       "    </tr>\n",
       "    <tr>\n",
       "      <th>Michael</th>\n",
       "      <td>6.0</td>\n",
       "      <td>10.0</td>\n",
       "    </tr>\n",
       "    <tr>\n",
       "      <th>Garland</th>\n",
       "      <td>9.0</td>\n",
       "      <td>1.0</td>\n",
       "    </tr>\n",
       "    <tr>\n",
       "      <th>Shelby</th>\n",
       "      <td>1.0</td>\n",
       "      <td>10.0</td>\n",
       "    </tr>\n",
       "    <tr>\n",
       "      <th>Mercy</th>\n",
       "      <td>5.0</td>\n",
       "      <td>6.0</td>\n",
       "    </tr>\n",
       "    <tr>\n",
       "      <th>John</th>\n",
       "      <td>NaN</td>\n",
       "      <td>10.0</td>\n",
       "    </tr>\n",
       "  </tbody>\n",
       "</table>\n",
       "</div>"
      ],
      "text/plain": [
       "            hw1   hw2\n",
       "Name                 \n",
       "Dorian     10.0  10.0\n",
       "Jeannine    6.0   7.0\n",
       "Iluminada   2.0   NaN\n",
       "Luci        7.0   7.0\n",
       "Jenny       8.0   NaN\n",
       "Demetria    2.0   4.0\n",
       "Michael     6.0  10.0\n",
       "Garland     9.0   1.0\n",
       "Shelby      1.0  10.0\n",
       "Mercy       5.0   6.0\n",
       "John        NaN  10.0"
      ]
     },
     "execution_count": 54,
     "metadata": {},
     "output_type": "execute_result"
    }
   ],
   "source": [
    "df_num = df[['hw1','hw2']]\n",
    "df_num"
   ]
  },
  {
   "cell_type": "code",
   "execution_count": 55,
   "metadata": {
    "id": "wDXXRNrs9PxX"
   },
   "outputs": [
    {
     "data": {
      "text/plain": [
       "hw1    5.600000\n",
       "hw2    7.222222\n",
       "dtype: float64"
      ]
     },
     "execution_count": 55,
     "metadata": {},
     "output_type": "execute_result"
    }
   ],
   "source": [
    "df_num.mean()  #program is not numercial, can't take mean of this column"
   ]
  },
  {
   "cell_type": "markdown",
   "metadata": {
    "id": "KwNKlggp9PxX"
   },
   "source": [
    "The average for each student"
   ]
  },
  {
   "cell_type": "code",
   "execution_count": 56,
   "metadata": {
    "id": "FOhSjbqC9PxX",
    "scrolled": true
   },
   "outputs": [
    {
     "data": {
      "text/plain": [
       "Name\n",
       "Dorian       10.0\n",
       "Jeannine      6.5\n",
       "Iluminada     2.0\n",
       "Luci          7.0\n",
       "Jenny         8.0\n",
       "Demetria      3.0\n",
       "Michael       8.0\n",
       "Garland       5.0\n",
       "Shelby        5.5\n",
       "Mercy         5.5\n",
       "John         10.0\n",
       "dtype: float64"
      ]
     },
     "execution_count": 56,
     "metadata": {},
     "output_type": "execute_result"
    }
   ],
   "source": [
    "df_num.mean(axis=1)"
   ]
  },
  {
   "cell_type": "markdown",
   "metadata": {
    "id": "zxDrAPET9PxX"
   },
   "source": [
    "## Exercise"
   ]
  },
  {
   "cell_type": "markdown",
   "metadata": {
    "id": "8yJAa4cF9PxX"
   },
   "source": [
    "Compute the spread (i.e., highest minus lowest hw grade) of each student"
   ]
  },
  {
   "cell_type": "markdown",
   "metadata": {
    "id": "VoeOf29e9PxX"
   },
   "source": [
    "Hint: use `DataFrame.max(axis=1)` to find each row/student's max, and use `DataFrame.min(axis=1)` to find the min."
   ]
  },
  {
   "cell_type": "code",
   "execution_count": 58,
   "metadata": {
    "id": "xqhHei_X9PxX"
   },
   "outputs": [
    {
     "data": {
      "text/plain": [
       "Name\n",
       "Dorian       0.0\n",
       "Jeannine     1.0\n",
       "Iluminada    0.0\n",
       "Luci         0.0\n",
       "Jenny        0.0\n",
       "Demetria     2.0\n",
       "Michael      4.0\n",
       "Garland      8.0\n",
       "Shelby       9.0\n",
       "Mercy        1.0\n",
       "John         0.0\n",
       "dtype: float64"
      ]
     },
     "execution_count": 58,
     "metadata": {},
     "output_type": "execute_result"
    }
   ],
   "source": [
    "df_num.max(axis=1) - df_num.min(axis=1)"
   ]
  },
  {
   "cell_type": "markdown",
   "metadata": {
    "id": "Sbm_JRWL9PxX"
   },
   "source": [
    "Who has the largest spread?"
   ]
  },
  {
   "cell_type": "code",
   "execution_count": 59,
   "metadata": {
    "id": "umLjkv2_9PxY"
   },
   "outputs": [
    {
     "data": {
      "text/plain": [
       "Name\n",
       "Shelby    9.0\n",
       "dtype: float64"
      ]
     },
     "execution_count": 59,
     "metadata": {},
     "output_type": "execute_result"
    }
   ],
   "source": [
    "(df_num.max(axis=1) - df_num.min(axis=1)).nlargest(1)"
   ]
  },
  {
   "cell_type": "markdown",
   "metadata": {
    "id": "eIKlO7qk9PxY"
   },
   "source": [
    "## Modifying DataFrames"
   ]
  },
  {
   "cell_type": "markdown",
   "metadata": {
    "id": "PA007aMA9PxY"
   },
   "source": [
    "Make a copy of the data frame: `DataFrame.copy()`"
   ]
  },
  {
   "cell_type": "code",
   "execution_count": 60,
   "metadata": {
    "id": "OUroOOmZ9PxY"
   },
   "outputs": [
    {
     "data": {
      "text/html": [
       "<div>\n",
       "<style scoped>\n",
       "    .dataframe tbody tr th:only-of-type {\n",
       "        vertical-align: middle;\n",
       "    }\n",
       "\n",
       "    .dataframe tbody tr th {\n",
       "        vertical-align: top;\n",
       "    }\n",
       "\n",
       "    .dataframe thead th {\n",
       "        text-align: right;\n",
       "    }\n",
       "</style>\n",
       "<table border=\"1\" class=\"dataframe\">\n",
       "  <thead>\n",
       "    <tr style=\"text-align: right;\">\n",
       "      <th></th>\n",
       "      <th>hw1</th>\n",
       "      <th>hw2</th>\n",
       "      <th>program</th>\n",
       "    </tr>\n",
       "    <tr>\n",
       "      <th>Name</th>\n",
       "      <th></th>\n",
       "      <th></th>\n",
       "      <th></th>\n",
       "    </tr>\n",
       "  </thead>\n",
       "  <tbody>\n",
       "    <tr>\n",
       "      <th>Dorian</th>\n",
       "      <td>10.0</td>\n",
       "      <td>10.0</td>\n",
       "      <td>MSIS</td>\n",
       "    </tr>\n",
       "    <tr>\n",
       "      <th>Jeannine</th>\n",
       "      <td>6.0</td>\n",
       "      <td>7.0</td>\n",
       "      <td>MSIS</td>\n",
       "    </tr>\n",
       "    <tr>\n",
       "      <th>Iluminada</th>\n",
       "      <td>2.0</td>\n",
       "      <td>NaN</td>\n",
       "      <td>MBA</td>\n",
       "    </tr>\n",
       "    <tr>\n",
       "      <th>Luci</th>\n",
       "      <td>7.0</td>\n",
       "      <td>7.0</td>\n",
       "      <td>MSIS</td>\n",
       "    </tr>\n",
       "    <tr>\n",
       "      <th>Jenny</th>\n",
       "      <td>8.0</td>\n",
       "      <td>NaN</td>\n",
       "      <td>NaN</td>\n",
       "    </tr>\n",
       "    <tr>\n",
       "      <th>Demetria</th>\n",
       "      <td>2.0</td>\n",
       "      <td>4.0</td>\n",
       "      <td>MSIS</td>\n",
       "    </tr>\n",
       "    <tr>\n",
       "      <th>Michael</th>\n",
       "      <td>6.0</td>\n",
       "      <td>10.0</td>\n",
       "      <td>MBA</td>\n",
       "    </tr>\n",
       "    <tr>\n",
       "      <th>Garland</th>\n",
       "      <td>9.0</td>\n",
       "      <td>1.0</td>\n",
       "      <td>MSIS</td>\n",
       "    </tr>\n",
       "    <tr>\n",
       "      <th>Shelby</th>\n",
       "      <td>1.0</td>\n",
       "      <td>10.0</td>\n",
       "      <td>MSIS</td>\n",
       "    </tr>\n",
       "    <tr>\n",
       "      <th>Mercy</th>\n",
       "      <td>5.0</td>\n",
       "      <td>6.0</td>\n",
       "      <td>MSIS</td>\n",
       "    </tr>\n",
       "    <tr>\n",
       "      <th>John</th>\n",
       "      <td>NaN</td>\n",
       "      <td>10.0</td>\n",
       "      <td>MSIS</td>\n",
       "    </tr>\n",
       "  </tbody>\n",
       "</table>\n",
       "</div>"
      ],
      "text/plain": [
       "            hw1   hw2 program\n",
       "Name                         \n",
       "Dorian     10.0  10.0    MSIS\n",
       "Jeannine    6.0   7.0    MSIS\n",
       "Iluminada   2.0   NaN     MBA\n",
       "Luci        7.0   7.0    MSIS\n",
       "Jenny       8.0   NaN     NaN\n",
       "Demetria    2.0   4.0    MSIS\n",
       "Michael     6.0  10.0     MBA\n",
       "Garland     9.0   1.0    MSIS\n",
       "Shelby      1.0  10.0    MSIS\n",
       "Mercy       5.0   6.0    MSIS\n",
       "John        NaN  10.0    MSIS"
      ]
     },
     "execution_count": 60,
     "metadata": {},
     "output_type": "execute_result"
    }
   ],
   "source": [
    "df1 = df.copy()\n",
    "df1"
   ]
  },
  {
   "cell_type": "markdown",
   "metadata": {
    "id": "G5so6zJh9PxY"
   },
   "source": [
    "### Add rows"
   ]
  },
  {
   "cell_type": "markdown",
   "metadata": {
    "id": "bj6R-Yiw9PxY"
   },
   "source": [
    "A new student has joined. His name is Oliver and he is the MSIS program; his hw1 is missing and his hw2 score is 8."
   ]
  },
  {
   "cell_type": "code",
   "execution_count": 61,
   "metadata": {
    "id": "2RvSiOlj9PxY"
   },
   "outputs": [
    {
     "data": {
      "text/html": [
       "<div>\n",
       "<style scoped>\n",
       "    .dataframe tbody tr th:only-of-type {\n",
       "        vertical-align: middle;\n",
       "    }\n",
       "\n",
       "    .dataframe tbody tr th {\n",
       "        vertical-align: top;\n",
       "    }\n",
       "\n",
       "    .dataframe thead th {\n",
       "        text-align: right;\n",
       "    }\n",
       "</style>\n",
       "<table border=\"1\" class=\"dataframe\">\n",
       "  <thead>\n",
       "    <tr style=\"text-align: right;\">\n",
       "      <th></th>\n",
       "      <th>hw1</th>\n",
       "      <th>hw2</th>\n",
       "      <th>program</th>\n",
       "    </tr>\n",
       "    <tr>\n",
       "      <th>Name</th>\n",
       "      <th></th>\n",
       "      <th></th>\n",
       "      <th></th>\n",
       "    </tr>\n",
       "  </thead>\n",
       "  <tbody>\n",
       "    <tr>\n",
       "      <th>Dorian</th>\n",
       "      <td>10.0</td>\n",
       "      <td>10.0</td>\n",
       "      <td>MSIS</td>\n",
       "    </tr>\n",
       "    <tr>\n",
       "      <th>Jeannine</th>\n",
       "      <td>6.0</td>\n",
       "      <td>7.0</td>\n",
       "      <td>MSIS</td>\n",
       "    </tr>\n",
       "    <tr>\n",
       "      <th>Iluminada</th>\n",
       "      <td>2.0</td>\n",
       "      <td>NaN</td>\n",
       "      <td>MBA</td>\n",
       "    </tr>\n",
       "    <tr>\n",
       "      <th>Luci</th>\n",
       "      <td>7.0</td>\n",
       "      <td>7.0</td>\n",
       "      <td>MSIS</td>\n",
       "    </tr>\n",
       "    <tr>\n",
       "      <th>Jenny</th>\n",
       "      <td>8.0</td>\n",
       "      <td>NaN</td>\n",
       "      <td>NaN</td>\n",
       "    </tr>\n",
       "    <tr>\n",
       "      <th>Demetria</th>\n",
       "      <td>2.0</td>\n",
       "      <td>4.0</td>\n",
       "      <td>MSIS</td>\n",
       "    </tr>\n",
       "    <tr>\n",
       "      <th>Michael</th>\n",
       "      <td>6.0</td>\n",
       "      <td>10.0</td>\n",
       "      <td>MBA</td>\n",
       "    </tr>\n",
       "    <tr>\n",
       "      <th>Garland</th>\n",
       "      <td>9.0</td>\n",
       "      <td>1.0</td>\n",
       "      <td>MSIS</td>\n",
       "    </tr>\n",
       "    <tr>\n",
       "      <th>Shelby</th>\n",
       "      <td>1.0</td>\n",
       "      <td>10.0</td>\n",
       "      <td>MSIS</td>\n",
       "    </tr>\n",
       "    <tr>\n",
       "      <th>Mercy</th>\n",
       "      <td>5.0</td>\n",
       "      <td>6.0</td>\n",
       "      <td>MSIS</td>\n",
       "    </tr>\n",
       "    <tr>\n",
       "      <th>John</th>\n",
       "      <td>NaN</td>\n",
       "      <td>10.0</td>\n",
       "      <td>MSIS</td>\n",
       "    </tr>\n",
       "    <tr>\n",
       "      <th>Oliver</th>\n",
       "      <td>NaN</td>\n",
       "      <td>8.0</td>\n",
       "      <td>MSIS</td>\n",
       "    </tr>\n",
       "  </tbody>\n",
       "</table>\n",
       "</div>"
      ],
      "text/plain": [
       "            hw1   hw2 program\n",
       "Name                         \n",
       "Dorian     10.0  10.0    MSIS\n",
       "Jeannine    6.0   7.0    MSIS\n",
       "Iluminada   2.0   NaN     MBA\n",
       "Luci        7.0   7.0    MSIS\n",
       "Jenny       8.0   NaN     NaN\n",
       "Demetria    2.0   4.0    MSIS\n",
       "Michael     6.0  10.0     MBA\n",
       "Garland     9.0   1.0    MSIS\n",
       "Shelby      1.0  10.0    MSIS\n",
       "Mercy       5.0   6.0    MSIS\n",
       "John        NaN  10.0    MSIS\n",
       "Oliver      NaN   8.0    MSIS"
      ]
     },
     "execution_count": 61,
     "metadata": {},
     "output_type": "execute_result"
    }
   ],
   "source": [
    "df1.loc['Oliver', :] = [np.nan, 8, 'MSIS']\n",
    "df1"
   ]
  },
  {
   "cell_type": "markdown",
   "metadata": {
    "id": "Io_PJfXY9PxY"
   },
   "source": [
    "Exercise: A new student has joined. Her name is Caroline and she got 4 in hw2. She is not in any program yet."
   ]
  },
  {
   "cell_type": "code",
   "execution_count": 64,
   "metadata": {
    "id": "EIOPfCkR9PxZ"
   },
   "outputs": [
    {
     "data": {
      "text/html": [
       "<div>\n",
       "<style scoped>\n",
       "    .dataframe tbody tr th:only-of-type {\n",
       "        vertical-align: middle;\n",
       "    }\n",
       "\n",
       "    .dataframe tbody tr th {\n",
       "        vertical-align: top;\n",
       "    }\n",
       "\n",
       "    .dataframe thead th {\n",
       "        text-align: right;\n",
       "    }\n",
       "</style>\n",
       "<table border=\"1\" class=\"dataframe\">\n",
       "  <thead>\n",
       "    <tr style=\"text-align: right;\">\n",
       "      <th></th>\n",
       "      <th>hw1</th>\n",
       "      <th>hw2</th>\n",
       "      <th>program</th>\n",
       "    </tr>\n",
       "    <tr>\n",
       "      <th>Name</th>\n",
       "      <th></th>\n",
       "      <th></th>\n",
       "      <th></th>\n",
       "    </tr>\n",
       "  </thead>\n",
       "  <tbody>\n",
       "    <tr>\n",
       "      <th>Dorian</th>\n",
       "      <td>10.0</td>\n",
       "      <td>10.0</td>\n",
       "      <td>MSIS</td>\n",
       "    </tr>\n",
       "    <tr>\n",
       "      <th>Jeannine</th>\n",
       "      <td>6.0</td>\n",
       "      <td>7.0</td>\n",
       "      <td>MSIS</td>\n",
       "    </tr>\n",
       "    <tr>\n",
       "      <th>Iluminada</th>\n",
       "      <td>2.0</td>\n",
       "      <td>NaN</td>\n",
       "      <td>MBA</td>\n",
       "    </tr>\n",
       "    <tr>\n",
       "      <th>Luci</th>\n",
       "      <td>7.0</td>\n",
       "      <td>7.0</td>\n",
       "      <td>MSIS</td>\n",
       "    </tr>\n",
       "    <tr>\n",
       "      <th>Jenny</th>\n",
       "      <td>8.0</td>\n",
       "      <td>NaN</td>\n",
       "      <td>NaN</td>\n",
       "    </tr>\n",
       "    <tr>\n",
       "      <th>Demetria</th>\n",
       "      <td>2.0</td>\n",
       "      <td>4.0</td>\n",
       "      <td>MSIS</td>\n",
       "    </tr>\n",
       "    <tr>\n",
       "      <th>Michael</th>\n",
       "      <td>6.0</td>\n",
       "      <td>10.0</td>\n",
       "      <td>MBA</td>\n",
       "    </tr>\n",
       "    <tr>\n",
       "      <th>Garland</th>\n",
       "      <td>9.0</td>\n",
       "      <td>1.0</td>\n",
       "      <td>MSIS</td>\n",
       "    </tr>\n",
       "    <tr>\n",
       "      <th>Shelby</th>\n",
       "      <td>1.0</td>\n",
       "      <td>10.0</td>\n",
       "      <td>MSIS</td>\n",
       "    </tr>\n",
       "    <tr>\n",
       "      <th>Mercy</th>\n",
       "      <td>5.0</td>\n",
       "      <td>6.0</td>\n",
       "      <td>MSIS</td>\n",
       "    </tr>\n",
       "    <tr>\n",
       "      <th>John</th>\n",
       "      <td>NaN</td>\n",
       "      <td>10.0</td>\n",
       "      <td>MSIS</td>\n",
       "    </tr>\n",
       "    <tr>\n",
       "      <th>Oliver</th>\n",
       "      <td>NaN</td>\n",
       "      <td>8.0</td>\n",
       "      <td>MSIS</td>\n",
       "    </tr>\n",
       "    <tr>\n",
       "      <th>Caroline</th>\n",
       "      <td>NaN</td>\n",
       "      <td>4.0</td>\n",
       "      <td>NaN</td>\n",
       "    </tr>\n",
       "  </tbody>\n",
       "</table>\n",
       "</div>"
      ],
      "text/plain": [
       "            hw1   hw2 program\n",
       "Name                         \n",
       "Dorian     10.0  10.0    MSIS\n",
       "Jeannine    6.0   7.0    MSIS\n",
       "Iluminada   2.0   NaN     MBA\n",
       "Luci        7.0   7.0    MSIS\n",
       "Jenny       8.0   NaN     NaN\n",
       "Demetria    2.0   4.0    MSIS\n",
       "Michael     6.0  10.0     MBA\n",
       "Garland     9.0   1.0    MSIS\n",
       "Shelby      1.0  10.0    MSIS\n",
       "Mercy       5.0   6.0    MSIS\n",
       "John        NaN  10.0    MSIS\n",
       "Oliver      NaN   8.0    MSIS\n",
       "Caroline    NaN   4.0     NaN"
      ]
     },
     "execution_count": 64,
     "metadata": {},
     "output_type": "execute_result"
    }
   ],
   "source": [
    "df1.loc['Caroline', :] = [np.nan, 4, np.nan]\n",
    "df1"
   ]
  },
  {
   "cell_type": "markdown",
   "metadata": {
    "id": "TGbb0Bzd9PxZ"
   },
   "source": [
    "### Add columns"
   ]
  },
  {
   "cell_type": "markdown",
   "metadata": {
    "id": "IQPx19pY9PxZ"
   },
   "source": [
    "Add an \"empty\" column <b>hw3</b>"
   ]
  },
  {
   "cell_type": "code",
   "execution_count": 65,
   "metadata": {
    "id": "9FZ0_C7R9PxZ"
   },
   "outputs": [
    {
     "data": {
      "text/html": [
       "<div>\n",
       "<style scoped>\n",
       "    .dataframe tbody tr th:only-of-type {\n",
       "        vertical-align: middle;\n",
       "    }\n",
       "\n",
       "    .dataframe tbody tr th {\n",
       "        vertical-align: top;\n",
       "    }\n",
       "\n",
       "    .dataframe thead th {\n",
       "        text-align: right;\n",
       "    }\n",
       "</style>\n",
       "<table border=\"1\" class=\"dataframe\">\n",
       "  <thead>\n",
       "    <tr style=\"text-align: right;\">\n",
       "      <th></th>\n",
       "      <th>hw1</th>\n",
       "      <th>hw2</th>\n",
       "      <th>program</th>\n",
       "      <th>hw3</th>\n",
       "    </tr>\n",
       "    <tr>\n",
       "      <th>Name</th>\n",
       "      <th></th>\n",
       "      <th></th>\n",
       "      <th></th>\n",
       "      <th></th>\n",
       "    </tr>\n",
       "  </thead>\n",
       "  <tbody>\n",
       "    <tr>\n",
       "      <th>Dorian</th>\n",
       "      <td>10.0</td>\n",
       "      <td>10.0</td>\n",
       "      <td>MSIS</td>\n",
       "      <td>NaN</td>\n",
       "    </tr>\n",
       "    <tr>\n",
       "      <th>Jeannine</th>\n",
       "      <td>6.0</td>\n",
       "      <td>7.0</td>\n",
       "      <td>MSIS</td>\n",
       "      <td>NaN</td>\n",
       "    </tr>\n",
       "    <tr>\n",
       "      <th>Iluminada</th>\n",
       "      <td>2.0</td>\n",
       "      <td>NaN</td>\n",
       "      <td>MBA</td>\n",
       "      <td>NaN</td>\n",
       "    </tr>\n",
       "    <tr>\n",
       "      <th>Luci</th>\n",
       "      <td>7.0</td>\n",
       "      <td>7.0</td>\n",
       "      <td>MSIS</td>\n",
       "      <td>NaN</td>\n",
       "    </tr>\n",
       "    <tr>\n",
       "      <th>Jenny</th>\n",
       "      <td>8.0</td>\n",
       "      <td>NaN</td>\n",
       "      <td>NaN</td>\n",
       "      <td>NaN</td>\n",
       "    </tr>\n",
       "    <tr>\n",
       "      <th>Demetria</th>\n",
       "      <td>2.0</td>\n",
       "      <td>4.0</td>\n",
       "      <td>MSIS</td>\n",
       "      <td>NaN</td>\n",
       "    </tr>\n",
       "    <tr>\n",
       "      <th>Michael</th>\n",
       "      <td>6.0</td>\n",
       "      <td>10.0</td>\n",
       "      <td>MBA</td>\n",
       "      <td>NaN</td>\n",
       "    </tr>\n",
       "    <tr>\n",
       "      <th>Garland</th>\n",
       "      <td>9.0</td>\n",
       "      <td>1.0</td>\n",
       "      <td>MSIS</td>\n",
       "      <td>NaN</td>\n",
       "    </tr>\n",
       "    <tr>\n",
       "      <th>Shelby</th>\n",
       "      <td>1.0</td>\n",
       "      <td>10.0</td>\n",
       "      <td>MSIS</td>\n",
       "      <td>NaN</td>\n",
       "    </tr>\n",
       "    <tr>\n",
       "      <th>Mercy</th>\n",
       "      <td>5.0</td>\n",
       "      <td>6.0</td>\n",
       "      <td>MSIS</td>\n",
       "      <td>NaN</td>\n",
       "    </tr>\n",
       "    <tr>\n",
       "      <th>John</th>\n",
       "      <td>NaN</td>\n",
       "      <td>10.0</td>\n",
       "      <td>MSIS</td>\n",
       "      <td>NaN</td>\n",
       "    </tr>\n",
       "    <tr>\n",
       "      <th>Oliver</th>\n",
       "      <td>NaN</td>\n",
       "      <td>8.0</td>\n",
       "      <td>MSIS</td>\n",
       "      <td>NaN</td>\n",
       "    </tr>\n",
       "    <tr>\n",
       "      <th>Caroline</th>\n",
       "      <td>NaN</td>\n",
       "      <td>4.0</td>\n",
       "      <td>NaN</td>\n",
       "      <td>NaN</td>\n",
       "    </tr>\n",
       "  </tbody>\n",
       "</table>\n",
       "</div>"
      ],
      "text/plain": [
       "            hw1   hw2 program  hw3\n",
       "Name                              \n",
       "Dorian     10.0  10.0    MSIS  NaN\n",
       "Jeannine    6.0   7.0    MSIS  NaN\n",
       "Iluminada   2.0   NaN     MBA  NaN\n",
       "Luci        7.0   7.0    MSIS  NaN\n",
       "Jenny       8.0   NaN     NaN  NaN\n",
       "Demetria    2.0   4.0    MSIS  NaN\n",
       "Michael     6.0  10.0     MBA  NaN\n",
       "Garland     9.0   1.0    MSIS  NaN\n",
       "Shelby      1.0  10.0    MSIS  NaN\n",
       "Mercy       5.0   6.0    MSIS  NaN\n",
       "John        NaN  10.0    MSIS  NaN\n",
       "Oliver      NaN   8.0    MSIS  NaN\n",
       "Caroline    NaN   4.0     NaN  NaN"
      ]
     },
     "execution_count": 65,
     "metadata": {},
     "output_type": "execute_result"
    }
   ],
   "source": [
    "df1.loc[:, 'hw3'] = np.nan\n",
    "df1"
   ]
  },
  {
   "cell_type": "code",
   "execution_count": 67,
   "metadata": {
    "id": "ZM6vru6j9PxZ"
   },
   "outputs": [],
   "source": [
    "# Or:\n",
    "df1['hw3'] = np.nan"
   ]
  },
  {
   "cell_type": "code",
   "execution_count": null,
   "metadata": {},
   "outputs": [],
   "source": [
    "df1.hw4 = np.nan #this not work, because hw4 not exists yet"
   ]
  },
  {
   "cell_type": "code",
   "execution_count": 69,
   "metadata": {},
   "outputs": [
    {
     "data": {
      "text/plain": [
       "Name\n",
       "Dorian       10.0\n",
       "Jeannine      6.0\n",
       "Iluminada     2.0\n",
       "Luci          7.0\n",
       "Jenny         8.0\n",
       "Demetria      2.0\n",
       "Michael       6.0\n",
       "Garland       9.0\n",
       "Shelby        1.0\n",
       "Mercy         5.0\n",
       "John          NaN\n",
       "Oliver        NaN\n",
       "Caroline      NaN\n",
       "Name: hw1, dtype: float64"
      ]
     },
     "execution_count": 69,
     "metadata": {},
     "output_type": "execute_result"
    }
   ],
   "source": [
    "df1['hw1']\n",
    "df1.hw1  #only work for the columns that already exists"
   ]
  },
  {
   "cell_type": "markdown",
   "metadata": {
    "id": "_dRlxH6G9PxZ"
   },
   "source": [
    "### Add calculated columns"
   ]
  },
  {
   "cell_type": "markdown",
   "metadata": {
    "id": "ei3-wzlN9Pxa"
   },
   "source": [
    "Let's add a column with the final grade. It is computed as 0.2\\*hw1 + 0.8\\*hw2."
   ]
  },
  {
   "cell_type": "code",
   "execution_count": 70,
   "metadata": {
    "id": "TzEJDJD-9Pxa"
   },
   "outputs": [
    {
     "data": {
      "text/html": [
       "<div>\n",
       "<style scoped>\n",
       "    .dataframe tbody tr th:only-of-type {\n",
       "        vertical-align: middle;\n",
       "    }\n",
       "\n",
       "    .dataframe tbody tr th {\n",
       "        vertical-align: top;\n",
       "    }\n",
       "\n",
       "    .dataframe thead th {\n",
       "        text-align: right;\n",
       "    }\n",
       "</style>\n",
       "<table border=\"1\" class=\"dataframe\">\n",
       "  <thead>\n",
       "    <tr style=\"text-align: right;\">\n",
       "      <th></th>\n",
       "      <th>hw1</th>\n",
       "      <th>hw2</th>\n",
       "      <th>program</th>\n",
       "      <th>hw3</th>\n",
       "      <th>final</th>\n",
       "    </tr>\n",
       "    <tr>\n",
       "      <th>Name</th>\n",
       "      <th></th>\n",
       "      <th></th>\n",
       "      <th></th>\n",
       "      <th></th>\n",
       "      <th></th>\n",
       "    </tr>\n",
       "  </thead>\n",
       "  <tbody>\n",
       "    <tr>\n",
       "      <th>Dorian</th>\n",
       "      <td>10.0</td>\n",
       "      <td>10.0</td>\n",
       "      <td>MSIS</td>\n",
       "      <td>NaN</td>\n",
       "      <td>10.0</td>\n",
       "    </tr>\n",
       "    <tr>\n",
       "      <th>Jeannine</th>\n",
       "      <td>6.0</td>\n",
       "      <td>7.0</td>\n",
       "      <td>MSIS</td>\n",
       "      <td>NaN</td>\n",
       "      <td>6.8</td>\n",
       "    </tr>\n",
       "    <tr>\n",
       "      <th>Iluminada</th>\n",
       "      <td>2.0</td>\n",
       "      <td>NaN</td>\n",
       "      <td>MBA</td>\n",
       "      <td>NaN</td>\n",
       "      <td>NaN</td>\n",
       "    </tr>\n",
       "    <tr>\n",
       "      <th>Luci</th>\n",
       "      <td>7.0</td>\n",
       "      <td>7.0</td>\n",
       "      <td>MSIS</td>\n",
       "      <td>NaN</td>\n",
       "      <td>7.0</td>\n",
       "    </tr>\n",
       "    <tr>\n",
       "      <th>Jenny</th>\n",
       "      <td>8.0</td>\n",
       "      <td>NaN</td>\n",
       "      <td>NaN</td>\n",
       "      <td>NaN</td>\n",
       "      <td>NaN</td>\n",
       "    </tr>\n",
       "    <tr>\n",
       "      <th>Demetria</th>\n",
       "      <td>2.0</td>\n",
       "      <td>4.0</td>\n",
       "      <td>MSIS</td>\n",
       "      <td>NaN</td>\n",
       "      <td>3.6</td>\n",
       "    </tr>\n",
       "    <tr>\n",
       "      <th>Michael</th>\n",
       "      <td>6.0</td>\n",
       "      <td>10.0</td>\n",
       "      <td>MBA</td>\n",
       "      <td>NaN</td>\n",
       "      <td>9.2</td>\n",
       "    </tr>\n",
       "    <tr>\n",
       "      <th>Garland</th>\n",
       "      <td>9.0</td>\n",
       "      <td>1.0</td>\n",
       "      <td>MSIS</td>\n",
       "      <td>NaN</td>\n",
       "      <td>2.6</td>\n",
       "    </tr>\n",
       "    <tr>\n",
       "      <th>Shelby</th>\n",
       "      <td>1.0</td>\n",
       "      <td>10.0</td>\n",
       "      <td>MSIS</td>\n",
       "      <td>NaN</td>\n",
       "      <td>8.2</td>\n",
       "    </tr>\n",
       "    <tr>\n",
       "      <th>Mercy</th>\n",
       "      <td>5.0</td>\n",
       "      <td>6.0</td>\n",
       "      <td>MSIS</td>\n",
       "      <td>NaN</td>\n",
       "      <td>5.8</td>\n",
       "    </tr>\n",
       "    <tr>\n",
       "      <th>John</th>\n",
       "      <td>NaN</td>\n",
       "      <td>10.0</td>\n",
       "      <td>MSIS</td>\n",
       "      <td>NaN</td>\n",
       "      <td>NaN</td>\n",
       "    </tr>\n",
       "    <tr>\n",
       "      <th>Oliver</th>\n",
       "      <td>NaN</td>\n",
       "      <td>8.0</td>\n",
       "      <td>MSIS</td>\n",
       "      <td>NaN</td>\n",
       "      <td>NaN</td>\n",
       "    </tr>\n",
       "    <tr>\n",
       "      <th>Caroline</th>\n",
       "      <td>NaN</td>\n",
       "      <td>4.0</td>\n",
       "      <td>NaN</td>\n",
       "      <td>NaN</td>\n",
       "      <td>NaN</td>\n",
       "    </tr>\n",
       "  </tbody>\n",
       "</table>\n",
       "</div>"
      ],
      "text/plain": [
       "            hw1   hw2 program  hw3  final\n",
       "Name                                     \n",
       "Dorian     10.0  10.0    MSIS  NaN   10.0\n",
       "Jeannine    6.0   7.0    MSIS  NaN    6.8\n",
       "Iluminada   2.0   NaN     MBA  NaN    NaN\n",
       "Luci        7.0   7.0    MSIS  NaN    7.0\n",
       "Jenny       8.0   NaN     NaN  NaN    NaN\n",
       "Demetria    2.0   4.0    MSIS  NaN    3.6\n",
       "Michael     6.0  10.0     MBA  NaN    9.2\n",
       "Garland     9.0   1.0    MSIS  NaN    2.6\n",
       "Shelby      1.0  10.0    MSIS  NaN    8.2\n",
       "Mercy       5.0   6.0    MSIS  NaN    5.8\n",
       "John        NaN  10.0    MSIS  NaN    NaN\n",
       "Oliver      NaN   8.0    MSIS  NaN    NaN\n",
       "Caroline    NaN   4.0     NaN  NaN    NaN"
      ]
     },
     "execution_count": 70,
     "metadata": {},
     "output_type": "execute_result"
    }
   ],
   "source": [
    "df1['final'] = 0.2*df1.hw1 + 0.8*df1.hw2\n",
    "df1"
   ]
  },
  {
   "cell_type": "markdown",
   "metadata": {
    "id": "OiTtwlPn-k0W"
   },
   "source": [
    "## `DataFrame.groupby()`"
   ]
  },
  {
   "cell_type": "markdown",
   "metadata": {},
   "source": [
    "Similar to `group_by` in R, and GROUP BY in SQL, the `groupby()` operation in pandas DataFrame groups a dataset into multiple subsets, so that following operations can be performed on each subset separately.\n",
    "\n",
    "Consider the following dataset that comes from a survey of graduate students, asking them about their various computer programming skills."
   ]
  },
  {
   "cell_type": "code",
   "execution_count": 71,
   "metadata": {},
   "outputs": [
    {
     "data": {
      "text/html": [
       "<div>\n",
       "<style scoped>\n",
       "    .dataframe tbody tr th:only-of-type {\n",
       "        vertical-align: middle;\n",
       "    }\n",
       "\n",
       "    .dataframe tbody tr th {\n",
       "        vertical-align: top;\n",
       "    }\n",
       "\n",
       "    .dataframe thead th {\n",
       "        text-align: right;\n",
       "    }\n",
       "</style>\n",
       "<table border=\"1\" class=\"dataframe\">\n",
       "  <thead>\n",
       "    <tr style=\"text-align: right;\">\n",
       "      <th></th>\n",
       "      <th>Expert</th>\n",
       "      <th>BachTime</th>\n",
       "      <th>Program</th>\n",
       "      <th>ProgSkills</th>\n",
       "      <th>C</th>\n",
       "      <th>CPP</th>\n",
       "      <th>CS</th>\n",
       "      <th>Java</th>\n",
       "      <th>Python</th>\n",
       "      <th>JS</th>\n",
       "      <th>R</th>\n",
       "      <th>SQL</th>\n",
       "      <th>SAS</th>\n",
       "      <th>Excel</th>\n",
       "      <th>Classification</th>\n",
       "      <th>Clustering</th>\n",
       "      <th>Job</th>\n",
       "      <th>Languages</th>\n",
       "    </tr>\n",
       "  </thead>\n",
       "  <tbody>\n",
       "    <tr>\n",
       "      <th>0</th>\n",
       "      <td>1</td>\n",
       "      <td>longer than 1 year ago but less than 3 years ago</td>\n",
       "      <td>MSIS</td>\n",
       "      <td>4</td>\n",
       "      <td>1</td>\n",
       "      <td>1</td>\n",
       "      <td>0.0</td>\n",
       "      <td>1</td>\n",
       "      <td>1.0</td>\n",
       "      <td>1.0</td>\n",
       "      <td>0.0</td>\n",
       "      <td>1.0</td>\n",
       "      <td>0.0</td>\n",
       "      <td>1</td>\n",
       "      <td>4</td>\n",
       "      <td>4</td>\n",
       "      <td>0.0</td>\n",
       "      <td>7.0</td>\n",
       "    </tr>\n",
       "    <tr>\n",
       "      <th>1</th>\n",
       "      <td>0</td>\n",
       "      <td>over 5 years ago</td>\n",
       "      <td>MSIS</td>\n",
       "      <td>3</td>\n",
       "      <td>1</td>\n",
       "      <td>1</td>\n",
       "      <td>0.0</td>\n",
       "      <td>1</td>\n",
       "      <td>0.0</td>\n",
       "      <td>0.0</td>\n",
       "      <td>0.0</td>\n",
       "      <td>1.0</td>\n",
       "      <td>0.0</td>\n",
       "      <td>1</td>\n",
       "      <td>2</td>\n",
       "      <td>2</td>\n",
       "      <td>0.5</td>\n",
       "      <td>5.0</td>\n",
       "    </tr>\n",
       "    <tr>\n",
       "      <th>2</th>\n",
       "      <td>0</td>\n",
       "      <td>longer than 3 years ago but less than 5 years ago</td>\n",
       "      <td>MSIS</td>\n",
       "      <td>3</td>\n",
       "      <td>0</td>\n",
       "      <td>0</td>\n",
       "      <td>0.0</td>\n",
       "      <td>1</td>\n",
       "      <td>1.0</td>\n",
       "      <td>0.0</td>\n",
       "      <td>0.0</td>\n",
       "      <td>1.0</td>\n",
       "      <td>0.0</td>\n",
       "      <td>1</td>\n",
       "      <td>3</td>\n",
       "      <td>3</td>\n",
       "      <td>0.0</td>\n",
       "      <td>4.0</td>\n",
       "    </tr>\n",
       "    <tr>\n",
       "      <th>3</th>\n",
       "      <td>0</td>\n",
       "      <td>over 5 years ago</td>\n",
       "      <td>MSIS</td>\n",
       "      <td>3</td>\n",
       "      <td>1</td>\n",
       "      <td>0</td>\n",
       "      <td>0.0</td>\n",
       "      <td>1</td>\n",
       "      <td>1.0</td>\n",
       "      <td>0.0</td>\n",
       "      <td>1.0</td>\n",
       "      <td>1.0</td>\n",
       "      <td>0.0</td>\n",
       "      <td>1</td>\n",
       "      <td>2</td>\n",
       "      <td>3</td>\n",
       "      <td>0.0</td>\n",
       "      <td>6.0</td>\n",
       "    </tr>\n",
       "    <tr>\n",
       "      <th>4</th>\n",
       "      <td>0</td>\n",
       "      <td>longer than 3 years ago but less than 5 years ago</td>\n",
       "      <td>MSIS</td>\n",
       "      <td>3</td>\n",
       "      <td>1</td>\n",
       "      <td>0</td>\n",
       "      <td>0.0</td>\n",
       "      <td>1</td>\n",
       "      <td>1.0</td>\n",
       "      <td>0.0</td>\n",
       "      <td>0.0</td>\n",
       "      <td>1.0</td>\n",
       "      <td>0.0</td>\n",
       "      <td>1</td>\n",
       "      <td>1</td>\n",
       "      <td>1</td>\n",
       "      <td>0.0</td>\n",
       "      <td>5.0</td>\n",
       "    </tr>\n",
       "  </tbody>\n",
       "</table>\n",
       "</div>"
      ],
      "text/plain": [
       "   Expert                                           BachTime Program  \\\n",
       "0       1   longer than 1 year ago but less than 3 years ago    MSIS   \n",
       "1       0                                   over 5 years ago    MSIS   \n",
       "2       0  longer than 3 years ago but less than 5 years ago    MSIS   \n",
       "3       0                                   over 5 years ago    MSIS   \n",
       "4       0  longer than 3 years ago but less than 5 years ago    MSIS   \n",
       "\n",
       "   ProgSkills  C  CPP   CS  Java  Python   JS    R  SQL  SAS  Excel  \\\n",
       "0           4  1    1  0.0     1     1.0  1.0  0.0  1.0  0.0      1   \n",
       "1           3  1    1  0.0     1     0.0  0.0  0.0  1.0  0.0      1   \n",
       "2           3  0    0  0.0     1     1.0  0.0  0.0  1.0  0.0      1   \n",
       "3           3  1    0  0.0     1     1.0  0.0  1.0  1.0  0.0      1   \n",
       "4           3  1    0  0.0     1     1.0  0.0  0.0  1.0  0.0      1   \n",
       "\n",
       "   Classification  Clustering  Job  Languages  \n",
       "0               4           4  0.0        7.0  \n",
       "1               2           2  0.5        5.0  \n",
       "2               3           3  0.0        4.0  \n",
       "3               2           3  0.0        6.0  \n",
       "4               1           1  0.0        5.0  "
      ]
     },
     "execution_count": 71,
     "metadata": {},
     "output_type": "execute_result"
    }
   ],
   "source": [
    "df = pd.read_csv('partially_cleaned_survey.csv')\n",
    "df.head()"
   ]
  },
  {
   "cell_type": "markdown",
   "metadata": {
    "id": "rIWmog6Z-f5w"
   },
   "source": [
    "If we want to compute average values for all columns, we can do so by:"
   ]
  },
  {
   "cell_type": "code",
   "execution_count": 72,
   "metadata": {
    "id": "xKaVEVy6-f5w"
   },
   "outputs": [
    {
     "name": "stderr",
     "output_type": "stream",
     "text": [
      "C:\\Users\\monas\\AppData\\Local\\Temp/ipykernel_32564/3698961737.py:1: FutureWarning: Dropping of nuisance columns in DataFrame reductions (with 'numeric_only=None') is deprecated; in a future version this will raise TypeError.  Select only valid columns before calling the reduction.\n",
      "  df.mean()\n"
     ]
    },
    {
     "data": {
      "text/plain": [
       "Expert            0.049180\n",
       "ProgSkills        2.852459\n",
       "C                 0.590164\n",
       "CPP               0.442623\n",
       "CS                0.083333\n",
       "Java              0.737705\n",
       "Python            0.433333\n",
       "JS                0.383333\n",
       "R                 0.200000\n",
       "SQL               0.850000\n",
       "SAS               0.100000\n",
       "Excel             0.950820\n",
       "Classification    1.868852\n",
       "Clustering        1.836066\n",
       "Job               0.352459\n",
       "Languages         4.732143\n",
       "dtype: float64"
      ]
     },
     "execution_count": 72,
     "metadata": {},
     "output_type": "execute_result"
    }
   ],
   "source": [
    "df.mean()"
   ]
  },
  {
   "cell_type": "markdown",
   "metadata": {
    "id": "v79nXlt2-f5x"
   },
   "source": [
    "But what if we want to compute the average values for all columns *for different programs separately*, including 'MSIS', 'Supply Chain Mgmt & Analytics', 'MBA', 'Faculty!', 'Business Man', 'Master of Finance'?"
   ]
  },
  {
   "cell_type": "markdown",
   "metadata": {
    "id": "IwHwk_TT-f5x"
   },
   "source": [
    "The method `groupby` splits the data into groups based on some criteria, e.g. by the values of a column. We can then aggregate other columns separately for each group."
   ]
  },
  {
   "cell_type": "markdown",
   "metadata": {
    "id": "PY6PKh7Q-f5y"
   },
   "source": [
    "First, call the groupby method to divide data into groups based on the values in 'Program', which returns a DataFrameGroupBy object"
   ]
  },
  {
   "cell_type": "code",
   "execution_count": 73,
   "metadata": {
    "id": "kTWeRvui-f5y"
   },
   "outputs": [
    {
     "data": {
      "text/plain": [
       "<pandas.core.groupby.generic.DataFrameGroupBy object at 0x0000023084B81460>"
      ]
     },
     "execution_count": 73,
     "metadata": {},
     "output_type": "execute_result"
    }
   ],
   "source": [
    "df.groupby(by='Program')"
   ]
  },
  {
   "cell_type": "markdown",
   "metadata": {
    "id": "FNXyF1yN-f5y"
   },
   "source": [
    "Second, apply the aggregate function 'mean' to the DataFrameGroupBy object"
   ]
  },
  {
   "cell_type": "code",
   "execution_count": 74,
   "metadata": {
    "id": "qv6QipOL-f5y",
    "scrolled": true
   },
   "outputs": [
    {
     "data": {
      "text/html": [
       "<div>\n",
       "<style scoped>\n",
       "    .dataframe tbody tr th:only-of-type {\n",
       "        vertical-align: middle;\n",
       "    }\n",
       "\n",
       "    .dataframe tbody tr th {\n",
       "        vertical-align: top;\n",
       "    }\n",
       "\n",
       "    .dataframe thead th {\n",
       "        text-align: right;\n",
       "    }\n",
       "</style>\n",
       "<table border=\"1\" class=\"dataframe\">\n",
       "  <thead>\n",
       "    <tr style=\"text-align: right;\">\n",
       "      <th></th>\n",
       "      <th>Expert</th>\n",
       "      <th>ProgSkills</th>\n",
       "      <th>C</th>\n",
       "      <th>CPP</th>\n",
       "      <th>CS</th>\n",
       "      <th>Java</th>\n",
       "      <th>Python</th>\n",
       "      <th>JS</th>\n",
       "      <th>R</th>\n",
       "      <th>SQL</th>\n",
       "      <th>SAS</th>\n",
       "      <th>Excel</th>\n",
       "      <th>Classification</th>\n",
       "      <th>Clustering</th>\n",
       "      <th>Job</th>\n",
       "      <th>Languages</th>\n",
       "    </tr>\n",
       "    <tr>\n",
       "      <th>Program</th>\n",
       "      <th></th>\n",
       "      <th></th>\n",
       "      <th></th>\n",
       "      <th></th>\n",
       "      <th></th>\n",
       "      <th></th>\n",
       "      <th></th>\n",
       "      <th></th>\n",
       "      <th></th>\n",
       "      <th></th>\n",
       "      <th></th>\n",
       "      <th></th>\n",
       "      <th></th>\n",
       "      <th></th>\n",
       "      <th></th>\n",
       "      <th></th>\n",
       "    </tr>\n",
       "  </thead>\n",
       "  <tbody>\n",
       "    <tr>\n",
       "      <th>Business Man</th>\n",
       "      <td>0.0000</td>\n",
       "      <td>1.000</td>\n",
       "      <td>0.0000</td>\n",
       "      <td>0.000</td>\n",
       "      <td>NaN</td>\n",
       "      <td>0.000</td>\n",
       "      <td>0.000000</td>\n",
       "      <td>1.000000</td>\n",
       "      <td>1.000000</td>\n",
       "      <td>0.000000</td>\n",
       "      <td>0.000000</td>\n",
       "      <td>1.000</td>\n",
       "      <td>2.0000</td>\n",
       "      <td>3.0000</td>\n",
       "      <td>1.00000</td>\n",
       "      <td>NaN</td>\n",
       "    </tr>\n",
       "    <tr>\n",
       "      <th>Faculty!</th>\n",
       "      <td>1.0000</td>\n",
       "      <td>3.000</td>\n",
       "      <td>1.0000</td>\n",
       "      <td>0.000</td>\n",
       "      <td>0.000</td>\n",
       "      <td>0.000</td>\n",
       "      <td>0.000000</td>\n",
       "      <td>0.000000</td>\n",
       "      <td>0.000000</td>\n",
       "      <td>1.000000</td>\n",
       "      <td>1.000000</td>\n",
       "      <td>1.000</td>\n",
       "      <td>5.0000</td>\n",
       "      <td>5.0000</td>\n",
       "      <td>1.00000</td>\n",
       "      <td>4.000000</td>\n",
       "    </tr>\n",
       "    <tr>\n",
       "      <th>MBA</th>\n",
       "      <td>0.0625</td>\n",
       "      <td>2.500</td>\n",
       "      <td>0.3125</td>\n",
       "      <td>0.375</td>\n",
       "      <td>0.125</td>\n",
       "      <td>0.375</td>\n",
       "      <td>0.375000</td>\n",
       "      <td>0.333333</td>\n",
       "      <td>0.437500</td>\n",
       "      <td>0.625000</td>\n",
       "      <td>0.133333</td>\n",
       "      <td>1.000</td>\n",
       "      <td>1.9375</td>\n",
       "      <td>1.9375</td>\n",
       "      <td>0.65625</td>\n",
       "      <td>4.066667</td>\n",
       "    </tr>\n",
       "    <tr>\n",
       "      <th>MSIS</th>\n",
       "      <td>0.0250</td>\n",
       "      <td>3.075</td>\n",
       "      <td>0.7000</td>\n",
       "      <td>0.475</td>\n",
       "      <td>0.075</td>\n",
       "      <td>0.975</td>\n",
       "      <td>0.487179</td>\n",
       "      <td>0.400000</td>\n",
       "      <td>0.102564</td>\n",
       "      <td>0.948718</td>\n",
       "      <td>0.075000</td>\n",
       "      <td>0.925</td>\n",
       "      <td>1.7750</td>\n",
       "      <td>1.7500</td>\n",
       "      <td>0.20000</td>\n",
       "      <td>5.081081</td>\n",
       "    </tr>\n",
       "    <tr>\n",
       "      <th>Master of Finance</th>\n",
       "      <td>0.0000</td>\n",
       "      <td>4.000</td>\n",
       "      <td>1.0000</td>\n",
       "      <td>1.000</td>\n",
       "      <td>0.000</td>\n",
       "      <td>0.000</td>\n",
       "      <td>1.000000</td>\n",
       "      <td>1.000000</td>\n",
       "      <td>0.000000</td>\n",
       "      <td>1.000000</td>\n",
       "      <td>0.000000</td>\n",
       "      <td>1.000</td>\n",
       "      <td>1.0000</td>\n",
       "      <td>1.0000</td>\n",
       "      <td>0.00000</td>\n",
       "      <td>6.000000</td>\n",
       "    </tr>\n",
       "    <tr>\n",
       "      <th>Supply Chain Mgmt &amp; Analytics</th>\n",
       "      <td>0.0000</td>\n",
       "      <td>1.500</td>\n",
       "      <td>0.5000</td>\n",
       "      <td>0.500</td>\n",
       "      <td>0.000</td>\n",
       "      <td>0.000</td>\n",
       "      <td>0.000000</td>\n",
       "      <td>0.000000</td>\n",
       "      <td>0.000000</td>\n",
       "      <td>1.000000</td>\n",
       "      <td>0.000000</td>\n",
       "      <td>1.000</td>\n",
       "      <td>2.0000</td>\n",
       "      <td>1.0000</td>\n",
       "      <td>0.50000</td>\n",
       "      <td>3.000000</td>\n",
       "    </tr>\n",
       "  </tbody>\n",
       "</table>\n",
       "</div>"
      ],
      "text/plain": [
       "                               Expert  ProgSkills       C    CPP     CS  \\\n",
       "Program                                                                   \n",
       "Business Man                   0.0000       1.000  0.0000  0.000    NaN   \n",
       "Faculty!                       1.0000       3.000  1.0000  0.000  0.000   \n",
       "MBA                            0.0625       2.500  0.3125  0.375  0.125   \n",
       "MSIS                           0.0250       3.075  0.7000  0.475  0.075   \n",
       "Master of Finance              0.0000       4.000  1.0000  1.000  0.000   \n",
       "Supply Chain Mgmt & Analytics  0.0000       1.500  0.5000  0.500  0.000   \n",
       "\n",
       "                                Java    Python        JS         R       SQL  \\\n",
       "Program                                                                        \n",
       "Business Man                   0.000  0.000000  1.000000  1.000000  0.000000   \n",
       "Faculty!                       0.000  0.000000  0.000000  0.000000  1.000000   \n",
       "MBA                            0.375  0.375000  0.333333  0.437500  0.625000   \n",
       "MSIS                           0.975  0.487179  0.400000  0.102564  0.948718   \n",
       "Master of Finance              0.000  1.000000  1.000000  0.000000  1.000000   \n",
       "Supply Chain Mgmt & Analytics  0.000  0.000000  0.000000  0.000000  1.000000   \n",
       "\n",
       "                                    SAS  Excel  Classification  Clustering  \\\n",
       "Program                                                                      \n",
       "Business Man                   0.000000  1.000          2.0000      3.0000   \n",
       "Faculty!                       1.000000  1.000          5.0000      5.0000   \n",
       "MBA                            0.133333  1.000          1.9375      1.9375   \n",
       "MSIS                           0.075000  0.925          1.7750      1.7500   \n",
       "Master of Finance              0.000000  1.000          1.0000      1.0000   \n",
       "Supply Chain Mgmt & Analytics  0.000000  1.000          2.0000      1.0000   \n",
       "\n",
       "                                   Job  Languages  \n",
       "Program                                            \n",
       "Business Man                   1.00000        NaN  \n",
       "Faculty!                       1.00000   4.000000  \n",
       "MBA                            0.65625   4.066667  \n",
       "MSIS                           0.20000   5.081081  \n",
       "Master of Finance              0.00000   6.000000  \n",
       "Supply Chain Mgmt & Analytics  0.50000   3.000000  "
      ]
     },
     "execution_count": 74,
     "metadata": {},
     "output_type": "execute_result"
    }
   ],
   "source": [
    "df.groupby(by='Program').mean()"
   ]
  },
  {
   "cell_type": "markdown",
   "metadata": {
    "id": "Pse9k5Zb-f5z"
   },
   "source": [
    "#### Exercise: Display the mean of all columns, grouping by the Job situation"
   ]
  },
  {
   "cell_type": "code",
   "execution_count": 75,
   "metadata": {
    "id": "9YecKE02-f5z"
   },
   "outputs": [
    {
     "data": {
      "text/html": [
       "<div>\n",
       "<style scoped>\n",
       "    .dataframe tbody tr th:only-of-type {\n",
       "        vertical-align: middle;\n",
       "    }\n",
       "\n",
       "    .dataframe tbody tr th {\n",
       "        vertical-align: top;\n",
       "    }\n",
       "\n",
       "    .dataframe thead th {\n",
       "        text-align: right;\n",
       "    }\n",
       "</style>\n",
       "<table border=\"1\" class=\"dataframe\">\n",
       "  <thead>\n",
       "    <tr style=\"text-align: right;\">\n",
       "      <th></th>\n",
       "      <th>Expert</th>\n",
       "      <th>ProgSkills</th>\n",
       "      <th>C</th>\n",
       "      <th>CPP</th>\n",
       "      <th>CS</th>\n",
       "      <th>Java</th>\n",
       "      <th>Python</th>\n",
       "      <th>JS</th>\n",
       "      <th>R</th>\n",
       "      <th>SQL</th>\n",
       "      <th>SAS</th>\n",
       "      <th>Excel</th>\n",
       "      <th>Classification</th>\n",
       "      <th>Clustering</th>\n",
       "      <th>Languages</th>\n",
       "    </tr>\n",
       "    <tr>\n",
       "      <th>Job</th>\n",
       "      <th></th>\n",
       "      <th></th>\n",
       "      <th></th>\n",
       "      <th></th>\n",
       "      <th></th>\n",
       "      <th></th>\n",
       "      <th></th>\n",
       "      <th></th>\n",
       "      <th></th>\n",
       "      <th></th>\n",
       "      <th></th>\n",
       "      <th></th>\n",
       "      <th></th>\n",
       "      <th></th>\n",
       "      <th></th>\n",
       "    </tr>\n",
       "  </thead>\n",
       "  <tbody>\n",
       "    <tr>\n",
       "      <th>0.0</th>\n",
       "      <td>0.062500</td>\n",
       "      <td>2.906250</td>\n",
       "      <td>0.625000</td>\n",
       "      <td>0.406250</td>\n",
       "      <td>0.093750</td>\n",
       "      <td>0.781250</td>\n",
       "      <td>0.451613</td>\n",
       "      <td>0.406250</td>\n",
       "      <td>0.156250</td>\n",
       "      <td>0.870968</td>\n",
       "      <td>0.062500</td>\n",
       "      <td>0.968750</td>\n",
       "      <td>1.843750</td>\n",
       "      <td>1.843750</td>\n",
       "      <td>4.733333</td>\n",
       "    </tr>\n",
       "    <tr>\n",
       "      <th>0.5</th>\n",
       "      <td>0.000000</td>\n",
       "      <td>3.066667</td>\n",
       "      <td>0.666667</td>\n",
       "      <td>0.600000</td>\n",
       "      <td>0.066667</td>\n",
       "      <td>0.933333</td>\n",
       "      <td>0.400000</td>\n",
       "      <td>0.200000</td>\n",
       "      <td>0.142857</td>\n",
       "      <td>0.933333</td>\n",
       "      <td>0.200000</td>\n",
       "      <td>1.000000</td>\n",
       "      <td>1.733333</td>\n",
       "      <td>1.600000</td>\n",
       "      <td>5.071429</td>\n",
       "    </tr>\n",
       "    <tr>\n",
       "      <th>1.0</th>\n",
       "      <td>0.071429</td>\n",
       "      <td>2.500000</td>\n",
       "      <td>0.428571</td>\n",
       "      <td>0.357143</td>\n",
       "      <td>0.076923</td>\n",
       "      <td>0.428571</td>\n",
       "      <td>0.428571</td>\n",
       "      <td>0.538462</td>\n",
       "      <td>0.357143</td>\n",
       "      <td>0.714286</td>\n",
       "      <td>0.076923</td>\n",
       "      <td>0.857143</td>\n",
       "      <td>2.071429</td>\n",
       "      <td>2.071429</td>\n",
       "      <td>4.333333</td>\n",
       "    </tr>\n",
       "  </tbody>\n",
       "</table>\n",
       "</div>"
      ],
      "text/plain": [
       "       Expert  ProgSkills         C       CPP        CS      Java    Python  \\\n",
       "Job                                                                           \n",
       "0.0  0.062500    2.906250  0.625000  0.406250  0.093750  0.781250  0.451613   \n",
       "0.5  0.000000    3.066667  0.666667  0.600000  0.066667  0.933333  0.400000   \n",
       "1.0  0.071429    2.500000  0.428571  0.357143  0.076923  0.428571  0.428571   \n",
       "\n",
       "           JS         R       SQL       SAS     Excel  Classification  \\\n",
       "Job                                                                     \n",
       "0.0  0.406250  0.156250  0.870968  0.062500  0.968750        1.843750   \n",
       "0.5  0.200000  0.142857  0.933333  0.200000  1.000000        1.733333   \n",
       "1.0  0.538462  0.357143  0.714286  0.076923  0.857143        2.071429   \n",
       "\n",
       "     Clustering  Languages  \n",
       "Job                         \n",
       "0.0    1.843750   4.733333  \n",
       "0.5    1.600000   5.071429  \n",
       "1.0    2.071429   4.333333  "
      ]
     },
     "execution_count": 75,
     "metadata": {},
     "output_type": "execute_result"
    }
   ],
   "source": [
    "df.groupby(by='Job').mean()"
   ]
  },
  {
   "cell_type": "markdown",
   "metadata": {
    "id": "2Si_3PHU-f5z"
   },
   "source": [
    "### Aggregate only some columns"
   ]
  },
  {
   "cell_type": "markdown",
   "metadata": {
    "id": "xp84euBA-f50"
   },
   "source": [
    "Oftentimes, we don't want to aggregate all columns. For example, we want to find only the average of Job, grouped by Program."
   ]
  },
  {
   "cell_type": "code",
   "execution_count": 76,
   "metadata": {
    "id": "ZZ1ZyQ3--f50"
   },
   "outputs": [
    {
     "data": {
      "text/plain": [
       "Program\n",
       "Business Man                     1.00000\n",
       "Faculty!                         1.00000\n",
       "MBA                              0.65625\n",
       "MSIS                             0.20000\n",
       "Master of Finance                0.00000\n",
       "Supply Chain Mgmt & Analytics    0.50000\n",
       "Name: Job, dtype: float64"
      ]
     },
     "execution_count": 76,
     "metadata": {},
     "output_type": "execute_result"
    }
   ],
   "source": [
    "df.groupby(by='Program')['Job'].mean()"
   ]
  },
  {
   "cell_type": "markdown",
   "metadata": {
    "id": "bG_i67oJ-f50"
   },
   "source": [
    "Or more columns. For example, we want to find the average of Job, C, and R, grouped by Program."
   ]
  },
  {
   "cell_type": "code",
   "execution_count": 77,
   "metadata": {
    "id": "IdrjZYhK-f50"
   },
   "outputs": [
    {
     "name": "stderr",
     "output_type": "stream",
     "text": [
      "C:\\Users\\monas\\AppData\\Local\\Temp/ipykernel_32564/192876374.py:1: FutureWarning: Indexing with multiple keys (implicitly converted to a tuple of keys) will be deprecated, use a list instead.\n",
      "  df.groupby(by='Program')['Job', 'C', 'R'].mean()\n"
     ]
    },
    {
     "data": {
      "text/html": [
       "<div>\n",
       "<style scoped>\n",
       "    .dataframe tbody tr th:only-of-type {\n",
       "        vertical-align: middle;\n",
       "    }\n",
       "\n",
       "    .dataframe tbody tr th {\n",
       "        vertical-align: top;\n",
       "    }\n",
       "\n",
       "    .dataframe thead th {\n",
       "        text-align: right;\n",
       "    }\n",
       "</style>\n",
       "<table border=\"1\" class=\"dataframe\">\n",
       "  <thead>\n",
       "    <tr style=\"text-align: right;\">\n",
       "      <th></th>\n",
       "      <th>Job</th>\n",
       "      <th>C</th>\n",
       "      <th>R</th>\n",
       "    </tr>\n",
       "    <tr>\n",
       "      <th>Program</th>\n",
       "      <th></th>\n",
       "      <th></th>\n",
       "      <th></th>\n",
       "    </tr>\n",
       "  </thead>\n",
       "  <tbody>\n",
       "    <tr>\n",
       "      <th>Business Man</th>\n",
       "      <td>1.00000</td>\n",
       "      <td>0.0000</td>\n",
       "      <td>1.000000</td>\n",
       "    </tr>\n",
       "    <tr>\n",
       "      <th>Faculty!</th>\n",
       "      <td>1.00000</td>\n",
       "      <td>1.0000</td>\n",
       "      <td>0.000000</td>\n",
       "    </tr>\n",
       "    <tr>\n",
       "      <th>MBA</th>\n",
       "      <td>0.65625</td>\n",
       "      <td>0.3125</td>\n",
       "      <td>0.437500</td>\n",
       "    </tr>\n",
       "    <tr>\n",
       "      <th>MSIS</th>\n",
       "      <td>0.20000</td>\n",
       "      <td>0.7000</td>\n",
       "      <td>0.102564</td>\n",
       "    </tr>\n",
       "    <tr>\n",
       "      <th>Master of Finance</th>\n",
       "      <td>0.00000</td>\n",
       "      <td>1.0000</td>\n",
       "      <td>0.000000</td>\n",
       "    </tr>\n",
       "    <tr>\n",
       "      <th>Supply Chain Mgmt &amp; Analytics</th>\n",
       "      <td>0.50000</td>\n",
       "      <td>0.5000</td>\n",
       "      <td>0.000000</td>\n",
       "    </tr>\n",
       "  </tbody>\n",
       "</table>\n",
       "</div>"
      ],
      "text/plain": [
       "                                   Job       C         R\n",
       "Program                                                 \n",
       "Business Man                   1.00000  0.0000  1.000000\n",
       "Faculty!                       1.00000  1.0000  0.000000\n",
       "MBA                            0.65625  0.3125  0.437500\n",
       "MSIS                           0.20000  0.7000  0.102564\n",
       "Master of Finance              0.00000  1.0000  0.000000\n",
       "Supply Chain Mgmt & Analytics  0.50000  0.5000  0.000000"
      ]
     },
     "execution_count": 77,
     "metadata": {},
     "output_type": "execute_result"
    }
   ],
   "source": [
    "df.groupby(by='Program')['Job', 'C', 'R'].mean()"
   ]
  },
  {
   "cell_type": "markdown",
   "metadata": {
    "id": "6aTyllj3-f50"
   },
   "source": [
    "### Exercises"
   ]
  },
  {
   "cell_type": "markdown",
   "metadata": {
    "id": "tt7ly8B9-f51"
   },
   "source": [
    "For each Job situation (0=no job, 0.5=part time, 1=full time), find the proportion of students that know SQL (hint: mean) "
   ]
  },
  {
   "cell_type": "code",
   "execution_count": 78,
   "metadata": {
    "id": "3M2BCr1O-f51"
   },
   "outputs": [
    {
     "data": {
      "text/plain": [
       "Job\n",
       "0.0    0.870968\n",
       "0.5    0.933333\n",
       "1.0    0.714286\n",
       "Name: SQL, dtype: float64"
      ]
     },
     "execution_count": 78,
     "metadata": {},
     "output_type": "execute_result"
    }
   ],
   "source": [
    "df.groupby(by='Job').SQL.mean()  #mean = proportion, because binary"
   ]
  },
  {
   "cell_type": "markdown",
   "metadata": {
    "id": "-uuO17o2-f51"
   },
   "source": [
    "For each program, count how many student know SQL (hint: sum)"
   ]
  },
  {
   "cell_type": "code",
   "execution_count": 79,
   "metadata": {
    "id": "kPFYjS1x-f51"
   },
   "outputs": [
    {
     "data": {
      "text/plain": [
       "Program\n",
       "Business Man                      0.0\n",
       "Faculty!                          1.0\n",
       "MBA                              10.0\n",
       "MSIS                             37.0\n",
       "Master of Finance                 1.0\n",
       "Supply Chain Mgmt & Analytics     2.0\n",
       "Name: SQL, dtype: float64"
      ]
     },
     "execution_count": 79,
     "metadata": {},
     "output_type": "execute_result"
    }
   ],
   "source": [
    "df.groupby(by='Program').SQL.sum()"
   ]
  },
  {
   "cell_type": "markdown",
   "metadata": {
    "id": "4rqtAY3_-f51"
   },
   "source": [
    "Considering only the students who know SQL, find for each Program the proportion of students who know Java"
   ]
  },
  {
   "cell_type": "code",
   "execution_count": 81,
   "metadata": {
    "id": "nbr_U_Wb-f52"
   },
   "outputs": [
    {
     "data": {
      "text/plain": [
       "Program\n",
       "Faculty!                         0.000000\n",
       "MBA                              0.600000\n",
       "MSIS                             0.972973\n",
       "Master of Finance                0.000000\n",
       "Supply Chain Mgmt & Analytics    0.000000\n",
       "Name: Java, dtype: float64"
      ]
     },
     "execution_count": 81,
     "metadata": {},
     "output_type": "execute_result"
    }
   ],
   "source": [
    "df[df.SQL==1].groupby(by='Program').Java.mean()"
   ]
  }
 ],
 "metadata": {
  "colab": {
   "collapsed_sections": [
    "SVhmFTv_9PxM",
    "H1ywVa8s9PxO",
    "lbL9ULF59PxQ",
    "lKlMtsVo9PxS",
    "AO9mhO-p9PxT",
    "RvGxUpNO9PxU",
    "McMatitz9PxV",
    "9fK9CMlF9PxV",
    "L0myBQsb9PxV",
    "2ldlOBo-9PxW",
    "G5so6zJh9PxY",
    "TGbb0Bzd9PxZ",
    "_dRlxH6G9PxZ"
   ],
   "name": "PandasDataFrame.ipynb",
   "provenance": []
  },
  "kernelspec": {
   "display_name": "Python 3 (ipykernel)",
   "language": "python",
   "name": "python3"
  },
  "language_info": {
   "codemirror_mode": {
    "name": "ipython",
    "version": 3
   },
   "file_extension": ".py",
   "mimetype": "text/x-python",
   "name": "python",
   "nbconvert_exporter": "python",
   "pygments_lexer": "ipython3",
   "version": "3.9.7"
  }
 },
 "nbformat": 4,
 "nbformat_minor": 4
}
