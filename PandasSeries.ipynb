{
 "cells": [
  {
   "cell_type": "markdown",
   "metadata": {
    "id": "BtE6nJXLr2IM"
   },
   "source": [
    "# Pandas Series"
   ]
  },
  {
   "cell_type": "markdown",
   "metadata": {
    "id": "WNtp-Wgzr2IQ"
   },
   "source": [
    "\"pandas\" is a Python package providing data structures to work on relational and labeled data. It is designed to be efficient and intuitive.\n",
    "\n",
    "The two main data structures in Pandas are <b>Series</b> and <b>DataFrame</b>. Series is a one-dimensional labeled array, while DataFrame is a two-dimensional tabular data. This module focues on series. \n",
    "\n",
    "Try writing the code for importing `pandas` package in, and give it alias `pd`:"
   ]
  },
  {
   "cell_type": "code",
   "execution_count": 5,
   "metadata": {
    "id": "Jf7kx56Fr2IR"
   },
   "outputs": [],
   "source": [
    "import pandas as pd"
   ]
  },
  {
   "cell_type": "markdown",
   "metadata": {
    "id": "eeaOp1jur2IR"
   },
   "source": [
    "Note: as you are getting familiar with python programming, I'll frquently leave coding blocks empty (even if it is not an exercise) for you to fill in -- **there is a big difference between reading code and writing code by yourself!**\n",
    "\n",
    "First, we load the data set in <i>students.csv</i> that is in the current folder, store it in a DataFrame called <i>df</i>, and use the students' name column as the index for easy identification. We'll talk more about pandas in the next module."
   ]
  },
  {
   "cell_type": "code",
   "execution_count": 6,
   "metadata": {
    "id": "IUqq9-7ur2IR"
   },
   "outputs": [],
   "source": [
    "df = pd.read_csv('students.csv', index_col='Name')\n",
    "# Or index by number \"index_col=0\" "
   ]
  },
  {
   "cell_type": "code",
   "execution_count": 7,
   "metadata": {
    "id": "2mmXK3j-r2IS"
   },
   "outputs": [
    {
     "data": {
      "text/html": [
       "<div>\n",
       "<style scoped>\n",
       "    .dataframe tbody tr th:only-of-type {\n",
       "        vertical-align: middle;\n",
       "    }\n",
       "\n",
       "    .dataframe tbody tr th {\n",
       "        vertical-align: top;\n",
       "    }\n",
       "\n",
       "    .dataframe thead th {\n",
       "        text-align: right;\n",
       "    }\n",
       "</style>\n",
       "<table border=\"1\" class=\"dataframe\">\n",
       "  <thead>\n",
       "    <tr style=\"text-align: right;\">\n",
       "      <th></th>\n",
       "      <th>hw1</th>\n",
       "      <th>hw2</th>\n",
       "      <th>program</th>\n",
       "    </tr>\n",
       "    <tr>\n",
       "      <th>Name</th>\n",
       "      <th></th>\n",
       "      <th></th>\n",
       "      <th></th>\n",
       "    </tr>\n",
       "  </thead>\n",
       "  <tbody>\n",
       "    <tr>\n",
       "      <th>Dorian</th>\n",
       "      <td>10.0</td>\n",
       "      <td>10.0</td>\n",
       "      <td>MSIS</td>\n",
       "    </tr>\n",
       "    <tr>\n",
       "      <th>Jeannine</th>\n",
       "      <td>6.0</td>\n",
       "      <td>7.0</td>\n",
       "      <td>MSIS</td>\n",
       "    </tr>\n",
       "    <tr>\n",
       "      <th>Iluminada</th>\n",
       "      <td>2.0</td>\n",
       "      <td>NaN</td>\n",
       "      <td>MBA</td>\n",
       "    </tr>\n",
       "    <tr>\n",
       "      <th>Luci</th>\n",
       "      <td>7.0</td>\n",
       "      <td>7.0</td>\n",
       "      <td>MSIS</td>\n",
       "    </tr>\n",
       "    <tr>\n",
       "      <th>Jenny</th>\n",
       "      <td>8.0</td>\n",
       "      <td>NaN</td>\n",
       "      <td>NaN</td>\n",
       "    </tr>\n",
       "    <tr>\n",
       "      <th>Demetria</th>\n",
       "      <td>2.0</td>\n",
       "      <td>4.0</td>\n",
       "      <td>MSIS</td>\n",
       "    </tr>\n",
       "    <tr>\n",
       "      <th>Michael</th>\n",
       "      <td>6.0</td>\n",
       "      <td>10.0</td>\n",
       "      <td>MBA</td>\n",
       "    </tr>\n",
       "    <tr>\n",
       "      <th>Garland</th>\n",
       "      <td>9.0</td>\n",
       "      <td>1.0</td>\n",
       "      <td>MSIS</td>\n",
       "    </tr>\n",
       "    <tr>\n",
       "      <th>Shelby</th>\n",
       "      <td>1.0</td>\n",
       "      <td>10.0</td>\n",
       "      <td>MSIS</td>\n",
       "    </tr>\n",
       "    <tr>\n",
       "      <th>Mercy</th>\n",
       "      <td>5.0</td>\n",
       "      <td>6.0</td>\n",
       "      <td>MSIS</td>\n",
       "    </tr>\n",
       "    <tr>\n",
       "      <th>John</th>\n",
       "      <td>NaN</td>\n",
       "      <td>10.0</td>\n",
       "      <td>MSIS</td>\n",
       "    </tr>\n",
       "  </tbody>\n",
       "</table>\n",
       "</div>"
      ],
      "text/plain": [
       "            hw1   hw2 program\n",
       "Name                         \n",
       "Dorian     10.0  10.0    MSIS\n",
       "Jeannine    6.0   7.0    MSIS\n",
       "Iluminada   2.0   NaN     MBA\n",
       "Luci        7.0   7.0    MSIS\n",
       "Jenny       8.0   NaN     NaN\n",
       "Demetria    2.0   4.0    MSIS\n",
       "Michael     6.0  10.0     MBA\n",
       "Garland     9.0   1.0    MSIS\n",
       "Shelby      1.0  10.0    MSIS\n",
       "Mercy       5.0   6.0    MSIS\n",
       "John        NaN  10.0    MSIS"
      ]
     },
     "execution_count": 7,
     "metadata": {},
     "output_type": "execute_result"
    }
   ],
   "source": [
    "df"
   ]
  },
  {
   "cell_type": "code",
   "execution_count": 5,
   "metadata": {
    "id": "1YGNy8zBr2IS"
   },
   "outputs": [
    {
     "data": {
      "text/html": [
       "<div>\n",
       "<style scoped>\n",
       "    .dataframe tbody tr th:only-of-type {\n",
       "        vertical-align: middle;\n",
       "    }\n",
       "\n",
       "    .dataframe tbody tr th {\n",
       "        vertical-align: top;\n",
       "    }\n",
       "\n",
       "    .dataframe thead th {\n",
       "        text-align: right;\n",
       "    }\n",
       "</style>\n",
       "<table border=\"1\" class=\"dataframe\">\n",
       "  <thead>\n",
       "    <tr style=\"text-align: right;\">\n",
       "      <th></th>\n",
       "      <th>hw1</th>\n",
       "      <th>hw2</th>\n",
       "      <th>program</th>\n",
       "    </tr>\n",
       "    <tr>\n",
       "      <th>Name</th>\n",
       "      <th></th>\n",
       "      <th></th>\n",
       "      <th></th>\n",
       "    </tr>\n",
       "  </thead>\n",
       "  <tbody>\n",
       "    <tr>\n",
       "      <th>Dorian</th>\n",
       "      <td>10.0</td>\n",
       "      <td>10.0</td>\n",
       "      <td>MSIS</td>\n",
       "    </tr>\n",
       "    <tr>\n",
       "      <th>Jeannine</th>\n",
       "      <td>6.0</td>\n",
       "      <td>7.0</td>\n",
       "      <td>MSIS</td>\n",
       "    </tr>\n",
       "    <tr>\n",
       "      <th>Iluminada</th>\n",
       "      <td>2.0</td>\n",
       "      <td>NaN</td>\n",
       "      <td>MBA</td>\n",
       "    </tr>\n",
       "    <tr>\n",
       "      <th>Luci</th>\n",
       "      <td>7.0</td>\n",
       "      <td>7.0</td>\n",
       "      <td>MSIS</td>\n",
       "    </tr>\n",
       "    <tr>\n",
       "      <th>Jenny</th>\n",
       "      <td>8.0</td>\n",
       "      <td>NaN</td>\n",
       "      <td>NaN</td>\n",
       "    </tr>\n",
       "  </tbody>\n",
       "</table>\n",
       "</div>"
      ],
      "text/plain": [
       "            hw1   hw2 program\n",
       "Name                         \n",
       "Dorian     10.0  10.0    MSIS\n",
       "Jeannine    6.0   7.0    MSIS\n",
       "Iluminada   2.0   NaN     MBA\n",
       "Luci        7.0   7.0    MSIS\n",
       "Jenny       8.0   NaN     NaN"
      ]
     },
     "execution_count": 5,
     "metadata": {},
     "output_type": "execute_result"
    }
   ],
   "source": [
    "df.head()"
   ]
  },
  {
   "cell_type": "markdown",
   "metadata": {
    "id": "5cjKyDSPr2IS"
   },
   "source": [
    "Note that NaN indicates missing value."
   ]
  },
  {
   "cell_type": "markdown",
   "metadata": {
    "id": "As4W1cp8r2IS"
   },
   "source": [
    "# Series"
   ]
  },
  {
   "cell_type": "markdown",
   "metadata": {
    "id": "_IETx-txr2IT"
   },
   "source": [
    "In this lecture, we will mostly focus only on the column <i>hw1</i>. Let's make a Series of hw1 scores. "
   ]
  },
  {
   "cell_type": "markdown",
   "metadata": {
    "id": "VXtTzflLr2IT"
   },
   "source": [
    "A Series is a one-dimensional array of data (<b>values</b>) and an associated array of data labels (<b>index</b>). In this example, the <b>index</b> is the student name and the <b>value</b> is the score in hw1."
   ]
  },
  {
   "cell_type": "markdown",
   "metadata": {
    "id": "eUaXTnMzr2IT"
   },
   "source": [
    "You can access the column in the df via using a **[' ']** or a **.**"
   ]
  },
  {
   "cell_type": "code",
   "execution_count": 8,
   "metadata": {
    "id": "oxpZRbGMr2IT"
   },
   "outputs": [],
   "source": [
    "hw1 = df['hw1']\n",
    "# Or equivalently:\n",
    "# hw1 = df.hw1"
   ]
  },
  {
   "cell_type": "code",
   "execution_count": 7,
   "metadata": {
    "id": "I6CE7qAIr2IT"
   },
   "outputs": [
    {
     "data": {
      "text/plain": [
       "Name\n",
       "Dorian       10.0\n",
       "Jeannine      6.0\n",
       "Iluminada     2.0\n",
       "Luci          7.0\n",
       "Jenny         8.0\n",
       "Demetria      2.0\n",
       "Michael       6.0\n",
       "Garland       9.0\n",
       "Shelby        1.0\n",
       "Mercy         5.0\n",
       "John          NaN\n",
       "Name: hw1, dtype: float64"
      ]
     },
     "execution_count": 7,
     "metadata": {},
     "output_type": "execute_result"
    }
   ],
   "source": [
    "hw1"
   ]
  },
  {
   "cell_type": "markdown",
   "metadata": {
    "id": "ZOiA38MQr2IT"
   },
   "source": [
    "Check the data type of hw1"
   ]
  },
  {
   "cell_type": "code",
   "execution_count": 8,
   "metadata": {
    "id": "VFYM0d6fr2IU"
   },
   "outputs": [
    {
     "data": {
      "text/plain": [
       "pandas.core.series.Series"
      ]
     },
     "execution_count": 8,
     "metadata": {},
     "output_type": "execute_result"
    }
   ],
   "source": [
    "type(hw1)"
   ]
  },
  {
   "cell_type": "markdown",
   "metadata": {
    "id": "kQAYlE9Pr2IU"
   },
   "source": [
    "## Properties of a Series: index and values"
   ]
  },
  {
   "cell_type": "markdown",
   "metadata": {
    "id": "s75QMiIFr2IU"
   },
   "source": [
    "Return the index as an Index object and the values as ndarray"
   ]
  },
  {
   "cell_type": "code",
   "execution_count": 9,
   "metadata": {
    "id": "tl5ncvTNr2IU"
   },
   "outputs": [
    {
     "data": {
      "text/plain": [
       "Index(['Dorian', 'Jeannine', 'Iluminada', 'Luci', 'Jenny', 'Demetria',\n",
       "       'Michael', 'Garland', 'Shelby', 'Mercy', 'John'],\n",
       "      dtype='object', name='Name')"
      ]
     },
     "execution_count": 9,
     "metadata": {},
     "output_type": "execute_result"
    }
   ],
   "source": [
    "hw1.index"
   ]
  },
  {
   "cell_type": "code",
   "execution_count": 10,
   "metadata": {
    "id": "BNHCSzlVr2IU"
   },
   "outputs": [
    {
     "data": {
      "text/plain": [
       "array([10.,  6.,  2.,  7.,  8.,  2.,  6.,  9.,  1.,  5., nan])"
      ]
     },
     "execution_count": 10,
     "metadata": {},
     "output_type": "execute_result"
    }
   ],
   "source": [
    "hw1.values"
   ]
  },
  {
   "cell_type": "markdown",
   "metadata": {
    "id": "VMew2_QXr2IV"
   },
   "source": [
    "The length of hw1, a.k.a., the number of elements:"
   ]
  },
  {
   "cell_type": "code",
   "execution_count": 11,
   "metadata": {
    "id": "OTfytha1r2IV"
   },
   "outputs": [
    {
     "data": {
      "text/plain": [
       "11"
      ]
     },
     "execution_count": 11,
     "metadata": {},
     "output_type": "execute_result"
    }
   ],
   "source": [
    "len(hw1)"
   ]
  },
  {
   "cell_type": "markdown",
   "metadata": {
    "id": "Zpzx8Mzkr2IV"
   },
   "source": [
    "## Summary statistics using the describe() method"
   ]
  },
  {
   "cell_type": "code",
   "execution_count": 12,
   "metadata": {
    "id": "TsYJPAVer2IV",
    "scrolled": true
   },
   "outputs": [
    {
     "data": {
      "text/plain": [
       "count    10.000000\n",
       "mean      5.600000\n",
       "std       3.098387\n",
       "min       1.000000\n",
       "25%       2.750000\n",
       "50%       6.000000\n",
       "75%       7.750000\n",
       "max      10.000000\n",
       "Name: hw1, dtype: float64"
      ]
     },
     "execution_count": 12,
     "metadata": {},
     "output_type": "execute_result"
    }
   ],
   "source": [
    "hw1.describe()"
   ]
  },
  {
   "cell_type": "markdown",
   "metadata": {
    "id": "BdVFK7WFr2IV"
   },
   "source": [
    "<div class=\"alert alert-block alert-info\"> \n",
    "**Tech Note**: \n",
    "You can also use ***tab*** to perform the **auto-filled**. Type the partial function name from beginning, then presss ***tab***. It will auto-fill the function name or bring up a pop-up window with matching multiple choices.\n",
    "</div>"
   ]
  },
  {
   "cell_type": "markdown",
   "metadata": {
    "id": "nx471nJ7r2IV"
   },
   "source": [
    "<div class=\"alert alert-block alert-info\"> \n",
    "**Tech Note**: To bring up the **on-line help** for a particular function, type the function name, then press ***shift-tab***. \n",
    "</div>"
   ]
  },
  {
   "cell_type": "markdown",
   "metadata": {
    "id": "xkPlFcN-r2IW"
   },
   "source": [
    "## Aggregate functions (max, min, mean, ...)"
   ]
  },
  {
   "cell_type": "markdown",
   "metadata": {
    "id": "etpt3NnBr2IW"
   },
   "source": [
    "An aggregate function performs a calculation on a set of values, and returns a single value. `pandas.Series` offers several such aggregate functions."
   ]
  },
  {
   "cell_type": "markdown",
   "metadata": {
    "id": "8MDClRN9r2IW"
   },
   "source": [
    "The maximum grade among all students"
   ]
  },
  {
   "cell_type": "code",
   "execution_count": 13,
   "metadata": {
    "id": "NbtcHT3Tr2IW"
   },
   "outputs": [
    {
     "data": {
      "text/plain": [
       "10.0"
      ]
     },
     "execution_count": 13,
     "metadata": {},
     "output_type": "execute_result"
    }
   ],
   "source": [
    "hw1.max()"
   ]
  },
  {
   "cell_type": "markdown",
   "metadata": {
    "id": "tDpooe0Cr2IW"
   },
   "source": [
    "The minimum grade among all students"
   ]
  },
  {
   "cell_type": "code",
   "execution_count": 14,
   "metadata": {
    "id": "1Cw6Rmmcr2IW"
   },
   "outputs": [
    {
     "data": {
      "text/plain": [
       "1.0"
      ]
     },
     "execution_count": 14,
     "metadata": {},
     "output_type": "execute_result"
    }
   ],
   "source": [
    "hw1.min()"
   ]
  },
  {
   "cell_type": "markdown",
   "metadata": {
    "id": "Px8eATa5r2IW"
   },
   "source": [
    "The average grade among all students"
   ]
  },
  {
   "cell_type": "code",
   "execution_count": 15,
   "metadata": {
    "id": "pMAPb1Qyr2IW"
   },
   "outputs": [
    {
     "data": {
      "text/plain": [
       "5.6"
      ]
     },
     "execution_count": 15,
     "metadata": {},
     "output_type": "execute_result"
    }
   ],
   "source": [
    "hw1.mean()"
   ]
  },
  {
   "cell_type": "markdown",
   "metadata": {
    "id": "b9MeV1Alr2IX"
   },
   "source": [
    "<div class=\"alert alert-block alert-info\"> \n",
    "**Tech Note**: To check how many functions and data objects are available for an object( in this case **hw1**, a **Series**). Type ***hw1.*** then press ***tab***\n",
    "</div>"
   ]
  },
  {
   "cell_type": "markdown",
   "metadata": {
    "id": "FgNUg2Zjr2IX"
   },
   "source": [
    "Exercise: read the above tech note, and find the function to calculate the median grade "
   ]
  },
  {
   "cell_type": "code",
   "execution_count": 16,
   "metadata": {
    "id": "SXQ-OXutr2IX"
   },
   "outputs": [
    {
     "data": {
      "text/plain": [
       "6.0"
      ]
     },
     "execution_count": 16,
     "metadata": {},
     "output_type": "execute_result"
    }
   ],
   "source": [
    "hw1.median()"
   ]
  },
  {
   "cell_type": "markdown",
   "metadata": {
    "id": "yAKaHaYwr2IX"
   },
   "source": [
    "Exercise: The sum of all grades"
   ]
  },
  {
   "cell_type": "code",
   "execution_count": 17,
   "metadata": {
    "id": "ZCOd7LZsr2IX"
   },
   "outputs": [
    {
     "data": {
      "text/plain": [
       "56.0"
      ]
     },
     "execution_count": 17,
     "metadata": {},
     "output_type": "execute_result"
    }
   ],
   "source": [
    "hw1.sum()"
   ]
  },
  {
   "cell_type": "markdown",
   "metadata": {
    "id": "eBz2VhVvr2IX"
   },
   "source": [
    "## Selection"
   ]
  },
  {
   "cell_type": "markdown",
   "metadata": {
    "id": "-RDWuvqrr2IX"
   },
   "source": [
    "## <i>.iloc[...]</i>: position-based selection "
   ]
  },
  {
   "cell_type": "markdown",
   "metadata": {
    "id": "3ftiqgNmr2IX"
   },
   "source": [
    "Selects rows using the positional index. It is like accessing a list of elements, with one big difference: we can access the values using <b>slices</b>."
   ]
  },
  {
   "cell_type": "markdown",
   "metadata": {
    "id": "qslOV3I1r2IY"
   },
   "source": [
    "#### Using one index value"
   ]
  },
  {
   "cell_type": "markdown",
   "metadata": {
    "id": "dnz_Ty0Jr2IY"
   },
   "source": [
    "Access the 4-th value. It returns one value."
   ]
  },
  {
   "cell_type": "code",
   "execution_count": 18,
   "metadata": {
    "id": "1F-JT6L4r2IY"
   },
   "outputs": [
    {
     "data": {
      "text/plain": [
       "7.0"
      ]
     },
     "execution_count": 18,
     "metadata": {},
     "output_type": "execute_result"
    }
   ],
   "source": [
    "hw1.iloc[3]"
   ]
  },
  {
   "cell_type": "markdown",
   "metadata": {
    "id": "gENqV8wTr2IY"
   },
   "source": [
    "Exercise: access the last value."
   ]
  },
  {
   "cell_type": "code",
   "execution_count": 19,
   "metadata": {
    "id": "xzA5znc3r2IY"
   },
   "outputs": [
    {
     "data": {
      "text/plain": [
       "nan"
      ]
     },
     "execution_count": 19,
     "metadata": {},
     "output_type": "execute_result"
    }
   ],
   "source": [
    "hw1.iloc[-1]"
   ]
  },
  {
   "cell_type": "markdown",
   "metadata": {
    "id": "6XQyNF2dr2IY"
   },
   "source": [
    "#### Using slices"
   ]
  },
  {
   "cell_type": "markdown",
   "metadata": {
    "id": "F0ztpLHtr2IY"
   },
   "source": [
    "Retrieve multiple values: 1st, 2nd and 5th."
   ]
  },
  {
   "cell_type": "code",
   "execution_count": 21,
   "metadata": {
    "id": "7DjtQY1ir2IY",
    "scrolled": true
   },
   "outputs": [
    {
     "data": {
      "text/plain": [
       "Name\n",
       "Dorian      10.0\n",
       "Jeannine     6.0\n",
       "Jenny        8.0\n",
       "Name: hw1, dtype: float64"
      ]
     },
     "execution_count": 21,
     "metadata": {},
     "output_type": "execute_result"
    }
   ],
   "source": [
    "hw1.iloc[[0,1,4]]"
   ]
  },
  {
   "cell_type": "markdown",
   "metadata": {
    "id": "NSN9EYvrr2IZ"
   },
   "source": [
    "**Caution!**\n",
    "+ The above code returns a Series object. \n",
    "+ And it returns a view, not a copy."
   ]
  },
  {
   "cell_type": "markdown",
   "metadata": {
    "id": "pkuRxjnMr2IZ"
   },
   "source": [
    "<div class=\"alert alert-block alert-info\"> \n",
    "**Tech Note** : Python uses the [ ] operator for both indexing and for constructing a list. The outer [  ] in hw1.iloc[[0,1,4]] is performing the indexing, and the inner is creating a list.\n",
    "</div>"
   ]
  },
  {
   "cell_type": "markdown",
   "metadata": {
    "id": "BnvhIt6Gr2IZ"
   },
   "source": [
    "Retrieve all elements from the 3rd to the 7th (included). It returns a Series. <b>Caution!</b> Slicing as `2:7` below creates a list."
   ]
  },
  {
   "cell_type": "code",
   "execution_count": 22,
   "metadata": {
    "id": "eRF40e-Zr2IZ",
    "scrolled": true
   },
   "outputs": [
    {
     "data": {
      "text/plain": [
       "Name\n",
       "Iluminada    2.0\n",
       "Luci         7.0\n",
       "Jenny        8.0\n",
       "Demetria     2.0\n",
       "Michael      6.0\n",
       "Name: hw1, dtype: float64"
      ]
     },
     "execution_count": 22,
     "metadata": {},
     "output_type": "execute_result"
    }
   ],
   "source": [
    "hw1.iloc[[2,3,4,5,6]]"
   ]
  },
  {
   "cell_type": "code",
   "execution_count": 24,
   "metadata": {},
   "outputs": [
    {
     "data": {
      "text/plain": [
       "Name\n",
       "Iluminada    2.0\n",
       "Luci         7.0\n",
       "Jenny        8.0\n",
       "Demetria     2.0\n",
       "Michael      6.0\n",
       "Name: hw1, dtype: float64"
      ]
     },
     "execution_count": 24,
     "metadata": {},
     "output_type": "execute_result"
    }
   ],
   "source": [
    "hw1.iloc[2:7]"
   ]
  },
  {
   "cell_type": "markdown",
   "metadata": {
    "id": "nJMhosjor2IZ"
   },
   "source": [
    "Exercise: Select the \"second to last\" student of the Series. Make sure to retrieve both the name and the grade."
   ]
  },
  {
   "cell_type": "code",
   "execution_count": 25,
   "metadata": {
    "id": "Zsymozr3r2IZ"
   },
   "outputs": [
    {
     "data": {
      "text/plain": [
       "Name\n",
       "Mercy    5.0\n",
       "John     NaN\n",
       "Name: hw1, dtype: float64"
      ]
     },
     "execution_count": 25,
     "metadata": {},
     "output_type": "execute_result"
    }
   ],
   "source": [
    "hw1.iloc[-2:]"
   ]
  },
  {
   "cell_type": "markdown",
   "metadata": {
    "id": "2uSgO6qBr2Ia"
   },
   "source": [
    "## <i>s[...]</i>: index-based selection "
   ]
  },
  {
   "cell_type": "markdown",
   "metadata": {
    "id": "4-WUTkt5r2Ia"
   },
   "source": [
    "Selects rows using the index (using a label value, a slice of label values, or a Boolean selection). It is like accessing a Dictionary of elements, with one big difference: we can access the values using <b>slices</b> and <b>boolean selection</b>."
   ]
  },
  {
   "cell_type": "markdown",
   "metadata": {
    "id": "BO4fYbYXr2Ia"
   },
   "source": [
    "#### Using a label value"
   ]
  },
  {
   "cell_type": "markdown",
   "metadata": {
    "id": "Z4kmq2cgr2Ia"
   },
   "source": [
    "Find Luci's hw1 grade."
   ]
  },
  {
   "cell_type": "code",
   "execution_count": 26,
   "metadata": {
    "id": "KOnKouG6r2Ia"
   },
   "outputs": [
    {
     "data": {
      "text/plain": [
       "7.0"
      ]
     },
     "execution_count": 26,
     "metadata": {},
     "output_type": "execute_result"
    }
   ],
   "source": [
    "hw1['Luci']"
   ]
  },
  {
   "cell_type": "markdown",
   "metadata": {
    "id": "hVL33BiEr2Ia"
   },
   "source": [
    "#### Using a slice of label values (rarely used)"
   ]
  },
  {
   "cell_type": "markdown",
   "metadata": {
    "id": "ACO9-coPr2Ia"
   },
   "source": [
    "Find the grades from Luci's to Michael's"
   ]
  },
  {
   "cell_type": "code",
   "execution_count": 28,
   "metadata": {
    "id": "pyUY2_Azr2Ia"
   },
   "outputs": [
    {
     "data": {
      "text/plain": [
       "Name\n",
       "Luci        7.0\n",
       "Jenny       8.0\n",
       "Demetria    2.0\n",
       "Michael     6.0\n",
       "Name: hw1, dtype: float64"
      ]
     },
     "execution_count": 28,
     "metadata": {},
     "output_type": "execute_result"
    }
   ],
   "source": [
    "hw1['Luci':'Michael']"
   ]
  },
  {
   "cell_type": "markdown",
   "metadata": {
    "id": "2UhaNuGdr2Ib"
   },
   "source": [
    "Exercise: What is Michael's hw1 score?"
   ]
  },
  {
   "cell_type": "code",
   "execution_count": 34,
   "metadata": {
    "id": "8D0mHJi6r2Ib"
   },
   "outputs": [
    {
     "data": {
      "text/plain": [
       "6.0"
      ]
     },
     "execution_count": 34,
     "metadata": {},
     "output_type": "execute_result"
    }
   ],
   "source": [
    "hw1['Michael']"
   ]
  },
  {
   "cell_type": "markdown",
   "metadata": {
    "id": "ePBVRadQr2Ib"
   },
   "source": [
    "Now change `[]` to `[[]]` in the code and observe how the output differs from above:"
   ]
  },
  {
   "cell_type": "code",
   "execution_count": 35,
   "metadata": {
    "id": "_5ndvYNBr2Ib"
   },
   "outputs": [
    {
     "data": {
      "text/plain": [
       "Name\n",
       "Michael    6.0\n",
       "Name: hw1, dtype: float64"
      ]
     },
     "execution_count": 35,
     "metadata": {},
     "output_type": "execute_result"
    }
   ],
   "source": [
    "hw1[['Michael']]"
   ]
  },
  {
   "cell_type": "markdown",
   "metadata": {
    "id": "yu4SLevXr2Ib"
   },
   "source": [
    "## Boolean selection"
   ]
  },
  {
   "cell_type": "markdown",
   "metadata": {
    "id": "0Ou_1Zazr2Ib"
   },
   "source": [
    "The binary operators >,<,>=,<=,==,!= can be used to create a Series of booleans to identify those elements whose value satisfy a certain condition"
   ]
  },
  {
   "cell_type": "markdown",
   "metadata": {
    "id": "iwTsxMXbr2Ib"
   },
   "source": [
    "<b>Problem</b>: Find the students whose grade is greater than or equal to 6"
   ]
  },
  {
   "cell_type": "markdown",
   "metadata": {
    "id": "SmHABNghr2Ib"
   },
   "source": [
    "First, create a boolean Series"
   ]
  },
  {
   "cell_type": "code",
   "execution_count": 30,
   "metadata": {
    "id": "HuYdz2BJr2Ic"
   },
   "outputs": [
    {
     "data": {
      "text/plain": [
       "Name\n",
       "Dorian        True\n",
       "Jeannine      True\n",
       "Iluminada    False\n",
       "Luci          True\n",
       "Jenny         True\n",
       "Demetria     False\n",
       "Michael       True\n",
       "Garland       True\n",
       "Shelby       False\n",
       "Mercy        False\n",
       "John         False\n",
       "Name: hw1, dtype: bool"
      ]
     },
     "execution_count": 30,
     "metadata": {},
     "output_type": "execute_result"
    }
   ],
   "source": [
    "hw1 >= 6"
   ]
  },
  {
   "cell_type": "markdown",
   "metadata": {
    "id": "0HbT_6-ir2Ic"
   },
   "source": [
    "Second, select only those students who have a \"True\" in the boolean Series above"
   ]
  },
  {
   "cell_type": "code",
   "execution_count": 29,
   "metadata": {
    "id": "5mMCTWFNr2Ic",
    "scrolled": true
   },
   "outputs": [
    {
     "data": {
      "text/plain": [
       "Name\n",
       "Dorian      10.0\n",
       "Jeannine     6.0\n",
       "Luci         7.0\n",
       "Jenny        8.0\n",
       "Michael      6.0\n",
       "Garland      9.0\n",
       "Name: hw1, dtype: float64"
      ]
     },
     "execution_count": 29,
     "metadata": {},
     "output_type": "execute_result"
    }
   ],
   "source": [
    "hw1[hw1>=6]"
   ]
  },
  {
   "cell_type": "markdown",
   "metadata": {
    "id": "9rJcVDOfr2Ic"
   },
   "source": [
    "We can specify multiple concurrent conditions using `&` for AND and `|` for OR. For example, select those students whose hw1 score is less than 5 or greater than 9\n"
   ]
  },
  {
   "cell_type": "code",
   "execution_count": 31,
   "metadata": {
    "id": "W9w1Iou0r2Ic"
   },
   "outputs": [
    {
     "data": {
      "text/plain": [
       "Name\n",
       "Dorian       10.0\n",
       "Iluminada     2.0\n",
       "Demetria      2.0\n",
       "Shelby        1.0\n",
       "Name: hw1, dtype: float64"
      ]
     },
     "execution_count": 31,
     "metadata": {},
     "output_type": "execute_result"
    }
   ],
   "source": [
    "hw1[(hw1<5)|(hw1>9)]"
   ]
  },
  {
   "cell_type": "code",
   "execution_count": 32,
   "metadata": {},
   "outputs": [
    {
     "data": {
      "text/plain": [
       "Name\n",
       "Jeannine    6.0\n",
       "Luci        7.0\n",
       "Jenny       8.0\n",
       "Michael     6.0\n",
       "Name: hw1, dtype: float64"
      ]
     },
     "execution_count": 32,
     "metadata": {},
     "output_type": "execute_result"
    }
   ],
   "source": [
    "hw1[(hw1>5)&(hw1<9)]"
   ]
  },
  {
   "cell_type": "markdown",
   "metadata": {
    "id": "b8letVGfr2Ic"
   },
   "source": [
    "Exercise: Compute the average hw1 grade among those students whose grade is less than or equal to 6\n"
   ]
  },
  {
   "cell_type": "code",
   "execution_count": 36,
   "metadata": {},
   "outputs": [
    {
     "data": {
      "text/plain": [
       "Name\n",
       "Jeannine     6.0\n",
       "Iluminada    2.0\n",
       "Demetria     2.0\n",
       "Michael      6.0\n",
       "Shelby       1.0\n",
       "Mercy        5.0\n",
       "Name: hw1, dtype: float64"
      ]
     },
     "execution_count": 36,
     "metadata": {},
     "output_type": "execute_result"
    }
   ],
   "source": [
    "hw1[hw1<=6]"
   ]
  },
  {
   "cell_type": "code",
   "execution_count": 33,
   "metadata": {
    "id": "u73mORRvr2Ic"
   },
   "outputs": [
    {
     "data": {
      "text/plain": [
       "3.6666666666666665"
      ]
     },
     "execution_count": 33,
     "metadata": {},
     "output_type": "execute_result"
    }
   ],
   "source": [
    "hw1[hw1<=6].mean()"
   ]
  },
  {
   "cell_type": "markdown",
   "metadata": {
    "id": "OkjG5qp0r2Ic"
   },
   "source": [
    "## More Series methods"
   ]
  },
  {
   "cell_type": "markdown",
   "metadata": {
    "id": "iUoyOFVar2Id"
   },
   "source": [
    "### rank"
   ]
  },
  {
   "cell_type": "markdown",
   "metadata": {
    "id": "Vlv60firr2Id"
   },
   "source": [
    "Ranks each row based on the value (where by default low values get low rank numbers. It does **NOT** reorder the list. The rank number is **NOT** the original value. "
   ]
  },
  {
   "cell_type": "code",
   "execution_count": null,
   "metadata": {
    "id": "vbSQINVVr2Id"
   },
   "outputs": [],
   "source": []
  },
  {
   "cell_type": "markdown",
   "metadata": {
    "id": "Kpm_WuZrr2Id"
   },
   "source": [
    "### idxmax and idxmin"
   ]
  },
  {
   "cell_type": "markdown",
   "metadata": {
    "id": "jVZ6_Aafr2Id"
   },
   "source": [
    "Find the index of the row with maximum and minimum values\n"
   ]
  },
  {
   "cell_type": "code",
   "execution_count": 37,
   "metadata": {
    "id": "BtcnwkJNr2Ie"
   },
   "outputs": [
    {
     "data": {
      "text/plain": [
       "'Dorian'"
      ]
     },
     "execution_count": 37,
     "metadata": {},
     "output_type": "execute_result"
    }
   ],
   "source": [
    "hw1.idxmax()"
   ]
  },
  {
   "cell_type": "code",
   "execution_count": 39,
   "metadata": {
    "id": "nL5pxJycr2Ie"
   },
   "outputs": [
    {
     "data": {
      "text/plain": [
       "'Shelby'"
      ]
     },
     "execution_count": 39,
     "metadata": {},
     "output_type": "execute_result"
    }
   ],
   "source": [
    "hw1.idxmin()"
   ]
  },
  {
   "cell_type": "markdown",
   "metadata": {
    "id": "WR-9BaFBr2Ie"
   },
   "source": [
    "### sort_values"
   ]
  },
  {
   "cell_type": "markdown",
   "metadata": {
    "id": "9Gx43WQXr2Ie"
   },
   "source": [
    "Sort by values\n"
   ]
  },
  {
   "cell_type": "code",
   "execution_count": 40,
   "metadata": {
    "id": "_2S786sgr2Ie"
   },
   "outputs": [
    {
     "data": {
      "text/plain": [
       "Name\n",
       "Shelby        1.0\n",
       "Iluminada     2.0\n",
       "Demetria      2.0\n",
       "Mercy         5.0\n",
       "Jeannine      6.0\n",
       "Michael       6.0\n",
       "Luci          7.0\n",
       "Jenny         8.0\n",
       "Garland       9.0\n",
       "Dorian       10.0\n",
       "John          NaN\n",
       "Name: hw1, dtype: float64"
      ]
     },
     "execution_count": 40,
     "metadata": {},
     "output_type": "execute_result"
    }
   ],
   "source": [
    "hw1.sort_values()"
   ]
  },
  {
   "cell_type": "code",
   "execution_count": 41,
   "metadata": {},
   "outputs": [
    {
     "data": {
      "text/plain": [
       "Name\n",
       "Dorian       10.0\n",
       "Garland       9.0\n",
       "Jenny         8.0\n",
       "Luci          7.0\n",
       "Jeannine      6.0\n",
       "Michael       6.0\n",
       "Mercy         5.0\n",
       "Iluminada     2.0\n",
       "Demetria      2.0\n",
       "Shelby        1.0\n",
       "John          NaN\n",
       "Name: hw1, dtype: float64"
      ]
     },
     "execution_count": 41,
     "metadata": {},
     "output_type": "execute_result"
    }
   ],
   "source": [
    "hw1.sort_values(ascending=False)"
   ]
  },
  {
   "cell_type": "markdown",
   "metadata": {
    "id": "2YZgQ7J7r2Ie"
   },
   "source": [
    "### sort_index"
   ]
  },
  {
   "cell_type": "markdown",
   "metadata": {
    "id": "GOOdKqVar2Ie"
   },
   "source": [
    "Sort by index"
   ]
  },
  {
   "cell_type": "code",
   "execution_count": 56,
   "metadata": {
    "id": "fnt6sXK3r2Ie"
   },
   "outputs": [
    {
     "data": {
      "text/plain": [
       "Name\n",
       "Demetria      2.0\n",
       "Dorian       10.0\n",
       "Garland       9.0\n",
       "Iluminada     2.0\n",
       "Jeannine      6.0\n",
       "Jenny         8.0\n",
       "John          NaN\n",
       "Luci          7.0\n",
       "Mercy         5.0\n",
       "Michael       6.0\n",
       "Shelby        1.0\n",
       "Name: hw1, dtype: float64"
      ]
     },
     "execution_count": 56,
     "metadata": {},
     "output_type": "execute_result"
    }
   ],
   "source": [
    "hw1.sort_index()"
   ]
  },
  {
   "cell_type": "markdown",
   "metadata": {
    "id": "J2Sg3I-br2If"
   },
   "source": [
    "### nlargest and nsmallest"
   ]
  },
  {
   "cell_type": "markdown",
   "metadata": {
    "id": "HaPiNNOyr2If"
   },
   "source": [
    "Finds the n items with largest or smallest value\n"
   ]
  },
  {
   "cell_type": "code",
   "execution_count": 44,
   "metadata": {
    "id": "VEt_SSVCr2If"
   },
   "outputs": [
    {
     "data": {
      "text/plain": [
       "Name\n",
       "Dorian     10.0\n",
       "Garland     9.0\n",
       "Jenny       8.0\n",
       "Name: hw1, dtype: float64"
      ]
     },
     "execution_count": 44,
     "metadata": {},
     "output_type": "execute_result"
    }
   ],
   "source": [
    "hw1.nlargest(3)"
   ]
  },
  {
   "cell_type": "code",
   "execution_count": 45,
   "metadata": {
    "id": "Tbz4BiQhr2If"
   },
   "outputs": [
    {
     "data": {
      "text/plain": [
       "Name\n",
       "Shelby       1.0\n",
       "Iluminada    2.0\n",
       "Demetria     2.0\n",
       "Name: hw1, dtype: float64"
      ]
     },
     "execution_count": 45,
     "metadata": {},
     "output_type": "execute_result"
    }
   ],
   "source": [
    "hw1.nsmallest(3)"
   ]
  },
  {
   "cell_type": "markdown",
   "metadata": {},
   "source": [
    "#find the student that scored the second highest: (find the top 2 student and retrieve the smallest one)"
   ]
  },
  {
   "cell_type": "code",
   "execution_count": 47,
   "metadata": {},
   "outputs": [
    {
     "data": {
      "text/plain": [
       "Name\n",
       "Garland    9.0\n",
       "Name: hw1, dtype: float64"
      ]
     },
     "execution_count": 47,
     "metadata": {},
     "output_type": "execute_result"
    }
   ],
   "source": [
    "hw1.nlargest(2).nsmallest(1)"
   ]
  },
  {
   "cell_type": "code",
   "execution_count": 48,
   "metadata": {},
   "outputs": [
    {
     "data": {
      "text/plain": [
       "Name\n",
       "Jenny      8.0\n",
       "Garland    9.0\n",
       "Name: hw1, dtype: float64"
      ]
     },
     "execution_count": 48,
     "metadata": {},
     "output_type": "execute_result"
    }
   ],
   "source": [
    "hw1.nlargest(3).nsmallest(2)"
   ]
  },
  {
   "cell_type": "markdown",
   "metadata": {
    "id": "Ob3DwN5_r2If"
   },
   "source": [
    "### head and tail"
   ]
  },
  {
   "cell_type": "markdown",
   "metadata": {
    "id": "H9nMzO3Xr2If"
   },
   "source": [
    "Returns the first (or last) rows according to the positional index\n"
   ]
  },
  {
   "cell_type": "code",
   "execution_count": 49,
   "metadata": {
    "id": "PWvrynGwr2If"
   },
   "outputs": [
    {
     "data": {
      "text/plain": [
       "Name\n",
       "Dorian       10.0\n",
       "Jeannine      6.0\n",
       "Iluminada     2.0\n",
       "Luci          7.0\n",
       "Jenny         8.0\n",
       "Name: hw1, dtype: float64"
      ]
     },
     "execution_count": 49,
     "metadata": {},
     "output_type": "execute_result"
    }
   ],
   "source": [
    "hw1.head(5)"
   ]
  },
  {
   "cell_type": "code",
   "execution_count": null,
   "metadata": {
    "id": "fkTwjXvOr2Ig"
   },
   "outputs": [],
   "source": []
  },
  {
   "cell_type": "markdown",
   "metadata": {
    "id": "WQzxw8Ukr2Ig"
   },
   "source": [
    "## Exercises"
   ]
  },
  {
   "cell_type": "markdown",
   "metadata": {
    "id": "9v2tvw3Pr2Ig"
   },
   "source": [
    "Explore the parameters of the method \"rank\" to solve this question. Find the rank of each student (1=best, 10=worst) and deal with ties in the way that makes most sense to you. *Hint:* use `ascending=False, method='min'`"
   ]
  },
  {
   "cell_type": "code",
   "execution_count": 53,
   "metadata": {
    "id": "DFjpfROzr2Ig"
   },
   "outputs": [
    {
     "data": {
      "text/plain": [
       "Name\n",
       "Dorian        1.0\n",
       "Garland       2.0\n",
       "Jenny         3.0\n",
       "Luci          4.0\n",
       "Jeannine      5.0\n",
       "Michael       5.0\n",
       "Mercy         7.0\n",
       "Iluminada     8.0\n",
       "Demetria      8.0\n",
       "Shelby       10.0\n",
       "John          NaN\n",
       "Name: hw1, dtype: float64"
      ]
     },
     "execution_count": 53,
     "metadata": {},
     "output_type": "execute_result"
    }
   ],
   "source": [
    "hw1.rank(ascending=False, method='min').sort_values() \n",
    "#method='min'----two people are tied, both of them occupy the position, and pick the mean value"
   ]
  },
  {
   "cell_type": "markdown",
   "metadata": {
    "id": "XSL8IRjlr2Ig"
   },
   "source": [
    "Who got the 4th highest grade? Return both name and grade. (there are multiple ways to solve this)"
   ]
  },
  {
   "cell_type": "code",
   "execution_count": 52,
   "metadata": {
    "id": "BK81DcTar2Ig"
   },
   "outputs": [
    {
     "data": {
      "text/plain": [
       "Name\n",
       "Luci    7.0\n",
       "Name: hw1, dtype: float64"
      ]
     },
     "execution_count": 52,
     "metadata": {},
     "output_type": "execute_result"
    }
   ],
   "source": [
    "hw1.nlargest(4).nsmallest(1)"
   ]
  },
  {
   "cell_type": "markdown",
   "metadata": {
    "id": "rM9CvJXGr2Ig"
   },
   "source": [
    "Retrieve the row of  the person who comes last in alphabetical order."
   ]
  },
  {
   "cell_type": "code",
   "execution_count": 61,
   "metadata": {
    "id": "gkMrfhgyr2Ig"
   },
   "outputs": [
    {
     "data": {
      "text/plain": [
       "Name\n",
       "Shelby    1.0\n",
       "Name: hw1, dtype: float64"
      ]
     },
     "execution_count": 61,
     "metadata": {},
     "output_type": "execute_result"
    }
   ],
   "source": [
    "hw1.sort_index().iloc[[-1]]"
   ]
  },
  {
   "cell_type": "markdown",
   "metadata": {
    "id": "iGIJgDjqr2Ig"
   },
   "source": [
    "Retrieve the name only of the person who comes last in alphabetical order."
   ]
  },
  {
   "cell_type": "code",
   "execution_count": 59,
   "metadata": {
    "id": "uctRoMmrr2Ih",
    "scrolled": true
   },
   "outputs": [
    {
     "data": {
      "text/plain": [
       "Name\n",
       "Shelby    1.0\n",
       "Name: hw1, dtype: float64"
      ]
     },
     "execution_count": 59,
     "metadata": {},
     "output_type": "execute_result"
    }
   ],
   "source": [
    "hw1.sort_index().iloc[[-1]]"
   ]
  },
  {
   "cell_type": "markdown",
   "metadata": {
    "id": "1S0EgC6Rr2Ih"
   },
   "source": [
    "Retrieve the grade only of the person who comes last in alphabetical order."
   ]
  },
  {
   "cell_type": "code",
   "execution_count": 62,
   "metadata": {
    "id": "XasHJjtLr2Ih"
   },
   "outputs": [
    {
     "data": {
      "text/plain": [
       "Index(['John'], dtype='object', name='Name')"
      ]
     },
     "execution_count": 62,
     "metadata": {},
     "output_type": "execute_result"
    }
   ],
   "source": [
    "hw1.sort_values().iloc[[-1]].index"
   ]
  },
  {
   "cell_type": "markdown",
   "metadata": {
    "id": "7j78rfitr2Ih"
   },
   "source": [
    "Among those whose name starts with ‘J’, who got the highest grade?"
   ]
  },
  {
   "cell_type": "code",
   "execution_count": 63,
   "metadata": {
    "id": "nevBKA1er2Ih"
   },
   "outputs": [
    {
     "data": {
      "text/plain": [
       "Name\n",
       "Jenny    8.0\n",
       "Name: hw1, dtype: float64"
      ]
     },
     "execution_count": 63,
     "metadata": {},
     "output_type": "execute_result"
    }
   ],
   "source": [
    "# everything is order, alphabetical can be compared as number\n",
    "hw1[(hw1.index>='J') & (hw1.index<'k')].nlargest(1)"
   ]
  },
  {
   "cell_type": "markdown",
   "metadata": {
    "id": "_PRrlm1Dr2Ih"
   },
   "source": [
    "## Operations on one Series"
   ]
  },
  {
   "cell_type": "markdown",
   "metadata": {
    "id": "HUXwLNYrr2Ih"
   },
   "source": [
    "### Operations between a scalar and a Series"
   ]
  },
  {
   "cell_type": "markdown",
   "metadata": {
    "id": "O3kPUnZfr2Ii"
   },
   "source": [
    "Operations between a Series and a scalar(a real number) are performed element-wise on the values."
   ]
  },
  {
   "cell_type": "markdown",
   "metadata": {
    "id": "PIC5YMqlr2Ii"
   },
   "source": [
    "<b>Example</b>: It's Christmas time! As a gift, we want to increase everyone's grade by 5. What will the new grades be?"
   ]
  },
  {
   "cell_type": "code",
   "execution_count": 9,
   "metadata": {
    "id": "8XCgcpSMr2Ii"
   },
   "outputs": [
    {
     "data": {
      "text/plain": [
       "Name\n",
       "Dorian       15.0\n",
       "Jeannine     11.0\n",
       "Iluminada     7.0\n",
       "Luci         12.0\n",
       "Jenny        13.0\n",
       "Demetria      7.0\n",
       "Michael      11.0\n",
       "Garland      14.0\n",
       "Shelby        6.0\n",
       "Mercy        10.0\n",
       "John          NaN\n",
       "Name: hw1, dtype: float64"
      ]
     },
     "execution_count": 9,
     "metadata": {},
     "output_type": "execute_result"
    }
   ],
   "source": [
    "hw1+5"
   ]
  },
  {
   "cell_type": "markdown",
   "metadata": {
    "id": "hicx2Npir2Ii"
   },
   "source": [
    "What if we wanted to multiply by 2 each grade?"
   ]
  },
  {
   "cell_type": "code",
   "execution_count": 11,
   "metadata": {
    "id": "0U8p-LiPr2Ii"
   },
   "outputs": [
    {
     "data": {
      "text/plain": [
       "Name\n",
       "Dorian       20.0\n",
       "Jeannine     12.0\n",
       "Iluminada     4.0\n",
       "Luci         14.0\n",
       "Jenny        16.0\n",
       "Demetria      4.0\n",
       "Michael      12.0\n",
       "Garland      18.0\n",
       "Shelby        2.0\n",
       "Mercy        10.0\n",
       "John          NaN\n",
       "Name: hw1, dtype: float64"
      ]
     },
     "execution_count": 11,
     "metadata": {},
     "output_type": "execute_result"
    }
   ],
   "source": [
    "hw1*2"
   ]
  },
  {
   "cell_type": "markdown",
   "metadata": {
    "id": "awpyoNczr2Ii"
   },
   "source": [
    "### abs"
   ]
  },
  {
   "cell_type": "markdown",
   "metadata": {
    "id": "lPGAA_kir2Ii"
   },
   "source": [
    "Returns the absolute value of all values"
   ]
  },
  {
   "cell_type": "code",
   "execution_count": 12,
   "metadata": {
    "id": "nUHAhhxTr2Ii"
   },
   "outputs": [
    {
     "data": {
      "text/plain": [
       "Name\n",
       "Dorian       10.0\n",
       "Jeannine      6.0\n",
       "Iluminada     2.0\n",
       "Luci          7.0\n",
       "Jenny         8.0\n",
       "Demetria      2.0\n",
       "Michael       6.0\n",
       "Garland       9.0\n",
       "Shelby        1.0\n",
       "Mercy         5.0\n",
       "John          NaN\n",
       "Name: hw1, dtype: float64"
      ]
     },
     "execution_count": 12,
     "metadata": {},
     "output_type": "execute_result"
    }
   ],
   "source": [
    "hw1.abs() #if the value is negative"
   ]
  },
  {
   "cell_type": "markdown",
   "metadata": {
    "id": "QYNTX3Gbr2Ij"
   },
   "source": [
    "## Operations between two Series"
   ]
  },
  {
   "cell_type": "markdown",
   "metadata": {
    "id": "bP3OIz7ur2Ij"
   },
   "source": [
    "Operations between two Series are performed element-wise on those elements with the same index label."
   ]
  },
  {
   "cell_type": "markdown",
   "metadata": {
    "id": "mAklgFztr2Ij"
   },
   "source": [
    "Let's create a Series of the hw2 grades. Remember that we have a dataframe object, <i>df</i>"
   ]
  },
  {
   "cell_type": "code",
   "execution_count": 13,
   "metadata": {
    "id": "nmVNJftrr2Ij"
   },
   "outputs": [
    {
     "data": {
      "text/plain": [
       "Name\n",
       "Dorian       10.0\n",
       "Jeannine      7.0\n",
       "Iluminada     NaN\n",
       "Luci          7.0\n",
       "Jenny         NaN\n",
       "Demetria      4.0\n",
       "Michael      10.0\n",
       "Garland       1.0\n",
       "Shelby       10.0\n",
       "Mercy         6.0\n",
       "John         10.0\n",
       "Name: hw2, dtype: float64"
      ]
     },
     "execution_count": 13,
     "metadata": {},
     "output_type": "execute_result"
    }
   ],
   "source": [
    "hw2 = df['hw2']\n",
    "hw2"
   ]
  },
  {
   "cell_type": "markdown",
   "metadata": {
    "id": "wHCYZoQRr2Ij"
   },
   "source": [
    "The operation is executed between elements *with the same index label*. For example, let's add up hw1 and hw2 grades."
   ]
  },
  {
   "cell_type": "code",
   "execution_count": 14,
   "metadata": {
    "id": "1nQ0rTEMr2Ij"
   },
   "outputs": [
    {
     "data": {
      "text/plain": [
       "Name\n",
       "Dorian       20.0\n",
       "Jeannine     13.0\n",
       "Iluminada     NaN\n",
       "Luci         14.0\n",
       "Jenny         NaN\n",
       "Demetria      6.0\n",
       "Michael      16.0\n",
       "Garland      10.0\n",
       "Shelby       11.0\n",
       "Mercy        11.0\n",
       "John          NaN\n",
       "dtype: float64"
      ]
     },
     "execution_count": 14,
     "metadata": {},
     "output_type": "execute_result"
    }
   ],
   "source": [
    "hw1+hw2"
   ]
  },
  {
   "cell_type": "markdown",
   "metadata": {
    "id": "G8fOtmWqr2Ij"
   },
   "source": [
    "Compute everyone's average grade"
   ]
  },
  {
   "cell_type": "code",
   "execution_count": 15,
   "metadata": {
    "id": "I_jZ6_bJr2Ij"
   },
   "outputs": [
    {
     "data": {
      "text/plain": [
       "Name\n",
       "Dorian       10.0\n",
       "Jeannine      6.5\n",
       "Iluminada     NaN\n",
       "Luci          7.0\n",
       "Jenny         NaN\n",
       "Demetria      3.0\n",
       "Michael       8.0\n",
       "Garland       5.0\n",
       "Shelby        5.5\n",
       "Mercy         5.5\n",
       "John          NaN\n",
       "dtype: float64"
      ]
     },
     "execution_count": 15,
     "metadata": {},
     "output_type": "execute_result"
    }
   ],
   "source": [
    "(hw1+hw2)/2"
   ]
  },
  {
   "cell_type": "markdown",
   "metadata": {
    "id": "zolBLLv-r2Ik"
   },
   "source": [
    "## Exercises"
   ]
  },
  {
   "cell_type": "markdown",
   "metadata": {
    "id": "iM4nnTDrr2Ik"
   },
   "source": [
    "<p>The average grade of hw1 is too low. We want to normalize it to 8. To this end, do the following <b>in one single command</b>:\n",
    "<ol>\n",
    "<li>decrease everyone's grade by the average grade (this will set the new average to 0)</li>\n",
    "<li>increase everyone's grade by 8</li>\n",
    "</ol>\n",
    "</p>"
   ]
  },
  {
   "cell_type": "code",
   "execution_count": 17,
   "metadata": {
    "id": "NNotLCRor2Ik"
   },
   "outputs": [
    {
     "data": {
      "text/plain": [
       "Name\n",
       "Dorian       12.4\n",
       "Jeannine      8.4\n",
       "Iluminada     4.4\n",
       "Luci          9.4\n",
       "Jenny        10.4\n",
       "Demetria      4.4\n",
       "Michael       8.4\n",
       "Garland      11.4\n",
       "Shelby        3.4\n",
       "Mercy         7.4\n",
       "John          NaN\n",
       "Name: hw1, dtype: float64"
      ]
     },
     "execution_count": 17,
     "metadata": {},
     "output_type": "execute_result"
    }
   ],
   "source": [
    "hw1_new = hw1-hw1.mean()+8\n",
    "hw1_new"
   ]
  },
  {
   "cell_type": "markdown",
   "metadata": {
    "id": "YbuzDj7Zr2Ik"
   },
   "source": [
    "To verify it .."
   ]
  },
  {
   "cell_type": "code",
   "execution_count": 20,
   "metadata": {
    "id": "ycOksp_Lr2Ik"
   },
   "outputs": [
    {
     "data": {
      "text/plain": [
       "8.000000000000002"
      ]
     },
     "execution_count": 20,
     "metadata": {},
     "output_type": "execute_result"
    }
   ],
   "source": [
    "hw1_new.mean()"
   ]
  },
  {
   "cell_type": "markdown",
   "metadata": {
    "id": "wLv88Wi0r2Ik"
   },
   "source": [
    "Compute the average grade between hw1 and hw2 of each student. Which student has the average closest to 6.7?\n"
   ]
  },
  {
   "cell_type": "code",
   "execution_count": 27,
   "metadata": {
    "id": "_wYvmqyDr2Ik"
   },
   "outputs": [
    {
     "data": {
      "text/plain": [
       "Name\n",
       "Dorian       10.0\n",
       "Jeannine      6.5\n",
       "Iluminada     NaN\n",
       "Luci          7.0\n",
       "Jenny         NaN\n",
       "Demetria      3.0\n",
       "Michael       8.0\n",
       "Garland       5.0\n",
       "Shelby        5.5\n",
       "Mercy         5.5\n",
       "John          NaN\n",
       "dtype: float64"
      ]
     },
     "execution_count": 27,
     "metadata": {},
     "output_type": "execute_result"
    }
   ],
   "source": [
    "hw_a =(hw1+hw2)/2\n",
    "hw_a"
   ]
  },
  {
   "cell_type": "code",
   "execution_count": 28,
   "metadata": {},
   "outputs": [
    {
     "data": {
      "text/plain": [
       "Name\n",
       "Jeannine    0.2\n",
       "dtype: float64"
      ]
     },
     "execution_count": 28,
     "metadata": {},
     "output_type": "execute_result"
    }
   ],
   "source": [
    "(hw_a-6.7).abs().nsmallest(1)"
   ]
  }
 ],
 "metadata": {
  "colab": {
   "authorship_tag": "ABX9TyMf65ohBod8mOkali16bch2",
   "collapsed_sections": [],
   "mount_file_id": "1EL8LI-c9rEqbvXgbSkeDAjx4n-5ExIkF",
   "name": "PandasSeries.ipynb",
   "provenance": []
  },
  "kernelspec": {
   "display_name": "Python 3 (ipykernel)",
   "language": "python",
   "name": "python3"
  },
  "language_info": {
   "codemirror_mode": {
    "name": "ipython",
    "version": 3
   },
   "file_extension": ".py",
   "mimetype": "text/x-python",
   "name": "python",
   "nbconvert_exporter": "python",
   "pygments_lexer": "ipython3",
   "version": "3.9.7"
  }
 },
 "nbformat": 4,
 "nbformat_minor": 4
}
