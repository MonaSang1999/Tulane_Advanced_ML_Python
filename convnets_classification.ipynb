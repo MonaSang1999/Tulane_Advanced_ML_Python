{
 "cells": [
  {
   "cell_type": "markdown",
   "metadata": {
    "id": "f8ANoJBB0qWN"
   },
   "source": [
    "# Deep Learning with Convolutional Neural Network (CNN, convnet)\n",
    "\n",
    "We continue with the Fashion MNIST dataset. Last week we tried a traditional densely-connected network that resulted in test accuracy of 88.1%. It will be hard, however, to reach 90% accuracy with traditional models.\n",
    "\n",
    "Today we try deep learning: we'll build a *CNN* (*Convolutional Neural Network*, also referred to as *convnet*). Even though our convnet will be very basic, its accuracy will easily pass 90% for this dataset.\n",
    "\n",
    "This code is based on the example in Chapter 5, Section 1 of [Deep Learning with Python](https://www.manning.com/books/deep-learning-with-python) by François Chollet. The changes are:\n",
    "1. I use the Fashion MNIST dataset rather than the (digit) MNIST dataset, so we can compare with code \"`NN_using_Keras.ipynb`\" that we tried last week.\n",
    "2. Due to updates to TensorFlow, the code in Chollet's book no longer works. I updated the code to make it work."
   ]
  },
  {
   "cell_type": "code",
   "execution_count": 7,
   "metadata": {
    "id": "zlLDyehO0qWQ"
   },
   "outputs": [
    {
     "data": {
      "text/plain": [
       "'2.4.0'"
      ]
     },
     "execution_count": 7,
     "metadata": {},
     "output_type": "execute_result"
    }
   ],
   "source": [
    "import numpy as np\n",
    "import matplotlib.pyplot as plt\n",
    "import tensorflow as tf\n",
    "from tensorflow import keras\n",
    "keras.__version__"
   ]
  },
  {
   "cell_type": "markdown",
   "metadata": {
    "id": "8YckT02w0qWU"
   },
   "source": [
    "## Building a convnet: the feature extraction layers\n",
    "\n",
    "The code below show you what a basic convnet looks like. It's a stack of `Conv2D` and `MaxPooling2D` layers.\n",
    "\n",
    "+ `Conv2D` layer -- a convolution layer for 2-dimensional data, e.g., image data\n",
    "+ `MaxPooling2D` layer -- a maxpooling layer for 2-dimensional data\n",
    "\n",
    "A convnet takes as input tensors of shape `(image_height, image_width, image_channels)`. In our case, we will configure our convnet to process inputs of size `(28, 28, 1)`, which is the format of MNIST images. We do this via passing the argument `input_shape=(28, 28, 1)` to our first layer."
   ]
  },
  {
   "cell_type": "code",
   "execution_count": 1,
   "metadata": {
    "id": "p3qPvijT0qWV"
   },
   "outputs": [],
   "source": [
    "from tensorflow.keras import layers\n",
    "from tensorflow.keras import models\n",
    "\n",
    "model = models.Sequential()\n",
    "model.add(layers.Conv2D(32, (3, 3), activation='relu', input_shape=(28, 28, 1)))\n",
    "model.add(layers.MaxPooling2D((2, 2)))\n",
    "model.add(layers.Conv2D(64, (3, 3), activation='relu'))\n",
    "model.add(layers.MaxPooling2D((2, 2)))\n",
    "model.add(layers.Conv2D(64, (3, 3), activation='relu'))"
   ]
  },
  {
   "cell_type": "markdown",
   "metadata": {},
   "source": [
    "Explanation of the parameters in code `layers.Conv2D(32, (3, 3), activation='relu', input_shape=(28, 28, 1))`:\n",
    "\n",
    "+ 32 -- to add 32 filters into this layer\n",
    "+ (3,3) -- each filter has dimension (3,3)\n",
    "+ activation='relu' -- convolution used relu as the activation function\n",
    "\n",
    "*Note*: `input_shape` parameter is necessary only for the very first layer"
   ]
  },
  {
   "cell_type": "markdown",
   "metadata": {
    "id": "iZT0xy380qWa"
   },
   "source": [
    "Let's display the architecture of our convnet so far:"
   ]
  },
  {
   "cell_type": "code",
   "execution_count": 2,
   "metadata": {
    "id": "sXY3-7Yd0qWb"
   },
   "outputs": [
    {
     "name": "stdout",
     "output_type": "stream",
     "text": [
      "Model: \"sequential\"\n",
      "_________________________________________________________________\n",
      "Layer (type)                 Output Shape              Param #   \n",
      "=================================================================\n",
      "conv2d (Conv2D)              (None, 26, 26, 32)        320       \n",
      "_________________________________________________________________\n",
      "max_pooling2d (MaxPooling2D) (None, 13, 13, 32)        0         \n",
      "_________________________________________________________________\n",
      "conv2d_1 (Conv2D)            (None, 11, 11, 64)        18496     \n",
      "_________________________________________________________________\n",
      "max_pooling2d_1 (MaxPooling2 (None, 5, 5, 64)          0         \n",
      "_________________________________________________________________\n",
      "conv2d_2 (Conv2D)            (None, 3, 3, 64)          36928     \n",
      "=================================================================\n",
      "Total params: 55,744\n",
      "Trainable params: 55,744\n",
      "Non-trainable params: 0\n",
      "_________________________________________________________________\n"
     ]
    }
   ],
   "source": [
    "model.summary()"
   ]
  },
  {
   "cell_type": "markdown",
   "metadata": {
    "id": "bIEJCWkw0qWe"
   },
   "source": [
    "You can see above that the output of every `Conv2D` and `MaxPooling2D` layer is a 3D tensor of shape `(batch, height, width, channels)`. \n",
    "+ We'll study the `batch` parameter at a later week. It currently has a value of None. \n",
    "\n",
    "***The width and height dimensions tend to shrink as we go deeper in the network.*** \n",
    "\n",
    "The number of channels is controlled by the first argument passed to the `Conv2D` layers (e.g. 32 or 64)."
   ]
  },
  {
   "cell_type": "markdown",
   "metadata": {},
   "source": [
    "(**Not required**) Explanation of the `Param #` column, which shows how many trainable parameters in a layer:\n",
    "+ In the first Conv2D layer labeled `conv2d`, we have 32 filters. Each filter has 3*3 parameters. In addition, we also consider a bias parameter for each filter. Therefore, the total number of parameters is 32 * (3*3+1) = 320.\n",
    "+ In the second Conv2D layer labeled `conv2d_1`, we have 64 filters. Each filter has 3*3*32 parameters -- '32' comes from the fact that the previous layer has 32 channels. In addition, we also consider a bias parameter for each filter. Therefore, the total number of parameters is 64 * (3*3*32+1) = 18496. \n",
    "+ Similarly, for `conv2d_2` layer, the total number of parameters is 64 * (3*3*64+1) = 36928."
   ]
  },
  {
   "cell_type": "markdown",
   "metadata": {
    "id": "zN4owyHnDZdA"
   },
   "source": [
    "## Building a convnet: the classification layers\n",
    "\n",
    "The next step would be to feed our last output tensor (of shape `(3, 3, 64)`) into a densely-connected classifier network like those you are \n",
    "already familiar with: a stack of `Dense` layers. These classifiers process vectors, which are 1D, whereas our output so far is a 3D tensor. \n",
    "So first, we will have to flatten our 3D outputs to 1D, and then add a few `Dense` layers on top:"
   ]
  },
  {
   "cell_type": "code",
   "execution_count": 3,
   "metadata": {
    "id": "jCSDGM5a0qWf"
   },
   "outputs": [],
   "source": [
    "model.add(layers.Flatten())\n",
    "#model.add(layers.Dense(64, activation=tf.nn.relu))\n",
    "model.add(layers.Dense(64, activation='relu'))\n",
    "#model.add(layers.Dense(10, activation=tf.nn.softmax))\n",
    "model.add(layers.Dense(10, activation='softmax'))"
   ]
  },
  {
   "cell_type": "markdown",
   "metadata": {
    "id": "4nohXG4J0qWi"
   },
   "source": [
    "We are going to do 10-way classification, so we use a final layer with 10 outputs and a softmax activation. Now here's what our network \n",
    "looks like:"
   ]
  },
  {
   "cell_type": "code",
   "execution_count": 4,
   "metadata": {
    "id": "fWHlFce70qWj"
   },
   "outputs": [
    {
     "name": "stdout",
     "output_type": "stream",
     "text": [
      "Model: \"sequential\"\n",
      "_________________________________________________________________\n",
      "Layer (type)                 Output Shape              Param #   \n",
      "=================================================================\n",
      "conv2d (Conv2D)              (None, 26, 26, 32)        320       \n",
      "_________________________________________________________________\n",
      "max_pooling2d (MaxPooling2D) (None, 13, 13, 32)        0         \n",
      "_________________________________________________________________\n",
      "conv2d_1 (Conv2D)            (None, 11, 11, 64)        18496     \n",
      "_________________________________________________________________\n",
      "max_pooling2d_1 (MaxPooling2 (None, 5, 5, 64)          0         \n",
      "_________________________________________________________________\n",
      "conv2d_2 (Conv2D)            (None, 3, 3, 64)          36928     \n",
      "_________________________________________________________________\n",
      "flatten (Flatten)            (None, 576)               0         \n",
      "_________________________________________________________________\n",
      "dense (Dense)                (None, 64)                36928     \n",
      "_________________________________________________________________\n",
      "dense_1 (Dense)              (None, 10)                650       \n",
      "=================================================================\n",
      "Total params: 93,322\n",
      "Trainable params: 93,322\n",
      "Non-trainable params: 0\n",
      "_________________________________________________________________\n"
     ]
    }
   ],
   "source": [
    "model.summary()"
   ]
  },
  {
   "cell_type": "markdown",
   "metadata": {
    "id": "LvM9MKQ-0qWm"
   },
   "source": [
    "As you can see above, the `(3, 3, 64)` outputs from `conv2d_2` layer were flattened into vectors of shape `(576,)`, before going through two `Dense` layers."
   ]
  },
  {
   "cell_type": "markdown",
   "metadata": {
    "id": "EGb_EP7YD3gg"
   },
   "source": [
    "# Training the model\n",
    "\n",
    "Now, let's train our convnet on the Fashion MNIST dataset. Note that a lot code we used last week can be reused for this part."
   ]
  },
  {
   "cell_type": "code",
   "execution_count": 5,
   "metadata": {
    "id": "3TiYu1Sf0qWn"
   },
   "outputs": [
    {
     "name": "stdout",
     "output_type": "stream",
     "text": [
      "Downloading data from https://storage.googleapis.com/tensorflow/tf-keras-datasets/train-labels-idx1-ubyte.gz\n",
      "32768/29515 [=================================] - 0s 1us/step\n",
      "Downloading data from https://storage.googleapis.com/tensorflow/tf-keras-datasets/train-images-idx3-ubyte.gz\n",
      "26427392/26421880 [==============================] - 1s 0us/step\n",
      "Downloading data from https://storage.googleapis.com/tensorflow/tf-keras-datasets/t10k-labels-idx1-ubyte.gz\n",
      "8192/5148 [===============================================] - 0s 0us/step\n",
      "Downloading data from https://storage.googleapis.com/tensorflow/tf-keras-datasets/t10k-images-idx3-ubyte.gz\n",
      "4423680/4422102 [==============================] - 0s 0us/step\n"
     ]
    }
   ],
   "source": [
    "from tensorflow.keras.datasets import fashion_mnist\n",
    "from tensorflow.keras.utils import to_categorical\n",
    "\n",
    "class_names = ['T-shirt/top', 'Trouser', 'Pullover', 'Dress', 'Coat', \n",
    "               'Sandal', 'Shirt', 'Sneaker', 'Bag', 'Ankle boot']\n",
    "\n",
    "(train_images, train_labels), (test_images, test_labels) = fashion_mnist.load_data()\n",
    "\n",
    "train_images = train_images.reshape((60000, 28, 28, 1))\n",
    "train_images = train_images / 255.0\n",
    "\n",
    "test_images = test_images.reshape((10000, 28, 28, 1))\n",
    "test_images = test_images / 255.0\n",
    "\n",
    "# train_labels = to_categorical(train_labels)\n",
    "# test_labels = to_categorical(test_labels)"
   ]
  },
  {
   "cell_type": "code",
   "execution_count": 8,
   "metadata": {
    "id": "_K65u_ky0qWq"
   },
   "outputs": [],
   "source": [
    "model.compile(optimizer='adam', \n",
    "#              loss='categorical_crossentropy',\n",
    "              loss=tf.keras.losses.SparseCategoricalCrossentropy(),\n",
    "              metrics=['accuracy'])"
   ]
  },
  {
   "cell_type": "markdown",
   "metadata": {
    "id": "EVYDwv9rEFVh"
   },
   "source": [
    "~~(If you are using Google Colab: check Colab menu \"Runtime\"/\"Change runtime type\", and make sure the choice for \"Hardware accelerator\" is \"GPU\". With GPU, the next line of code takes about 1 minute; without GPU, easily 10 minutes.)~~"
   ]
  },
  {
   "cell_type": "code",
   "execution_count": 9,
   "metadata": {
    "id": "LI64cACPhWTg"
   },
   "outputs": [
    {
     "name": "stdout",
     "output_type": "stream",
     "text": [
      "Epoch 1/10\n",
      "1875/1875 [==============================] - 35s 19ms/step - loss: 0.4999 - accuracy: 0.8165\n",
      "Epoch 2/10\n",
      "1875/1875 [==============================] - 32s 17ms/step - loss: 0.3229 - accuracy: 0.8840\n",
      "Epoch 3/10\n",
      "1875/1875 [==============================] - 36s 19ms/step - loss: 0.2769 - accuracy: 0.8989\n",
      "Epoch 4/10\n",
      "1875/1875 [==============================] - 35s 19ms/step - loss: 0.2452 - accuracy: 0.9094\n",
      "Epoch 5/10\n",
      "1875/1875 [==============================] - 35s 19ms/step - loss: 0.2212 - accuracy: 0.9179\n",
      "Epoch 6/10\n",
      "1875/1875 [==============================] - 35s 18ms/step - loss: 0.2015 - accuracy: 0.9240\n",
      "Epoch 7/10\n",
      "1875/1875 [==============================] - 34s 18ms/step - loss: 0.1824 - accuracy: 0.9323\n",
      "Epoch 8/10\n",
      "1875/1875 [==============================] - 33s 18ms/step - loss: 0.1665 - accuracy: 0.9387\n",
      "Epoch 9/10\n",
      "1875/1875 [==============================] - 35s 19ms/step - loss: 0.1548 - accuracy: 0.9418\n",
      "Epoch 10/10\n",
      "1875/1875 [==============================] - 33s 18ms/step - loss: 0.1403 - accuracy: 0.9470\n"
     ]
    },
    {
     "data": {
      "text/plain": [
       "<tensorflow.python.keras.callbacks.History at 0x2d4afefcfd0>"
      ]
     },
     "execution_count": 9,
     "metadata": {},
     "output_type": "execute_result"
    }
   ],
   "source": [
    "model.fit(train_images, train_labels, epochs=10)"
   ]
  },
  {
   "cell_type": "markdown",
   "metadata": {
    "id": "a9Hqzi8M0qWu"
   },
   "source": [
    "Let's evaluate the model on the test data:"
   ]
  },
  {
   "cell_type": "code",
   "execution_count": 10,
   "metadata": {
    "id": "9rcTSVSq0qWu"
   },
   "outputs": [
    {
     "name": "stdout",
     "output_type": "stream",
     "text": [
      "313/313 [==============================] - 2s 6ms/step - loss: 0.2988 - accuracy: 0.9079\n"
     ]
    }
   ],
   "source": [
    "test_loss, test_acc = model.evaluate(test_images, test_labels)"
   ]
  },
  {
   "cell_type": "markdown",
   "metadata": {
    "id": "M9Uy2m1t0qWx"
   },
   "source": [
    "While our densely-connected network from last week had a test accuracy of 88.1%, our basic convnet has a test accuracy of 91.0%. Therefore, we decreased the error rate from 11.9% to 9.0% -- a significant improvement of (11.9-9.0)/11.9 = 24%! "
   ]
  },
  {
   "cell_type": "code",
   "execution_count": null,
   "metadata": {
    "id": "dZSeRz3agLXy"
   },
   "outputs": [],
   "source": [
    "(11.9-9.0)/11.9"
   ]
  }
 ],
 "metadata": {
  "accelerator": "GPU",
  "colab": {
   "collapsed_sections": [],
   "name": "convnets_classification.ipynb",
   "provenance": []
  },
  "kernelspec": {
   "display_name": "Python 3 (ipykernel)",
   "language": "python",
   "name": "python3"
  },
  "language_info": {
   "codemirror_mode": {
    "name": "ipython",
    "version": 3
   },
   "file_extension": ".py",
   "mimetype": "text/x-python",
   "name": "python",
   "nbconvert_exporter": "python",
   "pygments_lexer": "ipython3",
   "version": "3.8.13"
  }
 },
 "nbformat": 4,
 "nbformat_minor": 4
}
